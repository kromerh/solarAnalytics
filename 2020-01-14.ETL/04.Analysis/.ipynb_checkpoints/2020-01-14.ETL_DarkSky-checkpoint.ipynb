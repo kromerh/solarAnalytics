{
 "cells": [
  {
   "cell_type": "code",
   "execution_count": 11,
   "metadata": {},
   "outputs": [],
   "source": [
    "# do not upload this cell! \n",
    "API_PATH = '/Users/hkromer/01_Projects/10.SolarAnlage/01.Analytics/solarAnalytics/2020-01-14.ETL/01.Original_data/DarkSkyAPI.pw'\n",
    "LOCATION_PATH = '/Users/hkromer/01_Projects/10.SolarAnlage/01.Analytics/solarAnalytics/2020-01-14.ETL/01.Original_data/location.pw'"
   ]
  },
  {
   "cell_type": "markdown",
   "metadata": {},
   "source": [
    "# ETL of DarkSky Data\n",
    "\n",
    "In this project, the extraction of weather data with python3 using the DarkSky API (https://darksky.net/dev) is covered. This data is to be used in forecasting of photovoltaic energy production. Signup on DarkSky is free, as long as one stays below 1000 API calls per 24 hours. \n",
    "\n",
    "The way this pipeline will be laid out is that the DarkSky API is called and returns hourly, historical data for each day that is requested. The response from the API in the form of json files will be stored locally and then be processed into one big csv file with all the data from the API. For the final purpose of this dataset, the forecasting of photovoltaic energy production, not all of the data in DarkSky must be relevant. "
   ]
  },
  {
   "cell_type": "markdown",
   "metadata": {},
   "source": [
    "## Import"
   ]
  },
  {
   "cell_type": "code",
   "execution_count": 14,
   "metadata": {},
   "outputs": [],
   "source": [
    "import datetime\n",
    "import pandas as pd\n",
    "import requests\n",
    "import re\n",
    "import json\n",
    "import os\n",
    "import matplotlib.pyplot as plt\n",
    "import seaborn as sns\n",
    "sns.set()"
   ]
  },
  {
   "cell_type": "code",
   "execution_count": 86,
   "metadata": {},
   "outputs": [
    {
     "name": "stdout",
     "output_type": "stream",
     "text": [
      "{'latitude': 47.96194, 'longitude': 7.951151, 'timezone': 'Europe/Berlin', 'flags': {'sources': ['cmc', 'gfs', 'icon', 'isd', 'madis'], 'nearest-station': 4.169, 'units': 'si'}, 'offset': 2}\n"
     ]
    },
    {
     "ename": "KeyError",
     "evalue": "'hourly'",
     "output_type": "error",
     "traceback": [
      "\u001b[0;31m---------------------------------------------------------------------------\u001b[0m",
      "\u001b[0;31mKeyError\u001b[0m                                  Traceback (most recent call last)",
      "\u001b[0;32m<ipython-input-86-c18111b78c48>\u001b[0m in \u001b[0;36m<module>\u001b[0;34m\u001b[0m\n\u001b[1;32m      6\u001b[0m \u001b[0mds\u001b[0m \u001b[0;34m=\u001b[0m \u001b[0mDarkSkyETL\u001b[0m\u001b[0;34m(\u001b[0m\u001b[0mLOCATION\u001b[0m\u001b[0;34m,\u001b[0m \u001b[0mDarkSkyAPI\u001b[0m\u001b[0;34m,\u001b[0m\u001b[0;34m'../01.Original_data/'\u001b[0m\u001b[0;34m)\u001b[0m\u001b[0;34m\u001b[0m\u001b[0;34m\u001b[0m\u001b[0m\n\u001b[1;32m      7\u001b[0m \u001b[0;34m\u001b[0m\u001b[0m\n\u001b[0;32m----> 8\u001b[0;31m \u001b[0ma\u001b[0m \u001b[0;34m=\u001b[0m \u001b[0mds\u001b[0m\u001b[0;34m.\u001b[0m\u001b[0mcall_API\u001b[0m\u001b[0;34m(\u001b[0m\u001b[0mdate_str\u001b[0m\u001b[0;34m,\u001b[0m \u001b[0msilent\u001b[0m\u001b[0;34m=\u001b[0m\u001b[0;32mFalse\u001b[0m\u001b[0;34m)\u001b[0m\u001b[0;34m\u001b[0m\u001b[0;34m\u001b[0m\u001b[0m\n\u001b[0m",
      "\u001b[0;32m<ipython-input-85-ef7569d5088f>\u001b[0m in \u001b[0;36mcall_API\u001b[0;34m(self, date_str, silent)\u001b[0m\n\u001b[1;32m     33\u001b[0m         \u001b[0mprint\u001b[0m\u001b[0;34m(\u001b[0m\u001b[0mjson_res\u001b[0m\u001b[0;34m)\u001b[0m\u001b[0;34m\u001b[0m\u001b[0;34m\u001b[0m\u001b[0m\n\u001b[1;32m     34\u001b[0m         \u001b[0;32mif\u001b[0m \u001b[0msilent\u001b[0m \u001b[0;34m==\u001b[0m \u001b[0;32mFalse\u001b[0m\u001b[0;34m:\u001b[0m\u001b[0;34m\u001b[0m\u001b[0;34m\u001b[0m\u001b[0m\n\u001b[0;32m---> 35\u001b[0;31m             \u001b[0mdatapoints\u001b[0m \u001b[0;34m=\u001b[0m \u001b[0mlen\u001b[0m\u001b[0;34m(\u001b[0m\u001b[0mjson_res\u001b[0m\u001b[0;34m[\u001b[0m\u001b[0;34m'hourly'\u001b[0m\u001b[0;34m]\u001b[0m\u001b[0;34m[\u001b[0m\u001b[0;34m'data'\u001b[0m\u001b[0;34m]\u001b[0m\u001b[0;34m)\u001b[0m\u001b[0;34m\u001b[0m\u001b[0;34m\u001b[0m\u001b[0m\n\u001b[0m\u001b[1;32m     36\u001b[0m             \u001b[0mprint\u001b[0m\u001b[0;34m(\u001b[0m\u001b[0;34mf\"Loaded {datapoints} datapoints for {date_str}\"\u001b[0m\u001b[0;34m)\u001b[0m\u001b[0;34m\u001b[0m\u001b[0;34m\u001b[0m\u001b[0m\n\u001b[1;32m     37\u001b[0m \u001b[0;34m\u001b[0m\u001b[0m\n",
      "\u001b[0;31mKeyError\u001b[0m: 'hourly'"
     ]
    }
   ],
   "source": [
    "location = [item.strip() for item in open(LOCATION_PATH, 'r').readlines()[0].strip().split()]\n",
    "DarkSkyAPI = open(API_PATH, 'r').readlines()[0].strip()\n",
    "\n",
    "date_str = '2018-08-11'\n",
    "\n",
    "ds = DarkSkyETL(LOCATION, DarkSkyAPI,'../01.Original_data/')\n",
    "\n",
    "a = ds.call_API(date_str, silent=False)"
   ]
  },
  {
   "cell_type": "code",
   "execution_count": 50,
   "metadata": {},
   "outputs": [
    {
     "data": {
      "text/plain": [
       "24"
      ]
     },
     "execution_count": 50,
     "metadata": {},
     "output_type": "execute_result"
    }
   ],
   "source": []
  },
  {
   "cell_type": "code",
   "execution_count": null,
   "metadata": {},
   "outputs": [],
   "source": [
    "# date range\n",
    "startDate = '2017-10-01'\n",
    "endDate = '2019-06-29'\n",
    "\n",
    "# convert to a time delta\n",
    "d_from_date = datetime.datetime.strptime(startDate, '%Y-%m-%d')\n",
    "d_to_date = datetime.datetime.strptime(endDate , '%Y-%m-%d')\n",
    "delta = d_to_date - d_from_date\n",
    "\n",
    "# for every day in the date range, get the data\n",
    "for i in range(delta.days+1):\n",
    "    \n",
    "    new_date = (d_from_date + datetime.timedelta(days=i)) + pd.DateOffset(hours=12)\n",
    "\n",
    "    # convert to datetime\n",
    "    new_date = new_date.to_pydatetime()  \n",
    "\n",
    "    # convert the date to UNIX time\n",
    "    unix_time = int(datetime.datetime.timestamp(new_date))\n",
    "\n",
    "    print(unix_time)\n",
    "    print(new_date)"
   ]
  },
  {
   "cell_type": "code",
   "execution_count": null,
   "metadata": {},
   "outputs": [],
   "source": [
    "start_date = '2017-10-01'\n",
    "end_date = '2020-01-13'\n",
    "save_path = '../01.Original_data/'\n",
    "silent = False\n",
    "\n",
    "ds = DarkSkyETL(LOCATION, DarkSkyAPI, save_path)\n",
    "\n",
    "ds.get_date_range(start_date, end_date, silent)"
   ]
  },
  {
   "cell_type": "code",
   "execution_count": 85,
   "metadata": {},
   "outputs": [],
   "source": [
    "class DarkSkyETL():\n",
    "    \n",
    "    def __init__(self, DarkSkyAPI, location, save_path):\n",
    "        self.API = DarkSkyAPI\n",
    "        self.LOCATION = location\n",
    "        self.SAVE_PATH = save_path # where to store output json files. will be stored as save_pathYYYY-MM-DD.json\n",
    "        \n",
    "    def call_API(self, date_str, silent=False):\n",
    "        \"\"\"\n",
    "        Calls the DarkSky API for the specified location at the specified date, which must be a string in the\n",
    "        format YYYY-00-DD. Asks for hourly data and returns a json object for this date.\n",
    "        Prints the number of hours loaded if silent is True.\n",
    "        \"\"\"\n",
    "        # option list for API\n",
    "        option_list = \"exclude=currently,minutely,alerts&units=si\"\n",
    "        \n",
    "        # convert to a timestamp at mid-day\n",
    "        date = datetime.datetime.strptime(date_str, '%Y-%m-%d') + pd.DateOffset(hours=12)\n",
    "        \n",
    "        # convert the date to unit time\n",
    "        unix_time = int(datetime.datetime.timestamp(date))\n",
    "        \n",
    "        # call API\n",
    "        latitude = LOCATION[0]\n",
    "        longitude = LOCATION[1]\n",
    "        response = requests.get(\"https://api.darksky.net/forecast/\"+DarkSkyAPI+\"/\"+latitude+\",\"+longitude+\",\"+str(unix_time)+\"?\"+option_list)\n",
    "        json_res = response.json()\n",
    "\n",
    "        # write to file\n",
    "        with open(f'{self.SAVE_PATH}/{date_str}.json', 'w') as outfile:  \n",
    "            json.dump(json_res, outfile)\n",
    "            outfile.close()\n",
    "\n",
    "        if silent == False:\n",
    "            # some dates have no data\n",
    "            if 'hourly' in json_res.keys():\n",
    "                datapoints = len(json_res['hourly']['data'])\n",
    "                print(f\"Loaded {datapoints} datapoints for {date_str}\")\n",
    "            else:\n",
    "                print(f\"hourly not in keys for {date_str}\")\n",
    "            \n",
    "        return json_res\n",
    "    \n",
    "    def get_date_range(self, start_date, end_date, silent=False):\n",
    "        \"\"\"\n",
    "        Gets a list of dates in steps of one day between start_date and end_date. Calls the API and saves the json return file at the location save_path.\n",
    "        INPUT:\n",
    "            - start_date: STRING, date to start\n",
    "            - end_date: STRING, date to end the list\n",
    "            - silent: BOOLEAN, False, if the number of datapoints on each date should be printed out\n",
    "        OUTPUT:\n",
    "            None\n",
    "        \"\"\"\n",
    "        \n",
    "        # convert to a time delta\n",
    "        d_from_date = datetime.datetime.strptime(start_date, '%Y-%m-%d')\n",
    "        d_to_date = datetime.datetime.strptime(end_date, '%Y-%m-%d')\n",
    "        delta = d_to_date - d_from_date\n",
    "        \n",
    "        # for every day in the date range, get the data\n",
    "        for i in range(delta.days+1):\n",
    "            date = str((d_from_date + datetime.timedelta(days=i)).date())\n",
    "            print(date)\n",
    "            self.call_API(date, silent)"
   ]
  },
  {
   "cell_type": "code",
   "execution_count": null,
   "metadata": {},
   "outputs": [],
   "source": []
  }
 ],
 "metadata": {
  "kernelspec": {
   "display_name": "Python 3",
   "language": "python",
   "name": "python3"
  },
  "language_info": {
   "codemirror_mode": {
    "name": "ipython",
    "version": 3
   },
   "file_extension": ".py",
   "mimetype": "text/x-python",
   "name": "python",
   "nbconvert_exporter": "python",
   "pygments_lexer": "ipython3",
   "version": "3.7.3"
  }
 },
 "nbformat": 4,
 "nbformat_minor": 4
}
