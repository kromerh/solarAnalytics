{
 "cells": [
  {
   "cell_type": "code",
   "execution_count": 11,
   "metadata": {},
   "outputs": [],
   "source": [
    "# do not upload this cell! \n",
    "API_PATH = '/Users/hkromer/01_Projects/10.SolarAnlage/01.Analytics/solarAnalytics/2020-01-14.ETL/01.Original_data/DarkSkyAPI.pw'\n",
    "\n",
    "LOCATION_PATH = '/Users/hkromer/01_Projects/10.SolarAnlage/01.Analytics/solarAnalytics/2020-01-14.ETL/01.Original_data/location.pw'\n"
   ]
  },
  {
   "cell_type": "markdown",
   "metadata": {},
   "source": [
    "# ETL of DarkSky Data\n",
    "\n",
    "In this project, the extraction of weather data with python3 using the DarkSky API (https://darksky.net/dev) is covered. This data is to be used in forecasting of photovoltaic energy production. Signup on DarkSky is free, as long as one stays below 1000 API calls per 24 hours. \n",
    "\n",
    "The way this pipeline will be laid out is that the DarkSky API is called and returns hourly, historical data for each day that is requested. The response from the API in the form of json files will be stored locally and then be processed into one big csv file with all the data from the API. For the final purpose of this dataset, the forecasting of photovoltaic energy production, not all of the data in DarkSky must be relevant. "
   ]
  },
  {
   "cell_type": "markdown",
   "metadata": {},
   "source": [
    "## Import"
   ]
  },
  {
   "cell_type": "code",
   "execution_count": 14,
   "metadata": {},
   "outputs": [],
   "source": [
    "import datetime\n",
    "import pandas as pd\n",
    "import requests\n",
    "import re\n",
    "import json\n",
    "import os\n",
    "import matplotlib.pyplot as plt\n",
    "import seaborn as sns\n",
    "sns.set()"
   ]
  },
  {
   "cell_type": "code",
   "execution_count": 26,
   "metadata": {},
   "outputs": [
    {
     "data": {
      "text/plain": [
       "Timestamp('2017-10-01 12:00:00')"
      ]
     },
     "execution_count": 26,
     "metadata": {},
     "output_type": "execute_result"
    }
   ],
   "source": [
    "date_str = '2017-10-01'\n",
    "\n",
    "# convert to a timestamp at mid-day\n",
    "date = datetime.datetime.strptime(date_str, '%Y-%m-%d') + pd.DateOffset(hours=12)\n",
    "\n",
    "date"
   ]
  },
  {
   "cell_type": "code",
   "execution_count": null,
   "metadata": {},
   "outputs": [],
   "source": [
    "# date range\n",
    "startDate = '2017-10-01'\n",
    "endDate = '2019-06-29'\n",
    "\n",
    "# convert to a time delta\n",
    "d_from_date = datetime.datetime.strptime(startDate, '%Y-%m-%d')\n",
    "d_to_date = datetime.datetime.strptime(endDate , '%Y-%m-%d')\n",
    "delta = d_to_date - d_from_date\n",
    "\n",
    "# for every day in the date range, get the data\n",
    "for i in range(delta.days+1):\n",
    "    \n",
    "    new_date = (d_from_date + datetime.timedelta(days=i)) + pd.DateOffset(hours=12)\n",
    "\n",
    "    # convert to datetime\n",
    "    new_date = new_date.to_pydatetime()  \n",
    "\n",
    "    # convert the date to UNIX time\n",
    "    unix_time = int(datetime.datetime.timestamp(new_date))\n",
    "\n",
    "    print(unix_time)\n",
    "    print(new_date)"
   ]
  },
  {
   "cell_type": "code",
   "execution_count": null,
   "metadata": {},
   "outputs": [],
   "source": [
    "class DarkSkyETL():\n",
    "    \n",
    "    def __init__(self, DarkSkyAPI, location):\n",
    "        self.API = DarkSkyAPI\n",
    "        self.LOCATION = location\n",
    "        \n",
    "    def call_API(self, date_str):\n",
    "        \"\"\"\n",
    "        Calls the DarkSky API for the specified location at the specified date, which must be a string in the\n",
    "        format YYYY-00-DD. Asks for hourly data and returns a json object for this date.\n",
    "        \"\"\"\n",
    "        # option list for API\n",
    "        option_list = \"exclude=currently,minutely,alerts&units=si\"\n",
    "        \n",
    "        # convert to a timestamp at mid-day\n",
    "        date = datetime.datetime.strptime(date_str, '%Y-%m-%d') + pd.DateOffset(hours=12)\n",
    "        \n",
    "        # convert the date to unit time\n",
    "        unix_time = int(datetime.datetime.timestamp(date))\n",
    "        \n",
    "        # call API\n",
    "        latitude = LOCATION[0]\n",
    "        longitude = LOCATION[1]\n",
    "        response = requests.get(\"https://api.darksky.net/forecast/\"+DarkSkyAPI+\"/\"+latitude+\",\"+longitude+\",\"+str(unix_time)+\"?\"+option_list)\n",
    "        json_res = response.json()\n",
    "\n",
    "        return json_res"
   ]
  }
 ],
 "metadata": {
  "kernelspec": {
   "display_name": "Python 3",
   "language": "python",
   "name": "python3"
  },
  "language_info": {
   "codemirror_mode": {
    "name": "ipython",
    "version": 3
   },
   "file_extension": ".py",
   "mimetype": "text/x-python",
   "name": "python",
   "nbconvert_exporter": "python",
   "pygments_lexer": "ipython3",
   "version": "3.7.3"
  }
 },
 "nbformat": 4,
 "nbformat_minor": 4
}
