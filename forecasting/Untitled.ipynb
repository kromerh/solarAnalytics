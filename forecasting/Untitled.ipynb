{
 "cells": [
  {
   "cell_type": "code",
   "execution_count": 19,
   "metadata": {},
   "outputs": [
    {
     "name": "stdout",
     "output_type": "stream",
     "text": [
      "[374.2492768697441, 371.6492768697441, 472.3492768697441, 290.24350754618644, 471.2492768697441, 419.1142620667815, 469.3492768697441, 607.449276869744, 360.1327213048935, 713.949276869744, 408.33370380699637, 613.249276869744]\n",
      "[339.7 440.4 315.9 439.3 401.3 437.4 575.5 407.6 682.  475.3 581.3 646.9]\n",
      "1) Test RMSE: 158.285\n",
      "               50\n",
      "count    1.000000\n",
      "mean   158.285407\n",
      "std           NaN\n",
      "min    158.285407\n",
      "25%    158.285407\n",
      "50%    158.285407\n",
      "75%    158.285407\n",
      "max    158.285407\n"
     ]
    },
    {
     "data": {
      "text/plain": [
       "<matplotlib.axes._subplots.AxesSubplot at 0x7fb8b25cc240>"
      ]
     },
     "execution_count": 19,
     "metadata": {},
     "output_type": "execute_result"
    }
   ],
   "source": [
    "from pandas import DataFrame\n",
    "import pandas as pd\n",
    "from pandas import Series\n",
    "from pandas import concat\n",
    "from pandas import read_csv\n",
    "from pandas import datetime\n",
    "from sklearn.metrics import mean_squared_error\n",
    "from sklearn.preprocessing import MinMaxScaler\n",
    "from keras.models import Sequential\n",
    "from keras.layers import Dense\n",
    "from math import sqrt\n",
    "import matplotlib\n",
    "# be able to save images on server\n",
    "matplotlib.use('Agg')\n",
    "from matplotlib import pyplot\n",
    "from matplotlib import pyplot as plt\n",
    "import numpy\n",
    "\n",
    "# date-time parsing function for loading the dataset\n",
    "def parser(x):\n",
    "\treturn datetime.strptime('190'+x, '%Y-%m')\n",
    "\n",
    "# frame a sequence as a supervised learning problem\n",
    "def timeseries_to_supervised(data, lag=1):\n",
    "\tdf = DataFrame(data)\n",
    "\tcolumns = [df.shift(i) for i in range(1, lag+1)]\n",
    "\tcolumns.append(df)\n",
    "\tdf = concat(columns, axis=1)\n",
    "\treturn df\n",
    "\n",
    "# create a differenced series\n",
    "def difference(dataset, interval=1):\n",
    "\tdiff = list()\n",
    "\tfor i in range(interval, len(dataset)):\n",
    "\t\tvalue = dataset[i] - dataset[i - interval]\n",
    "\t\tdiff.append(value)\n",
    "\treturn Series(diff)\n",
    "\n",
    "# invert differenced value\n",
    "def inverse_difference(history, yhat, interval=1):\n",
    "\treturn yhat + history[-interval]\n",
    "\n",
    "# scale train and test data to [-1, 1]\n",
    "def scale(train, test):\n",
    "\t# fit scaler\n",
    "\tscaler = MinMaxScaler(feature_range=(-1, 1))\n",
    "\tscaler = scaler.fit(train)\n",
    "\t# transform train\n",
    "\ttrain = train.reshape(train.shape[0], train.shape[1])\n",
    "\ttrain_scaled = scaler.transform(train)\n",
    "\t# transform test\n",
    "\ttest = test.reshape(test.shape[0], test.shape[1])\n",
    "\ttest_scaled = scaler.transform(test)\n",
    "\treturn scaler, train_scaled, test_scaled\n",
    "\n",
    "# inverse scaling for a forecasted value\n",
    "def invert_scale(scaler, X, yhat):\n",
    "\tnew_row = [x for x in X] + [yhat]\n",
    "\tarray = numpy.array(new_row)\n",
    "\tarray = array.reshape(1, len(array))\n",
    "\tinverted = scaler.inverse_transform(array)\n",
    "\treturn inverted[0, -1]\n",
    "\n",
    "# fit an MLP network to training data\n",
    "def fit_model(train, batch_size, nb_epoch, neurons):\n",
    "\tX, y = train[:, 0:-1], train[:, -1]\n",
    "\tmodel = Sequential()\n",
    "\tmodel.add(Dense(neurons, activation='relu', input_dim=X.shape[1]))\n",
    "\tmodel.add(Dense(1))\n",
    "\tmodel.compile(loss='mean_squared_error', optimizer='adam')\n",
    "\tmodel.fit(X, y, epochs=nb_epoch, batch_size=batch_size, verbose=0, shuffle=False)\n",
    "\treturn model\n",
    "\n",
    "# run a repeated experiment\n",
    "def experiment(repeats, series, epochs, lag, neurons):\n",
    "    # transform data to be stationary\n",
    "    raw_values = series.values\n",
    "    diff_values = difference(raw_values, 1)\n",
    "    # transform data to be supervised learning\n",
    "    supervised = timeseries_to_supervised(diff_values, lag)\n",
    "    supervised_values = supervised.values[lag:,:]\n",
    "    # split data into train and test-sets\n",
    "    train, test = supervised_values[0:-12], supervised_values[-12:]\n",
    "    # transform the scale of the data\n",
    "    scaler, train_scaled, test_scaled = scale(train, test)\n",
    "    # run experiment\n",
    "    error_scores = list()\n",
    "    for r in range(repeats):\n",
    "        # fit the model\n",
    "        batch_size = 4\n",
    "        train_trimmed = train_scaled[2:, :]\n",
    "        model = fit_model(train_trimmed, batch_size, epochs, neurons)\n",
    "        # forecast test dataset\n",
    "        test_reshaped = test_scaled[:,0:-1]\n",
    "        output = model.predict(test_reshaped, batch_size=batch_size)\n",
    "        predictions = list()\n",
    "        for i in range(len(output)):\n",
    "            yhat = output[i,0]\n",
    "            X = test_scaled[i, 0:-1]\n",
    "            # invert scaling\n",
    "            yhat = invert_scale(scaler, X, yhat)\n",
    "            # invert differencing\n",
    "            yhat = inverse_difference(raw_values, yhat, len(test_scaled)+1-i)\n",
    "            # store forecast\n",
    "            predictions.append(yhat)\n",
    "        # report performance\n",
    "        print(predictions)\n",
    "        print(raw_values[-12:])\n",
    "#         pd.Series(raw_values[-12:]).plot()\n",
    "#         pd.Series(predictions).plot()\n",
    "#         plt.show()\n",
    "        rmse = sqrt(mean_squared_error(raw_values[-12:], predictions))\n",
    "        print('%d) Test RMSE: %.3f' % (r+1, rmse))\n",
    "        error_scores.append(rmse)\n",
    "    return error_scores\n",
    "\n",
    "# load dataset\n",
    "series = read_csv('./data/time_series_course_data/shampoo.csv', header=0, parse_dates=[0], index_col=0, squeeze=True, date_parser=parser)\n",
    "# experiment\n",
    "repeats = 1\n",
    "results = DataFrame()\n",
    "lag = 1\n",
    "neurons = 1\n",
    "# vary training epochs\n",
    "epochs = [50]\n",
    "for e in epochs:\n",
    "\tresults[str(e)] = experiment(repeats, series, e, lag, neurons)\n",
    "# summarize results\n",
    "print(results.describe())\n",
    "# save boxplot\n",
    "results.boxplot()\n"
   ]
  },
  {
   "cell_type": "code",
   "execution_count": 8,
   "metadata": {},
   "outputs": [],
   "source": [
    "# transform data to be stationary\n",
    "raw_values = series.values\n",
    "diff_values = difference(raw_values, 1)\n",
    "# transform data to be supervised learning\n",
    "supervised = timeseries_to_supervised(diff_values, lag)\n",
    "supervised_values = supervised.values[lag:,:]\n",
    "# split data into train and test-sets\n",
    "train, test = supervised_values[0:-12], supervised_values[-12:]\n",
    "scaler, train_scaled, test_scaled = scale(train, test)"
   ]
  },
  {
   "cell_type": "code",
   "execution_count": 6,
   "metadata": {},
   "outputs": [
    {
     "data": {
      "text/plain": [
       "array([[ 0.26733207, -0.16644187],\n",
       "       [-0.16644187,  0.39088211],\n",
       "       [ 0.39088211, -0.82411654],\n",
       "       [-0.82411654,  0.51335312],\n",
       "       [ 0.51335312, -0.35743189],\n",
       "       [-0.35743189,  0.04235231],\n",
       "       [ 0.04235231,  0.59266253],\n",
       "       [ 0.59266253, -1.05826814],\n",
       "       [-1.05826814,  1.32802806],\n",
       "       [ 1.32802806, -1.26760183],\n",
       "       [-1.26760183,  0.41947667],\n",
       "       [ 0.41947667,  0.20151066]])"
      ]
     },
     "execution_count": 6,
     "metadata": {},
     "output_type": "execute_result"
    }
   ],
   "source": [
    "test_scaled"
   ]
  },
  {
   "cell_type": "code",
   "execution_count": 11,
   "metadata": {},
   "outputs": [
    {
     "data": {
      "text/plain": [
       "array([[-120.1,   37.2],\n",
       "       [  37.2,  -63.8],\n",
       "       [ -63.8,   61. ],\n",
       "       [  61. ,  -11.8],\n",
       "       [ -11.8,   63.3],\n",
       "       [  63.3,   -7.3],\n",
       "       [  -7.3,  -31.7],\n",
       "       [ -31.7,  -69.9],\n",
       "       [ -69.9,  213.6],\n",
       "       [ 213.6, -150.6],\n",
       "       [-150.6,    8.4],\n",
       "       [   8.4,  -44.8],\n",
       "       [ -44.8,   60.6],\n",
       "       [  60.6,   63.2],\n",
       "       [  63.2,  -81.9],\n",
       "       [ -81.9,   95.6],\n",
       "       [  95.6,  -61. ],\n",
       "       [ -61. ,   77.6],\n",
       "       [  77.6,  -13.7],\n",
       "       [ -13.7,  131.7],\n",
       "       [ 131.7, -157.1],\n",
       "       [-157.1,   77.8]])"
      ]
     },
     "execution_count": 11,
     "metadata": {},
     "output_type": "execute_result"
    }
   ],
   "source": [
    "train"
   ]
  },
  {
   "cell_type": "code",
   "execution_count": 12,
   "metadata": {},
   "outputs": [
    {
     "data": {
      "text/plain": [
       "array([[  77.8,   -2.6],\n",
       "       [  -2.6,  100.7],\n",
       "       [ 100.7, -124.5],\n",
       "       [-124.5,  123.4],\n",
       "       [ 123.4,  -38. ],\n",
       "       [ -38. ,   36.1],\n",
       "       [  36.1,  138.1],\n",
       "       [ 138.1, -167.9],\n",
       "       [-167.9,  274.4],\n",
       "       [ 274.4, -206.7],\n",
       "       [-206.7,  106. ],\n",
       "       [ 106. ,   65.6]])"
      ]
     },
     "execution_count": 12,
     "metadata": {},
     "output_type": "execute_result"
    }
   ],
   "source": [
    "test"
   ]
  },
  {
   "cell_type": "code",
   "execution_count": 13,
   "metadata": {},
   "outputs": [
    {
     "data": {
      "text/plain": [
       "(22, 12)"
      ]
     },
     "execution_count": 13,
     "metadata": {},
     "output_type": "execute_result"
    }
   ],
   "source": [
    "len(train), len(test)"
   ]
  },
  {
   "cell_type": "code",
   "execution_count": null,
   "metadata": {},
   "outputs": [],
   "source": []
  }
 ],
 "metadata": {
  "kernelspec": {
   "display_name": "Python 3",
   "language": "python",
   "name": "python3"
  },
  "language_info": {
   "codemirror_mode": {
    "name": "ipython",
    "version": 3
   },
   "file_extension": ".py",
   "mimetype": "text/x-python",
   "name": "python",
   "nbconvert_exporter": "python",
   "pygments_lexer": "ipython3",
   "version": "3.7.3"
  }
 },
 "nbformat": 4,
 "nbformat_minor": 2
}
