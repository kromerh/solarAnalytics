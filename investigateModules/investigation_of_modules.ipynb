{
 "cells": [
  {
   "cell_type": "markdown",
   "metadata": {},
   "source": [
    "# Investigation of different modules"
   ]
  },
  {
   "cell_type": "markdown",
   "metadata": {},
   "source": [
    "## Import statements"
   ]
  },
  {
   "cell_type": "code",
   "execution_count": 73,
   "metadata": {},
   "outputs": [],
   "source": [
    "import pandas as pd\n",
    "import numpy as np\n",
    "import datetime\n",
    "import os\n",
    "import re\n",
    "import matplotlib.pyplot as plt"
   ]
  },
  {
   "cell_type": "markdown",
   "metadata": {},
   "source": [
    "## Loading data and folder settings"
   ]
  },
  {
   "cell_type": "code",
   "execution_count": 74,
   "metadata": {},
   "outputs": [],
   "source": [
    "folder_data = '/Users/hkromer/01_Projects/10.SolarAnlage/01.Analytics/Moduldaten/'\n",
    "\n",
    "# output dataframe\n",
    "# current time for the year month day\n",
    "currentDT = datetime.datetime.now()\n",
    "directory = f'{folder_data}/cleaned_data'\n",
    "if not os.path.exists(directory):\n",
    "    os.makedirs(directory)\n",
    "filename_df_out = f'{directory}/{currentDT.year}-{currentDT.month}-{currentDT.day}_solarData.csv'\n",
    "\n"
   ]
  },
  {
   "cell_type": "markdown",
   "metadata": {},
   "source": [
    "## Import data and combine into one dataframe"
   ]
  },
  {
   "cell_type": "code",
   "execution_count": 75,
   "metadata": {},
   "outputs": [
    {
     "name": "stdout",
     "output_type": "stream",
     "text": [
      "         Time   1.1.1   1.1.2   1.1.3   1.1.4   1.1.5   1.1.6   1.1.7   1.1.8  \\\n",
      "0  01.02.2018  505.25  245.50  476.50  476.00  484.25  470.50  480.00  480.50   \n",
      "1  02.02.2018  283.00  208.50  258.25  250.00  240.50  217.75  238.75  248.00   \n",
      "2  03.02.2018  236.00  183.75  213.25  211.25  216.25  199.00  217.25  217.75   \n",
      "3  04.02.2018  692.75  217.00  646.75  643.50  533.25  340.50  600.25  633.75   \n",
      "4  05.02.2018  612.25  301.25  578.50  572.75  555.25  486.00  547.00  569.75   \n",
      "\n",
      "    1.1.9  ...  1.1.27  1.1.28  1.1.29  1.1.30  1.1.31  1.1.32  1.1.33  \\\n",
      "0  481.00  ...  293.50  254.50  287.50  286.25  306.50  303.50  302.50   \n",
      "1  261.50  ...  250.25  197.00  231.75  236.50  219.75  214.50  209.00   \n",
      "2  219.00  ...  188.25  154.50  183.25  183.25  191.75  189.00  186.00   \n",
      "3  647.75  ...  544.25  514.00  482.00  472.75  334.25  339.75  333.50   \n",
      "4  581.25  ...  391.25  345.25  356.50  357.25  332.25  331.75  326.75   \n",
      "\n",
      "   1.1.34  1.1.35  1.1.36  \n",
      "0  306.00  322.25   311.5  \n",
      "1  214.75  227.75   215.5  \n",
      "2  190.75  204.00   195.5  \n",
      "3  326.50  330.25   329.5  \n",
      "4  331.25  349.50   339.0  \n",
      "\n",
      "[5 rows x 37 columns]\n"
     ]
    }
   ],
   "source": [
    "# list of files\n",
    "files = os.listdir(folder_data)\n",
    "files = [f for f in files if f.endswith('.csv')]\n",
    "\n",
    "df = pd.DataFrame()\n",
    "for file in files:\n",
    "\tdf_t = pd.read_csv('{}/{}'.format(folder_data,file))\n",
    "\tdf = df.append(df_t)\n",
    "\n",
    "# change columns to only contain identifier\n",
    "cols = df.columns\n",
    "\n",
    "id_cols = [re.findall(r'(1.1.\\d+) E',c)[0] for c in cols[1:]]\n",
    "\n",
    "my_cols = [cols[0]]\n",
    "\n",
    "[my_cols.append(i) for i in id_cols]\n",
    "\n",
    "df.columns = my_cols\n",
    "\n",
    "print(df.head())\n",
    "df.to_csv(f'{filename_df_out}')"
   ]
  },
  {
   "cell_type": "markdown",
   "metadata": {},
   "source": [
    "## Change the index to time series\n",
    "\n",
    "## Convert from Wh to kWh"
   ]
  },
  {
   "cell_type": "code",
   "execution_count": 76,
   "metadata": {},
   "outputs": [
    {
     "name": "stdout",
     "output_type": "stream",
     "text": [
      "<class 'pandas.core.frame.DataFrame'>\n",
      "DatetimeIndex: 500 entries, 2017-10-12 to 2019-02-16\n",
      "Data columns (total 36 columns):\n",
      "1.1.1     499 non-null float64\n",
      "1.1.2     497 non-null float64\n",
      "1.1.3     499 non-null float64\n",
      "1.1.4     500 non-null float64\n",
      "1.1.5     499 non-null float64\n",
      "1.1.6     499 non-null float64\n",
      "1.1.7     499 non-null float64\n",
      "1.1.8     499 non-null float64\n",
      "1.1.9     499 non-null float64\n",
      "1.1.10    500 non-null float64\n",
      "1.1.11    500 non-null float64\n",
      "1.1.12    500 non-null float64\n",
      "1.1.13    499 non-null float64\n",
      "1.1.14    494 non-null float64\n",
      "1.1.15    496 non-null float64\n",
      "1.1.16    499 non-null float64\n",
      "1.1.17    499 non-null float64\n",
      "1.1.18    498 non-null float64\n",
      "1.1.19    499 non-null float64\n",
      "1.1.20    500 non-null float64\n",
      "1.1.21    494 non-null float64\n",
      "1.1.22    499 non-null float64\n",
      "1.1.23    500 non-null float64\n",
      "1.1.24    500 non-null float64\n",
      "1.1.25    500 non-null float64\n",
      "1.1.26    499 non-null float64\n",
      "1.1.27    500 non-null float64\n",
      "1.1.28    499 non-null float64\n",
      "1.1.29    500 non-null float64\n",
      "1.1.30    500 non-null float64\n",
      "1.1.31    495 non-null float64\n",
      "1.1.32    495 non-null float64\n",
      "1.1.33    495 non-null float64\n",
      "1.1.34    495 non-null float64\n",
      "1.1.35    496 non-null float64\n",
      "1.1.36    495 non-null float64\n",
      "dtypes: float64(36)\n",
      "memory usage: 144.5 KB\n",
      "None\n",
      "              1.1.1    1.1.2    1.1.3    1.1.4    1.1.5    1.1.6    1.1.7  \\\n",
      "Time                                                                        \n",
      "2017-10-12  0.20800  0.13725  0.20375  0.20475  0.20700  0.20375  0.20500   \n",
      "2017-10-13  1.42800  0.44225  1.40050  1.41050  1.39650  1.02275  1.33625   \n",
      "2017-10-14  1.38650  0.41750  1.36100  1.36825  1.35650  0.98750  1.29325   \n",
      "2017-10-15  1.37775  0.41725  1.35550  1.36200  1.34725  0.99275  1.28075   \n",
      "2017-10-16  1.32625  0.38925  1.30250  1.31000  1.29550  0.95600  1.22775   \n",
      "\n",
      "              1.1.8    1.1.9   1.1.10  ...   1.1.27   1.1.28   1.1.29  \\\n",
      "Time                                   ...                              \n",
      "2017-10-12  0.20450  0.20425  0.20275  ...  0.10825  0.10525  0.10500   \n",
      "2017-10-13  1.39950  1.39925  1.42300  ...  0.70900  0.69175  0.60325   \n",
      "2017-10-14  1.35800  1.35825  1.37825  ...  0.69300  0.68025  0.59150   \n",
      "2017-10-15  1.34825  1.34875  1.37300  ...  0.66625  0.66500  0.58725   \n",
      "2017-10-16  1.29625  1.29850  1.31050  ...  0.65775  0.66650  0.58300   \n",
      "\n",
      "             1.1.30   1.1.31   1.1.32   1.1.33   1.1.34   1.1.35   1.1.36  \n",
      "Time                                                                       \n",
      "2017-10-12  0.10475  0.12525  0.12400  0.12375  0.12375  0.12650  0.12625  \n",
      "2017-10-13  0.58150  0.48275  0.48800  0.47450  0.46700  0.49000  0.52650  \n",
      "2017-10-14  0.57425  0.46375  0.47500  0.46575  0.45400  0.47250  0.50650  \n",
      "2017-10-15  0.56400  0.45100  0.47100  0.46225  0.44550  0.46050  0.49850  \n",
      "2017-10-16  0.55875  0.43925  0.46225  0.45675  0.43650  0.44925  0.47450  \n",
      "\n",
      "[5 rows x 36 columns]\n"
     ]
    }
   ],
   "source": [
    "# Prepare a format string: time_format\n",
    "time_format = '%d.%m.%Y'\n",
    "\n",
    "# Convert date_list into a datetime object: my_datetimes\n",
    "df['Time'] = pd.to_datetime(df['Time'], format=time_format)  \n",
    "df = df.set_index('Time').sort_index()\n",
    "\n",
    "# convert from Wh to kWh\n",
    "df[df.columns] = df[df.columns] / 1000 \n",
    "print(df.info())\n",
    "print(df.head())"
   ]
  },
  {
   "cell_type": "markdown",
   "metadata": {},
   "source": [
    "## Relate modules to position - Auslegung\n",
    "from monitoring"
   ]
  },
  {
   "cell_type": "code",
   "execution_count": 77,
   "metadata": {},
   "outputs": [
    {
     "name": "stdout",
     "output_type": "stream",
     "text": [
      "              1.1.1   1.1.16    1.1.3    1.1.4    1.1.5   1.1.10    1.1.9  \\\n",
      "Time                                                                        \n",
      "2017-10-12  0.20800  0.20550  0.20375  0.20475  0.20700  0.20275  0.20425   \n",
      "2017-10-13  1.42800  1.42050  1.40050  1.41050  1.39650  1.42300  1.39925   \n",
      "2017-10-14  1.38650  1.37575  1.36100  1.36825  1.35650  1.37825  1.35825   \n",
      "2017-10-15  1.37775  1.37200  1.35550  1.36200  1.34725  1.37300  1.34875   \n",
      "2017-10-16  1.32625  1.31950  1.30250  1.31000  1.29550  1.31050  1.29850   \n",
      "\n",
      "              1.1.8    1.1.7    1.1.6   1.1.11  1.1.12   1.1.13  1.1.14  \n",
      "Time                                                                     \n",
      "2017-10-12  0.20450  0.20500  0.20375  0.20725  0.2015  0.20725  0.2025  \n",
      "2017-10-13  1.39950  1.33625  1.02275  1.42950  1.4040  1.39825  1.2840  \n",
      "2017-10-14  1.35800  1.29325  0.98750  1.38800  1.3630  1.35925  1.2425  \n",
      "2017-10-15  1.34825  1.28075  0.99275  1.37575  1.3600  1.35150  1.2395  \n",
      "2017-10-16  1.29625  1.22775  0.95600  1.32175  1.3100  1.29875  1.1835  \n"
     ]
    }
   ],
   "source": [
    "module_position = {'Südwesten': [f'1.1.{s}' for s in [1, 16, 3,4,5,10,9,8,7,6,11,12,13,14]],\n",
    "                  'Westen': [f'1.1.{s}' for s in [15,2,18,17,19,20]],\n",
    "                  'Südost_oben': [f'1.1.{s}' for s in [28,27,26,25,24,23,22,21,29,30]],\n",
    "                  'Südost_unten': [f'1.1.{s}' for s in [31,32,33,34,35,36]]}\n",
    "\n",
    "print(df.loc[:,module_position['Südwesten']].head())"
   ]
  },
  {
   "cell_type": "markdown",
   "metadata": {},
   "source": [
    "# Plot Monthly aggregated energy per module position\n",
    "\n",
    "- First resample to monthly data, aggregate by sum.\n",
    "\n",
    "- Change the datetimeindex format to the long name for the month.\n",
    "\n",
    "- Create a new dataframe with the aggregated data\n",
    "\n",
    "- Plot stacked bar"
   ]
  },
  {
   "cell_type": "code",
   "execution_count": 114,
   "metadata": {},
   "outputs": [
    {
     "name": "stdout",
     "output_type": "stream",
     "text": [
      "             Südwesten    Westen  Südost_oben  Südost_unten\n",
      "17 October   229.56475  34.55525     95.63850      42.79000\n",
      "17 November  149.75025  24.48750     71.28575      33.92925\n",
      "17 December  116.78150  15.51275     53.56675      20.41300\n",
      "18 January   130.96975  24.43400     65.72175      33.71050\n",
      "18 February  239.42200  40.35575    121.04700      60.25500\n"
     ]
    },
    {
     "data": {
      "image/png": "[encoded data removed]",
      "text/plain": [
       "<Figure size 432x288 with 1 Axes>"
      ]
     },
     "metadata": {
      "needs_background": "light"
     },
     "output_type": "display_data"
    }
   ],
   "source": [
    "# First resample to monthly data, aggregate by sum.\n",
    "df_monthly = df.resample('M').sum()\n",
    "\n",
    "# Change the datetimeindex format to the long name for the month.\n",
    "df_monthly = df_monthly.set_index(df_monthly.index.strftime('%y %B'))\n",
    "\n",
    "# print(df_monthly.loc[:, module_position['Südwesten']].sum(axis='columns'))\n",
    "# print(df_monthly.head())\n",
    "\n",
    "# Create a new dataframe with the aggregated data\n",
    "df_monthly_agg = pd.DataFrame()\n",
    "for pos in module_position:\n",
    "    g = df_monthly.loc[:, module_position[pos]].sum(axis='columns')\n",
    "    df_monthly_agg[pos] = g\n",
    "    \n",
    "print(df_monthly_agg.head())\n",
    "df_monthly_agg.plot(kind='bar', stacked=True)\n",
    "_ = plt.title('Total Energie Pro Monat und Modulposition')\n",
    "_ = plt.ylabel('Energie [kWh]')\n",
    "_ = plt.grid()\n",
    "_ = plt.tight_layout()\n",
    "# output figure\n",
    "filename_fig = f'{directory}/{currentDT.year}-{currentDT.month}-{currentDT.day}_solarData.monthly'\n",
    "plt.savefig(filename_fig + '.png', dpi=600)\n",
    "plt.show()"
   ]
  },
  {
   "cell_type": "code",
   "execution_count": null,
   "metadata": {},
   "outputs": [],
   "source": []
  },
  {
   "cell_type": "markdown",
   "metadata": {},
   "source": [
    "# Plot Monthly aggregated RELATIVE energy per module position\n",
    "\n",
    "- Show the values relative to the total monthly\n",
    "\n",
    "- Plot stacked bar"
   ]
  },
  {
   "cell_type": "code",
   "execution_count": 115,
   "metadata": {},
   "outputs": [
    {
     "name": "stdout",
     "output_type": "stream",
     "text": [
      "             Südwesten    Westen  Südost_oben  Südost_unten\n",
      "17 October   229.56475  34.55525     95.63850      42.79000\n",
      "17 November  149.75025  24.48750     71.28575      33.92925\n",
      "17 December  116.78150  15.51275     53.56675      20.41300\n",
      "18 January   130.96975  24.43400     65.72175      33.71050\n",
      "18 February  239.42200  40.35575    121.04700      60.25500\n",
      "             Südwesten    Westen  Südost_oben  Südost_unten\n",
      "17 October   57.027849  8.584121    23.758255     10.629775\n",
      "17 November  53.586966  8.762662    25.509053     12.141319\n",
      "17 December  56.614745  7.520458    25.968736      9.896061\n",
      "18 January   51.393740  9.588127    25.789822     13.228312\n",
      "18 February  51.926375  8.752445    26.252942     13.068238\n"
     ]
    },
    {
     "data": {
      "image/png": "[encoded data removed]",
      "text/plain": [
       "<Figure size 432x288 with 1 Axes>"
      ]
     },
     "metadata": {
      "needs_background": "light"
     },
     "output_type": "display_data"
    }
   ],
   "source": [
    "# Create a new dataframe with the relative aggregated data\n",
    "print(df_monthly_agg.head())\n",
    "\n",
    "df_monthly_agg['row_sum'] = df_monthly_agg.sum(axis='columns')\n",
    "\n",
    "df_monthly_agg = df_monthly_agg.divide(df_monthly_agg['row_sum'], axis='rows') * 100\n",
    "\n",
    "df_monthly_agg = df_monthly_agg.drop(columns=['row_sum'])\n",
    "print(df_monthly_agg.head())\n",
    "\n",
    "df_monthly_agg.plot(kind='bar', stacked=True)\n",
    "_ = plt.title('Total Energie Pro Monat und Modulposition')\n",
    "_ = plt.ylabel('Prozent Energie mtl [kWh]')\n",
    "_ = plt.grid()\n",
    "_ = plt.tight_layout()\n",
    "# output figure\n",
    "filename_fig = f'{directory}/{currentDT.year}-{currentDT.month}-{currentDT.day}_solarData.monthly.relative'\n",
    "plt.savefig(filename_fig + '.png', dpi=600)\n",
    "plt.show()"
   ]
  },
  {
   "cell_type": "code",
   "execution_count": null,
   "metadata": {},
   "outputs": [],
   "source": []
  },
  {
   "cell_type": "code",
   "execution_count": null,
   "metadata": {},
   "outputs": [],
   "source": []
  },
  {
   "cell_type": "code",
   "execution_count": null,
   "metadata": {},
   "outputs": [],
   "source": []
  }
 ],
 "metadata": {
  "kernelspec": {
   "display_name": "Python 3",
   "language": "python",
   "name": "python3"
  },
  "language_info": {
   "codemirror_mode": {
    "name": "ipython",
    "version": 3
   },
   "file_extension": ".py",
   "mimetype": "text/x-python",
   "name": "python",
   "nbconvert_exporter": "python",
   "pygments_lexer": "ipython3",
   "version": "3.7.1"
  }
 },
 "nbformat": 4,
 "nbformat_minor": 2
}
