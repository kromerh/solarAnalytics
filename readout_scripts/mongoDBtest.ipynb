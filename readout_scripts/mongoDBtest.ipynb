{
 "cells": [
  {
   "cell_type": "markdown",
   "metadata": {},
   "source": []
  },
  {
   "cell_type": "code",
   "execution_count": 68,
   "metadata": {},
   "outputs": [],
   "source": [
    "from pymongo import MongoClient\n",
    "import pandas as pd\n",
    "import numpy as np\n",
    "import datetime"
   ]
  },
  {
   "cell_type": "code",
   "execution_count": 74,
   "metadata": {},
   "outputs": [
    {
     "data": {
      "text/html": [
       "<div>\n",
       "<style scoped>\n",
       "    .dataframe tbody tr th:only-of-type {\n",
       "        vertical-align: middle;\n",
       "    }\n",
       "\n",
       "    .dataframe tbody tr th {\n",
       "        vertical-align: top;\n",
       "    }\n",
       "\n",
       "    .dataframe thead th {\n",
       "        text-align: right;\n",
       "    }\n",
       "</style>\n",
       "<table border=\"1\" class=\"dataframe\">\n",
       "  <thead>\n",
       "    <tr style=\"text-align: right;\">\n",
       "      <th></th>\n",
       "      <th>time</th>\n",
       "      <th>1-8-0</th>\n",
       "    </tr>\n",
       "  </thead>\n",
       "  <tbody>\n",
       "    <tr>\n",
       "      <th>0</th>\n",
       "      <td>2019-04-20 14:19:01.160476</td>\n",
       "      <td>381.159826</td>\n",
       "    </tr>\n",
       "  </tbody>\n",
       "</table>\n",
       "</div>"
      ],
      "text/plain": [
       "                        time       1-8-0\n",
       "0 2019-04-20 14:19:01.160476  381.159826"
      ]
     },
     "execution_count": 74,
     "metadata": {},
     "output_type": "execute_result"
    }
   ],
   "source": [
    "# Choose the appropriate client\n",
    "client = MongoClient()\n",
    "\n",
    "# Connect to the test db \n",
    "db = client.test\n",
    "\n",
    "# Use the employee collection\n",
    "coll_test = db.testcollection\n",
    "\n",
    "# ====== Inserting Documents ====== #\n",
    "# Creating a simple Pandas DataFrame\n",
    "time = pd.Timestamp.now()\n",
    "data = {'time': time,\n",
    "       '1-8-0': np.random.random(1)*1000}\n",
    "df = pd.DataFrame(data, )\n",
    "# Bulk inserting documents. Each row in the DataFrame will be a document in Mongo\n",
    "# coll_test.insert_many(df.to_dict('records'))\n",
    "\n",
    "df"
   ]
  },
  {
   "cell_type": "code",
   "execution_count": 70,
   "metadata": {},
   "outputs": [
    {
     "data": {
      "text/html": [
       "<div>\n",
       "<style scoped>\n",
       "    .dataframe tbody tr th:only-of-type {\n",
       "        vertical-align: middle;\n",
       "    }\n",
       "\n",
       "    .dataframe tbody tr th {\n",
       "        vertical-align: top;\n",
       "    }\n",
       "\n",
       "    .dataframe thead th {\n",
       "        text-align: right;\n",
       "    }\n",
       "</style>\n",
       "<table border=\"1\" class=\"dataframe\">\n",
       "  <thead>\n",
       "    <tr style=\"text-align: right;\">\n",
       "      <th></th>\n",
       "      <th>_id</th>\n",
       "      <th>in</th>\n",
       "      <th>time</th>\n",
       "    </tr>\n",
       "  </thead>\n",
       "  <tbody>\n",
       "    <tr>\n",
       "      <th>0</th>\n",
       "      <td>5cbae936988a4b0fa8313c05</td>\n",
       "      <td>618.202462</td>\n",
       "      <td>2019-04-20 11:41:10.685</td>\n",
       "    </tr>\n",
       "    <tr>\n",
       "      <th>1</th>\n",
       "      <td>5cbae940988a4b0fa8313c07</td>\n",
       "      <td>379.920572</td>\n",
       "      <td>2019-04-20 11:41:20.306</td>\n",
       "    </tr>\n",
       "    <tr>\n",
       "      <th>2</th>\n",
       "      <td>5cbae943988a4b0fa8313c09</td>\n",
       "      <td>640.194860</td>\n",
       "      <td>2019-04-20 11:41:23.492</td>\n",
       "    </tr>\n",
       "    <tr>\n",
       "      <th>3</th>\n",
       "      <td>5cbaeac6988a4b0fa8313c0b</td>\n",
       "      <td>333.017889</td>\n",
       "      <td>2019-04-20 11:47:50.060</td>\n",
       "    </tr>\n",
       "    <tr>\n",
       "      <th>4</th>\n",
       "      <td>5cbaebdb988a4b0fa8313c0d</td>\n",
       "      <td>431.309972</td>\n",
       "      <td>2019-04-20 11:52:27.437</td>\n",
       "    </tr>\n",
       "  </tbody>\n",
       "</table>\n",
       "</div>"
      ],
      "text/plain": [
       "                        _id          in                    time\n",
       "0  5cbae936988a4b0fa8313c05  618.202462 2019-04-20 11:41:10.685\n",
       "1  5cbae940988a4b0fa8313c07  379.920572 2019-04-20 11:41:20.306\n",
       "2  5cbae943988a4b0fa8313c09  640.194860 2019-04-20 11:41:23.492\n",
       "3  5cbaeac6988a4b0fa8313c0b  333.017889 2019-04-20 11:47:50.060\n",
       "4  5cbaebdb988a4b0fa8313c0d  431.309972 2019-04-20 11:52:27.437"
      ]
     },
     "execution_count": 70,
     "metadata": {},
     "output_type": "execute_result"
    }
   ],
   "source": [
    "# ====== Finding Documents ====== #\n",
    "documents = coll_test.find()\n",
    "df = pd.DataFrame(list(documents))\n",
    "df"
   ]
  },
  {
   "cell_type": "code",
   "execution_count": null,
   "metadata": {},
   "outputs": [],
   "source": [
    "start = datetime.datetime(2012, 2, 2, 6, 35, 6, 764)\n",
    "end = datetime.datetime(2012, 2, 2, 6, 55, 3, 381)\n",
    "\n",
    "for doc in db.wing_model.find({'time': {'$gte': start, '$lt': end}}):\n",
    "    print doc"
   ]
  },
  {
   "cell_type": "code",
   "execution_count": 73,
   "metadata": {},
   "outputs": [
    {
     "name": "stdout",
     "output_type": "stream",
     "text": [
      "{'_id': ObjectId('5cbae940988a4b0fa8313c07'), 'time': datetime.datetime(2019, 4, 20, 11, 41, 20, 306000), 'in': 379.9205716055392}\n",
      "{'_id': ObjectId('5cbae943988a4b0fa8313c09'), 'time': datetime.datetime(2019, 4, 20, 11, 41, 23, 492000), 'in': 640.1948604415066}\n",
      "{'_id': ObjectId('5cbaeac6988a4b0fa8313c0b'), 'time': datetime.datetime(2019, 4, 20, 11, 47, 50, 60000), 'in': 333.0178891489507}\n"
     ]
    }
   ],
   "source": [
    "s0 = '2019-04-20 11:41:15.00'\n",
    "s1 = '2019-04-20 11:48:15.00'\n",
    "t0 = datetime.datetime.strptime(s0, '%Y-%m-%d %H:%M:%S.%f')\n",
    "t1 = datetime.datetime.strptime(s1, '%Y-%m-%d %H:%M:%S.%f')\n",
    "\n",
    "for doc in db.testcollection.find({'time': {'$gte': t0, '$lt': t1}}):\n",
    "    print(doc)"
   ]
  },
  {
   "cell_type": "code",
   "execution_count": null,
   "metadata": {},
   "outputs": [],
   "source": []
  },
  {
   "cell_type": "code",
   "execution_count": null,
   "metadata": {},
   "outputs": [],
   "source": []
  },
  {
   "cell_type": "code",
   "execution_count": null,
   "metadata": {},
   "outputs": [],
   "source": []
  },
  {
   "cell_type": "code",
   "execution_count": null,
   "metadata": {},
   "outputs": [],
   "source": []
  },
  {
   "cell_type": "code",
   "execution_count": null,
   "metadata": {},
   "outputs": [],
   "source": []
  },
  {
   "cell_type": "code",
   "execution_count": null,
   "metadata": {},
   "outputs": [],
   "source": []
  },
  {
   "cell_type": "code",
   "execution_count": null,
   "metadata": {},
   "outputs": [],
   "source": []
  },
  {
   "cell_type": "code",
   "execution_count": 3,
   "metadata": {},
   "outputs": [
    {
     "data": {
      "text/plain": [
       "{'_id': ObjectId('5cbadf9b988a4b0fa8313bf9'),\n",
       " 'Name': 'Raj Kumar',\n",
       " 'Address': 'Sears Streer, NZ',\n",
       " 'Age': '42'}"
      ]
     },
     "execution_count": 3,
     "metadata": {},
     "output_type": "execute_result"
    }
   ],
   "source": [
    "Queryresult"
   ]
  },
  {
   "cell_type": "code",
   "execution_count": 4,
   "metadata": {},
   "outputs": [
    {
     "ename": "NameError",
     "evalue": "name 'pd' is not defined",
     "output_type": "error",
     "traceback": [
      "\u001b[0;31m---------------------------------------------------------------------------\u001b[0m",
      "\u001b[0;31mNameError\u001b[0m                                 Traceback (most recent call last)",
      "\u001b[0;32m<ipython-input-4-0e441ed6caa9>\u001b[0m in \u001b[0;36m<module>\u001b[0;34m\u001b[0m\n\u001b[1;32m      3\u001b[0m \u001b[0mliste_hello\u001b[0m \u001b[0;34m=\u001b[0m \u001b[0;34m[\u001b[0m\u001b[0;34m'hello1'\u001b[0m\u001b[0;34m,\u001b[0m\u001b[0;34m'hello2'\u001b[0m\u001b[0;34m]\u001b[0m\u001b[0;34m\u001b[0m\u001b[0;34m\u001b[0m\u001b[0m\n\u001b[1;32m      4\u001b[0m \u001b[0mliste_world\u001b[0m \u001b[0;34m=\u001b[0m \u001b[0;34m[\u001b[0m\u001b[0;34m'world1'\u001b[0m\u001b[0;34m,\u001b[0m\u001b[0;34m'world2'\u001b[0m\u001b[0;34m]\u001b[0m\u001b[0;34m\u001b[0m\u001b[0;34m\u001b[0m\u001b[0m\n\u001b[0;32m----> 5\u001b[0;31m \u001b[0mdf\u001b[0m \u001b[0;34m=\u001b[0m \u001b[0mpd\u001b[0m\u001b[0;34m.\u001b[0m\u001b[0mDataFrame\u001b[0m\u001b[0;34m(\u001b[0m\u001b[0mdata\u001b[0m \u001b[0;34m=\u001b[0m \u001b[0;34m{\u001b[0m\u001b[0;34m'hello'\u001b[0m \u001b[0;34m:\u001b[0m \u001b[0mliste_hello\u001b[0m\u001b[0;34m,\u001b[0m \u001b[0;34m'world'\u001b[0m\u001b[0;34m:\u001b[0m \u001b[0mliste_world\u001b[0m\u001b[0;34m}\u001b[0m\u001b[0;34m)\u001b[0m\u001b[0;34m\u001b[0m\u001b[0;34m\u001b[0m\u001b[0m\n\u001b[0m\u001b[1;32m      6\u001b[0m \u001b[0;31m# Bulk inserting documents. Each row in the DataFrame will be a document in Mongo\u001b[0m\u001b[0;34m\u001b[0m\u001b[0;34m\u001b[0m\u001b[0;34m\u001b[0m\u001b[0m\n\u001b[1;32m      7\u001b[0m \u001b[0mdb\u001b[0m\u001b[0;34m.\u001b[0m\u001b[0minsert_many\u001b[0m\u001b[0;34m(\u001b[0m\u001b[0mdf\u001b[0m\u001b[0;34m.\u001b[0m\u001b[0mto_dict\u001b[0m\u001b[0;34m(\u001b[0m\u001b[0;34m'records'\u001b[0m\u001b[0;34m)\u001b[0m\u001b[0;34m)\u001b[0m\u001b[0;34m\u001b[0m\u001b[0;34m\u001b[0m\u001b[0m\n",
      "\u001b[0;31mNameError\u001b[0m: name 'pd' is not defined"
     ]
    }
   ],
   "source": [
    "# ====== Inserting Documents ====== #\n",
    "# Creating a simple Pandas DataFrame\n",
    "liste_hello = ['hello1','hello2']\n",
    "liste_world = ['world1','world2']\n",
    "df = pd.DataFrame(data = {'hello' : liste_hello, 'world': liste_world})\n",
    "# Bulk inserting documents. Each row in the DataFrame will be a document in Mongo\n",
    "db.insert_many(df.to_dict('records'))"
   ]
  },
  {
   "cell_type": "code",
   "execution_count": 9,
   "metadata": {},
   "outputs": [
    {
     "name": "stdout",
     "output_type": "stream",
     "text": [
      "employee\n"
     ]
    },
    {
     "name": "stderr",
     "output_type": "stream",
     "text": [
      "/Users/hkromer/anaconda3/lib/python3.7/site-packages/ipykernel_launcher.py:4: DeprecationWarning: collection_names is deprecated. Use list_collection_names instead.\n",
      "  after removing the cwd from sys.path.\n"
     ]
    }
   ],
   "source": [
    "db_connect = client\n",
    "database_name = 'test'\n",
    "database = db_connect[database_name]\n",
    "collection = database.collection_names(include_system_collections=False)\n",
    "for collect in collection:\n",
    "    print(collect)"
   ]
  },
  {
   "cell_type": "code",
   "execution_count": 16,
   "metadata": {},
   "outputs": [],
   "source": [
    "client.drop_database('test')"
   ]
  },
  {
   "cell_type": "code",
   "execution_count": 17,
   "metadata": {},
   "outputs": [
    {
     "data": {
      "text/plain": [
       "[{'name': 'admin', 'sizeOnDisk': 32768.0, 'empty': False},\n",
       " {'name': 'config', 'sizeOnDisk': 98304.0, 'empty': False},\n",
       " {'name': 'local', 'sizeOnDisk': 32768.0, 'empty': False}]"
      ]
     },
     "execution_count": 17,
     "metadata": {},
     "output_type": "execute_result"
    }
   ],
   "source": [
    "list(client.list_databases())"
   ]
  },
  {
   "cell_type": "code",
   "execution_count": 25,
   "metadata": {},
   "outputs": [],
   "source": [
    "client.test.testcollection.drop()"
   ]
  },
  {
   "cell_type": "code",
   "execution_count": 50,
   "metadata": {},
   "outputs": [
    {
     "name": "stdout",
     "output_type": "stream",
     "text": [
      "{'_id': ObjectId('5cbae936988a4b0fa8313c05'), 'time': datetime.datetime(2019, 4, 20, 11, 41, 10, 685000), 'in': 618.2024621563083}\n",
      "{'_id': ObjectId('5cbae940988a4b0fa8313c07'), 'time': datetime.datetime(2019, 4, 20, 11, 41, 20, 306000), 'in': 379.9205716055392}\n",
      "{'_id': ObjectId('5cbae943988a4b0fa8313c09'), 'time': datetime.datetime(2019, 4, 20, 11, 41, 23, 492000), 'in': 640.1948604415066}\n"
     ]
    }
   ],
   "source": [
    "start = datetime.datetime(2012, 2, 2, 6, 35, 6, 764)\n",
    "end = datetime.datetime(2012, 2, 2, 6, 55, 3, 381)\n",
    "\n",
    "for doc in db.wing_model.find({'time': {'$gte': start, '$lt': end}}):\n",
    "    print doc"
   ]
  },
  {
   "cell_type": "code",
   "execution_count": null,
   "metadata": {},
   "outputs": [],
   "source": []
  }
 ],
 "metadata": {
  "kernelspec": {
   "display_name": "Python 3",
   "language": "python",
   "name": "python3"
  },
  "language_info": {
   "codemirror_mode": {
    "name": "ipython",
    "version": 3
   },
   "file_extension": ".py",
   "mimetype": "text/x-python",
   "name": "python",
   "nbconvert_exporter": "python",
   "pygments_lexer": "ipython3",
   "version": "3.7.2"
  }
 },
 "nbformat": 4,
 "nbformat_minor": 2
}
