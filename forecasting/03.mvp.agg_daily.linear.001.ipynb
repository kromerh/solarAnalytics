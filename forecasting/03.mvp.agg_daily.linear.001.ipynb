{
 "cells": [
  {
   "cell_type": "markdown",
   "metadata": {},
   "source": [
    "# Minimal viable product - Linear model, total daily production\n",
    "\n",
    "This is a first attempt to get an idea for the prediction of the solar panel output.\n",
    "\n",
    "The data for the solar panel production is aggregated by the sum of day.\n"
   ]
  },
  {
   "cell_type": "code",
   "execution_count": 1,
   "metadata": {},
   "outputs": [],
   "source": [
    "import datetime\n",
    "import numpy as np\n",
    "import pandas as pd\n",
    "import requests\n",
    "import re\n",
    "import json\n",
    "import os\n",
    "from dateutil import tz\n",
    "import matplotlib.pyplot as plt\n",
    "import seaborn as sns\n",
    "%matplotlib inline\n",
    "sns.set()"
   ]
  },
  {
   "cell_type": "markdown",
   "metadata": {},
   "source": [
    "# Load data - production, aggregate by day"
   ]
  },
  {
   "cell_type": "code",
   "execution_count": 44,
   "metadata": {},
   "outputs": [
    {
     "name": "stdout",
     "output_type": "stream",
     "text": [
      "Production_sum    11629.3334\n",
      "Name: 2017-10-12 00:00:00, dtype: float64 Production_sum    106414.9997\n",
      "Name: 2019-06-27 00:00:00, dtype: float64\n"
     ]
    },
    {
     "data": {
      "text/html": [
       "<div>\n",
       "<style scoped>\n",
       "    .dataframe tbody tr th:only-of-type {\n",
       "        vertical-align: middle;\n",
       "    }\n",
       "\n",
       "    .dataframe tbody tr th {\n",
       "        vertical-align: top;\n",
       "    }\n",
       "\n",
       "    .dataframe thead th {\n",
       "        text-align: right;\n",
       "    }\n",
       "</style>\n",
       "<table border=\"1\" class=\"dataframe\">\n",
       "  <thead>\n",
       "    <tr style=\"text-align: right;\">\n",
       "      <th></th>\n",
       "      <th>Production_sum</th>\n",
       "    </tr>\n",
       "    <tr>\n",
       "      <th>Day</th>\n",
       "      <th></th>\n",
       "    </tr>\n",
       "  </thead>\n",
       "  <tbody>\n",
       "    <tr>\n",
       "      <th>2017-10-12</th>\n",
       "      <td>11629.3334</td>\n",
       "    </tr>\n",
       "    <tr>\n",
       "      <th>2017-10-13</th>\n",
       "      <td>118196.0001</td>\n",
       "    </tr>\n",
       "    <tr>\n",
       "      <th>2017-10-14</th>\n",
       "      <td>114615.3339</td>\n",
       "    </tr>\n",
       "    <tr>\n",
       "      <th>2017-10-15</th>\n",
       "      <td>113638.9996</td>\n",
       "    </tr>\n",
       "    <tr>\n",
       "      <th>2017-10-16</th>\n",
       "      <td>109484.3342</td>\n",
       "    </tr>\n",
       "  </tbody>\n",
       "</table>\n",
       "</div>"
      ],
      "text/plain": [
       "            Production_sum\n",
       "Day                       \n",
       "2017-10-12      11629.3334\n",
       "2017-10-13     118196.0001\n",
       "2017-10-14     114615.3339\n",
       "2017-10-15     113638.9996\n",
       "2017-10-16     109484.3342"
      ]
     },
     "execution_count": 44,
     "metadata": {},
     "output_type": "execute_result"
    }
   ],
   "source": [
    "# production data\n",
    "path_to_files = './data/production/'\n",
    "data_prod = pd.read_csv(f'{path_to_files}/solar_production.data', index_col=0) # make it .data so that it is not csv\n",
    "data_prod['Time'] = pd.to_datetime(data_prod['Time'])\n",
    "data_prod = data_prod.set_index('Time')\n",
    "\n",
    "# find day\n",
    "data_prod['Day'] = data_prod.index.map(lambda x: f'{x.year}-{x.month}-{x.day}')\n",
    "data_prod = data_prod.groupby('Day')['Production'].agg(['sum'])\n",
    "data_prod.columns = ['Production_sum']\n",
    "\n",
    "# order ascending\n",
    "data_prod =  data_prod.reset_index()\n",
    "data_prod['Day'] = pd.to_datetime(data_prod['Day'])\n",
    "data_prod = data_prod.sort_values(by=['Day'])\n",
    "data_prod = data_prod.set_index('Day')\n",
    "\n",
    "# first and last day\n",
    "print(data_prod.iloc[0], data_prod.iloc[-1])\n",
    "data_prod.head()"
   ]
  },
  {
   "cell_type": "markdown",
   "metadata": {},
   "source": [
    "# Load data - sun position, maximum and minimum per day"
   ]
  },
  {
   "cell_type": "code",
   "execution_count": 53,
   "metadata": {},
   "outputs": [
    {
     "name": "stdout",
     "output_type": "stream",
     "text": [
      "            altitude_min  altitude_max  azimuth_min  azimuth_max  \\\n",
      "Day                                                                \n",
      "2017-10-12    -49.374586     34.474052    19.567055   357.069346   \n",
      "2017-10-13    -49.751088     34.102303    19.783644   357.143860   \n",
      "2017-10-14    -50.125721     33.732240    19.999179   357.215996   \n",
      "2017-10-15    -50.498382     33.363977    20.213501   357.285596   \n",
      "2017-10-16    -50.868963     32.997630    20.426448   357.352506   \n",
      "\n",
      "            clear_sky_irradiation_max  \n",
      "Day                                    \n",
      "2017-10-12                 864.755684  \n",
      "2017-10-13                 864.100214  \n",
      "2017-10-14                 863.409922  \n",
      "2017-10-15                 862.684519  \n",
      "2017-10-16                 861.923764  \n",
      "            altitude_min  altitude_max  azimuth_min  azimuth_max  \\\n",
      "Day                                                                \n",
      "2019-06-23    -18.418040     65.032641     8.880509   354.394511   \n",
      "2019-06-24    -18.426877     65.009055     8.830387   354.341663   \n",
      "2019-06-25    -18.442553     64.978686     8.781336   354.288561   \n",
      "2019-06-26    -18.465064     64.941562     8.733428   354.235278   \n",
      "2019-06-27    -18.494404     64.897715     8.686734   354.181887   \n",
      "\n",
      "            clear_sky_irradiation_max  \n",
      "Day                                    \n",
      "2019-06-23                 863.894822  \n",
      "2019-06-24                 863.530837  \n",
      "2019-06-25                 863.182892  \n",
      "2019-06-26                 862.851039  \n",
      "2019-06-27                 862.535320  \n"
     ]
    }
   ],
   "source": [
    "save_path = \"./data/pysolar/\"\n",
    "data_solar = pd.read_csv(f'{save_path}/sun_data.csv', index_col=0)\n",
    "data_solar['date'] = pd.to_datetime(data_solar['date'])\n",
    "data_solar = data_solar.set_index('date')\n",
    "\n",
    "# order ascending\n",
    "data_solar['Day'] = data_solar.index.map(lambda x: f'{x.year}-{x.month}-{x.day}')\n",
    "data_solar['Day'] = pd.to_datetime(data_solar['Day'])\n",
    "data_solar = data_solar.sort_index()\n",
    "\n",
    "# find min and max\n",
    "data_solar = data_solar.groupby('Day')['altitude', 'azimuth', 'clear_sky_irradiation'].agg(['min', 'max'])\n",
    "# data_solar.columns = ['Production_sum']\n",
    "data_solar.columns = ['_'.join(col) for col in data_solar.columns]\n",
    "data_solar = data_solar.drop('clear_sky_irradiation_min', axis=1)\n",
    "\n",
    "# select the correct dates from 2017-10-12 until 2019-06-27\n",
    "data_solar = data_solar.loc['2017-10-12':'2019-06-27',:]\n",
    "\n",
    "print(data_solar.head())\n",
    "print(data_solar.tail())"
   ]
  },
  {
   "cell_type": "markdown",
   "metadata": {},
   "source": [
    "# Load data - weather data\n",
    "\n",
    "Treat each column separately"
   ]
  },
  {
   "cell_type": "markdown",
   "metadata": {},
   "source": [
    "### Functions to clean the data"
   ]
  },
  {
   "cell_type": "code",
   "execution_count": 70,
   "metadata": {
    "jupyter": {
     "source_hidden": true
    }
   },
   "outputs": [],
   "source": [
    "def clean_precipitation_columns(data):\n",
    "    \"\"\"\n",
    "    Cleans the precipitation columns in the dataset, these are: \n",
    "    - precipAccumulation \n",
    "        - The amount of snowfall accumulation expected to occur, in inches. \n",
    "        (If no snowfall is expected, this property will not be defined.)   \n",
    "    - precipIntensity optional\n",
    "        - The intensity (in inches of liquid water per hour) of precipitation occurring at the given time. \n",
    "        This value is conditional on probability (that is, assuming any precipitation occurs at all).\n",
    "    - precipProbability optional\n",
    "        - The probability of precipitation occurring, between 0 and 1, inclusive.\n",
    "    - precipType optional\n",
    "        - The type of precipitation occurring at the given time. If defined, this property will have one of the following values: \n",
    "        \"rain\", \"snow\", or \"sleet\" (which refers to each of freezing rain, ice pellets, and “wintery mix”). \n",
    "        (If precipIntensity is zero, then this property will not be defined. Additionally, due to the lack of data in our sources, \n",
    "        historical precipType information is usually estimated, rather than observed.)\n",
    "        \n",
    "    precipAccumulation: \n",
    "        if there is no snow, there is no accumulation anyways. We will fill the values in these rows for that column with 0.\n",
    "    precipType, precipIntensity, and precipProbability:\n",
    "        Must be nonzero if precipIntensity is nonzero. Else it will be set to 0. precipProbability will be set to 0 for nonzero\n",
    "  \n",
    "    returns: cleaned dataframe\n",
    "    \"\"\"\n",
    "    rows = data[data['precipAccumulation'].isnull()].index\n",
    "    data.loc[rows,'precipAccumulation'] = 0\n",
    "    assert len(data[data['precipAccumulation'].isnull()]) == 0\n",
    "    \n",
    "    rows = data[(data['precipIntensity'] > 0) & (data['precipType'] == np.nan)]\n",
    "    assert len(rows) == 0\n",
    "\n",
    "    rows = data[data['precipIntensity'].isnull()].index\n",
    "    data.loc[rows,'precipIntensity'] = 0\n",
    "    rows = data[data['precipType'].isnull()].index\n",
    "    data.loc[rows,'precipType'] = 'None'\n",
    "    rows = data[data['precipProbability'].isnull()].index\n",
    "    data.loc[rows,'precipProbability'] = 0\n",
    "    assert len(data[data['precipIntensity'].isnull()]) == 0\n",
    "    assert len(data[data['precipType'].isnull()]) == 0\n",
    "    assert len(data[data['precipProbability'].isnull()]) == 0\n",
    "    \n",
    "    return data\n",
    "\n",
    "\n",
    "def clean_continuous_features(data, order=3, do_plot=False):\n",
    "    \"\"\"\n",
    "    Cleans the columns: apparentTemperature, cloudCover, humidity, pressure, temperature, uvIndex, visibility, windSpeed\n",
    "    \n",
    "    Fits an interpolation function polynomial with order of order to the data.\n",
    "    If do_plot is True, it will generate plots\n",
    "    \"\"\"\n",
    "    cols = ['apparentTemperature', 'cloudCover', 'humidity', 'pressure', 'temperature', 'uvIndex', 'visibility', 'windSpeed']\n",
    "    for col in cols:\n",
    "        max_t = data[col].max()\n",
    "        min_t = data[col].min()\n",
    "        if do_plot:\n",
    "            print(f'Treating column {col}, plotting 2018-01 until 2018-08') \n",
    "            print(f'Max and min values for this column are: {max_t} {min_t}')\n",
    "            s1 = data.loc['2018-01':'2018-08'][col]\n",
    "            plt.figure(figsize=(10,5))\n",
    "            plt.plot(s1.values)\n",
    "            plt.title('Before interpolation')\n",
    "            plt.ylabel(col)\n",
    "\n",
    "            plt.show()\n",
    "\n",
    "        # interpolate\n",
    "        data[col] = data[col].interpolate(method='polynomial', order=order)\n",
    "        # prevent negative values for certain columns\n",
    "        if min_t >= 0:\n",
    "    #         print(col)\n",
    "            data[col] = data[col].clip(lower=0,upper=None)\n",
    "\n",
    "        # prevent extreme values by ceiling them to the maximum\n",
    "        data[col][data[col]>max_t] = max_t\n",
    "        if do_plot:\n",
    "            s2=data.loc['2018-01':'2018-08'][col]\n",
    "            plt.figure(figsize=(10,5))\n",
    "        #     print(s)\n",
    "            plt.plot(s2.values)\n",
    "            plt.title('After interpolation')\n",
    "\n",
    "            plt.ylabel(col)\n",
    "            plt.show()\n",
    "        \n",
    "    return data\n"
   ]
  },
  {
   "cell_type": "markdown",
   "metadata": {},
   "source": [
    "### Functions to aggregate the data "
   ]
  },
  {
   "cell_type": "code",
   "execution_count": 88,
   "metadata": {},
   "outputs": [],
   "source": [
    "def agg_by_sum(data, columns, agg_by, agg_over='Day'):\n",
    "    \"\"\"\n",
    "    Takes a dataframe and list of columns which should be aggregated. agg_by is the aggregation function, i.e. sum.\n",
    "    The agg_over string is the column over which to aggregate. \n",
    "    Aggregates by the sum of the day, returns a dataframe.\n",
    "    \"\"\"\n",
    "    data = data.groupby(agg_over)[columns].agg([agg_by])\n",
    "    data.columns = ['_'.join(col) for col in data.columns]\n",
    "    \n",
    "    return data\n"
   ]
  },
  {
   "cell_type": "code",
   "execution_count": 106,
   "metadata": {},
   "outputs": [
    {
     "name": "stderr",
     "output_type": "stream",
     "text": [
      "/Users/hkromer/anaconda3/envs/solarAnalytics/lib/python3.7/site-packages/ipykernel_launcher.py:75: SettingWithCopyWarning: \n",
      "A value is trying to be set on a copy of a slice from a DataFrame\n",
      "\n",
      "See the caveats in the documentation: http://pandas.pydata.org/pandas-docs/stable/user_guide/indexing.html#returning-a-view-versus-a-copy\n"
     ]
    },
    {
     "data": {
      "text/html": [
       "<div>\n",
       "<style scoped>\n",
       "    .dataframe tbody tr th:only-of-type {\n",
       "        vertical-align: middle;\n",
       "    }\n",
       "\n",
       "    .dataframe tbody tr th {\n",
       "        vertical-align: top;\n",
       "    }\n",
       "\n",
       "    .dataframe thead th {\n",
       "        text-align: right;\n",
       "    }\n",
       "</style>\n",
       "<table border=\"1\" class=\"dataframe\">\n",
       "  <thead>\n",
       "    <tr style=\"text-align: right;\">\n",
       "      <th></th>\n",
       "      <th>precipAccumulation_sum</th>\n",
       "      <th>precipIntensity_sum</th>\n",
       "      <th>apparentTemperature_min</th>\n",
       "      <th>temperature_min</th>\n",
       "      <th>pressure_min</th>\n",
       "      <th>windSpeed_min</th>\n",
       "      <th>cloudCover_min</th>\n",
       "      <th>humidity_min</th>\n",
       "      <th>uvIndex_min</th>\n",
       "      <th>visibility_min</th>\n",
       "      <th>...</th>\n",
       "      <th>uvIndex_mean</th>\n",
       "      <th>visibility_mean</th>\n",
       "      <th>apparentTemperature_median</th>\n",
       "      <th>temperature_median</th>\n",
       "      <th>pressure_median</th>\n",
       "      <th>windSpeed_median</th>\n",
       "      <th>cloudCover_median</th>\n",
       "      <th>humidity_median</th>\n",
       "      <th>uvIndex_median</th>\n",
       "      <th>visibility_median</th>\n",
       "    </tr>\n",
       "    <tr>\n",
       "      <th>Day</th>\n",
       "      <th></th>\n",
       "      <th></th>\n",
       "      <th></th>\n",
       "      <th></th>\n",
       "      <th></th>\n",
       "      <th></th>\n",
       "      <th></th>\n",
       "      <th></th>\n",
       "      <th></th>\n",
       "      <th></th>\n",
       "      <th></th>\n",
       "      <th></th>\n",
       "      <th></th>\n",
       "      <th></th>\n",
       "      <th></th>\n",
       "      <th></th>\n",
       "      <th></th>\n",
       "      <th></th>\n",
       "      <th></th>\n",
       "      <th></th>\n",
       "      <th></th>\n",
       "    </tr>\n",
       "  </thead>\n",
       "  <tbody>\n",
       "    <tr>\n",
       "      <th>2017-10-12</th>\n",
       "      <td>0.0</td>\n",
       "      <td>0.0</td>\n",
       "      <td>9.65</td>\n",
       "      <td>9.65</td>\n",
       "      <td>1023.03</td>\n",
       "      <td>0.10</td>\n",
       "      <td>0.0</td>\n",
       "      <td>0.64</td>\n",
       "      <td>0.0</td>\n",
       "      <td>9.988</td>\n",
       "      <td>...</td>\n",
       "      <td>5.833333e-01</td>\n",
       "      <td>9.992000</td>\n",
       "      <td>13.595</td>\n",
       "      <td>13.595</td>\n",
       "      <td>1025.765</td>\n",
       "      <td>1.065</td>\n",
       "      <td>0.490000</td>\n",
       "      <td>0.780</td>\n",
       "      <td>0.0</td>\n",
       "      <td>9.992</td>\n",
       "    </tr>\n",
       "    <tr>\n",
       "      <th>2017-10-13</th>\n",
       "      <td>0.0</td>\n",
       "      <td>0.0</td>\n",
       "      <td>7.29</td>\n",
       "      <td>7.29</td>\n",
       "      <td>1025.96</td>\n",
       "      <td>0.04</td>\n",
       "      <td>0.0</td>\n",
       "      <td>0.57</td>\n",
       "      <td>0.0</td>\n",
       "      <td>5.884</td>\n",
       "      <td>...</td>\n",
       "      <td>0.000000e+00</td>\n",
       "      <td>9.822000</td>\n",
       "      <td>11.850</td>\n",
       "      <td>11.850</td>\n",
       "      <td>1028.900</td>\n",
       "      <td>0.215</td>\n",
       "      <td>0.300688</td>\n",
       "      <td>0.900</td>\n",
       "      <td>0.0</td>\n",
       "      <td>9.996</td>\n",
       "    </tr>\n",
       "    <tr>\n",
       "      <th>2017-10-14</th>\n",
       "      <td>0.0</td>\n",
       "      <td>0.0</td>\n",
       "      <td>7.70</td>\n",
       "      <td>7.70</td>\n",
       "      <td>1026.23</td>\n",
       "      <td>0.03</td>\n",
       "      <td>0.0</td>\n",
       "      <td>0.58</td>\n",
       "      <td>0.0</td>\n",
       "      <td>9.988</td>\n",
       "      <td>...</td>\n",
       "      <td>5.182744e-17</td>\n",
       "      <td>9.988000</td>\n",
       "      <td>11.965</td>\n",
       "      <td>11.965</td>\n",
       "      <td>1029.100</td>\n",
       "      <td>0.135</td>\n",
       "      <td>0.000000</td>\n",
       "      <td>0.885</td>\n",
       "      <td>0.0</td>\n",
       "      <td>9.988</td>\n",
       "    </tr>\n",
       "    <tr>\n",
       "      <th>2017-10-15</th>\n",
       "      <td>0.0</td>\n",
       "      <td>0.0</td>\n",
       "      <td>7.29</td>\n",
       "      <td>7.29</td>\n",
       "      <td>1024.80</td>\n",
       "      <td>0.02</td>\n",
       "      <td>0.0</td>\n",
       "      <td>0.45</td>\n",
       "      <td>0.0</td>\n",
       "      <td>3.795</td>\n",
       "      <td>...</td>\n",
       "      <td>0.000000e+00</td>\n",
       "      <td>9.522875</td>\n",
       "      <td>12.135</td>\n",
       "      <td>12.135</td>\n",
       "      <td>1028.910</td>\n",
       "      <td>0.175</td>\n",
       "      <td>0.000000</td>\n",
       "      <td>0.830</td>\n",
       "      <td>0.0</td>\n",
       "      <td>9.988</td>\n",
       "    </tr>\n",
       "    <tr>\n",
       "      <th>2017-10-16</th>\n",
       "      <td>0.0</td>\n",
       "      <td>0.0</td>\n",
       "      <td>8.09</td>\n",
       "      <td>8.09</td>\n",
       "      <td>1024.23</td>\n",
       "      <td>0.07</td>\n",
       "      <td>0.0</td>\n",
       "      <td>0.43</td>\n",
       "      <td>0.0</td>\n",
       "      <td>9.988</td>\n",
       "      <td>...</td>\n",
       "      <td>1.958611e-33</td>\n",
       "      <td>9.992333</td>\n",
       "      <td>12.475</td>\n",
       "      <td>12.475</td>\n",
       "      <td>1028.145</td>\n",
       "      <td>0.225</td>\n",
       "      <td>0.000000</td>\n",
       "      <td>0.765</td>\n",
       "      <td>0.0</td>\n",
       "      <td>9.996</td>\n",
       "    </tr>\n",
       "  </tbody>\n",
       "</table>\n",
       "<p>5 rows × 34 columns</p>\n",
       "</div>"
      ],
      "text/plain": [
       "            precipAccumulation_sum  precipIntensity_sum  \\\n",
       "Day                                                       \n",
       "2017-10-12                     0.0                  0.0   \n",
       "2017-10-13                     0.0                  0.0   \n",
       "2017-10-14                     0.0                  0.0   \n",
       "2017-10-15                     0.0                  0.0   \n",
       "2017-10-16                     0.0                  0.0   \n",
       "\n",
       "            apparentTemperature_min  temperature_min  pressure_min  \\\n",
       "Day                                                                  \n",
       "2017-10-12                     9.65             9.65       1023.03   \n",
       "2017-10-13                     7.29             7.29       1025.96   \n",
       "2017-10-14                     7.70             7.70       1026.23   \n",
       "2017-10-15                     7.29             7.29       1024.80   \n",
       "2017-10-16                     8.09             8.09       1024.23   \n",
       "\n",
       "            windSpeed_min  cloudCover_min  humidity_min  uvIndex_min  \\\n",
       "Day                                                                    \n",
       "2017-10-12           0.10             0.0          0.64          0.0   \n",
       "2017-10-13           0.04             0.0          0.57          0.0   \n",
       "2017-10-14           0.03             0.0          0.58          0.0   \n",
       "2017-10-15           0.02             0.0          0.45          0.0   \n",
       "2017-10-16           0.07             0.0          0.43          0.0   \n",
       "\n",
       "            visibility_min  ...  uvIndex_mean  visibility_mean  \\\n",
       "Day                         ...                                  \n",
       "2017-10-12           9.988  ...  5.833333e-01         9.992000   \n",
       "2017-10-13           5.884  ...  0.000000e+00         9.822000   \n",
       "2017-10-14           9.988  ...  5.182744e-17         9.988000   \n",
       "2017-10-15           3.795  ...  0.000000e+00         9.522875   \n",
       "2017-10-16           9.988  ...  1.958611e-33         9.992333   \n",
       "\n",
       "            apparentTemperature_median  temperature_median  pressure_median  \\\n",
       "Day                                                                           \n",
       "2017-10-12                      13.595              13.595         1025.765   \n",
       "2017-10-13                      11.850              11.850         1028.900   \n",
       "2017-10-14                      11.965              11.965         1029.100   \n",
       "2017-10-15                      12.135              12.135         1028.910   \n",
       "2017-10-16                      12.475              12.475         1028.145   \n",
       "\n",
       "            windSpeed_median  cloudCover_median  humidity_median  \\\n",
       "Day                                                                \n",
       "2017-10-12             1.065           0.490000            0.780   \n",
       "2017-10-13             0.215           0.300688            0.900   \n",
       "2017-10-14             0.135           0.000000            0.885   \n",
       "2017-10-15             0.175           0.000000            0.830   \n",
       "2017-10-16             0.225           0.000000            0.765   \n",
       "\n",
       "            uvIndex_median  visibility_median  \n",
       "Day                                            \n",
       "2017-10-12             0.0              9.992  \n",
       "2017-10-13             0.0              9.996  \n",
       "2017-10-14             0.0              9.988  \n",
       "2017-10-15             0.0              9.988  \n",
       "2017-10-16             0.0              9.996  \n",
       "\n",
       "[5 rows x 34 columns]"
      ]
     },
     "execution_count": 106,
     "metadata": {},
     "output_type": "execute_result"
    }
   ],
   "source": [
    "# import the data\n",
    "path_to_jsons = './data/DarkSkyAPI/'\n",
    "data_w = pd.read_csv(f'{path_to_jsons}/darkSkyData_cleaned_extracted.csv', index_col = 0)\n",
    "data_w.index = pd.to_datetime(data_w.index, format='%Y-%m-%d %H:%M:%S')\n",
    "\n",
    "# clean precipitation data\n",
    "data_w = clean_precipitation_columns(data_w)\n",
    "\n",
    "# clean continuous columns\n",
    "data_w = clean_continuous_features(data_w, order=3, do_plot=False)\n",
    "\n",
    "# apparentTemperature and temperature: take maximum\n",
    "# print(data_w.isna().sum())\n",
    "data_w['Day'] = data_w.index.map(lambda x: f'{x.year}-{x.month}-{x.day}')\n",
    "data_w['Day'] = pd.to_datetime(data_w['Day'])\n",
    "\n",
    "# aggregation\n",
    "# sum\n",
    "cols_sum = ['precipAccumulation', 'precipIntensity']\n",
    "\n",
    "# min\n",
    "cols_min = ['apparentTemperature', 'temperature', 'pressure', 'windSpeed', 'cloudCover','humidity', 'uvIndex', 'visibility']\n",
    "\n",
    "# max\n",
    "cols_max = ['apparentTemperature', 'temperature', 'pressure', 'windSpeed', 'cloudCover','humidity', 'uvIndex','visibility']\n",
    "\n",
    "# mean\n",
    "cols_mean = ['apparentTemperature', 'temperature','pressure', 'windSpeed', 'cloudCover','humidity', 'uvIndex','visibility']\n",
    "\n",
    "# median\n",
    "cols_median = ['apparentTemperature', 'temperature', 'pressure', 'windSpeed', 'cloudCover','humidity', 'uvIndex','visibility']\n",
    "\n",
    "\n",
    "df_sum = agg_by_sum(data_w, cols_sum, 'sum', agg_over='Day')\n",
    "df_min = agg_by_sum(data_w, cols_min, 'min', agg_over='Day')\n",
    "df_max = agg_by_sum(data_w, cols_max, 'max', agg_over='Day')\n",
    "df_mean = agg_by_sum(data_w, cols_mean, 'mean', agg_over='Day')\n",
    "df_median = agg_by_sum(data_w, cols_median, 'median', agg_over='Day')\n",
    "\n",
    "\n",
    "\n",
    "data_w = pd.concat([df_sum, df_min, df_max, df_mean, df_median], axis=1)\n",
    "\n",
    "# select the correct dates from 2017-10-12 until 2019-06-27\n",
    "data_w = data_w.loc['2017-10-12':'2019-06-27',:]\n",
    "\n",
    "data_w.head()"
   ]
  },
  {
   "cell_type": "markdown",
   "metadata": {},
   "source": [
    "# Prediction target\n",
    "\n",
    "Prediction will be based if the next day produces more or less than the mean of the produced production, i.e. "
   ]
  },
  {
   "cell_type": "code",
   "execution_count": 19,
   "metadata": {},
   "outputs": [
    {
     "data": {
      "image/png": "[encoded data removed]",
      "text/plain": [
       "<Figure size 432x288 with 1 Axes>"
      ]
     },
     "metadata": {
      "needs_background": "light"
     },
     "output_type": "display_data"
    }
   ],
   "source": [
    "plt.boxplot(data_prod['Production_sum'])\n",
    "plt.show()"
   ]
  },
  {
   "cell_type": "code",
   "execution_count": 104,
   "metadata": {},
   "outputs": [
    {
     "name": "stdout",
     "output_type": "stream",
     "text": [
      "90643.95940977565\n"
     ]
    },
    {
     "data": {
      "text/html": [
       "<div>\n",
       "<style scoped>\n",
       "    .dataframe tbody tr th:only-of-type {\n",
       "        vertical-align: middle;\n",
       "    }\n",
       "\n",
       "    .dataframe tbody tr th {\n",
       "        vertical-align: top;\n",
       "    }\n",
       "\n",
       "    .dataframe thead th {\n",
       "        text-align: right;\n",
       "    }\n",
       "</style>\n",
       "<table border=\"1\" class=\"dataframe\">\n",
       "  <thead>\n",
       "    <tr style=\"text-align: right;\">\n",
       "      <th></th>\n",
       "      <th>Production_sum</th>\n",
       "      <th>Y</th>\n",
       "    </tr>\n",
       "    <tr>\n",
       "      <th>Day</th>\n",
       "      <th></th>\n",
       "      <th></th>\n",
       "    </tr>\n",
       "  </thead>\n",
       "  <tbody>\n",
       "    <tr>\n",
       "      <th>2019-01-03</th>\n",
       "      <td>30668.6668</td>\n",
       "      <td>0</td>\n",
       "    </tr>\n",
       "    <tr>\n",
       "      <th>2018-07-14</th>\n",
       "      <td>186440.0002</td>\n",
       "      <td>1</td>\n",
       "    </tr>\n",
       "    <tr>\n",
       "      <th>2018-06-10</th>\n",
       "      <td>186000.3336</td>\n",
       "      <td>1</td>\n",
       "    </tr>\n",
       "    <tr>\n",
       "      <th>2019-01-13</th>\n",
       "      <td>2917.6666</td>\n",
       "      <td>0</td>\n",
       "    </tr>\n",
       "    <tr>\n",
       "      <th>2018-05-13</th>\n",
       "      <td>30166.3330</td>\n",
       "      <td>0</td>\n",
       "    </tr>\n",
       "    <tr>\n",
       "      <th>2019-06-09</th>\n",
       "      <td>83471.3333</td>\n",
       "      <td>0</td>\n",
       "    </tr>\n",
       "    <tr>\n",
       "      <th>2018-01-07</th>\n",
       "      <td>24347.6666</td>\n",
       "      <td>0</td>\n",
       "    </tr>\n",
       "    <tr>\n",
       "      <th>2018-06-05</th>\n",
       "      <td>132129.9992</td>\n",
       "      <td>1</td>\n",
       "    </tr>\n",
       "    <tr>\n",
       "      <th>2018-07-29</th>\n",
       "      <td>194691.6659</td>\n",
       "      <td>1</td>\n",
       "    </tr>\n",
       "    <tr>\n",
       "      <th>2019-05-28</th>\n",
       "      <td>97694.0000</td>\n",
       "      <td>1</td>\n",
       "    </tr>\n",
       "  </tbody>\n",
       "</table>\n",
       "</div>"
      ],
      "text/plain": [
       "            Production_sum  Y\n",
       "Day                          \n",
       "2019-01-03      30668.6668  0\n",
       "2018-07-14     186440.0002  1\n",
       "2018-06-10     186000.3336  1\n",
       "2019-01-13       2917.6666  0\n",
       "2018-05-13      30166.3330  0\n",
       "2019-06-09      83471.3333  0\n",
       "2018-01-07      24347.6666  0\n",
       "2018-06-05     132129.9992  1\n",
       "2018-07-29     194691.6659  1\n",
       "2019-05-28      97694.0000  1"
      ]
     },
     "execution_count": 104,
     "metadata": {},
     "output_type": "execute_result"
    }
   ],
   "source": [
    "target = data_prod['Production_sum'].mean() # in Watt\n",
    "print(target) # mean in Watt\n",
    "data_prod['Y'] = data_prod['Production_sum'].map(lambda x: 1 if x>target else 0)\n",
    "data_prod.sample(10)"
   ]
  },
  {
   "cell_type": "markdown",
   "metadata": {},
   "source": [
    "# Model"
   ]
  },
  {
   "cell_type": "code",
   "execution_count": 108,
   "metadata": {},
   "outputs": [
    {
     "data": {
      "text/plain": [
       "((624, 34), (624, 2), (624, 5))"
      ]
     },
     "execution_count": 108,
     "metadata": {},
     "output_type": "execute_result"
    }
   ],
   "source": [
    "data_w.shape, data_prod.shape, data_solar.shape # all should have same length"
   ]
  },
  {
   "cell_type": "code",
   "execution_count": 109,
   "metadata": {},
   "outputs": [],
   "source": [
    "data = pd.concat([data_w, data_prod, data_solar], axis=1)"
   ]
  },
  {
   "cell_type": "code",
   "execution_count": 111,
   "metadata": {},
   "outputs": [
    {
     "data": {
      "image/png": "[encoded data removed]",
      "text/plain": [
       "<Figure size 432x288 with 1 Axes>"
      ]
     },
     "metadata": {
      "needs_background": "light"
     },
     "output_type": "display_data"
    }
   ],
   "source": [
    "plt.scatter(data['temperature_max'], data['Production_sum'])\n",
    "plt.show()"
   ]
  },
  {
   "cell_type": "code",
   "execution_count": 112,
   "metadata": {},
   "outputs": [
    {
     "data": {
      "image/png": "[encoded data removed]",
      "text/plain": [
       "<Figure size 432x288 with 1 Axes>"
      ]
     },
     "metadata": {
      "needs_background": "light"
     },
     "output_type": "display_data"
    }
   ],
   "source": [
    "plt.scatter(data['temperature_min'], data['Production_sum'])\n",
    "plt.show()"
   ]
  },
  {
   "cell_type": "code",
   "execution_count": 116,
   "metadata": {},
   "outputs": [
    {
     "data": {
      "image/png": "[encoded data removed]",
      "text/plain": [
       "<Figure size 432x288 with 1 Axes>"
      ]
     },
     "metadata": {
      "needs_background": "light"
     },
     "output_type": "display_data"
    }
   ],
   "source": [
    "plt.scatter(data['precipIntensity_sum'], data['Production_sum'])\n",
    "plt.show()"
   ]
  },
  {
   "cell_type": "code",
   "execution_count": null,
   "metadata": {},
   "outputs": [],
   "source": []
  }
 ],
 "metadata": {
  "kernelspec": {
   "display_name": "Python 3",
   "language": "python",
   "name": "python3"
  },
  "language_info": {
   "codemirror_mode": {
    "name": "ipython",
    "version": 3
   },
   "file_extension": ".py",
   "mimetype": "text/x-python",
   "name": "python",
   "nbconvert_exporter": "python",
   "pygments_lexer": "ipython3",
   "version": "3.7.4"
  }
 },
 "nbformat": 4,
 "nbformat_minor": 4
}
