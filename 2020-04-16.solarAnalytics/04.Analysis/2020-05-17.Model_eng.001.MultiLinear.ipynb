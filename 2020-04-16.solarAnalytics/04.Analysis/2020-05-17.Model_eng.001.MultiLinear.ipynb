{
 "cells": [
  {
   "cell_type": "markdown",
   "metadata": {},
   "source": [
    "# Model engineering 001: MultiLinearRegression\n",
    "\n",
    "In this part of the project to predict the photovoltaic production of solar cells on a roof we are considering a simple regression model - MultiLinearRegression. \n",
    "\n"
   ]
  },
  {
   "cell_type": "markdown",
   "metadata": {},
   "source": [
    "## Import libraries"
   ]
  },
  {
   "cell_type": "code",
   "execution_count": 1,
   "metadata": {},
   "outputs": [
    {
     "name": "stderr",
     "output_type": "stream",
     "text": [
      "Using TensorFlow backend.\n"
     ]
    }
   ],
   "source": [
    "import pandas as pd\n",
    "import matplotlib.pyplot as plt\n",
    "import seaborn as sns\n",
    "import numpy as np\n",
    "\n",
    "from sklearn.pipeline import Pipeline\n",
    "from sklearn.preprocessing import StandardScaler, OneHotEncoder\n",
    "from sklearn.linear_model import LinearRegression\n",
    "from sklearn.model_selection import train_test_split\n",
    "from sklearn.compose import ColumnTransformer\n",
    "from sklearn.metrics import r2_score\n",
    "\n",
    "import eli5\n",
    "sns.set()"
   ]
  },
  {
   "cell_type": "markdown",
   "metadata": {},
   "source": [
    "## Import dataset"
   ]
  },
  {
   "cell_type": "markdown",
   "metadata": {},
   "source": [
    "### DarkSky - Weather data"
   ]
  },
  {
   "cell_type": "code",
   "execution_count": 2,
   "metadata": {},
   "outputs": [
    {
     "data": {
      "text/html": [
       "<div>\n",
       "<style scoped>\n",
       "    .dataframe tbody tr th:only-of-type {\n",
       "        vertical-align: middle;\n",
       "    }\n",
       "\n",
       "    .dataframe tbody tr th {\n",
       "        vertical-align: top;\n",
       "    }\n",
       "\n",
       "    .dataframe thead th {\n",
       "        text-align: right;\n",
       "    }\n",
       "</style>\n",
       "<table border=\"1\" class=\"dataframe\">\n",
       "  <thead>\n",
       "    <tr style=\"text-align: right;\">\n",
       "      <th></th>\n",
       "      <th>time</th>\n",
       "      <th>apparentTemperatureHigh</th>\n",
       "      <th>apparentTemperatureLow</th>\n",
       "      <th>cloudCover</th>\n",
       "      <th>precipProbability</th>\n",
       "      <th>precipType</th>\n",
       "      <th>sunriseTime</th>\n",
       "      <th>sunsetTime</th>\n",
       "      <th>temperatureHigh</th>\n",
       "      <th>uvIndex</th>\n",
       "      <th>precipIntensityMax_cm</th>\n",
       "      <th>sun_uptime</th>\n",
       "    </tr>\n",
       "  </thead>\n",
       "  <tbody>\n",
       "    <tr>\n",
       "      <th>0</th>\n",
       "      <td>2017-10-01</td>\n",
       "      <td>15.92</td>\n",
       "      <td>9.71</td>\n",
       "      <td>NaN</td>\n",
       "      <td>0.76</td>\n",
       "      <td>rain</td>\n",
       "      <td>2017-10-01 07:29:00</td>\n",
       "      <td>2017-10-01 19:09:00</td>\n",
       "      <td>16.20</td>\n",
       "      <td>4.0</td>\n",
       "      <td>0.498348</td>\n",
       "      <td>11.666667</td>\n",
       "    </tr>\n",
       "    <tr>\n",
       "      <th>1</th>\n",
       "      <td>2017-10-02</td>\n",
       "      <td>17.15</td>\n",
       "      <td>12.70</td>\n",
       "      <td>0.81</td>\n",
       "      <td>0.81</td>\n",
       "      <td>rain</td>\n",
       "      <td>2017-10-02 07:30:00</td>\n",
       "      <td>2017-10-02 19:07:00</td>\n",
       "      <td>17.43</td>\n",
       "      <td>3.0</td>\n",
       "      <td>0.548386</td>\n",
       "      <td>11.616667</td>\n",
       "    </tr>\n",
       "    <tr>\n",
       "      <th>2</th>\n",
       "      <td>2017-10-03</td>\n",
       "      <td>16.14</td>\n",
       "      <td>5.25</td>\n",
       "      <td>0.76</td>\n",
       "      <td>0.99</td>\n",
       "      <td>rain</td>\n",
       "      <td>2017-10-03 07:32:00</td>\n",
       "      <td>2017-10-03 19:05:00</td>\n",
       "      <td>16.42</td>\n",
       "      <td>4.0</td>\n",
       "      <td>23.600410</td>\n",
       "      <td>11.550000</td>\n",
       "    </tr>\n",
       "    <tr>\n",
       "      <th>3</th>\n",
       "      <td>2017-10-04</td>\n",
       "      <td>15.47</td>\n",
       "      <td>4.75</td>\n",
       "      <td>NaN</td>\n",
       "      <td>0.62</td>\n",
       "      <td>rain</td>\n",
       "      <td>2017-10-04 07:33:00</td>\n",
       "      <td>2017-10-04 19:03:00</td>\n",
       "      <td>15.75</td>\n",
       "      <td>0.0</td>\n",
       "      <td>0.403606</td>\n",
       "      <td>11.500000</td>\n",
       "    </tr>\n",
       "    <tr>\n",
       "      <th>4</th>\n",
       "      <td>2017-10-05</td>\n",
       "      <td>19.81</td>\n",
       "      <td>5.68</td>\n",
       "      <td>NaN</td>\n",
       "      <td>0.99</td>\n",
       "      <td>rain</td>\n",
       "      <td>2017-10-05 07:34:00</td>\n",
       "      <td>2017-10-05 19:01:00</td>\n",
       "      <td>20.09</td>\n",
       "      <td>1.0</td>\n",
       "      <td>8.199120</td>\n",
       "      <td>11.450000</td>\n",
       "    </tr>\n",
       "  </tbody>\n",
       "</table>\n",
       "</div>"
      ],
      "text/plain": [
       "        time  apparentTemperatureHigh  apparentTemperatureLow  cloudCover  \\\n",
       "0 2017-10-01                    15.92                    9.71         NaN   \n",
       "1 2017-10-02                    17.15                   12.70        0.81   \n",
       "2 2017-10-03                    16.14                    5.25        0.76   \n",
       "3 2017-10-04                    15.47                    4.75         NaN   \n",
       "4 2017-10-05                    19.81                    5.68         NaN   \n",
       "\n",
       "   precipProbability precipType         sunriseTime          sunsetTime  \\\n",
       "0               0.76       rain 2017-10-01 07:29:00 2017-10-01 19:09:00   \n",
       "1               0.81       rain 2017-10-02 07:30:00 2017-10-02 19:07:00   \n",
       "2               0.99       rain 2017-10-03 07:32:00 2017-10-03 19:05:00   \n",
       "3               0.62       rain 2017-10-04 07:33:00 2017-10-04 19:03:00   \n",
       "4               0.99       rain 2017-10-05 07:34:00 2017-10-05 19:01:00   \n",
       "\n",
       "   temperatureHigh  uvIndex  precipIntensityMax_cm  sun_uptime  \n",
       "0            16.20      4.0               0.498348   11.666667  \n",
       "1            17.43      3.0               0.548386   11.616667  \n",
       "2            16.42      4.0              23.600410   11.550000  \n",
       "3            15.75      0.0               0.403606   11.500000  \n",
       "4            20.09      1.0               8.199120   11.450000  "
      ]
     },
     "execution_count": 2,
     "metadata": {},
     "output_type": "execute_result"
    }
   ],
   "source": [
    "df_weather = pd.read_csv('../02.Prepared_data/DarkSky/data_after_missing_value_treatment.csv', parse_dates=['time', 'sunriseTime', 'sunsetTime'])\n",
    "df_weather.head()"
   ]
  },
  {
   "cell_type": "code",
   "execution_count": 3,
   "metadata": {},
   "outputs": [
    {
     "name": "stdout",
     "output_type": "stream",
     "text": [
      "<class 'pandas.core.frame.DataFrame'>\n",
      "RangeIndex: 929 entries, 0 to 928\n",
      "Data columns (total 12 columns):\n",
      "time                       929 non-null datetime64[ns]\n",
      "apparentTemperatureHigh    929 non-null float64\n",
      "apparentTemperatureLow     847 non-null float64\n",
      "cloudCover                 744 non-null float64\n",
      "precipProbability          837 non-null float64\n",
      "precipType                 839 non-null object\n",
      "sunriseTime                929 non-null datetime64[ns]\n",
      "sunsetTime                 929 non-null datetime64[ns]\n",
      "temperatureHigh            929 non-null float64\n",
      "uvIndex                    895 non-null float64\n",
      "precipIntensityMax_cm      839 non-null float64\n",
      "sun_uptime                 922 non-null float64\n",
      "dtypes: datetime64[ns](3), float64(8), object(1)\n",
      "memory usage: 87.2+ KB\n"
     ]
    }
   ],
   "source": [
    "df_weather.info()"
   ]
  },
  {
   "cell_type": "markdown",
   "metadata": {},
   "source": [
    "### Solar output data"
   ]
  },
  {
   "cell_type": "code",
   "execution_count": 4,
   "metadata": {},
   "outputs": [
    {
     "data": {
      "text/html": [
       "<div>\n",
       "<style scoped>\n",
       "    .dataframe tbody tr th:only-of-type {\n",
       "        vertical-align: middle;\n",
       "    }\n",
       "\n",
       "    .dataframe tbody tr th {\n",
       "        vertical-align: top;\n",
       "    }\n",
       "\n",
       "    .dataframe thead th {\n",
       "        text-align: right;\n",
       "    }\n",
       "</style>\n",
       "<table border=\"1\" class=\"dataframe\">\n",
       "  <thead>\n",
       "    <tr style=\"text-align: right;\">\n",
       "      <th></th>\n",
       "      <th>day</th>\n",
       "      <th>energy</th>\n",
       "      <th>season</th>\n",
       "    </tr>\n",
       "  </thead>\n",
       "  <tbody>\n",
       "    <tr>\n",
       "      <th>0</th>\n",
       "      <td>2017-10-12</td>\n",
       "      <td>2.907333</td>\n",
       "      <td>fall</td>\n",
       "    </tr>\n",
       "    <tr>\n",
       "      <th>1</th>\n",
       "      <td>2017-10-13</td>\n",
       "      <td>29.549000</td>\n",
       "      <td>fall</td>\n",
       "    </tr>\n",
       "    <tr>\n",
       "      <th>2</th>\n",
       "      <td>2017-10-14</td>\n",
       "      <td>28.653833</td>\n",
       "      <td>fall</td>\n",
       "    </tr>\n",
       "    <tr>\n",
       "      <th>3</th>\n",
       "      <td>2017-10-15</td>\n",
       "      <td>28.409750</td>\n",
       "      <td>fall</td>\n",
       "    </tr>\n",
       "    <tr>\n",
       "      <th>4</th>\n",
       "      <td>2017-10-16</td>\n",
       "      <td>27.371084</td>\n",
       "      <td>fall</td>\n",
       "    </tr>\n",
       "  </tbody>\n",
       "</table>\n",
       "</div>"
      ],
      "text/plain": [
       "         day     energy season\n",
       "0 2017-10-12   2.907333   fall\n",
       "1 2017-10-13  29.549000   fall\n",
       "2 2017-10-14  28.653833   fall\n",
       "3 2017-10-15  28.409750   fall\n",
       "4 2017-10-16  27.371084   fall"
      ]
     },
     "execution_count": 4,
     "metadata": {},
     "output_type": "execute_result"
    }
   ],
   "source": [
    "df_prod = pd.read_csv('../02.Prepared_data/photovoltaic/integrated_daily.csv', parse_dates=['day'])\n",
    "df_prod.head()"
   ]
  },
  {
   "cell_type": "code",
   "execution_count": 5,
   "metadata": {},
   "outputs": [
    {
     "name": "stdout",
     "output_type": "stream",
     "text": [
      "<class 'pandas.core.frame.DataFrame'>\n",
      "RangeIndex: 624 entries, 0 to 623\n",
      "Data columns (total 3 columns):\n",
      "day       624 non-null datetime64[ns]\n",
      "energy    624 non-null float64\n",
      "season    624 non-null object\n",
      "dtypes: datetime64[ns](1), float64(1), object(1)\n",
      "memory usage: 14.8+ KB\n"
     ]
    }
   ],
   "source": [
    "df_prod.info()"
   ]
  },
  {
   "cell_type": "markdown",
   "metadata": {},
   "source": [
    "## Merge datasets"
   ]
  },
  {
   "cell_type": "code",
   "execution_count": 6,
   "metadata": {},
   "outputs": [],
   "source": [
    "df = pd.merge(df_prod, df_weather, left_on='day', right_on='time')\n",
    "df = df.set_index('day')"
   ]
  },
  {
   "cell_type": "code",
   "execution_count": 7,
   "metadata": {},
   "outputs": [
    {
     "data": {
      "text/html": [
       "<div>\n",
       "<style scoped>\n",
       "    .dataframe tbody tr th:only-of-type {\n",
       "        vertical-align: middle;\n",
       "    }\n",
       "\n",
       "    .dataframe tbody tr th {\n",
       "        vertical-align: top;\n",
       "    }\n",
       "\n",
       "    .dataframe thead th {\n",
       "        text-align: right;\n",
       "    }\n",
       "</style>\n",
       "<table border=\"1\" class=\"dataframe\">\n",
       "  <thead>\n",
       "    <tr style=\"text-align: right;\">\n",
       "      <th></th>\n",
       "      <th>column_name</th>\n",
       "      <th>percent_missing</th>\n",
       "      <th>absolute_missing</th>\n",
       "    </tr>\n",
       "  </thead>\n",
       "  <tbody>\n",
       "    <tr>\n",
       "      <th>energy</th>\n",
       "      <td>energy</td>\n",
       "      <td>0.000000</td>\n",
       "      <td>0</td>\n",
       "    </tr>\n",
       "    <tr>\n",
       "      <th>season</th>\n",
       "      <td>season</td>\n",
       "      <td>0.000000</td>\n",
       "      <td>0</td>\n",
       "    </tr>\n",
       "    <tr>\n",
       "      <th>time</th>\n",
       "      <td>time</td>\n",
       "      <td>0.000000</td>\n",
       "      <td>0</td>\n",
       "    </tr>\n",
       "    <tr>\n",
       "      <th>apparentTemperatureHigh</th>\n",
       "      <td>apparentTemperatureHigh</td>\n",
       "      <td>0.000000</td>\n",
       "      <td>0</td>\n",
       "    </tr>\n",
       "    <tr>\n",
       "      <th>apparentTemperatureLow</th>\n",
       "      <td>apparentTemperatureLow</td>\n",
       "      <td>13.141026</td>\n",
       "      <td>82</td>\n",
       "    </tr>\n",
       "    <tr>\n",
       "      <th>cloudCover</th>\n",
       "      <td>cloudCover</td>\n",
       "      <td>29.006410</td>\n",
       "      <td>181</td>\n",
       "    </tr>\n",
       "    <tr>\n",
       "      <th>precipProbability</th>\n",
       "      <td>precipProbability</td>\n",
       "      <td>14.743590</td>\n",
       "      <td>92</td>\n",
       "    </tr>\n",
       "    <tr>\n",
       "      <th>precipType</th>\n",
       "      <td>precipType</td>\n",
       "      <td>14.423077</td>\n",
       "      <td>90</td>\n",
       "    </tr>\n",
       "    <tr>\n",
       "      <th>sunriseTime</th>\n",
       "      <td>sunriseTime</td>\n",
       "      <td>0.000000</td>\n",
       "      <td>0</td>\n",
       "    </tr>\n",
       "    <tr>\n",
       "      <th>sunsetTime</th>\n",
       "      <td>sunsetTime</td>\n",
       "      <td>0.000000</td>\n",
       "      <td>0</td>\n",
       "    </tr>\n",
       "    <tr>\n",
       "      <th>temperatureHigh</th>\n",
       "      <td>temperatureHigh</td>\n",
       "      <td>0.000000</td>\n",
       "      <td>0</td>\n",
       "    </tr>\n",
       "    <tr>\n",
       "      <th>uvIndex</th>\n",
       "      <td>uvIndex</td>\n",
       "      <td>5.448718</td>\n",
       "      <td>34</td>\n",
       "    </tr>\n",
       "    <tr>\n",
       "      <th>precipIntensityMax_cm</th>\n",
       "      <td>precipIntensityMax_cm</td>\n",
       "      <td>14.423077</td>\n",
       "      <td>90</td>\n",
       "    </tr>\n",
       "    <tr>\n",
       "      <th>sun_uptime</th>\n",
       "      <td>sun_uptime</td>\n",
       "      <td>1.121795</td>\n",
       "      <td>7</td>\n",
       "    </tr>\n",
       "  </tbody>\n",
       "</table>\n",
       "</div>"
      ],
      "text/plain": [
       "                                     column_name  percent_missing  \\\n",
       "energy                                    energy         0.000000   \n",
       "season                                    season         0.000000   \n",
       "time                                        time         0.000000   \n",
       "apparentTemperatureHigh  apparentTemperatureHigh         0.000000   \n",
       "apparentTemperatureLow    apparentTemperatureLow        13.141026   \n",
       "cloudCover                            cloudCover        29.006410   \n",
       "precipProbability              precipProbability        14.743590   \n",
       "precipType                            precipType        14.423077   \n",
       "sunriseTime                          sunriseTime         0.000000   \n",
       "sunsetTime                            sunsetTime         0.000000   \n",
       "temperatureHigh                  temperatureHigh         0.000000   \n",
       "uvIndex                                  uvIndex         5.448718   \n",
       "precipIntensityMax_cm      precipIntensityMax_cm        14.423077   \n",
       "sun_uptime                            sun_uptime         1.121795   \n",
       "\n",
       "                         absolute_missing  \n",
       "energy                                  0  \n",
       "season                                  0  \n",
       "time                                    0  \n",
       "apparentTemperatureHigh                 0  \n",
       "apparentTemperatureLow                 82  \n",
       "cloudCover                            181  \n",
       "precipProbability                      92  \n",
       "precipType                             90  \n",
       "sunriseTime                             0  \n",
       "sunsetTime                              0  \n",
       "temperatureHigh                         0  \n",
       "uvIndex                                34  \n",
       "precipIntensityMax_cm                  90  \n",
       "sun_uptime                              7  "
      ]
     },
     "execution_count": 7,
     "metadata": {},
     "output_type": "execute_result"
    }
   ],
   "source": [
    "# what missing values there are\n",
    "percent_missing = df.isnull().sum() * 100 / len(df)\n",
    "missing_value_df = pd.DataFrame({'column_name': df.columns,\n",
    "                                 'percent_missing': percent_missing,\n",
    "                                'absolute_missing': df.isnull().sum()})\n",
    "missing_value_df"
   ]
  },
  {
   "cell_type": "code",
   "execution_count": 8,
   "metadata": {},
   "outputs": [
    {
     "data": {
      "text/plain": [
       "((624, 3), (624, 14))"
      ]
     },
     "execution_count": 8,
     "metadata": {},
     "output_type": "execute_result"
    }
   ],
   "source": [
    "df_prod.shape, df.shape"
   ]
  },
  {
   "cell_type": "markdown",
   "metadata": {},
   "source": [
    "Looks good, we have the two datasets merged. Let us now consider which features we are going to use for our prediction."
   ]
  },
  {
   "cell_type": "markdown",
   "metadata": {},
   "source": [
    "## Feature selection\n",
    "\n",
    "\n",
    "This step is non-trivial, but we already know from the correlation matrix that there are some highly correlated values among the temperature columns."
   ]
  },
  {
   "cell_type": "code",
   "execution_count": 10,
   "metadata": {},
   "outputs": [
    {
     "data": {
      "application/vnd.jupyter.widget-view+json": {
       "model_id": "9b586bc248f24b0f936300739f024445",
       "version_major": 2,
       "version_minor": 0
      },
      "text/plain": [
       "Canvas(toolbar=Toolbar(toolitems=[('Home', 'Reset original view', 'home', 'home'), ('Back', 'Back to previous …"
      ]
     },
     "metadata": {},
     "output_type": "display_data"
    }
   ],
   "source": [
    "%matplotlib widget\n",
    "# %matplotlib inline\n",
    "\n",
    "fig, ax = plt.subplots(figsize=(6,5))\n",
    "sns.heatmap(df_weather.corr(), ax=ax, annot=True, cmap='viridis', fmt=\"0.2f\");\n",
    "plt.xticks(fontsize=7)\n",
    "plt.yticks(fontsize=7)\n",
    "plt.tight_layout()\n",
    "plt.show()\n"
   ]
  },
  {
   "cell_type": "markdown",
   "metadata": {},
   "source": [
    "Since the `apparentTemperatureHigh` column has no missing values, we will use this column as the temperature information and drop the others. Also we can drop `time`, `sunriseTime`, and `sunSetTime` since they are not relevant further (we know the difference between sunset and rise from the `sun_uptime` column)."
   ]
  },
  {
   "cell_type": "code",
   "execution_count": 11,
   "metadata": {},
   "outputs": [
    {
     "data": {
      "text/html": [
       "<div>\n",
       "<style scoped>\n",
       "    .dataframe tbody tr th:only-of-type {\n",
       "        vertical-align: middle;\n",
       "    }\n",
       "\n",
       "    .dataframe tbody tr th {\n",
       "        vertical-align: top;\n",
       "    }\n",
       "\n",
       "    .dataframe thead th {\n",
       "        text-align: right;\n",
       "    }\n",
       "</style>\n",
       "<table border=\"1\" class=\"dataframe\">\n",
       "  <thead>\n",
       "    <tr style=\"text-align: right;\">\n",
       "      <th></th>\n",
       "      <th>energy</th>\n",
       "      <th>season</th>\n",
       "      <th>apparentTemperatureHigh</th>\n",
       "      <th>cloudCover</th>\n",
       "      <th>precipProbability</th>\n",
       "      <th>precipType</th>\n",
       "      <th>uvIndex</th>\n",
       "      <th>precipIntensityMax_cm</th>\n",
       "      <th>sun_uptime</th>\n",
       "    </tr>\n",
       "    <tr>\n",
       "      <th>day</th>\n",
       "      <th></th>\n",
       "      <th></th>\n",
       "      <th></th>\n",
       "      <th></th>\n",
       "      <th></th>\n",
       "      <th></th>\n",
       "      <th></th>\n",
       "      <th></th>\n",
       "      <th></th>\n",
       "    </tr>\n",
       "  </thead>\n",
       "  <tbody>\n",
       "    <tr>\n",
       "      <th>2017-10-12</th>\n",
       "      <td>2.907333</td>\n",
       "      <td>fall</td>\n",
       "      <td>18.74</td>\n",
       "      <td>0.68</td>\n",
       "      <td>0.00</td>\n",
       "      <td>none</td>\n",
       "      <td>3.0</td>\n",
       "      <td>0.000000</td>\n",
       "      <td>11.050000</td>\n",
       "    </tr>\n",
       "    <tr>\n",
       "      <th>2017-10-13</th>\n",
       "      <td>29.549000</td>\n",
       "      <td>fall</td>\n",
       "      <td>21.26</td>\n",
       "      <td>NaN</td>\n",
       "      <td>0.70</td>\n",
       "      <td>rain</td>\n",
       "      <td>0.0</td>\n",
       "      <td>0.330708</td>\n",
       "      <td>10.983333</td>\n",
       "    </tr>\n",
       "    <tr>\n",
       "      <th>2017-10-14</th>\n",
       "      <td>28.653833</td>\n",
       "      <td>fall</td>\n",
       "      <td>21.30</td>\n",
       "      <td>NaN</td>\n",
       "      <td>0.63</td>\n",
       "      <td>rain</td>\n",
       "      <td>0.0</td>\n",
       "      <td>0.305562</td>\n",
       "      <td>10.933333</td>\n",
       "    </tr>\n",
       "    <tr>\n",
       "      <th>2017-10-15</th>\n",
       "      <td>28.409750</td>\n",
       "      <td>fall</td>\n",
       "      <td>25.41</td>\n",
       "      <td>NaN</td>\n",
       "      <td>0.62</td>\n",
       "      <td>rain</td>\n",
       "      <td>0.0</td>\n",
       "      <td>0.406146</td>\n",
       "      <td>10.866667</td>\n",
       "    </tr>\n",
       "    <tr>\n",
       "      <th>2017-10-16</th>\n",
       "      <td>27.371084</td>\n",
       "      <td>fall</td>\n",
       "      <td>25.55</td>\n",
       "      <td>NaN</td>\n",
       "      <td>0.00</td>\n",
       "      <td>none</td>\n",
       "      <td>0.0</td>\n",
       "      <td>0.000000</td>\n",
       "      <td>10.816667</td>\n",
       "    </tr>\n",
       "  </tbody>\n",
       "</table>\n",
       "</div>"
      ],
      "text/plain": [
       "               energy season  apparentTemperatureHigh  cloudCover  \\\n",
       "day                                                                 \n",
       "2017-10-12   2.907333   fall                    18.74        0.68   \n",
       "2017-10-13  29.549000   fall                    21.26         NaN   \n",
       "2017-10-14  28.653833   fall                    21.30         NaN   \n",
       "2017-10-15  28.409750   fall                    25.41         NaN   \n",
       "2017-10-16  27.371084   fall                    25.55         NaN   \n",
       "\n",
       "            precipProbability precipType  uvIndex  precipIntensityMax_cm  \\\n",
       "day                                                                        \n",
       "2017-10-12               0.00       none      3.0               0.000000   \n",
       "2017-10-13               0.70       rain      0.0               0.330708   \n",
       "2017-10-14               0.63       rain      0.0               0.305562   \n",
       "2017-10-15               0.62       rain      0.0               0.406146   \n",
       "2017-10-16               0.00       none      0.0               0.000000   \n",
       "\n",
       "            sun_uptime  \n",
       "day                     \n",
       "2017-10-12   11.050000  \n",
       "2017-10-13   10.983333  \n",
       "2017-10-14   10.933333  \n",
       "2017-10-15   10.866667  \n",
       "2017-10-16   10.816667  "
      ]
     },
     "execution_count": 11,
     "metadata": {},
     "output_type": "execute_result"
    }
   ],
   "source": [
    "df_cleaned = df.drop(columns=['time', 'apparentTemperatureLow', 'temperatureHigh', 'sunriseTime', 'sunsetTime'])\n",
    "df_cleaned.head()"
   ]
  },
  {
   "cell_type": "code",
   "execution_count": 13,
   "metadata": {},
   "outputs": [
    {
     "data": {
      "application/vnd.jupyter.widget-view+json": {
       "model_id": "e60def040bd8448cb11d119ad71fc12f",
       "version_major": 2,
       "version_minor": 0
      },
      "text/plain": [
       "Canvas(toolbar=Toolbar(toolitems=[('Home', 'Reset original view', 'home', 'home'), ('Back', 'Back to previous …"
      ]
     },
     "metadata": {},
     "output_type": "display_data"
    }
   ],
   "source": [
    "%matplotlib widget\n",
    "# %matplotlib inline\n",
    "\n",
    "fig, ax = plt.subplots(figsize=(6,5))\n",
    "sns.heatmap(df_cleaned.corr(), ax=ax, annot=True, cmap='viridis', fmt=\"0.2f\");\n",
    "plt.xticks(fontsize=7)\n",
    "plt.yticks(fontsize=7)\n",
    "plt.tight_layout()\n",
    "plt.show()\n"
   ]
  },
  {
   "cell_type": "markdown",
   "metadata": {},
   "source": [
    "\n",
    "We can see now that the target column, `energy` is highly positively correlated with the temperature and uptime and moderately negatively correlated with the `cloudCover` column which is not very surprising and agrees with our intuition - when the temperature and sun hours are high, the energy produced during one day will be high and if there are a lot of clouds, there will be less energy produced."
   ]
  },
  {
   "cell_type": "markdown",
   "metadata": {},
   "source": [
    "## Missing values\n",
    "\n",
    "We already know that there are a bunch of missing values in 2018 and they are clumped, so there is nothing to be done about it. We will drop these columns. \n",
    "\n",
    "We will also drop the `cloudCover` column because it has the most missing values and is correlated with the probability for precipitation for which we have more datapoints. That way we do not loose 30% of the data, but only around 15%."
   ]
  },
  {
   "cell_type": "code",
   "execution_count": 14,
   "metadata": {},
   "outputs": [
    {
     "name": "stdout",
     "output_type": "stream",
     "text": [
      "Dropped 93 (14.90%) entries because of missing values. New size is 531 entries.\n"
     ]
    }
   ],
   "source": [
    "df_cleaned = df_cleaned.drop(columns=['cloudCover'])\n",
    "size_before = df_cleaned.shape[0]\n",
    "df_cleaned = df_cleaned.dropna()\n",
    "size_after = df_cleaned.dropna().shape[0]\n",
    "print(f\"Dropped {size_before-size_after} ({100 * (size_before-size_after)/size_before:.2f}%) entries because of missing values. New size is {size_after} entries.\")"
   ]
  },
  {
   "cell_type": "markdown",
   "metadata": {},
   "source": [
    "### Export this dataset\n",
    "\n",
    "Exporting this dataset makes sense because we can save the analysis steps for other models that we consider and make sure that we use the same baseline for the other models."
   ]
  },
  {
   "cell_type": "code",
   "execution_count": 15,
   "metadata": {},
   "outputs": [],
   "source": [
    "df_cleaned.to_csv('../02.Prepared_data/dataset.Model_eng.001.csv', index=False)"
   ]
  },
  {
   "cell_type": "markdown",
   "metadata": {},
   "source": [
    "## Select features"
   ]
  },
  {
   "cell_type": "code",
   "execution_count": 16,
   "metadata": {},
   "outputs": [],
   "source": [
    "# X = df_cleaned.iloc[:, 1:].values\n",
    "X = df_cleaned.iloc[:, 1:]\n",
    "X = X.reset_index(drop=True)\n",
    "# y = df_cleaned.iloc[:, 0].values\n",
    "y = df_cleaned.iloc[:, 0]\n",
    "y = y.reset_index(drop=True)"
   ]
  },
  {
   "cell_type": "markdown",
   "metadata": {},
   "source": [
    "## Pipeline\n",
    "\n",
    "Let's make our pipeline for the preprocessing here. That allows later some easier changes."
   ]
  },
  {
   "cell_type": "code",
   "execution_count": 17,
   "metadata": {},
   "outputs": [
    {
     "data": {
      "text/html": [
       "<div>\n",
       "<style scoped>\n",
       "    .dataframe tbody tr th:only-of-type {\n",
       "        vertical-align: middle;\n",
       "    }\n",
       "\n",
       "    .dataframe tbody tr th {\n",
       "        vertical-align: top;\n",
       "    }\n",
       "\n",
       "    .dataframe thead th {\n",
       "        text-align: right;\n",
       "    }\n",
       "</style>\n",
       "<table border=\"1\" class=\"dataframe\">\n",
       "  <thead>\n",
       "    <tr style=\"text-align: right;\">\n",
       "      <th></th>\n",
       "      <th>season</th>\n",
       "      <th>apparentTemperatureHigh</th>\n",
       "      <th>precipProbability</th>\n",
       "      <th>precipType</th>\n",
       "      <th>uvIndex</th>\n",
       "      <th>precipIntensityMax_cm</th>\n",
       "      <th>sun_uptime</th>\n",
       "    </tr>\n",
       "  </thead>\n",
       "  <tbody>\n",
       "    <tr>\n",
       "      <th>0</th>\n",
       "      <td>fall</td>\n",
       "      <td>18.74</td>\n",
       "      <td>0.00</td>\n",
       "      <td>none</td>\n",
       "      <td>3.0</td>\n",
       "      <td>0.000000</td>\n",
       "      <td>11.050000</td>\n",
       "    </tr>\n",
       "    <tr>\n",
       "      <th>1</th>\n",
       "      <td>fall</td>\n",
       "      <td>21.26</td>\n",
       "      <td>0.70</td>\n",
       "      <td>rain</td>\n",
       "      <td>0.0</td>\n",
       "      <td>0.330708</td>\n",
       "      <td>10.983333</td>\n",
       "    </tr>\n",
       "    <tr>\n",
       "      <th>2</th>\n",
       "      <td>fall</td>\n",
       "      <td>21.30</td>\n",
       "      <td>0.63</td>\n",
       "      <td>rain</td>\n",
       "      <td>0.0</td>\n",
       "      <td>0.305562</td>\n",
       "      <td>10.933333</td>\n",
       "    </tr>\n",
       "    <tr>\n",
       "      <th>3</th>\n",
       "      <td>fall</td>\n",
       "      <td>25.41</td>\n",
       "      <td>0.62</td>\n",
       "      <td>rain</td>\n",
       "      <td>0.0</td>\n",
       "      <td>0.406146</td>\n",
       "      <td>10.866667</td>\n",
       "    </tr>\n",
       "    <tr>\n",
       "      <th>4</th>\n",
       "      <td>fall</td>\n",
       "      <td>25.55</td>\n",
       "      <td>0.00</td>\n",
       "      <td>none</td>\n",
       "      <td>0.0</td>\n",
       "      <td>0.000000</td>\n",
       "      <td>10.816667</td>\n",
       "    </tr>\n",
       "  </tbody>\n",
       "</table>\n",
       "</div>"
      ],
      "text/plain": [
       "  season  apparentTemperatureHigh  precipProbability precipType  uvIndex  \\\n",
       "0   fall                    18.74               0.00       none      3.0   \n",
       "1   fall                    21.26               0.70       rain      0.0   \n",
       "2   fall                    21.30               0.63       rain      0.0   \n",
       "3   fall                    25.41               0.62       rain      0.0   \n",
       "4   fall                    25.55               0.00       none      0.0   \n",
       "\n",
       "   precipIntensityMax_cm  sun_uptime  \n",
       "0               0.000000   11.050000  \n",
       "1               0.330708   10.983333  \n",
       "2               0.305562   10.933333  \n",
       "3               0.406146   10.866667  \n",
       "4               0.000000   10.816667  "
      ]
     },
     "execution_count": 17,
     "metadata": {},
     "output_type": "execute_result"
    }
   ],
   "source": [
    "X.head()"
   ]
  },
  {
   "cell_type": "markdown",
   "metadata": {},
   "source": [
    "### Numeric features: StandardScaler\n",
    "\n",
    "Standardize features by removing the mean and scaling to unit variance"
   ]
  },
  {
   "cell_type": "code",
   "execution_count": 18,
   "metadata": {},
   "outputs": [],
   "source": [
    "numeric_features = ['apparentTemperatureHigh', 'precipProbability', 'uvIndex', 'precipIntensityMax_cm', 'sun_uptime']\n",
    "numeric_transformer = Pipeline(steps=[\n",
    "    ('scaler', StandardScaler())])"
   ]
  },
  {
   "cell_type": "markdown",
   "metadata": {},
   "source": [
    "### Categorical features: OneHotEncoder\n",
    "\n",
    "Standardize features by removing the mean and scaling to unit variance"
   ]
  },
  {
   "cell_type": "code",
   "execution_count": 19,
   "metadata": {},
   "outputs": [],
   "source": [
    "categorical_features = ['season', 'precipType']\n",
    "categorical_transformer = Pipeline(steps=[\n",
    "    ('onehot', OneHotEncoder())])\n",
    "\n",
    "preprocessor = ColumnTransformer(\n",
    "    transformers=[\n",
    "        ('num', numeric_transformer, numeric_features),\n",
    "        ('cat', categorical_transformer, categorical_features)])"
   ]
  },
  {
   "cell_type": "markdown",
   "metadata": {},
   "source": [
    "### Model"
   ]
  },
  {
   "cell_type": "code",
   "execution_count": 20,
   "metadata": {},
   "outputs": [],
   "source": [
    "clf = Pipeline(steps=[('preprocessor', preprocessor),\n",
    "                      ('classifier', LinearRegression())])\n",
    "\n",
    "X_train, X_test, y_train, y_test = train_test_split(X, y, test_size=0.2, random_state=0)"
   ]
  },
  {
   "cell_type": "markdown",
   "metadata": {},
   "source": [
    "### Fit"
   ]
  },
  {
   "cell_type": "code",
   "execution_count": 21,
   "metadata": {},
   "outputs": [],
   "source": [
    "clf.fit(X_train, y_train);"
   ]
  },
  {
   "cell_type": "markdown",
   "metadata": {},
   "source": [
    "### Score (Full model, M0)\n"
   ]
  },
  {
   "cell_type": "code",
   "execution_count": 22,
   "metadata": {},
   "outputs": [],
   "source": [
    "def adjR2(R2, n, p):\n",
    "    \"\"\"\n",
    "    Returns the adjusted R2 score using R2 score, n, and p.\n",
    "    n: size of dataset\n",
    "    p: number of predictors\n",
    "    \"\"\"\n",
    "    return 1-(1-R2)*(n-1)/(n-p-1)"
   ]
  },
  {
   "cell_type": "code",
   "execution_count": 23,
   "metadata": {},
   "outputs": [
    {
     "name": "stdout",
     "output_type": "stream",
     "text": [
      "Train dataset -- R2 score: 0.77, adjusted R2: 0.77.\n",
      "Test dataset -- R2 score: 0.72, adjusted R2: 0.72.\n"
     ]
    }
   ],
   "source": [
    "y_test_predict = clf.predict(X_test)\n",
    "y_train_predict = clf.predict(X_train)\n",
    "\n",
    "M0_R2 = r2_score(y_test, y_test_predict)\n",
    "M0_R2_train = r2_score(y_train, y_train_predict)\n",
    "\n",
    "n = X_train.shape[0]\n",
    "p = 1\n",
    "M0_adj_R2 = adjR2(M0_R2, n, p)\n",
    "M0_adj_R2_train = adjR2(M0_R2_train, n, p)\n",
    "\n",
    "print(f\"Train dataset -- R2 score: {M0_R2_train:.2f}, adjusted R2: {M0_adj_R2_train:.2f}.\")\n",
    "print(f\"Test dataset -- R2 score: {M0_R2:.2f}, adjusted R2: {M0_adj_R2:.2f}.\")"
   ]
  },
  {
   "cell_type": "markdown",
   "metadata": {},
   "source": [
    "### Feature importance\n"
   ]
  },
  {
   "cell_type": "code",
   "execution_count": 24,
   "metadata": {},
   "outputs": [
    {
     "name": "stdout",
     "output_type": "stream",
     "text": [
      "Feature: 0, Score: 5.94872\n",
      "Feature: 1, Score: -3.94178\n",
      "Feature: 2, Score: 0.90374\n",
      "Feature: 3, Score: -1.73715\n",
      "Feature: 4, Score: 5.18637\n",
      "Feature: 5, Score: -2.65664\n",
      "Feature: 6, Score: 3.86144\n",
      "Feature: 7, Score: -3.12073\n",
      "Feature: 8, Score: 1.91593\n",
      "Feature: 9, Score: -0.37593\n",
      "Feature: 10, Score: -1.28071\n",
      "Feature: 11, Score: 1.65664\n"
     ]
    },
    {
     "data": {
      "application/vnd.jupyter.widget-view+json": {
       "model_id": "a3c50e87e3254fefbe33d81ead2cd09e",
       "version_major": 2,
       "version_minor": 0
      },
      "text/plain": [
       "Canvas(toolbar=Toolbar(toolitems=[('Home', 'Reset original view', 'home', 'home'), ('Back', 'Back to previous …"
      ]
     },
     "metadata": {},
     "output_type": "display_data"
    }
   ],
   "source": [
    "# get importance\n",
    "importance = clf['classifier'].coef_\n",
    "\n",
    "# get feature names\n",
    "onehot_columns = list(clf.named_steps['preprocessor'].named_transformers_['cat'].named_steps['onehot'].get_feature_names(input_features=categorical_features))\n",
    "numeric_features_list = list(numeric_features)\n",
    "numeric_features_list.extend(onehot_columns)\n",
    "\n",
    "\n",
    "\n",
    "# summarize feature importance\n",
    "for i,v in enumerate(importance):\n",
    "    print('Feature: %0d, Score: %.5f' % (i,v))\n",
    "\n",
    "# plot feature importance\n",
    "fig, ax = plt.subplots(figsize=(9,5))\n",
    "plt.bar([x for x in range(len(importance))], importance, align='center')\n",
    "plt.xticks(np.arange(0, len(importance)), numeric_features_list, rotation=90)\n",
    "plt.show()"
   ]
  },
  {
   "cell_type": "code",
   "execution_count": 25,
   "metadata": {},
   "outputs": [
    {
     "data": {
      "text/html": [
       "\n",
       "    <style>\n",
       "    table.eli5-weights tr:hover {\n",
       "        filter: brightness(85%);\n",
       "    }\n",
       "</style>\n",
       "\n",
       "\n",
       "\n",
       "    \n",
       "\n",
       "    \n",
       "\n",
       "    \n",
       "\n",
       "    \n",
       "\n",
       "    \n",
       "\n",
       "    \n",
       "\n",
       "\n",
       "    \n",
       "\n",
       "    \n",
       "\n",
       "    \n",
       "\n",
       "    \n",
       "        \n",
       "\n",
       "    \n",
       "\n",
       "        \n",
       "            \n",
       "                \n",
       "                \n",
       "    \n",
       "        <p style=\"margin-bottom: 0.5em; margin-top: 0em\">\n",
       "            <b>\n",
       "    \n",
       "        y\n",
       "    \n",
       "</b>\n",
       "\n",
       "top features\n",
       "        </p>\n",
       "    \n",
       "    <table class=\"eli5-weights\"\n",
       "           style=\"border-collapse: collapse; border: none; margin-top: 0em; table-layout: auto; margin-bottom: 2em;\">\n",
       "        <thead>\n",
       "        <tr style=\"border: none;\">\n",
       "            \n",
       "                <th style=\"padding: 0 1em 0 0.5em; text-align: right; border: none;\" title=\"Feature weights. Note that weights do not account for feature value scales, so if feature values have different scales, features with highest weights might not be the most important.\">\n",
       "                    Weight<sup>?</sup>\n",
       "                </th>\n",
       "            \n",
       "            <th style=\"padding: 0 0.5em 0 0.5em; text-align: left; border: none;\">Feature</th>\n",
       "            \n",
       "        </tr>\n",
       "        </thead>\n",
       "        <tbody>\n",
       "        \n",
       "            <tr style=\"background-color: hsl(120, 100.00%, 80.00%); border: none;\">\n",
       "    <td style=\"padding: 0 1em 0 0.5em; text-align: right; border: none;\">\n",
       "        +20.132\n",
       "    </td>\n",
       "    <td style=\"padding: 0 0.5em 0 0.5em; text-align: left; border: none;\">\n",
       "        &lt;BIAS&gt;\n",
       "    </td>\n",
       "    \n",
       "</tr>\n",
       "        \n",
       "            <tr style=\"background-color: hsl(120, 100.00%, 91.48%); border: none;\">\n",
       "    <td style=\"padding: 0 1em 0 0.5em; text-align: right; border: none;\">\n",
       "        +5.949\n",
       "    </td>\n",
       "    <td style=\"padding: 0 0.5em 0 0.5em; text-align: left; border: none;\">\n",
       "        apparentTemperatureHigh\n",
       "    </td>\n",
       "    \n",
       "</tr>\n",
       "        \n",
       "            <tr style=\"background-color: hsl(120, 100.00%, 92.26%); border: none;\">\n",
       "    <td style=\"padding: 0 1em 0 0.5em; text-align: right; border: none;\">\n",
       "        +5.186\n",
       "    </td>\n",
       "    <td style=\"padding: 0 0.5em 0 0.5em; text-align: left; border: none;\">\n",
       "        sun_uptime\n",
       "    </td>\n",
       "    \n",
       "</tr>\n",
       "        \n",
       "            <tr style=\"background-color: hsl(120, 100.00%, 93.70%); border: none;\">\n",
       "    <td style=\"padding: 0 1em 0 0.5em; text-align: right; border: none;\">\n",
       "        +3.861\n",
       "    </td>\n",
       "    <td style=\"padding: 0 0.5em 0 0.5em; text-align: left; border: none;\">\n",
       "        season_spring\n",
       "    </td>\n",
       "    \n",
       "</tr>\n",
       "        \n",
       "            <tr style=\"background-color: hsl(120, 100.00%, 96.15%); border: none;\">\n",
       "    <td style=\"padding: 0 1em 0 0.5em; text-align: right; border: none;\">\n",
       "        +1.916\n",
       "    </td>\n",
       "    <td style=\"padding: 0 0.5em 0 0.5em; text-align: left; border: none;\">\n",
       "        season_winter\n",
       "    </td>\n",
       "    \n",
       "</tr>\n",
       "        \n",
       "            <tr style=\"background-color: hsl(120, 100.00%, 96.52%); border: none;\">\n",
       "    <td style=\"padding: 0 1em 0 0.5em; text-align: right; border: none;\">\n",
       "        +1.657\n",
       "    </td>\n",
       "    <td style=\"padding: 0 0.5em 0 0.5em; text-align: left; border: none;\">\n",
       "        precipType_snow\n",
       "    </td>\n",
       "    \n",
       "</tr>\n",
       "        \n",
       "            <tr style=\"background-color: hsl(120, 100.00%, 97.72%); border: none;\">\n",
       "    <td style=\"padding: 0 1em 0 0.5em; text-align: right; border: none;\">\n",
       "        +0.904\n",
       "    </td>\n",
       "    <td style=\"padding: 0 0.5em 0 0.5em; text-align: left; border: none;\">\n",
       "        uvIndex\n",
       "    </td>\n",
       "    \n",
       "</tr>\n",
       "        \n",
       "        \n",
       "\n",
       "        \n",
       "        \n",
       "            <tr style=\"background-color: hsl(0, 100.00%, 98.77%); border: none;\">\n",
       "    <td style=\"padding: 0 1em 0 0.5em; text-align: right; border: none;\">\n",
       "        -0.376\n",
       "    </td>\n",
       "    <td style=\"padding: 0 0.5em 0 0.5em; text-align: left; border: none;\">\n",
       "        precipType_none\n",
       "    </td>\n",
       "    \n",
       "</tr>\n",
       "        \n",
       "            <tr style=\"background-color: hsl(0, 100.00%, 97.09%); border: none;\">\n",
       "    <td style=\"padding: 0 1em 0 0.5em; text-align: right; border: none;\">\n",
       "        -1.281\n",
       "    </td>\n",
       "    <td style=\"padding: 0 0.5em 0 0.5em; text-align: left; border: none;\">\n",
       "        precipType_rain\n",
       "    </td>\n",
       "    \n",
       "</tr>\n",
       "        \n",
       "            <tr style=\"background-color: hsl(0, 100.00%, 96.40%); border: none;\">\n",
       "    <td style=\"padding: 0 1em 0 0.5em; text-align: right; border: none;\">\n",
       "        -1.737\n",
       "    </td>\n",
       "    <td style=\"padding: 0 0.5em 0 0.5em; text-align: left; border: none;\">\n",
       "        precipIntensityMax_cm\n",
       "    </td>\n",
       "    \n",
       "</tr>\n",
       "        \n",
       "            <tr style=\"background-color: hsl(0, 100.00%, 95.15%); border: none;\">\n",
       "    <td style=\"padding: 0 1em 0 0.5em; text-align: right; border: none;\">\n",
       "        -2.657\n",
       "    </td>\n",
       "    <td style=\"padding: 0 0.5em 0 0.5em; text-align: left; border: none;\">\n",
       "        season_fall\n",
       "    </td>\n",
       "    \n",
       "</tr>\n",
       "        \n",
       "            <tr style=\"background-color: hsl(0, 100.00%, 94.58%); border: none;\">\n",
       "    <td style=\"padding: 0 1em 0 0.5em; text-align: right; border: none;\">\n",
       "        -3.121\n",
       "    </td>\n",
       "    <td style=\"padding: 0 0.5em 0 0.5em; text-align: left; border: none;\">\n",
       "        season_summer\n",
       "    </td>\n",
       "    \n",
       "</tr>\n",
       "        \n",
       "            <tr style=\"background-color: hsl(0, 100.00%, 93.61%); border: none;\">\n",
       "    <td style=\"padding: 0 1em 0 0.5em; text-align: right; border: none;\">\n",
       "        -3.942\n",
       "    </td>\n",
       "    <td style=\"padding: 0 0.5em 0 0.5em; text-align: left; border: none;\">\n",
       "        precipProbability\n",
       "    </td>\n",
       "    \n",
       "</tr>\n",
       "        \n",
       "\n",
       "        </tbody>\n",
       "    </table>\n",
       "\n",
       "            \n",
       "        \n",
       "\n",
       "        \n",
       "\n",
       "\n",
       "\n",
       "    \n",
       "\n",
       "    \n",
       "\n",
       "    \n",
       "\n",
       "    \n",
       "\n",
       "\n",
       "    \n",
       "\n",
       "    \n",
       "\n",
       "    \n",
       "\n",
       "    \n",
       "\n",
       "    \n",
       "\n",
       "    \n",
       "\n",
       "\n",
       "    \n",
       "\n",
       "    \n",
       "\n",
       "    \n",
       "\n",
       "    \n",
       "\n",
       "    \n",
       "\n",
       "    \n",
       "\n",
       "\n",
       "\n"
      ],
      "text/plain": [
       "Explanation(estimator='LinearRegression(copy_X=True, fit_intercept=True, n_jobs=None, normalize=False)', description=\"\\nFeatures with largest coefficients.\\nCaveats:\\n1. Be careful with features which are not\\n   independent - weights don't show their importance.\\n2. If scale of input features is different then scale of coefficients\\n   will also be different, making direct comparison between coefficient values\\n   incorrect.\\n3. Depending on regularization, rare features sometimes may have high\\n   coefficients; this doesn't mean they contribute much to the\\n   classification result for most examples.\\n\", error=None, method='linear model', is_regression=True, targets=[TargetExplanation(target='y', feature_weights=FeatureWeights(pos=[FeatureWeight(feature='<BIAS>', weight=20.131692932868418, std=None, value=None), FeatureWeight(feature='apparentTemperatureHigh', weight=5.948722282915199, std=None, value=None), FeatureWeight(feature='sun_uptime', weight=5.186369031174464, std=None, value=None), FeatureWeight(feature='season_spring', weight=3.861441494504959, std=None, value=None), FeatureWeight(feature='season_winter', weight=1.9159285604183003, std=None, value=None), FeatureWeight(feature='precipType_snow', weight=1.65663866220257, std=None, value=None), FeatureWeight(feature='uvIndex', weight=0.9037350658615192, std=None, value=None)], neg=[FeatureWeight(feature='precipProbability', weight=-3.9417814345826936, std=None, value=None), FeatureWeight(feature='season_summer', weight=-3.1207275626659055, std=None, value=None), FeatureWeight(feature='season_fall', weight=-2.656642492257354, std=None, value=None), FeatureWeight(feature='precipIntensityMax_cm', weight=-1.7371476542372564, std=None, value=None), FeatureWeight(feature='precipType_rain', weight=-1.2807098763037021, std=None, value=None), FeatureWeight(feature='precipType_none', weight=-0.37592878589886897, std=None, value=None)], pos_remaining=0, neg_remaining=0), proba=None, score=None, weighted_spans=None, heatmap=None)], feature_importances=None, decision_tree=None, highlight_spaces=None, transition_features=None, image=None)"
      ]
     },
     "execution_count": 25,
     "metadata": {},
     "output_type": "execute_result"
    }
   ],
   "source": [
    "eli5.explain_weights(clf.named_steps['classifier'], top=20, feature_names=numeric_features_list)"
   ]
  },
  {
   "cell_type": "markdown",
   "metadata": {},
   "source": [
    "We see that the temperature and sun uptime have high linear coefficients. For model selection, we will now use forward stepwise selection."
   ]
  },
  {
   "cell_type": "markdown",
   "metadata": {},
   "source": [
    "## Backward elimination\n",
    "\n",
    "Let's use the p-values to select parameters to stay in the model. For that we will use backward elimination.\n",
    "\n",
    "1. Select significance level to stay in the model. We use $\\alpha=0.05$.\n",
    "\n",
    "2. Fit full model with all predictors\n",
    "\n",
    "3. Consider predictor with highest p-value. If that p-value $> \\alpha$, go to step 4, otherwise end.\n",
    "\n",
    "4. Remove the predictor with the largest p-value.\n",
    "\n",
    "5. Fit model without this variable, back to step 3."
   ]
  },
  {
   "cell_type": "markdown",
   "metadata": {},
   "source": [
    "### Get the full model "
   ]
  },
  {
   "cell_type": "code",
   "execution_count": 26,
   "metadata": {},
   "outputs": [
    {
     "data": {
      "text/html": [
       "<div>\n",
       "<style scoped>\n",
       "    .dataframe tbody tr th:only-of-type {\n",
       "        vertical-align: middle;\n",
       "    }\n",
       "\n",
       "    .dataframe tbody tr th {\n",
       "        vertical-align: top;\n",
       "    }\n",
       "\n",
       "    .dataframe thead th {\n",
       "        text-align: right;\n",
       "    }\n",
       "</style>\n",
       "<table border=\"1\" class=\"dataframe\">\n",
       "  <thead>\n",
       "    <tr style=\"text-align: right;\">\n",
       "      <th></th>\n",
       "      <th>apparentTemperatureHigh</th>\n",
       "      <th>precipProbability</th>\n",
       "      <th>uvIndex</th>\n",
       "      <th>precipIntensityMax_cm</th>\n",
       "      <th>sun_uptime</th>\n",
       "      <th>season_fall</th>\n",
       "      <th>season_spring</th>\n",
       "      <th>season_summer</th>\n",
       "      <th>season_winter</th>\n",
       "      <th>precipType_none</th>\n",
       "      <th>precipType_rain</th>\n",
       "      <th>precipType_snow</th>\n",
       "    </tr>\n",
       "  </thead>\n",
       "  <tbody>\n",
       "    <tr>\n",
       "      <th>0</th>\n",
       "      <td>0.953787</td>\n",
       "      <td>-0.860363</td>\n",
       "      <td>-0.208535</td>\n",
       "      <td>-0.471901</td>\n",
       "      <td>-0.132779</td>\n",
       "      <td>1.0</td>\n",
       "      <td>0.0</td>\n",
       "      <td>0.0</td>\n",
       "      <td>0.0</td>\n",
       "      <td>0.0</td>\n",
       "      <td>1.0</td>\n",
       "      <td>0.0</td>\n",
       "    </tr>\n",
       "    <tr>\n",
       "      <th>1</th>\n",
       "      <td>0.874835</td>\n",
       "      <td>-1.013745</td>\n",
       "      <td>0.291007</td>\n",
       "      <td>-0.558235</td>\n",
       "      <td>0.315595</td>\n",
       "      <td>1.0</td>\n",
       "      <td>0.0</td>\n",
       "      <td>0.0</td>\n",
       "      <td>0.0</td>\n",
       "      <td>0.0</td>\n",
       "      <td>1.0</td>\n",
       "      <td>0.0</td>\n",
       "    </tr>\n",
       "    <tr>\n",
       "      <th>2</th>\n",
       "      <td>1.107047</td>\n",
       "      <td>-1.090436</td>\n",
       "      <td>0.291007</td>\n",
       "      <td>-0.577376</td>\n",
       "      <td>-0.289030</td>\n",
       "      <td>1.0</td>\n",
       "      <td>0.0</td>\n",
       "      <td>0.0</td>\n",
       "      <td>0.0</td>\n",
       "      <td>0.0</td>\n",
       "      <td>1.0</td>\n",
       "      <td>0.0</td>\n",
       "    </tr>\n",
       "    <tr>\n",
       "      <th>3</th>\n",
       "      <td>1.404278</td>\n",
       "      <td>-1.167127</td>\n",
       "      <td>-1.207619</td>\n",
       "      <td>-0.580430</td>\n",
       "      <td>0.974569</td>\n",
       "      <td>0.0</td>\n",
       "      <td>1.0</td>\n",
       "      <td>0.0</td>\n",
       "      <td>0.0</td>\n",
       "      <td>1.0</td>\n",
       "      <td>0.0</td>\n",
       "      <td>0.0</td>\n",
       "    </tr>\n",
       "    <tr>\n",
       "      <th>4</th>\n",
       "      <td>0.490525</td>\n",
       "      <td>1.133605</td>\n",
       "      <td>1.789633</td>\n",
       "      <td>-0.270419</td>\n",
       "      <td>1.232724</td>\n",
       "      <td>0.0</td>\n",
       "      <td>1.0</td>\n",
       "      <td>0.0</td>\n",
       "      <td>0.0</td>\n",
       "      <td>0.0</td>\n",
       "      <td>1.0</td>\n",
       "      <td>0.0</td>\n",
       "    </tr>\n",
       "  </tbody>\n",
       "</table>\n",
       "</div>"
      ],
      "text/plain": [
       "   apparentTemperatureHigh  precipProbability   uvIndex  \\\n",
       "0                 0.953787          -0.860363 -0.208535   \n",
       "1                 0.874835          -1.013745  0.291007   \n",
       "2                 1.107047          -1.090436  0.291007   \n",
       "3                 1.404278          -1.167127 -1.207619   \n",
       "4                 0.490525           1.133605  1.789633   \n",
       "\n",
       "   precipIntensityMax_cm  sun_uptime  season_fall  season_spring  \\\n",
       "0              -0.471901   -0.132779          1.0            0.0   \n",
       "1              -0.558235    0.315595          1.0            0.0   \n",
       "2              -0.577376   -0.289030          1.0            0.0   \n",
       "3              -0.580430    0.974569          0.0            1.0   \n",
       "4              -0.270419    1.232724          0.0            1.0   \n",
       "\n",
       "   season_summer  season_winter  precipType_none  precipType_rain  \\\n",
       "0            0.0            0.0              0.0              1.0   \n",
       "1            0.0            0.0              0.0              1.0   \n",
       "2            0.0            0.0              0.0              1.0   \n",
       "3            0.0            0.0              1.0              0.0   \n",
       "4            0.0            0.0              0.0              1.0   \n",
       "\n",
       "   precipType_snow  \n",
       "0              0.0  \n",
       "1              0.0  \n",
       "2              0.0  \n",
       "3              0.0  \n",
       "4              0.0  "
      ]
     },
     "execution_count": 26,
     "metadata": {},
     "output_type": "execute_result"
    }
   ],
   "source": [
    "pipe_preprocess = clf.named_steps['preprocessor']\n",
    "# transform the feature data using the training data\n",
    "X_train_transformed = pipe_preprocess.fit_transform(X_train)\n",
    "X_test_transformed = pipe_preprocess.fit_transform(X_test)\n",
    "# add back the column headers\n",
    "# get feature names\n",
    "onehot_columns = list(clf.named_steps['preprocessor'].named_transformers_['cat'].named_steps['onehot'].get_feature_names(input_features=categorical_features))\n",
    "numeric_features_list = list(numeric_features)\n",
    "numeric_features_list.extend(onehot_columns)\n",
    "X_train_transformed = pd.DataFrame(X_train_transformed, columns=numeric_features_list, dtype=np.float)\n",
    "X_test_transformed = pd.DataFrame(X_test_transformed, columns=numeric_features_list, dtype=np.float)\n",
    "X_train_transformed_full = X_train_transformed.copy()\n",
    "X_train_transformed.head()"
   ]
  },
  {
   "cell_type": "markdown",
   "metadata": {},
   "source": [
    "This is the full model, let's now implement the backward elimination procedure."
   ]
  },
  {
   "cell_type": "code",
   "execution_count": 27,
   "metadata": {},
   "outputs": [
    {
     "name": "stderr",
     "output_type": "stream",
     "text": [
      "/Users/hkromer/anaconda3/envs/solarAnalytics/lib/python3.7/site-packages/numpy/core/fromnumeric.py:2389: FutureWarning: Method .ptp is deprecated and will be removed in a future version. Use numpy.ptp instead.\n",
      "  return ptp(axis=axis, out=out, **kwargs)\n"
     ]
    },
    {
     "data": {
      "text/plain": [
       "const                      7.208224e-68\n",
       "apparentTemperatureHigh    1.173004e-19\n",
       "sun_uptime                 1.806670e-17\n",
       "precipProbability          5.241167e-14\n",
       "precipType_snow            7.337528e-10\n",
       "precipType_rain            2.881559e-09\n",
       "season_spring              6.159340e-09\n",
       "season_winter              3.840635e-05\n",
       "precipIntensityMax_cm      2.543960e-04\n",
       "precipType_none            2.696352e-04\n",
       "dtype: float64"
      ]
     },
     "execution_count": 27,
     "metadata": {},
     "output_type": "execute_result"
    }
   ],
   "source": [
    "import statsmodels.api as sm\n",
    "\n",
    "    \n",
    "alpha = 0.05 # significance level\n",
    "pvals_max = 10\n",
    "\n",
    "while pvals_max >= alpha:\n",
    "    #Adding constant column of ones, mandatory for sm.OLS model\n",
    "    X_train_1 = sm.add_constant(X_train_transformed)\n",
    "    #Fitting sm.OLS model\n",
    "    model = sm.OLS(y_train.values, X_train_1).fit()\n",
    "    pvals = model.pvalues.sort_values()\n",
    "    # largest pval is at the last position of the series\n",
    "    pvals_max = pvals.iloc[-1]\n",
    "    col_to_drop = pvals.index[-1]\n",
    "    X_train_transformed = X_train_transformed.drop(columns=[col_to_drop])\n",
    "\n",
    "pvals"
   ]
  },
  {
   "cell_type": "code",
   "execution_count": 28,
   "metadata": {},
   "outputs": [
    {
     "data": {
      "text/plain": [
       "['apparentTemperatureHigh',\n",
       " 'sun_uptime',\n",
       " 'precipProbability',\n",
       " 'precipType_snow',\n",
       " 'precipType_rain',\n",
       " 'season_spring',\n",
       " 'season_winter',\n",
       " 'precipIntensityMax_cm',\n",
       " 'precipType_none']"
      ]
     },
     "execution_count": 28,
     "metadata": {},
     "output_type": "execute_result"
    }
   ],
   "source": [
    "features = pvals.index.tolist()\n",
    "features = [f for f in features if f is not 'const']\n",
    "features"
   ]
  },
  {
   "cell_type": "markdown",
   "metadata": {},
   "source": [
    "Using backward elimination we found the features to be used in the model to be:\n",
    "\n",
    "`apparentTemperatureHigh`, <br>\n",
    "`sun_uptime`,<br>\n",
    "`precipProbability`,<br>\n",
    "`precipType_snow`,<br>\n",
    "`precipType_rain`,<br>\n",
    "`season_spring`,<br>\n",
    "`season_winter`,<br>\n",
    "`precipIntensityMax_cm`,<br>\n",
    "`precipType_none`"
   ]
  },
  {
   "cell_type": "markdown",
   "metadata": {},
   "source": [
    "Let's run the regression model with these features."
   ]
  },
  {
   "cell_type": "code",
   "execution_count": 29,
   "metadata": {},
   "outputs": [],
   "source": [
    "# drop the features we did not want to consider\n",
    "cols_to_drop = X_train_transformed_full.columns\n",
    "cols_to_drop = [c for c in cols_to_drop if c not in features]\n",
    "X_train_transformed_full = X_train_transformed_full.drop(columns=cols_to_drop)\n",
    "X_test_transformed = X_test_transformed.drop(columns=cols_to_drop)"
   ]
  },
  {
   "cell_type": "code",
   "execution_count": 30,
   "metadata": {},
   "outputs": [
    {
     "name": "stdout",
     "output_type": "stream",
     "text": [
      "Backward eliminated model:\n",
      "Train dataset -- R2 score: 0.77, adjusted R2: 0.76.\n",
      "Test dataset -- R2 score: 0.69, adjusted R2: 0.69.\n"
     ]
    }
   ],
   "source": [
    "# run model\n",
    "pipe_lm = clf.named_steps['classifier']\n",
    "pipe_lm.fit(X_train_transformed_full, y_train)\n",
    "\n",
    "y_test_predict = pipe_lm.predict(X_test_transformed)\n",
    "y_train_predict = pipe_lm.predict(X_train_transformed_full)\n",
    "\n",
    "M1_R2 = r2_score(y_test, y_test_predict)\n",
    "M1_R2_train = r2_score(y_train, y_train_predict)\n",
    "\n",
    "n = X_train.shape[0]\n",
    "p = 1\n",
    "M1_adj_R2 = adjR2(M1_R2, n, p)\n",
    "M1_adj_R2_train = adjR2(M1_R2_train, n, p)\n",
    "print(\"Backward eliminated model:\")\n",
    "print(f\"Train dataset -- R2 score: {M1_R2_train:.2f}, adjusted R2: {M1_adj_R2_train:.2f}.\")\n",
    "print(f\"Test dataset -- R2 score: {M1_R2:.2f}, adjusted R2: {M1_adj_R2:.2f}.\")"
   ]
  },
  {
   "cell_type": "code",
   "execution_count": 31,
   "metadata": {},
   "outputs": [
    {
     "name": "stdout",
     "output_type": "stream",
     "text": [
      "Full model:\n",
      "Train dataset -- R2 score: 0.77, adjusted R2: 0.77.\n",
      "Test dataset -- R2 score: 0.72, adjusted R2: 0.72.\n"
     ]
    }
   ],
   "source": [
    "print(\"Full model:\")\n",
    "print(f\"Train dataset -- R2 score: {M0_R2_train:.2f}, adjusted R2: {M0_adj_R2_train:.2f}.\")\n",
    "print(f\"Test dataset -- R2 score: {M0_R2:.2f}, adjusted R2: {M0_adj_R2:.2f}.\")"
   ]
  },
  {
   "cell_type": "markdown",
   "metadata": {},
   "source": [
    "We see that from the R2 score, our eliminated model performed worse compared to the full model."
   ]
  },
  {
   "cell_type": "markdown",
   "metadata": {},
   "source": [
    "## Forward stepwise selection\n",
    "\n",
    "The approach for forward stepwise selection is the following:\n",
    "\n",
    "1. Start with the null model, $M_0$ that contains no predictors.\n",
    "\n",
    "\n",
    "2. For $k = 1, ... p-1$:\n",
    "\n",
    "    a. Consider all $p-k$ models that augment the predictors in $M_k$ with one additional predictor\n",
    "    \n",
    "    b. Choose the best among these $p-k$ models, call it $M_{k+1}$. Best is defined as having the smallest RSS or highest R$^2$\n",
    "    \n",
    "    \n",
    "3. Select a single best model from among $M_0, ..., M_p$ using crossvalidated prediction error, $C_p$ (AIC), BIC, or adjusted R$^2$."
   ]
  },
  {
   "cell_type": "code",
   "execution_count": 56,
   "metadata": {},
   "outputs": [],
   "source": [
    "adjR2s = []\n",
    "CPs = []\n",
    "BICs = []\n",
    "features_good = []"
   ]
  },
  {
   "cell_type": "markdown",
   "metadata": {},
   "source": [
    "### Null model "
   ]
  },
  {
   "cell_type": "code",
   "execution_count": 57,
   "metadata": {},
   "outputs": [
    {
     "name": "stderr",
     "output_type": "stream",
     "text": [
      "/Users/hkromer/anaconda3/envs/solarAnalytics/lib/python3.7/site-packages/numpy/core/fromnumeric.py:2389: FutureWarning: Method .ptp is deprecated and will be removed in a future version. Use numpy.ptp instead.\n",
      "  return ptp(axis=axis, out=out, **kwargs)\n"
     ]
    }
   ],
   "source": [
    "#Fitting sm.OLS model\n",
    "X_train_tmp = sm.add_constant(X_train)['const']\n",
    "model = sm.OLS(y_train.values, X_train_tmp).fit()\n",
    "\n",
    "adjR2s.append(model.rsquared_adj)\n",
    "CPs.append(model.aic)\n",
    "BICs.append(model.bic)"
   ]
  },
  {
   "cell_type": "markdown",
   "metadata": {},
   "source": [
    "### Forward stepwise selection\n",
    "\n",
    "\n",
    "To implement the forward stepwise selection, we first preprocess all the features."
   ]
  },
  {
   "cell_type": "code",
   "execution_count": 58,
   "metadata": {},
   "outputs": [
    {
     "name": "stderr",
     "output_type": "stream",
     "text": [
      "/Users/hkromer/anaconda3/envs/solarAnalytics/lib/python3.7/site-packages/numpy/core/fromnumeric.py:2389: FutureWarning: Method .ptp is deprecated and will be removed in a future version. Use numpy.ptp instead.\n",
      "  return ptp(axis=axis, out=out, **kwargs)\n"
     ]
    }
   ],
   "source": [
    "pipe_preprocess = clf.named_steps['preprocessor']\n",
    "# transform the feature data using the training data\n",
    "X_train_tf = pipe_preprocess.fit_transform(X_train)\n",
    "X_test_tf = pipe_preprocess.fit_transform(X_test)\n",
    "# add back the column headers\n",
    "# get feature names\n",
    "onehot_columns = list(clf.named_steps['preprocessor'].named_transformers_['cat'].named_steps['onehot'].get_feature_names(input_features=categorical_features))\n",
    "numeric_features_list = list(numeric_features)\n",
    "numeric_features_list.extend(onehot_columns)\n",
    "X_train_tf = pd.DataFrame(X_train_tf, columns=numeric_features_list, dtype=np.float)\n",
    "X_test_tf = pd.DataFrame(X_test_tf, columns=numeric_features_list, dtype=np.float)\n",
    "\n",
    "# features that can be added to the model\n",
    "features = X_train_tf.columns\n",
    "\n",
    "while len(features) > 0:\n",
    "    r2 = pd.Series() # rsquared values in this iteration\n",
    "    for f in features:\n",
    "        features_select = features_good.copy()\n",
    "        features_select.append(f)\n",
    "        # features to select from the dataframe\n",
    "        X_tmp = sm.add_constant(X_train_tf[features_select])\n",
    "        model = sm.OLS(y_train.values, X_tmp).fit()\n",
    "        # check if that r2 is higher\n",
    "        r2[f] = model.rsquared\n",
    "\n",
    "    # feature with maximum r2 gets added to the selected feature list\n",
    "    f = r2.sort_values().index[-1]\n",
    "    features_good.append(f)\n",
    "    # remove the feature from the features for the next iteration\n",
    "    features = features.drop(f)\n",
    "    \n",
    "    # compute metrics from these models\n",
    "    X_tmp = sm.add_constant(X_train_tf[features_good])\n",
    "    model = sm.OLS(y_train.values, X_tmp).fit()\n",
    "    adjR2s.append(model.rsquared_adj)\n",
    "    CPs.append(model.aic)\n",
    "    BICs.append(model.bic)\n",
    "    \n",
    "adjR2s = np.asarray(adjR2s)\n",
    "CPs = np.asarray(CPs)\n",
    "BICs = np.asarray(BICs)\n"
   ]
  },
  {
   "cell_type": "code",
   "execution_count": 72,
   "metadata": {},
   "outputs": [
    {
     "data": {
      "application/vnd.jupyter.widget-view+json": {
       "model_id": "bd3e6c53d42e4b3e90fd1d6c032c4a45",
       "version_major": 2,
       "version_minor": 0
      },
      "text/plain": [
       "Canvas(toolbar=Toolbar(toolitems=[('Home', 'Reset original view', 'home', 'home'), ('Back', 'Back to previous …"
      ]
     },
     "metadata": {},
     "output_type": "display_data"
    }
   ],
   "source": [
    "%matplotlib widget\n",
    "\n",
    "fig, axs = plt.subplots(2, 2, sharex=True)\n",
    "\n",
    "axs[0][0].plot(np.arange(len(adjR2s)), adjR2s, marker='o', color='blue', alpha=0.4)\n",
    "axs[0][0].set_xlabel('Model')\n",
    "axs[0][0].set_ylabel('adjusted R2 Score')\n",
    "adjR2_best = np.argmax(adjR2s)\n",
    "axs[0][0].scatter([adjR2_best], [np.max(adjR2s)], marker='+', s=100, color='black')\n",
    "\n",
    "axs[0][1].plot(np.arange(len(CPs)), CPs, marker='o', color='red', alpha=0.4)\n",
    "axs[0][1].set_xlabel('Model')\n",
    "axs[0][1].set_ylabel('AIC Score')\n",
    "CPs_best = np.argmin(CPs)\n",
    "axs[0][1].scatter([CPs_best], [np.min(CPs)], marker='+', s=100, color='black')\n",
    "\n",
    "\n",
    "axs[1][0].plot(np.arange(len(BICs)), BICs, marker='o', color='orange', alpha=0.4)\n",
    "axs[1][0].set_xlabel('Model')\n",
    "axs[1][0].set_ylabel('BIC Score')\n",
    "BIC_best = np.argmin(BICs)\n",
    "axs[1][0].scatter([idx_min], [np.min(BICs)], marker='+', s=100, color='black')\n",
    "\n",
    "plt.tight_layout()\n",
    "plt.show()"
   ]
  },
  {
   "cell_type": "code",
   "execution_count": 74,
   "metadata": {},
   "outputs": [
    {
     "data": {
      "text/plain": [
       "(8, 8, 6)"
      ]
     },
     "execution_count": 74,
     "metadata": {},
     "output_type": "execute_result"
    }
   ],
   "source": [
    "adjR2_best, CPs_best, BIC_best"
   ]
  },
  {
   "cell_type": "markdown",
   "metadata": {},
   "source": [
    "On the training data set, the model with 9 or 7 features (index in the list starts at 0) performs best, let's see how that performs on the test dataset."
   ]
  },
  {
   "cell_type": "code",
   "execution_count": 75,
   "metadata": {},
   "outputs": [
    {
     "data": {
      "text/plain": [
       "['sun_uptime',\n",
       " 'precipProbability',\n",
       " 'apparentTemperatureHigh',\n",
       " 'season_spring',\n",
       " 'season_winter',\n",
       " 'precipIntensityMax_cm',\n",
       " 'precipType_snow',\n",
       " 'uvIndex',\n",
       " 'precipType_rain',\n",
       " 'season_summer',\n",
       " 'precipType_none',\n",
       " 'season_fall']"
      ]
     },
     "execution_count": 75,
     "metadata": {},
     "output_type": "execute_result"
    }
   ],
   "source": [
    "features_good"
   ]
  },
  {
   "cell_type": "markdown",
   "metadata": {},
   "source": [
    "### Pandas dummies approach"
   ]
  },
  {
   "cell_type": "code",
   "execution_count": 23,
   "metadata": {},
   "outputs": [
    {
     "name": "stdout",
     "output_type": "stream",
     "text": [
      "Test dataset -- R2 score: 0.72, adjusted R2: 0.72.\n",
      "Feature: 0, Score: 5.94872\n",
      "Feature: 1, Score: -3.94178\n",
      "Feature: 2, Score: 0.90374\n",
      "Feature: 3, Score: -1.73715\n",
      "Feature: 4, Score: 5.18637\n",
      "Feature: 5, Score: -1.48863\n",
      "Feature: 6, Score: 1.45855\n",
      "Feature: 7, Score: -1.06796\n",
      "Feature: 8, Score: 0.54459\n",
      "Feature: 9, Score: -0.03201\n",
      "Feature: 10, Score: -0.40908\n",
      "Feature: 11, Score: 0.58222\n"
     ]
    },
    {
     "data": {
      "image/png": "[encoded data removed]",
      "text/plain": [
       "<Figure size 648x360 with 1 Axes>"
      ]
     },
     "metadata": {
      "needs_background": "light"
     },
     "output_type": "display_data"
    }
   ],
   "source": [
    "# X = df_cleaned.iloc[:, 1:].values\n",
    "X = df_cleaned.iloc[:, 1:]\n",
    "X = X.reset_index(drop=True)\n",
    "# y = df_cleaned.iloc[:, 0].values\n",
    "y = df_cleaned.iloc[:, 0]\n",
    "y = y.reset_index(drop=True)\n",
    "\n",
    "X_season = pd.get_dummies(X['season'])\n",
    "X = X.drop(columns=['season'])\n",
    "X_precip = pd.get_dummies(X['precipType'])\n",
    "X = X.drop(columns=['precipType'])\n",
    "\n",
    "X = pd.merge(X, X_season, left_on=X.index, right_on=X_season.index)\n",
    "X = X.drop(columns=['key_0'])\n",
    "\n",
    "X = pd.merge(X, X_precip, left_on=X.index, right_on=X_precip.index)\n",
    "X = X.drop(columns=['key_0'])\n",
    "\n",
    "numeric_features = X.columns\n",
    "numeric_transformer = Pipeline(steps=[\n",
    "    ('scaler', StandardScaler())])\n",
    "\n",
    "\n",
    "preprocessor = ColumnTransformer(\n",
    "    transformers=[\n",
    "        ('num', numeric_transformer, numeric_features)\n",
    "        ])\n",
    "\n",
    "clf = Pipeline(steps=[('preprocessor', preprocessor),\n",
    "                      ('classifier', LinearRegression())])\n",
    "\n",
    "X_train, X_test, y_train, y_test = train_test_split(X, y, test_size=0.2, random_state=0)\n",
    "\n",
    "clf.fit(X_train, y_train);\n",
    "\n",
    "y_test_predict = clf.predict(X_test)\n",
    "R2_fm = r2_score(y_test, y_test_predict)\n",
    "\n",
    "n = X_train.shape[0]\n",
    "p = 1\n",
    "adj_R2_fm = 1-(1-R2_fm)*(n-1)/(n-p-1)\n",
    "print(f\"Test dataset -- R2 score: {R2_fm:.2f}, adjusted R2: {adj_R2_fm:.2f}.\")\n",
    "\n",
    "\n",
    "# get importance\n",
    "importance_dummies = clf['classifier'].coef_\n",
    "\n",
    "# get feature names\n",
    "numeric_features_list_dummies = X.columns\n",
    "\n",
    "\n",
    "\n",
    "# summarize feature importance\n",
    "for i,v in enumerate(importance_dummies):\n",
    "    print('Feature: %0d, Score: %.5f' % (i,v))\n",
    "\n",
    "# plot feature importance\n",
    "fig, ax = plt.subplots(figsize=(9,5))\n",
    "p = plt.bar([x for x in range(len(importance_dummies))], importance_dummies, align='center')\n",
    "plt.xticks(np.arange(0, len(importance_dummies)), numeric_features_list_dummies, rotation=90)\n",
    "plt.show()"
   ]
  },
  {
   "cell_type": "code",
   "execution_count": 24,
   "metadata": {},
   "outputs": [
    {
     "data": {
      "image/png": "[encoded data removed]",
      "text/plain": [
       "<Figure size 648x360 with 1 Axes>"
      ]
     },
     "metadata": {
      "needs_background": "light"
     },
     "output_type": "display_data"
    }
   ],
   "source": [
    "# plot feature importance\n",
    "fig, ax = plt.subplots(figsize=(9,5))\n",
    "p = plt.bar([x for x in range(len(importance_dummies))], importance_dummies, align='center')\n",
    "plt.xticks(np.arange(0, len(importance_dummies)), numeric_features_list_dummies, rotation=90)\n",
    "plt.show()"
   ]
  },
  {
   "cell_type": "code",
   "execution_count": 25,
   "metadata": {},
   "outputs": [
    {
     "data": {
      "image/png": "[encoded data removed]",
      "text/plain": [
       "<Figure size 648x360 with 1 Axes>"
      ]
     },
     "metadata": {
      "needs_background": "light"
     },
     "output_type": "display_data"
    }
   ],
   "source": [
    "# plot feature importance\n",
    "fig, ax = plt.subplots(figsize=(9,5))\n",
    "plt.bar([x for x in range(len(importance))], importance, align='center', color='darkred')\n",
    "plt.xticks(np.arange(0, len(importance)), numeric_features_list, rotation=90)\n",
    "plt.show()"
   ]
  },
  {
   "cell_type": "code",
   "execution_count": null,
   "metadata": {},
   "outputs": [],
   "source": []
  },
  {
   "cell_type": "code",
   "execution_count": null,
   "metadata": {},
   "outputs": [],
   "source": []
  },
  {
   "cell_type": "code",
   "execution_count": null,
   "metadata": {},
   "outputs": [],
   "source": []
  },
  {
   "cell_type": "code",
   "execution_count": null,
   "metadata": {},
   "outputs": [],
   "source": []
  },
  {
   "cell_type": "code",
   "execution_count": null,
   "metadata": {},
   "outputs": [],
   "source": []
  },
  {
   "cell_type": "code",
   "execution_count": null,
   "metadata": {},
   "outputs": [],
   "source": []
  },
  {
   "cell_type": "code",
   "execution_count": null,
   "metadata": {},
   "outputs": [],
   "source": []
  }
 ],
 "metadata": {
  "kernelspec": {
   "display_name": "Python 3",
   "language": "python",
   "name": "python3"
  },
  "language_info": {
   "codemirror_mode": {
    "name": "ipython",
    "version": 3
   },
   "file_extension": ".py",
   "mimetype": "text/x-python",
   "name": "python",
   "nbconvert_exporter": "python",
   "pygments_lexer": "ipython3",
   "version": "3.7.3"
  }
 },
 "nbformat": 4,
 "nbformat_minor": 4
}
