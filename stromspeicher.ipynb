{
 "cells": [
  {
   "cell_type": "code",
   "execution_count": 1,
   "metadata": {},
   "outputs": [],
   "source": [
    "import numpy as np\n",
    "import matplotlib.pyplot as plt"
   ]
  },
  {
   "cell_type": "code",
   "execution_count": 23,
   "metadata": {},
   "outputs": [],
   "source": [
    "# Produktion Solarstrom in 2018\n",
    "P_prod = 9160   # kWh\n",
    "# Bezug Strom aus Stromnetz\n",
    "P_netzbezug = 2726   # kWh\n",
    "# Eigenverbrauch von Solarstrom\n",
    "P_eigenverbrauch = 2060   # kWh\n",
    "# Eingespeist ins Stromnetz 2018\n",
    "P_eingespeist = 7100   # kWh\n",
    "\n",
    "\n",
    "\n",
    "# Einspeiseverguetung 2018\n",
    "einspeise = 0.12   # euro pro kWh\n",
    "# Strompreis 2018\n",
    "strompreis = 0.32   # euro pro kWh"
   ]
  },
  {
   "cell_type": "markdown",
   "metadata": {},
   "source": [
    "Annahme 2019 mit einem Stromspeicher der Eigenverbrauch auf 80% hebt"
   ]
  },
  {
   "cell_type": "code",
   "execution_count": 24,
   "metadata": {},
   "outputs": [
    {
     "data": {
      "text/plain": [
       "697.176"
      ]
     },
     "execution_count": 24,
     "metadata": {},
     "output_type": "execute_result"
    }
   ],
   "source": [
    "P_verbrauch = P_netzbezug + P_eigenverbrauch\n",
    "# Annahme: 80 % Eigenverbrauch mit Speicher moeglich\n",
    "\n",
    "P_eigenverbrauch = 0.7 * P_verbrauch\n",
    "P_netzbezug = 0.3 * P_verbrauch\n",
    "\n",
    "# Annahme gleicher Strompreis und Produktion\n",
    "Einnahmen = (P_prod-P_eigenverbrauch) * einspeise\n",
    "Einnahmen"
   ]
  },
  {
   "cell_type": "code",
   "execution_count": 25,
   "metadata": {},
   "outputs": [
    {
     "data": {
      "text/plain": [
       "459.456"
      ]
     },
     "execution_count": 25,
     "metadata": {},
     "output_type": "execute_result"
    }
   ],
   "source": [
    "Ausgaben = strompreis * P_netzbezug\n",
    "Ausgaben"
   ]
  },
  {
   "cell_type": "code",
   "execution_count": 26,
   "metadata": {},
   "outputs": [
    {
     "data": {
      "text/plain": [
       "237.72000000000003"
      ]
     },
     "execution_count": 26,
     "metadata": {},
     "output_type": "execute_result"
    }
   ],
   "source": [
    "Bilanz = Einnahmen - Ausgaben\n",
    "Bilanz"
   ]
  },
  {
   "cell_type": "code",
   "execution_count": null,
   "metadata": {},
   "outputs": [],
   "source": []
  }
 ],
 "metadata": {
  "kernelspec": {
   "display_name": "Python 3",
   "language": "python",
   "name": "python3"
  },
  "language_info": {
   "codemirror_mode": {
    "name": "ipython",
    "version": 3
   },
   "file_extension": ".py",
   "mimetype": "text/x-python",
   "name": "python",
   "nbconvert_exporter": "python",
   "pygments_lexer": "ipython3",
   "version": "3.7.2"
  }
 },
 "nbformat": 4,
 "nbformat_minor": 2
}
