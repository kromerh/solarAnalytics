{
 "cells": [
  {
   "cell_type": "markdown",
   "metadata": {},
   "source": [
    "# Investigation of different modules"
   ]
  },
  {
   "cell_type": "markdown",
   "metadata": {},
   "source": [
    "## Import statements"
   ]
  },
  {
   "cell_type": "code",
   "execution_count": 3,
   "metadata": {},
   "outputs": [],
   "source": [
    "import pandas as pd\n",
    "import numpy as np\n",
    "import datetime\n",
    "import os\n",
    "import re\n",
    "import matplotlib.pyplot as plt"
   ]
  },
  {
   "cell_type": "markdown",
   "metadata": {},
   "source": [
    "## Loading data and folder settings"
   ]
  },
  {
   "cell_type": "code",
   "execution_count": 5,
   "metadata": {},
   "outputs": [],
   "source": [
    "folder_data = '/Users/hkromer/01_Projects/10.SolarAnlage/01.Analytics/Moduldaten/'\n",
    "\n",
    "# output dataframe\n",
    "# current time for the year month day\n",
    "currentDT = datetime.datetime.now()\n",
    "directory = f'{folder_data}/cleaned_data'\n",
    "if not os.path.exists(directory):\n",
    "    os.makedirs(directory)\n",
    "filename_df_out = f'{directory}/{currentDT.year}-{currentDT.month}-{currentDT.day}_solarData.csv'"
   ]
  },
  {
   "cell_type": "markdown",
   "metadata": {},
   "source": [
    "## Import data and combine into one dataframe"
   ]
  },
  {
   "cell_type": "code",
   "execution_count": 10,
   "metadata": {},
   "outputs": [
    {
     "name": "stdout",
     "output_type": "stream",
     "text": [
      "         Time   1.1.1   1.1.2   1.1.3   1.1.4   1.1.5   1.1.6   1.1.7   1.1.8  \\\n",
      "0  01.02.2018  505.25  245.50  476.50  476.00  484.25  470.50  480.00  480.50   \n",
      "1  02.02.2018  283.00  208.50  258.25  250.00  240.50  217.75  238.75  248.00   \n",
      "2  03.02.2018  236.00  183.75  213.25  211.25  216.25  199.00  217.25  217.75   \n",
      "3  04.02.2018  692.75  217.00  646.75  643.50  533.25  340.50  600.25  633.75   \n",
      "4  05.02.2018  612.25  301.25  578.50  572.75  555.25  486.00  547.00  569.75   \n",
      "\n",
      "    1.1.9  ...  1.1.27  1.1.28  1.1.29  1.1.30  1.1.31  1.1.32  1.1.33  \\\n",
      "0  481.00  ...  293.50  254.50  287.50  286.25  306.50  303.50  302.50   \n",
      "1  261.50  ...  250.25  197.00  231.75  236.50  219.75  214.50  209.00   \n",
      "2  219.00  ...  188.25  154.50  183.25  183.25  191.75  189.00  186.00   \n",
      "3  647.75  ...  544.25  514.00  482.00  472.75  334.25  339.75  333.50   \n",
      "4  581.25  ...  391.25  345.25  356.50  357.25  332.25  331.75  326.75   \n",
      "\n",
      "   1.1.34  1.1.35  1.1.36  \n",
      "0  306.00  322.25   311.5  \n",
      "1  214.75  227.75   215.5  \n",
      "2  190.75  204.00   195.5  \n",
      "3  326.50  330.25   329.5  \n",
      "4  331.25  349.50   339.0  \n",
      "\n",
      "[5 rows x 37 columns]\n"
     ]
    }
   ],
   "source": [
    "# list of files\n",
    "files = os.listdir(folder_data)\n",
    "files = [f for f in files if f.endswith('.csv')]\n",
    "\n",
    "df = pd.DataFrame()\n",
    "for file in files:\n",
    "\tdf_t = pd.read_csv('{}/{}'.format(folder_data,file))\n",
    "\tdf = df.append(df_t)\n",
    "\n",
    "# change columns to only contain identifier\n",
    "cols = df.columns\n",
    "\n",
    "id_cols = [re.findall(r'(1.1.\\d+) E',c)[0] for c in cols[1:]]\n",
    "\n",
    "my_cols = [cols[0]]\n",
    "\n",
    "[my_cols.append(i) for i in id_cols]\n",
    "\n",
    "df.columns = my_cols\n",
    "\n",
    "print(df.head())\n",
    "# df.to_csv(f'{filename_df_out}')"
   ]
  },
  {
   "cell_type": "markdown",
   "metadata": {},
   "source": [
    "## Change the index to time series"
   ]
  },
  {
   "cell_type": "code",
   "execution_count": 17,
   "metadata": {},
   "outputs": [
    {
     "name": "stdout",
     "output_type": "stream",
     "text": [
      "<class 'pandas.core.frame.DataFrame'>\n",
      "DatetimeIndex: 500 entries, 2017-10-12 to 2019-02-16\n",
      "Data columns (total 36 columns):\n",
      "1.1.1     499 non-null float64\n",
      "1.1.2     497 non-null float64\n",
      "1.1.3     499 non-null float64\n",
      "1.1.4     500 non-null float64\n",
      "1.1.5     499 non-null float64\n",
      "1.1.6     499 non-null float64\n",
      "1.1.7     499 non-null float64\n",
      "1.1.8     499 non-null float64\n",
      "1.1.9     499 non-null float64\n",
      "1.1.10    500 non-null float64\n",
      "1.1.11    500 non-null float64\n",
      "1.1.12    500 non-null float64\n",
      "1.1.13    499 non-null float64\n",
      "1.1.14    494 non-null float64\n",
      "1.1.15    496 non-null float64\n",
      "1.1.16    499 non-null float64\n",
      "1.1.17    499 non-null float64\n",
      "1.1.18    498 non-null float64\n",
      "1.1.19    499 non-null float64\n",
      "1.1.20    500 non-null float64\n",
      "1.1.21    494 non-null float64\n",
      "1.1.22    499 non-null float64\n",
      "1.1.23    500 non-null float64\n",
      "1.1.24    500 non-null float64\n",
      "1.1.25    500 non-null float64\n",
      "1.1.26    499 non-null float64\n",
      "1.1.27    500 non-null float64\n",
      "1.1.28    499 non-null float64\n",
      "1.1.29    500 non-null float64\n",
      "1.1.30    500 non-null float64\n",
      "1.1.31    495 non-null float64\n",
      "1.1.32    495 non-null float64\n",
      "1.1.33    495 non-null float64\n",
      "1.1.34    495 non-null float64\n",
      "1.1.35    496 non-null float64\n",
      "1.1.36    495 non-null float64\n",
      "dtypes: float64(36)\n",
      "memory usage: 144.5 KB\n",
      "None\n",
      "              1.1.1   1.1.2    1.1.3    1.1.4    1.1.5    1.1.6    1.1.7  \\\n",
      "Time                                                                       \n",
      "2017-10-12   208.00  137.25   203.75   204.75   207.00   203.75   205.00   \n",
      "2017-10-13  1428.00  442.25  1400.50  1410.50  1396.50  1022.75  1336.25   \n",
      "2017-10-14  1386.50  417.50  1361.00  1368.25  1356.50   987.50  1293.25   \n",
      "2017-10-15  1377.75  417.25  1355.50  1362.00  1347.25   992.75  1280.75   \n",
      "2017-10-16  1326.25  389.25  1302.50  1310.00  1295.50   956.00  1227.75   \n",
      "\n",
      "              1.1.8    1.1.9   1.1.10  ...  1.1.27  1.1.28  1.1.29  1.1.30  \\\n",
      "Time                                   ...                                   \n",
      "2017-10-12   204.50   204.25   202.75  ...  108.25  105.25  105.00  104.75   \n",
      "2017-10-13  1399.50  1399.25  1423.00  ...  709.00  691.75  603.25  581.50   \n",
      "2017-10-14  1358.00  1358.25  1378.25  ...  693.00  680.25  591.50  574.25   \n",
      "2017-10-15  1348.25  1348.75  1373.00  ...  666.25  665.00  587.25  564.00   \n",
      "2017-10-16  1296.25  1298.50  1310.50  ...  657.75  666.50  583.00  558.75   \n",
      "\n",
      "            1.1.31  1.1.32  1.1.33  1.1.34  1.1.35  1.1.36  \n",
      "Time                                                        \n",
      "2017-10-12  125.25  124.00  123.75  123.75  126.50  126.25  \n",
      "2017-10-13  482.75  488.00  474.50  467.00  490.00  526.50  \n",
      "2017-10-14  463.75  475.00  465.75  454.00  472.50  506.50  \n",
      "2017-10-15  451.00  471.00  462.25  445.50  460.50  498.50  \n",
      "2017-10-16  439.25  462.25  456.75  436.50  449.25  474.50  \n",
      "\n",
      "[5 rows x 36 columns]\n"
     ]
    }
   ],
   "source": [
    "# Prepare a format string: time_format\n",
    "time_format = '%d.%m.%Y'\n",
    "\n",
    "# Convert date_list into a datetime object: my_datetimes\n",
    "df['Time'] = pd.to_datetime(df['Time'], format=time_format)  \n",
    "df = df.set_index('Time').sort_index()\n",
    "print(df.info())\n",
    "print(df.head())"
   ]
  },
  {
   "cell_type": "markdown",
   "metadata": {},
   "source": [
    "## Relate modules to position - Auslegung\n",
    "from monitoring"
   ]
  },
  {
   "cell_type": "code",
   "execution_count": 36,
   "metadata": {},
   "outputs": [
    {
     "name": "stdout",
     "output_type": "stream",
     "text": [
      "              1.1.1   1.1.16    1.1.3    1.1.4    1.1.5   1.1.10    1.1.9  \\\n",
      "Time                                                                        \n",
      "2017-10-12   208.00   205.50   203.75   204.75   207.00   202.75   204.25   \n",
      "2017-10-13  1428.00  1420.50  1400.50  1410.50  1396.50  1423.00  1399.25   \n",
      "2017-10-14  1386.50  1375.75  1361.00  1368.25  1356.50  1378.25  1358.25   \n",
      "2017-10-15  1377.75  1372.00  1355.50  1362.00  1347.25  1373.00  1348.75   \n",
      "2017-10-16  1326.25  1319.50  1302.50  1310.00  1295.50  1310.50  1298.50   \n",
      "\n",
      "              1.1.8    1.1.7    1.1.6   1.1.11  1.1.12   1.1.13  1.1.14  \n",
      "Time                                                                     \n",
      "2017-10-12   204.50   205.00   203.75   207.25   201.5   207.25   202.5  \n",
      "2017-10-13  1399.50  1336.25  1022.75  1429.50  1404.0  1398.25  1284.0  \n",
      "2017-10-14  1358.00  1293.25   987.50  1388.00  1363.0  1359.25  1242.5  \n",
      "2017-10-15  1348.25  1280.75   992.75  1375.75  1360.0  1351.50  1239.5  \n",
      "2017-10-16  1296.25  1227.75   956.00  1321.75  1310.0  1298.75  1183.5  \n"
     ]
    }
   ],
   "source": [
    "module_position = {'Südwesten': [f'1.1.{s}' for s in [1, 16, 3,4,5,10,9,8,7,6,11,12,13,14]],\n",
    "                  'Westen': [f'1.1.{s}' for s in [15,2,18,17,19,20]],\n",
    "                  'Südost_oben': [f'1.1.{s}' for s in [28,27,26,25,24,23,22,21,29,30]],\n",
    "                  'Südost_unten': [f'1.1.{s}' for s in [31,32,33,34,35,36]]}\n",
    "\n",
    "print(df.loc[:,module_position['Südwesten']].head())"
   ]
  },
  {
   "cell_type": "markdown",
   "metadata": {},
   "source": [
    "# Plot Monthly aggregated energy per module position\n",
    "\n",
    "- First resample to monthly data, aggregate by sum.\n",
    "\n",
    "- Change the datetimeindex format to the long name for the month.\n",
    "\n",
    "- Create a new dataframe with the aggregated data"
   ]
  },
  {
   "cell_type": "code",
   "execution_count": 59,
   "metadata": {},
   "outputs": [
    {
     "name": "stdout",
     "output_type": "stream",
     "text": [
      "October      229564.75\n",
      "November     149750.25\n",
      "December     116781.50\n",
      "January      130969.75\n",
      "February     239422.00\n",
      "March        334862.50\n",
      "April        513220.50\n",
      "May          486430.00\n",
      "June         523340.25\n",
      "July         594672.00\n",
      "August       526507.50\n",
      "September    492995.50\n",
      "October      361423.00\n",
      "November     208056.50\n",
      "December     138444.00\n",
      "January      115137.75\n",
      "February     161246.25\n",
      "dtype: float64\n",
      "October       34555.25\n",
      "November      24487.50\n",
      "December      15512.75\n",
      "January       24434.00\n",
      "February      40355.75\n",
      "March         80843.75\n",
      "April        132034.50\n",
      "May          161411.50\n",
      "June         179793.75\n",
      "July         193208.00\n",
      "August       143939.50\n",
      "September    103205.75\n",
      "October       62221.75\n",
      "November      27919.00\n",
      "December      18976.50\n",
      "January       16147.00\n",
      "February      19492.25\n",
      "dtype: float64\n",
      "October       95638.50\n",
      "November      71285.75\n",
      "December      53566.75\n",
      "January       65721.75\n",
      "February     121047.00\n",
      "March        195936.00\n",
      "April        318257.75\n",
      "May          311672.50\n",
      "June         370997.00\n",
      "July         388942.75\n",
      "August       313442.75\n",
      "September    243375.75\n",
      "October      151280.50\n",
      "November      90086.25\n",
      "December      65348.75\n",
      "January       55905.50\n",
      "February      76805.75\n",
      "dtype: float64\n",
      "October       42790.00\n",
      "November      33929.25\n",
      "December      20413.00\n",
      "January       33710.50\n",
      "February      60255.00\n",
      "March        110139.50\n",
      "April        173053.25\n",
      "May          177330.25\n",
      "June         212133.25\n",
      "July         217051.00\n",
      "August       166643.00\n",
      "September    124470.00\n",
      "October       71499.50\n",
      "November      39993.25\n",
      "December      30116.50\n",
      "January       24042.75\n",
      "February      35232.50\n",
      "dtype: float64\n"
     ]
    }
   ],
   "source": [
    "# First resample to monthly data, aggregate by sum.\n",
    "df_monthly = df.resample('M').sum()\n",
    "\n",
    "# Change the datetimeindex format to the long name for the month.\n",
    "df_monthly = df_monthly.set_index(df_monthly.index.strftime('%B'))\n",
    "\n",
    "# print(df_monthly.loc[:, module_position['Südwesten']].sum(axis='columns'))\n",
    "# print(df_monthly.head())\n",
    "\n",
    "# Create a new dataframe with the aggregated data\n",
    "for pos in module_position:\n",
    "    g = df_monthly.loc[:, module_position[pos]].sum(axis='columns')\n",
    "    _ = ax."
   ]
  },
  {
   "cell_type": "code",
   "execution_count": null,
   "metadata": {},
   "outputs": [],
   "source": []
  },
  {
   "cell_type": "code",
   "execution_count": null,
   "metadata": {},
   "outputs": [],
   "source": []
  }
 ],
 "metadata": {
  "kernelspec": {
   "display_name": "Python 3",
   "language": "python",
   "name": "python3"
  },
  "language_info": {
   "codemirror_mode": {
    "name": "ipython",
    "version": 3
   },
   "file_extension": ".py",
   "mimetype": "text/x-python",
   "name": "python",
   "nbconvert_exporter": "python",
   "pygments_lexer": "ipython3",
   "version": "3.7.1"
  }
 },
 "nbformat": 4,
 "nbformat_minor": 2
}
