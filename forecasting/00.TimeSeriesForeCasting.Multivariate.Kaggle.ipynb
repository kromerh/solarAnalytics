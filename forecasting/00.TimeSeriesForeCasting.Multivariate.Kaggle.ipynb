{
 "cells": [
  {
   "cell_type": "markdown",
   "metadata": {},
   "source": [
    "Code from here: https://machinelearningmastery.com/how-to-develop-machine-learning-models-for-multivariate-multi-step-air-pollution-time-series-forecasting/\n",
    "\n",
    "https://machinelearningmastery.com/how-to-load-visualize-and-explore-a-complex-multivariate-multistep-time-series-forecasting-dataset/"
   ]
  },
  {
   "cell_type": "markdown",
   "metadata": {},
   "source": [
    "# load"
   ]
  },
  {
   "cell_type": "markdown",
   "metadata": {},
   "source": [
    "Our focus will be the ‘TrainingData.csv‘ that contains the training dataset, specifically data in chunks where each chunk is eight contiguous days of observations and target variables.\n",
    "\n",
    "The test dataset (remaining three days of each chunk) is not available for this dataset at the time of writing.\n",
    "\n",
    "Open the ‘TrainingData.csv‘ file and review the contents. The unzipped data file is relatively small (21 megabytes) and will easily fit into RAM.\n",
    "\n",
    "Reviewing the contents of the file, we can see that the data file contains a header row.\n",
    "\n",
    "We can also see that missing data is marked with the ‘NA‘ value, which Pandas will automatically convert to NumPy.NaN.\n",
    "\n",
    "We can see that the ‘weekday‘ column contains the day as a string, whereas all other data is numeric."
   ]
  },
  {
   "cell_type": "code",
   "execution_count": 17,
   "metadata": {},
   "outputs": [
    {
     "data": {
      "text/plain": [
       "(37821, 89)"
      ]
     },
     "execution_count": 17,
     "metadata": {},
     "output_type": "execute_result"
    }
   ],
   "source": [
    "import pandas as pd\n",
    "\n",
    "dataset = pd.read_csv('./data/kaggle_pollution/dsg-hackathon/TrainingData.csv', header=0)\n",
    "dataset = dataset.iloc[:, 6:]\n",
    "dataset.shape"
   ]
  },
  {
   "cell_type": "markdown",
   "metadata": {},
   "source": [
    "We can also get a quick idea of how much missing data there is in the dataset. We can do that by first trimming the first few columns to remove the string weekday data and convert the remaining columns to floating point values."
   ]
  },
  {
   "cell_type": "code",
   "execution_count": 18,
   "metadata": {},
   "outputs": [
    {
     "name": "stdout",
     "output_type": "stream",
     "text": [
      "(37821, 95)\n",
      "Total Missing: 1922092/3366069 (57.1%)\n"
     ]
    }
   ],
   "source": [
    "# load dataset\n",
    "import numpy as np\n",
    "dataset = pd.read_csv('./data/kaggle_pollution/dsg-hackathon/TrainingData.csv', header=0)\n",
    "# summarize\n",
    "print(dataset.shape)\n",
    "# trim and transform to floats\n",
    "values = dataset.values\n",
    "data = values[:, 6:].astype('float32')\n",
    "\n",
    "# summarize amount of missing data\n",
    "total_missing = np.count_nonzero(np.isnan(data))\n",
    "percent_missing = total_missing / data.size * 100\n",
    "print('Total Missing: %d/%d (%.1f%%)' % (total_missing, data.size, percent_missing))"
   ]
  },
  {
   "cell_type": "markdown",
   "metadata": {},
   "source": [
    "Running the example first prints the shape of the loaded dataset.\n",
    "\n",
    "We can see that we have about 37,000 rows and 95 columns. We know these numbers are misleading given that the data is in fact divided into chunks and the columns are divided into the same observations at different sites.\n",
    "\n",
    "We can also see that a little over 40% of the data is missing. This is a lot. The data is very patchy and we are going to have to understand this well before modeling the problem."
   ]
  },
  {
   "cell_type": "markdown",
   "metadata": {},
   "source": [
    "### Chunks investigation\n",
    "The data consist of hourly measurements of various quantities (mostly are pollutants), where each row contains the measurements for one hour. Time slices (\"chunks\") of 11 days have been created, with the first 8 days of each chunk available in the training data. You are asked to make pdictions about various points within the following 3 days (1, 2 ,3, 4, 5, 10, 17, 24, 48, and 72 hours after the end of the 8-day training data)."
   ]
  },
  {
   "cell_type": "code",
   "execution_count": 23,
   "metadata": {},
   "outputs": [
    {
     "data": {
      "text/plain": [
       "208"
      ]
     },
     "execution_count": 23,
     "metadata": {},
     "output_type": "execute_result"
    }
   ],
   "source": [
    "dataset =  dataset.sort_values(by='chunkID')\n",
    "# total number of chunks \n",
    "len(dataset['chunkID'].unique())"
   ]
  },
  {
   "cell_type": "markdown",
   "metadata": {},
   "source": [
    "A box and whisker plot and a histogram plot of chunk durations is created. We can see that indeed the median is 192, meaning that most chunks have eight days of observations or close to it.\n",
    "\n",
    "We can also see a long tail of durations down to about 25 rows. Although there are not many of these cases, we would expect that will be challenging to forecast given the lack of data.\n",
    "\n",
    "The distribution also raises questions about how contiguous the observations within each chunk may be.\n",
    "\n",
    "Each row corresponds to one hourly measurement point."
   ]
  },
  {
   "cell_type": "code",
   "execution_count": 31,
   "metadata": {},
   "outputs": [
    {
     "data": {
      "image/png": "[encoded data removed]",
      "text/plain": [
       "<Figure size 432x288 with 1 Axes>"
      ]
     },
     "metadata": {
      "needs_background": "light"
     },
     "output_type": "display_data"
    },
    {
     "data": {
      "image/png": "[encoded data removed]",
      "text/plain": [
       "<Figure size 432x288 with 1 Axes>"
      ]
     },
     "metadata": {
      "needs_background": "light"
     },
     "output_type": "display_data"
    }
   ],
   "source": [
    "import matplotlib.pyplot as plt\n",
    "\n",
    "def compute_chunk_number_of_hours(df):\n",
    "    return len(df)\n",
    "\n",
    "chunk_length = dataset.groupby('chunkID').apply(lambda x: compute_chunk_number_of_hours(x))\n",
    "\n",
    "plt.boxplot(chunk_length)\n",
    "plt.ylabel('number of rows in chunk')\n",
    "plt.show()\n",
    "\n",
    "\n",
    "plt.hist(chunk_length)\n",
    "plt.xlabel('number of rows in chunk')\n",
    "plt.ylabel('count')\n",
    "plt.show()"
   ]
  },
  {
   "cell_type": "markdown",
   "metadata": {},
   "source": [
    "#### Chunk Contiguousness\n",
    "It may be helpful to get an idea of how contiguous (or not) the observations are within those chunks that do not have the full eight days of data.\n",
    "\n",
    "One approach to considering this is to create a line plot for each discontiguous chunk and show the gaps in the observations.\n",
    "\n",
    "We can do this on a single plot. Each chunk has a unique identifier, from 1 to 208, and we can use this as the value for the series and mark missing observations within the eight day interval via NaN values that will not appear on the plot.\n",
    "\n",
    "Inverting this, we can assume that we have NaN values for all time steps within a chunk, then use the ‘position_within_chunk‘ column (index 2) to determine the time steps that do have values and mark them with the chunk id.\n",
    "\n",
    "The plot_discontinuous_chunks() below implements this behavior, creating one series or line for each chunk with missing rows all on the same plot. The expectation is that breaks in the line will help us see how contiguous or discontiguous these incomplete chunks happen to be."
   ]
  },
  {
   "cell_type": "code",
   "execution_count": null,
   "metadata": {},
   "outputs": [],
   "source": []
  }
 ],
 "metadata": {
  "kernelspec": {
   "display_name": "Python 3",
   "language": "python",
   "name": "python3"
  },
  "language_info": {
   "codemirror_mode": {
    "name": "ipython",
    "version": 3
   },
   "file_extension": ".py",
   "mimetype": "text/x-python",
   "name": "python",
   "nbconvert_exporter": "python",
   "pygments_lexer": "ipython3",
   "version": "3.7.3"
  }
 },
 "nbformat": 4,
 "nbformat_minor": 4
}
