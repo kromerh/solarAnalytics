{
 "cells": [
  {
   "cell_type": "markdown",
   "metadata": {},
   "source": [
    "# Exploratory data analysis of DarkSky dataset\n",
    "\n",
    "This notebook is part of a project to predict the production of solar energy of a photovoltaic system on top of a house. In this notebook, we will consider the exploratory data analysis of a weather dataset that was obtained from DarkSky (www.DarkSky.com), which contains typical weather information (temperature, precipitation, cloud coverage, ...) for the given location where the solar panels are located.\n",
    "\n",
    "## Table of content\n",
    "\n",
    "## [1. Import libraries](#1) \n",
    "## [2. Load all the weather data into one dataframe](#2) \n",
    "## [3. Convert times into timestamps](#3) \n",
    "## [4. Choose columns to use for analysis](#4)\n",
    "## [5. Describe dataframe and missing values](#5)\n",
    "## [6. Temperature columns](#6)\n",
    "## [7. Precipitation columns](#7)\n",
    "## [8. Cloud coverage](#8)\n",
    "## [9. Sunrise and -set time](#9)\n",
    "## [10. UV index](#10)\n",
    "## [11. Correlation matrix](#11)\n",
    "## [12. Findings from EDA](#12)\n",
    "## [13. Next steps](#13)"
   ]
  },
  {
   "cell_type": "markdown",
   "metadata": {},
   "source": [
    "<a id=1> </a> \n",
    "## 1. Import libraries\n",
    "\n",
    "\n"
   ]
  },
  {
   "cell_type": "code",
   "execution_count": 102,
   "metadata": {},
   "outputs": [],
   "source": [
    "import pandas as pd\n",
    "import numpy as np\n",
    "import os\n",
    "import json\n",
    "import matplotlib.pyplot as plt\n",
    "import matplotlib.dates as mdates\n",
    "import seaborn as sns"
   ]
  },
  {
   "cell_type": "code",
   "execution_count": 103,
   "metadata": {},
   "outputs": [],
   "source": [
    "# Folder where the DarkSky json data is located\n",
    "DATAFOLDER = '../01.Original_data/DarkSky/'"
   ]
  },
  {
   "cell_type": "markdown",
   "metadata": {},
   "source": [
    "<a id=2> </a> \n",
    "## 2. Load all the weather data into one dataframe\n",
    "\n",
    "\n",
    "Weather data was stored (via the DarkSky API) in the form of json files. There was one json file per queried day. We already knew that not all days returned values, that we have to consider in the missing data treatment step. "
   ]
  },
  {
   "cell_type": "code",
   "execution_count": 104,
   "metadata": {},
   "outputs": [
    {
     "name": "stdout",
     "output_type": "stream",
     "text": [
      "Imported 922 datapoints. 7 had no daily entry.\n"
     ]
    }
   ],
   "source": [
    "# What json daily files are in the folder\n",
    "files = [f'{DATAFOLDER}{item}' for item in os.listdir(DATAFOLDER) if item.endswith('json')]\n",
    "n_files = len(files)\n",
    "\n",
    "# Dataframe to hold all the DarkSky data\n",
    "df = pd.DataFrame()\n",
    "\n",
    "# loop through the files and append to pandas dataframe\n",
    "for file in files:\n",
    "    # load json file\n",
    "    with open(f'{file}') as f:\n",
    "        d = json.load(f)\n",
    "        f.close()\n",
    "    # append to df if daily in keys\n",
    "    if 'daily' in d.keys():\n",
    "        df = df.append(d['daily']['data'], sort=False)\n",
    "\n",
    "n_imported = len(df)\n",
    "\n",
    "print(f\"Imported {n_imported} datapoints. {n_files-n_imported} had no daily entry.\")"
   ]
  },
  {
   "cell_type": "code",
   "execution_count": 105,
   "metadata": {},
   "outputs": [
    {
     "name": "stdout",
     "output_type": "stream",
     "text": [
      "<class 'pandas.core.frame.DataFrame'>\n",
      "Int64Index: 922 entries, 0 to 0\n",
      "Data columns (total 45 columns):\n",
      " #   Column                       Non-Null Count  Dtype  \n",
      "---  ------                       --------------  -----  \n",
      " 0   time                         922 non-null    int64  \n",
      " 1   summary                      790 non-null    object \n",
      " 2   icon                         784 non-null    object \n",
      " 3   sunriseTime                  922 non-null    int64  \n",
      " 4   sunsetTime                   922 non-null    int64  \n",
      " 5   moonPhase                    922 non-null    float64\n",
      " 6   precipIntensity              839 non-null    float64\n",
      " 7   precipIntensityMax           839 non-null    float64\n",
      " 8   precipIntensityMaxTime       811 non-null    float64\n",
      " 9   precipProbability            837 non-null    float64\n",
      " 10  precipType                   780 non-null    object \n",
      " 11  temperatureHigh              922 non-null    float64\n",
      " 12  temperatureHighTime          922 non-null    int64  \n",
      " 13  temperatureLow               840 non-null    float64\n",
      " 14  temperatureLowTime           840 non-null    float64\n",
      " 15  apparentTemperatureHigh      922 non-null    float64\n",
      " 16  apparentTemperatureHighTime  922 non-null    int64  \n",
      " 17  apparentTemperatureLow       840 non-null    float64\n",
      " 18  apparentTemperatureLowTime   840 non-null    float64\n",
      " 19  dewPoint                     918 non-null    float64\n",
      " 20  humidity                     918 non-null    float64\n",
      " 21  pressure                     839 non-null    float64\n",
      " 22  windSpeed                    897 non-null    float64\n",
      " 23  windGust                     839 non-null    float64\n",
      " 24  windGustTime                 839 non-null    float64\n",
      " 25  windBearing                  897 non-null    float64\n",
      " 26  cloudCover                   740 non-null    float64\n",
      " 27  uvIndex                      889 non-null    float64\n",
      " 28  uvIndexTime                  889 non-null    float64\n",
      " 29  visibility                   886 non-null    float64\n",
      " 30  ozone                        607 non-null    float64\n",
      " 31  temperatureMin               918 non-null    float64\n",
      " 32  temperatureMinTime           918 non-null    float64\n",
      " 33  temperatureMax               918 non-null    float64\n",
      " 34  temperatureMaxTime           918 non-null    float64\n",
      " 35  apparentTemperatureMin       918 non-null    float64\n",
      " 36  apparentTemperatureMinTime   918 non-null    float64\n",
      " 37  apparentTemperatureMax       918 non-null    float64\n",
      " 38  apparentTemperatureMaxTime   918 non-null    float64\n",
      " 39  precipAccumulation           57 non-null     float64\n",
      " 40  precipIntensityMaxError      1 non-null      float64\n",
      " 41  temperatureHighError         1 non-null      float64\n",
      " 42  temperatureLowError          1 non-null      float64\n",
      " 43  temperatureMinError          1 non-null      float64\n",
      " 44  temperatureMaxError          1 non-null      float64\n",
      "dtypes: float64(37), int64(5), object(3)\n",
      "memory usage: 331.3+ KB\n"
     ]
    }
   ],
   "source": [
    "df.info()"
   ]
  },
  {
   "cell_type": "markdown",
   "metadata": {},
   "source": [
    "<a id=3> </a> \n",
    "## 3. Convert times into timestamps\n",
    "\n",
    "There are many timestamps in the response from DarkSky. Times returned by DarkSky are in UNIX timestamp. This is a problem for direct conversion, because the pandas sereies needs to be timezone aware. We can deal with this by adding the timezone information and converting to the respective timezone for all the timestamp objects."
   ]
  },
  {
   "cell_type": "code",
   "execution_count": 106,
   "metadata": {},
   "outputs": [],
   "source": [
    "# columns with time information\n",
    "cols_time = [c for c in df.columns if ('Time' in c) or ('time' in c)]\n",
    "\n",
    "for col in cols_time:\n",
    "    df[col] = pd.to_datetime(df[col], unit='s').dt.tz_localize('utc').dt.tz_convert('Europe/Zurich')\n",
    "    \n",
    "# order the dataframe by time\n",
    "df = df.sort_values(by='time')"
   ]
  },
  {
   "cell_type": "code",
   "execution_count": 107,
   "metadata": {},
   "outputs": [],
   "source": [
    "# set index as time\n",
    "df.set_index('time', inplace=True, drop=True)"
   ]
  },
  {
   "cell_type": "code",
   "execution_count": 108,
   "metadata": {},
   "outputs": [],
   "source": [
    "# save the data\n",
    "fname = 'data_time_converted.csv'\n",
    "df.to_csv(f\"../02.Prepared_data/DarkSky/{fname}\")"
   ]
  },
  {
   "cell_type": "code",
   "execution_count": 109,
   "metadata": {},
   "outputs": [
    {
     "data": {
      "text/html": [
       "<div>\n",
       "<style scoped>\n",
       "    .dataframe tbody tr th:only-of-type {\n",
       "        vertical-align: middle;\n",
       "    }\n",
       "\n",
       "    .dataframe tbody tr th {\n",
       "        vertical-align: top;\n",
       "    }\n",
       "\n",
       "    .dataframe thead th {\n",
       "        text-align: right;\n",
       "    }\n",
       "</style>\n",
       "<table border=\"1\" class=\"dataframe\">\n",
       "  <thead>\n",
       "    <tr style=\"text-align: right;\">\n",
       "      <th></th>\n",
       "      <th>summary</th>\n",
       "      <th>icon</th>\n",
       "      <th>sunriseTime</th>\n",
       "      <th>sunsetTime</th>\n",
       "      <th>moonPhase</th>\n",
       "      <th>precipIntensity</th>\n",
       "      <th>precipIntensityMax</th>\n",
       "      <th>precipIntensityMaxTime</th>\n",
       "      <th>precipProbability</th>\n",
       "      <th>precipType</th>\n",
       "      <th>...</th>\n",
       "      <th>apparentTemperatureMin</th>\n",
       "      <th>apparentTemperatureMinTime</th>\n",
       "      <th>apparentTemperatureMax</th>\n",
       "      <th>apparentTemperatureMaxTime</th>\n",
       "      <th>precipAccumulation</th>\n",
       "      <th>precipIntensityMaxError</th>\n",
       "      <th>temperatureHighError</th>\n",
       "      <th>temperatureLowError</th>\n",
       "      <th>temperatureMinError</th>\n",
       "      <th>temperatureMaxError</th>\n",
       "    </tr>\n",
       "    <tr>\n",
       "      <th>time</th>\n",
       "      <th></th>\n",
       "      <th></th>\n",
       "      <th></th>\n",
       "      <th></th>\n",
       "      <th></th>\n",
       "      <th></th>\n",
       "      <th></th>\n",
       "      <th></th>\n",
       "      <th></th>\n",
       "      <th></th>\n",
       "      <th></th>\n",
       "      <th></th>\n",
       "      <th></th>\n",
       "      <th></th>\n",
       "      <th></th>\n",
       "      <th></th>\n",
       "      <th></th>\n",
       "      <th></th>\n",
       "      <th></th>\n",
       "      <th></th>\n",
       "      <th></th>\n",
       "    </tr>\n",
       "  </thead>\n",
       "  <tbody>\n",
       "    <tr>\n",
       "      <th>2017-10-01 00:00:00+02:00</th>\n",
       "      <td>Drizzle in the morning.</td>\n",
       "      <td>rain</td>\n",
       "      <td>2017-10-01 07:29:00+02:00</td>\n",
       "      <td>2017-10-01 19:09:00+02:00</td>\n",
       "      <td>0.36</td>\n",
       "      <td>0.0131</td>\n",
       "      <td>0.1962</td>\n",
       "      <td>2017-10-01 00:00:00+02:00</td>\n",
       "      <td>0.76</td>\n",
       "      <td>rain</td>\n",
       "      <td>...</td>\n",
       "      <td>8.87</td>\n",
       "      <td>2017-10-01 08:20:00+02:00</td>\n",
       "      <td>15.92</td>\n",
       "      <td>2017-10-01 16:13:00+02:00</td>\n",
       "      <td>NaN</td>\n",
       "      <td>NaN</td>\n",
       "      <td>NaN</td>\n",
       "      <td>NaN</td>\n",
       "      <td>NaN</td>\n",
       "      <td>NaN</td>\n",
       "    </tr>\n",
       "    <tr>\n",
       "      <th>2017-10-02 00:00:00+02:00</th>\n",
       "      <td>Drizzle in the evening and overnight.</td>\n",
       "      <td>rain</td>\n",
       "      <td>2017-10-02 07:30:00+02:00</td>\n",
       "      <td>2017-10-02 19:07:00+02:00</td>\n",
       "      <td>0.40</td>\n",
       "      <td>0.0280</td>\n",
       "      <td>0.2159</td>\n",
       "      <td>2017-10-02 20:01:00+02:00</td>\n",
       "      <td>0.81</td>\n",
       "      <td>rain</td>\n",
       "      <td>...</td>\n",
       "      <td>9.74</td>\n",
       "      <td>2017-10-02 00:00:00+02:00</td>\n",
       "      <td>17.15</td>\n",
       "      <td>2017-10-02 16:46:00+02:00</td>\n",
       "      <td>NaN</td>\n",
       "      <td>NaN</td>\n",
       "      <td>NaN</td>\n",
       "      <td>NaN</td>\n",
       "      <td>NaN</td>\n",
       "      <td>NaN</td>\n",
       "    </tr>\n",
       "    <tr>\n",
       "      <th>2017-10-03 00:00:00+02:00</th>\n",
       "      <td>Rain in the morning and afternoon.</td>\n",
       "      <td>rain</td>\n",
       "      <td>2017-10-03 07:32:00+02:00</td>\n",
       "      <td>2017-10-03 19:05:00+02:00</td>\n",
       "      <td>0.43</td>\n",
       "      <td>1.0012</td>\n",
       "      <td>9.2915</td>\n",
       "      <td>2017-10-03 08:28:00+02:00</td>\n",
       "      <td>0.99</td>\n",
       "      <td>rain</td>\n",
       "      <td>...</td>\n",
       "      <td>7.78</td>\n",
       "      <td>2017-10-03 23:00:00+02:00</td>\n",
       "      <td>17.67</td>\n",
       "      <td>2017-10-03 04:39:00+02:00</td>\n",
       "      <td>NaN</td>\n",
       "      <td>NaN</td>\n",
       "      <td>NaN</td>\n",
       "      <td>NaN</td>\n",
       "      <td>NaN</td>\n",
       "      <td>NaN</td>\n",
       "    </tr>\n",
       "    <tr>\n",
       "      <th>2017-10-04 00:00:00+02:00</th>\n",
       "      <td>Possible drizzle in the morning.</td>\n",
       "      <td>rain</td>\n",
       "      <td>2017-10-04 07:33:00+02:00</td>\n",
       "      <td>2017-10-04 19:03:00+02:00</td>\n",
       "      <td>0.46</td>\n",
       "      <td>0.0075</td>\n",
       "      <td>0.1589</td>\n",
       "      <td>2017-10-04 09:00:00+02:00</td>\n",
       "      <td>0.62</td>\n",
       "      <td>rain</td>\n",
       "      <td>...</td>\n",
       "      <td>5.25</td>\n",
       "      <td>2017-10-04 04:29:00+02:00</td>\n",
       "      <td>15.47</td>\n",
       "      <td>2017-10-04 17:24:00+02:00</td>\n",
       "      <td>NaN</td>\n",
       "      <td>NaN</td>\n",
       "      <td>NaN</td>\n",
       "      <td>NaN</td>\n",
       "      <td>NaN</td>\n",
       "      <td>NaN</td>\n",
       "    </tr>\n",
       "    <tr>\n",
       "      <th>2017-10-05 00:00:00+02:00</th>\n",
       "      <td>Rain in the evening and overnight.</td>\n",
       "      <td>rain</td>\n",
       "      <td>2017-10-05 07:34:00+02:00</td>\n",
       "      <td>2017-10-05 19:01:00+02:00</td>\n",
       "      <td>0.50</td>\n",
       "      <td>0.3074</td>\n",
       "      <td>3.2280</td>\n",
       "      <td>2017-10-05 22:59:00+02:00</td>\n",
       "      <td>0.99</td>\n",
       "      <td>rain</td>\n",
       "      <td>...</td>\n",
       "      <td>4.75</td>\n",
       "      <td>2017-10-05 03:25:00+02:00</td>\n",
       "      <td>19.81</td>\n",
       "      <td>2017-10-05 15:09:00+02:00</td>\n",
       "      <td>NaN</td>\n",
       "      <td>NaN</td>\n",
       "      <td>NaN</td>\n",
       "      <td>NaN</td>\n",
       "      <td>NaN</td>\n",
       "      <td>NaN</td>\n",
       "    </tr>\n",
       "  </tbody>\n",
       "</table>\n",
       "<p>5 rows × 44 columns</p>\n",
       "</div>"
      ],
      "text/plain": [
       "                                                         summary  icon  \\\n",
       "time                                                                     \n",
       "2017-10-01 00:00:00+02:00                Drizzle in the morning.  rain   \n",
       "2017-10-02 00:00:00+02:00  Drizzle in the evening and overnight.  rain   \n",
       "2017-10-03 00:00:00+02:00     Rain in the morning and afternoon.  rain   \n",
       "2017-10-04 00:00:00+02:00       Possible drizzle in the morning.  rain   \n",
       "2017-10-05 00:00:00+02:00     Rain in the evening and overnight.  rain   \n",
       "\n",
       "                                        sunriseTime                sunsetTime  \\\n",
       "time                                                                            \n",
       "2017-10-01 00:00:00+02:00 2017-10-01 07:29:00+02:00 2017-10-01 19:09:00+02:00   \n",
       "2017-10-02 00:00:00+02:00 2017-10-02 07:30:00+02:00 2017-10-02 19:07:00+02:00   \n",
       "2017-10-03 00:00:00+02:00 2017-10-03 07:32:00+02:00 2017-10-03 19:05:00+02:00   \n",
       "2017-10-04 00:00:00+02:00 2017-10-04 07:33:00+02:00 2017-10-04 19:03:00+02:00   \n",
       "2017-10-05 00:00:00+02:00 2017-10-05 07:34:00+02:00 2017-10-05 19:01:00+02:00   \n",
       "\n",
       "                           moonPhase  precipIntensity  precipIntensityMax  \\\n",
       "time                                                                        \n",
       "2017-10-01 00:00:00+02:00       0.36           0.0131              0.1962   \n",
       "2017-10-02 00:00:00+02:00       0.40           0.0280              0.2159   \n",
       "2017-10-03 00:00:00+02:00       0.43           1.0012              9.2915   \n",
       "2017-10-04 00:00:00+02:00       0.46           0.0075              0.1589   \n",
       "2017-10-05 00:00:00+02:00       0.50           0.3074              3.2280   \n",
       "\n",
       "                             precipIntensityMaxTime  precipProbability  \\\n",
       "time                                                                     \n",
       "2017-10-01 00:00:00+02:00 2017-10-01 00:00:00+02:00               0.76   \n",
       "2017-10-02 00:00:00+02:00 2017-10-02 20:01:00+02:00               0.81   \n",
       "2017-10-03 00:00:00+02:00 2017-10-03 08:28:00+02:00               0.99   \n",
       "2017-10-04 00:00:00+02:00 2017-10-04 09:00:00+02:00               0.62   \n",
       "2017-10-05 00:00:00+02:00 2017-10-05 22:59:00+02:00               0.99   \n",
       "\n",
       "                          precipType  ...  apparentTemperatureMin  \\\n",
       "time                                  ...                           \n",
       "2017-10-01 00:00:00+02:00       rain  ...                    8.87   \n",
       "2017-10-02 00:00:00+02:00       rain  ...                    9.74   \n",
       "2017-10-03 00:00:00+02:00       rain  ...                    7.78   \n",
       "2017-10-04 00:00:00+02:00       rain  ...                    5.25   \n",
       "2017-10-05 00:00:00+02:00       rain  ...                    4.75   \n",
       "\n",
       "                          apparentTemperatureMinTime  apparentTemperatureMax  \\\n",
       "time                                                                           \n",
       "2017-10-01 00:00:00+02:00  2017-10-01 08:20:00+02:00                   15.92   \n",
       "2017-10-02 00:00:00+02:00  2017-10-02 00:00:00+02:00                   17.15   \n",
       "2017-10-03 00:00:00+02:00  2017-10-03 23:00:00+02:00                   17.67   \n",
       "2017-10-04 00:00:00+02:00  2017-10-04 04:29:00+02:00                   15.47   \n",
       "2017-10-05 00:00:00+02:00  2017-10-05 03:25:00+02:00                   19.81   \n",
       "\n",
       "                          apparentTemperatureMaxTime  precipAccumulation  \\\n",
       "time                                                                       \n",
       "2017-10-01 00:00:00+02:00  2017-10-01 16:13:00+02:00                 NaN   \n",
       "2017-10-02 00:00:00+02:00  2017-10-02 16:46:00+02:00                 NaN   \n",
       "2017-10-03 00:00:00+02:00  2017-10-03 04:39:00+02:00                 NaN   \n",
       "2017-10-04 00:00:00+02:00  2017-10-04 17:24:00+02:00                 NaN   \n",
       "2017-10-05 00:00:00+02:00  2017-10-05 15:09:00+02:00                 NaN   \n",
       "\n",
       "                          precipIntensityMaxError  temperatureHighError  \\\n",
       "time                                                                      \n",
       "2017-10-01 00:00:00+02:00                     NaN                   NaN   \n",
       "2017-10-02 00:00:00+02:00                     NaN                   NaN   \n",
       "2017-10-03 00:00:00+02:00                     NaN                   NaN   \n",
       "2017-10-04 00:00:00+02:00                     NaN                   NaN   \n",
       "2017-10-05 00:00:00+02:00                     NaN                   NaN   \n",
       "\n",
       "                          temperatureLowError  temperatureMinError  \\\n",
       "time                                                                 \n",
       "2017-10-01 00:00:00+02:00                 NaN                  NaN   \n",
       "2017-10-02 00:00:00+02:00                 NaN                  NaN   \n",
       "2017-10-03 00:00:00+02:00                 NaN                  NaN   \n",
       "2017-10-04 00:00:00+02:00                 NaN                  NaN   \n",
       "2017-10-05 00:00:00+02:00                 NaN                  NaN   \n",
       "\n",
       "                           temperatureMaxError  \n",
       "time                                            \n",
       "2017-10-01 00:00:00+02:00                  NaN  \n",
       "2017-10-02 00:00:00+02:00                  NaN  \n",
       "2017-10-03 00:00:00+02:00                  NaN  \n",
       "2017-10-04 00:00:00+02:00                  NaN  \n",
       "2017-10-05 00:00:00+02:00                  NaN  \n",
       "\n",
       "[5 rows x 44 columns]"
      ]
     },
     "execution_count": 109,
     "metadata": {},
     "output_type": "execute_result"
    }
   ],
   "source": [
    "df.head()"
   ]
  },
  {
   "cell_type": "markdown",
   "metadata": {},
   "source": [
    "<a id=4> </a> \n",
    "## 4. Choose columns to use for analysis\n",
    "\n",
    "For our goal, the prediction of solar production output, we would consider data on temperature, sun, and precipitation relevant. The time information is to coarse, sometimes the maxima are reported during the night hours, or on the next/pervious day, which might give a wrong picture. We should drop the time informations for now, maybe re-visit this in a later stage. Also we are only considering a few of the temperatures, since the daytime temperature might have more predictive power than the total (including night) temperatures. This should also be revisited later, but for the first iteration of this model, a minimal viable product does not necessarily require this granularity. We will consider this when we pull hourly instead of daily data."
   ]
  },
  {
   "cell_type": "code",
   "execution_count": 110,
   "metadata": {},
   "outputs": [
    {
     "data": {
      "text/plain": [
       "['summary',\n",
       " 'icon',\n",
       " 'sunriseTime',\n",
       " 'sunsetTime',\n",
       " 'moonPhase',\n",
       " 'precipIntensity',\n",
       " 'precipIntensityMax',\n",
       " 'precipIntensityMaxTime',\n",
       " 'precipProbability',\n",
       " 'precipType',\n",
       " 'temperatureHigh',\n",
       " 'temperatureHighTime',\n",
       " 'temperatureLow',\n",
       " 'temperatureLowTime',\n",
       " 'apparentTemperatureHigh',\n",
       " 'apparentTemperatureHighTime',\n",
       " 'apparentTemperatureLow',\n",
       " 'apparentTemperatureLowTime',\n",
       " 'dewPoint',\n",
       " 'humidity',\n",
       " 'pressure',\n",
       " 'windSpeed',\n",
       " 'windGust',\n",
       " 'windGustTime',\n",
       " 'windBearing',\n",
       " 'cloudCover',\n",
       " 'uvIndex',\n",
       " 'uvIndexTime',\n",
       " 'visibility',\n",
       " 'ozone',\n",
       " 'temperatureMin',\n",
       " 'temperatureMinTime',\n",
       " 'temperatureMax',\n",
       " 'temperatureMaxTime',\n",
       " 'apparentTemperatureMin',\n",
       " 'apparentTemperatureMinTime',\n",
       " 'apparentTemperatureMax',\n",
       " 'apparentTemperatureMaxTime',\n",
       " 'precipAccumulation',\n",
       " 'precipIntensityMaxError',\n",
       " 'temperatureHighError',\n",
       " 'temperatureLowError',\n",
       " 'temperatureMinError',\n",
       " 'temperatureMaxError']"
      ]
     },
     "execution_count": 110,
     "metadata": {},
     "output_type": "execute_result"
    }
   ],
   "source": [
    "df.columns.tolist()"
   ]
  },
  {
   "cell_type": "code",
   "execution_count": 111,
   "metadata": {},
   "outputs": [],
   "source": [
    "cols = ['apparentTemperatureHigh',\n",
    " 'apparentTemperatureLow',\n",
    " 'cloudCover',\n",
    " 'precipIntensityMax',\n",
    " 'precipProbability',\n",
    " 'precipType',\n",
    " 'sunriseTime',\n",
    " 'sunsetTime',\n",
    " 'temperatureHigh',\n",
    " 'uvIndex']\n",
    "\n",
    "df = df.loc[:, cols] "
   ]
  },
  {
   "cell_type": "markdown",
   "metadata": {},
   "source": [
    "These columns are:\n",
    "\n",
    "- `apparentTemperatureHigh`: Feels-like daytime high temperature \n",
    "- `apparentTemperatureLow`: Feels-like daytime low temperature \n",
    "- `cloudCover`: Percentage of the sky that is covered by clouds\n",
    "- `precipIntensityMax`: Maximum precipitation in inch per hour\n",
    "- `precipProbability`: Probability of precipitation\n",
    "- `precipType`: Type of precipitation (rain, show, sleet)\n",
    "- `sunriseTime`: Time when the sun rose\n",
    "- `sunsetTime`: Time when the sun set\n",
    "- `temperatureHigh`: High temperature of that day\n",
    "- `uvIndex`: Strength of sunburn-producing ultraviolet (UV) radiation at a particular place and time"
   ]
  },
  {
   "cell_type": "markdown",
   "metadata": {},
   "source": [
    "### Unit conversions"
   ]
  },
  {
   "cell_type": "code",
   "execution_count": 112,
   "metadata": {},
   "outputs": [
    {
     "data": {
      "text/html": [
       "<div>\n",
       "<style scoped>\n",
       "    .dataframe tbody tr th:only-of-type {\n",
       "        vertical-align: middle;\n",
       "    }\n",
       "\n",
       "    .dataframe tbody tr th {\n",
       "        vertical-align: top;\n",
       "    }\n",
       "\n",
       "    .dataframe thead th {\n",
       "        text-align: right;\n",
       "    }\n",
       "</style>\n",
       "<table border=\"1\" class=\"dataframe\">\n",
       "  <thead>\n",
       "    <tr style=\"text-align: right;\">\n",
       "      <th></th>\n",
       "      <th>apparentTemperatureHigh</th>\n",
       "      <th>apparentTemperatureLow</th>\n",
       "      <th>cloudCover</th>\n",
       "      <th>precipProbability</th>\n",
       "      <th>precipType</th>\n",
       "      <th>sunriseTime</th>\n",
       "      <th>sunsetTime</th>\n",
       "      <th>temperatureHigh</th>\n",
       "      <th>uvIndex</th>\n",
       "      <th>precipIntensityMax_cm</th>\n",
       "    </tr>\n",
       "    <tr>\n",
       "      <th>time</th>\n",
       "      <th></th>\n",
       "      <th></th>\n",
       "      <th></th>\n",
       "      <th></th>\n",
       "      <th></th>\n",
       "      <th></th>\n",
       "      <th></th>\n",
       "      <th></th>\n",
       "      <th></th>\n",
       "      <th></th>\n",
       "    </tr>\n",
       "  </thead>\n",
       "  <tbody>\n",
       "    <tr>\n",
       "      <th>2017-10-01 00:00:00+02:00</th>\n",
       "      <td>15.92</td>\n",
       "      <td>9.71</td>\n",
       "      <td>NaN</td>\n",
       "      <td>0.76</td>\n",
       "      <td>rain</td>\n",
       "      <td>2017-10-01 07:29:00+02:00</td>\n",
       "      <td>2017-10-01 19:09:00+02:00</td>\n",
       "      <td>16.20</td>\n",
       "      <td>4.0</td>\n",
       "      <td>0.498348</td>\n",
       "    </tr>\n",
       "    <tr>\n",
       "      <th>2017-10-02 00:00:00+02:00</th>\n",
       "      <td>17.15</td>\n",
       "      <td>12.70</td>\n",
       "      <td>0.81</td>\n",
       "      <td>0.81</td>\n",
       "      <td>rain</td>\n",
       "      <td>2017-10-02 07:30:00+02:00</td>\n",
       "      <td>2017-10-02 19:07:00+02:00</td>\n",
       "      <td>17.43</td>\n",
       "      <td>3.0</td>\n",
       "      <td>0.548386</td>\n",
       "    </tr>\n",
       "    <tr>\n",
       "      <th>2017-10-03 00:00:00+02:00</th>\n",
       "      <td>16.14</td>\n",
       "      <td>5.25</td>\n",
       "      <td>0.76</td>\n",
       "      <td>0.99</td>\n",
       "      <td>rain</td>\n",
       "      <td>2017-10-03 07:32:00+02:00</td>\n",
       "      <td>2017-10-03 19:05:00+02:00</td>\n",
       "      <td>16.42</td>\n",
       "      <td>4.0</td>\n",
       "      <td>23.600410</td>\n",
       "    </tr>\n",
       "    <tr>\n",
       "      <th>2017-10-04 00:00:00+02:00</th>\n",
       "      <td>15.47</td>\n",
       "      <td>4.75</td>\n",
       "      <td>NaN</td>\n",
       "      <td>0.62</td>\n",
       "      <td>rain</td>\n",
       "      <td>2017-10-04 07:33:00+02:00</td>\n",
       "      <td>2017-10-04 19:03:00+02:00</td>\n",
       "      <td>15.75</td>\n",
       "      <td>0.0</td>\n",
       "      <td>0.403606</td>\n",
       "    </tr>\n",
       "    <tr>\n",
       "      <th>2017-10-05 00:00:00+02:00</th>\n",
       "      <td>19.81</td>\n",
       "      <td>5.68</td>\n",
       "      <td>NaN</td>\n",
       "      <td>0.99</td>\n",
       "      <td>rain</td>\n",
       "      <td>2017-10-05 07:34:00+02:00</td>\n",
       "      <td>2017-10-05 19:01:00+02:00</td>\n",
       "      <td>20.09</td>\n",
       "      <td>1.0</td>\n",
       "      <td>8.199120</td>\n",
       "    </tr>\n",
       "  </tbody>\n",
       "</table>\n",
       "</div>"
      ],
      "text/plain": [
       "                           apparentTemperatureHigh  apparentTemperatureLow  \\\n",
       "time                                                                         \n",
       "2017-10-01 00:00:00+02:00                    15.92                    9.71   \n",
       "2017-10-02 00:00:00+02:00                    17.15                   12.70   \n",
       "2017-10-03 00:00:00+02:00                    16.14                    5.25   \n",
       "2017-10-04 00:00:00+02:00                    15.47                    4.75   \n",
       "2017-10-05 00:00:00+02:00                    19.81                    5.68   \n",
       "\n",
       "                           cloudCover  precipProbability precipType  \\\n",
       "time                                                                  \n",
       "2017-10-01 00:00:00+02:00         NaN               0.76       rain   \n",
       "2017-10-02 00:00:00+02:00        0.81               0.81       rain   \n",
       "2017-10-03 00:00:00+02:00        0.76               0.99       rain   \n",
       "2017-10-04 00:00:00+02:00         NaN               0.62       rain   \n",
       "2017-10-05 00:00:00+02:00         NaN               0.99       rain   \n",
       "\n",
       "                                        sunriseTime                sunsetTime  \\\n",
       "time                                                                            \n",
       "2017-10-01 00:00:00+02:00 2017-10-01 07:29:00+02:00 2017-10-01 19:09:00+02:00   \n",
       "2017-10-02 00:00:00+02:00 2017-10-02 07:30:00+02:00 2017-10-02 19:07:00+02:00   \n",
       "2017-10-03 00:00:00+02:00 2017-10-03 07:32:00+02:00 2017-10-03 19:05:00+02:00   \n",
       "2017-10-04 00:00:00+02:00 2017-10-04 07:33:00+02:00 2017-10-04 19:03:00+02:00   \n",
       "2017-10-05 00:00:00+02:00 2017-10-05 07:34:00+02:00 2017-10-05 19:01:00+02:00   \n",
       "\n",
       "                           temperatureHigh  uvIndex  precipIntensityMax_cm  \n",
       "time                                                                        \n",
       "2017-10-01 00:00:00+02:00            16.20      4.0               0.498348  \n",
       "2017-10-02 00:00:00+02:00            17.43      3.0               0.548386  \n",
       "2017-10-03 00:00:00+02:00            16.42      4.0              23.600410  \n",
       "2017-10-04 00:00:00+02:00            15.75      0.0               0.403606  \n",
       "2017-10-05 00:00:00+02:00            20.09      1.0               8.199120  "
      ]
     },
     "execution_count": 112,
     "metadata": {},
     "output_type": "execute_result"
    }
   ],
   "source": [
    "# inch to cm\n",
    "inch_to_cm = 2.54\n",
    "df['precipIntensityMax_cm'] = df['precipIntensityMax'] * inch_to_cm\n",
    "# drop the original, we do not need it.\n",
    "df = df.drop(columns=['precipIntensityMax'])\n",
    "df.head()"
   ]
  },
  {
   "cell_type": "markdown",
   "metadata": {},
   "source": [
    "<a id=5> </a> \n",
    "## 5. Describe dataframe and missing values\n",
    "\n",
    "Let's look at the data as a whole and consider missing values per column."
   ]
  },
  {
   "cell_type": "code",
   "execution_count": 113,
   "metadata": {},
   "outputs": [
    {
     "data": {
      "text/html": [
       "<div>\n",
       "<style scoped>\n",
       "    .dataframe tbody tr th:only-of-type {\n",
       "        vertical-align: middle;\n",
       "    }\n",
       "\n",
       "    .dataframe tbody tr th {\n",
       "        vertical-align: top;\n",
       "    }\n",
       "\n",
       "    .dataframe thead th {\n",
       "        text-align: right;\n",
       "    }\n",
       "</style>\n",
       "<table border=\"1\" class=\"dataframe\">\n",
       "  <thead>\n",
       "    <tr style=\"text-align: right;\">\n",
       "      <th></th>\n",
       "      <th>apparentTemperatureHigh</th>\n",
       "      <th>apparentTemperatureLow</th>\n",
       "      <th>cloudCover</th>\n",
       "      <th>precipProbability</th>\n",
       "      <th>temperatureHigh</th>\n",
       "      <th>uvIndex</th>\n",
       "      <th>precipIntensityMax_cm</th>\n",
       "    </tr>\n",
       "  </thead>\n",
       "  <tbody>\n",
       "    <tr>\n",
       "      <th>count</th>\n",
       "      <td>922.000000</td>\n",
       "      <td>840.000000</td>\n",
       "      <td>740.000000</td>\n",
       "      <td>837.000000</td>\n",
       "      <td>922.000000</td>\n",
       "      <td>889.000000</td>\n",
       "      <td>839.000000</td>\n",
       "    </tr>\n",
       "    <tr>\n",
       "      <th>mean</th>\n",
       "      <td>15.049284</td>\n",
       "      <td>4.716512</td>\n",
       "      <td>0.625838</td>\n",
       "      <td>0.452461</td>\n",
       "      <td>15.586985</td>\n",
       "      <td>2.817773</td>\n",
       "      <td>1.671102</td>\n",
       "    </tr>\n",
       "    <tr>\n",
       "      <th>std</th>\n",
       "      <td>9.064251</td>\n",
       "      <td>6.593031</td>\n",
       "      <td>0.299811</td>\n",
       "      <td>0.383607</td>\n",
       "      <td>8.603653</td>\n",
       "      <td>2.215445</td>\n",
       "      <td>3.492842</td>\n",
       "    </tr>\n",
       "    <tr>\n",
       "      <th>min</th>\n",
       "      <td>-6.940000</td>\n",
       "      <td>-11.380000</td>\n",
       "      <td>0.000000</td>\n",
       "      <td>0.000000</td>\n",
       "      <td>-4.870000</td>\n",
       "      <td>0.000000</td>\n",
       "      <td>0.000000</td>\n",
       "    </tr>\n",
       "    <tr>\n",
       "      <th>25%</th>\n",
       "      <td>7.120000</td>\n",
       "      <td>-0.357500</td>\n",
       "      <td>0.400000</td>\n",
       "      <td>0.050000</td>\n",
       "      <td>8.307500</td>\n",
       "      <td>1.000000</td>\n",
       "      <td>0.025908</td>\n",
       "    </tr>\n",
       "    <tr>\n",
       "      <th>50%</th>\n",
       "      <td>14.160000</td>\n",
       "      <td>4.045000</td>\n",
       "      <td>0.715000</td>\n",
       "      <td>0.420000</td>\n",
       "      <td>14.440000</td>\n",
       "      <td>2.000000</td>\n",
       "      <td>0.448056</td>\n",
       "    </tr>\n",
       "    <tr>\n",
       "      <th>75%</th>\n",
       "      <td>22.482500</td>\n",
       "      <td>9.342500</td>\n",
       "      <td>0.862500</td>\n",
       "      <td>0.850000</td>\n",
       "      <td>22.762500</td>\n",
       "      <td>4.000000</td>\n",
       "      <td>2.172843</td>\n",
       "    </tr>\n",
       "    <tr>\n",
       "      <th>max</th>\n",
       "      <td>41.780000</td>\n",
       "      <td>23.870000</td>\n",
       "      <td>1.000000</td>\n",
       "      <td>1.000000</td>\n",
       "      <td>37.490000</td>\n",
       "      <td>9.000000</td>\n",
       "      <td>71.308722</td>\n",
       "    </tr>\n",
       "  </tbody>\n",
       "</table>\n",
       "</div>"
      ],
      "text/plain": [
       "       apparentTemperatureHigh  apparentTemperatureLow  cloudCover  \\\n",
       "count               922.000000              840.000000  740.000000   \n",
       "mean                 15.049284                4.716512    0.625838   \n",
       "std                   9.064251                6.593031    0.299811   \n",
       "min                  -6.940000              -11.380000    0.000000   \n",
       "25%                   7.120000               -0.357500    0.400000   \n",
       "50%                  14.160000                4.045000    0.715000   \n",
       "75%                  22.482500                9.342500    0.862500   \n",
       "max                  41.780000               23.870000    1.000000   \n",
       "\n",
       "       precipProbability  temperatureHigh     uvIndex  precipIntensityMax_cm  \n",
       "count         837.000000       922.000000  889.000000             839.000000  \n",
       "mean            0.452461        15.586985    2.817773               1.671102  \n",
       "std             0.383607         8.603653    2.215445               3.492842  \n",
       "min             0.000000        -4.870000    0.000000               0.000000  \n",
       "25%             0.050000         8.307500    1.000000               0.025908  \n",
       "50%             0.420000        14.440000    2.000000               0.448056  \n",
       "75%             0.850000        22.762500    4.000000               2.172843  \n",
       "max             1.000000        37.490000    9.000000              71.308722  "
      ]
     },
     "execution_count": 113,
     "metadata": {},
     "output_type": "execute_result"
    }
   ],
   "source": [
    "df.describe()"
   ]
  },
  {
   "cell_type": "code",
   "execution_count": 114,
   "metadata": {},
   "outputs": [
    {
     "data": {
      "text/html": [
       "<div>\n",
       "<style scoped>\n",
       "    .dataframe tbody tr th:only-of-type {\n",
       "        vertical-align: middle;\n",
       "    }\n",
       "\n",
       "    .dataframe tbody tr th {\n",
       "        vertical-align: top;\n",
       "    }\n",
       "\n",
       "    .dataframe thead th {\n",
       "        text-align: right;\n",
       "    }\n",
       "</style>\n",
       "<table border=\"1\" class=\"dataframe\">\n",
       "  <thead>\n",
       "    <tr style=\"text-align: right;\">\n",
       "      <th></th>\n",
       "      <th>column_name</th>\n",
       "      <th>percent_missing</th>\n",
       "      <th>absolute_missing</th>\n",
       "    </tr>\n",
       "  </thead>\n",
       "  <tbody>\n",
       "    <tr>\n",
       "      <th>apparentTemperatureHigh</th>\n",
       "      <td>apparentTemperatureHigh</td>\n",
       "      <td>0.000000</td>\n",
       "      <td>0</td>\n",
       "    </tr>\n",
       "    <tr>\n",
       "      <th>apparentTemperatureLow</th>\n",
       "      <td>apparentTemperatureLow</td>\n",
       "      <td>8.893709</td>\n",
       "      <td>82</td>\n",
       "    </tr>\n",
       "    <tr>\n",
       "      <th>cloudCover</th>\n",
       "      <td>cloudCover</td>\n",
       "      <td>19.739696</td>\n",
       "      <td>182</td>\n",
       "    </tr>\n",
       "    <tr>\n",
       "      <th>precipProbability</th>\n",
       "      <td>precipProbability</td>\n",
       "      <td>9.219089</td>\n",
       "      <td>85</td>\n",
       "    </tr>\n",
       "    <tr>\n",
       "      <th>precipType</th>\n",
       "      <td>precipType</td>\n",
       "      <td>15.401302</td>\n",
       "      <td>142</td>\n",
       "    </tr>\n",
       "    <tr>\n",
       "      <th>sunriseTime</th>\n",
       "      <td>sunriseTime</td>\n",
       "      <td>0.000000</td>\n",
       "      <td>0</td>\n",
       "    </tr>\n",
       "    <tr>\n",
       "      <th>sunsetTime</th>\n",
       "      <td>sunsetTime</td>\n",
       "      <td>0.000000</td>\n",
       "      <td>0</td>\n",
       "    </tr>\n",
       "    <tr>\n",
       "      <th>temperatureHigh</th>\n",
       "      <td>temperatureHigh</td>\n",
       "      <td>0.000000</td>\n",
       "      <td>0</td>\n",
       "    </tr>\n",
       "    <tr>\n",
       "      <th>uvIndex</th>\n",
       "      <td>uvIndex</td>\n",
       "      <td>3.579176</td>\n",
       "      <td>33</td>\n",
       "    </tr>\n",
       "    <tr>\n",
       "      <th>precipIntensityMax_cm</th>\n",
       "      <td>precipIntensityMax_cm</td>\n",
       "      <td>9.002169</td>\n",
       "      <td>83</td>\n",
       "    </tr>\n",
       "  </tbody>\n",
       "</table>\n",
       "</div>"
      ],
      "text/plain": [
       "                                     column_name  percent_missing  \\\n",
       "apparentTemperatureHigh  apparentTemperatureHigh         0.000000   \n",
       "apparentTemperatureLow    apparentTemperatureLow         8.893709   \n",
       "cloudCover                            cloudCover        19.739696   \n",
       "precipProbability              precipProbability         9.219089   \n",
       "precipType                            precipType        15.401302   \n",
       "sunriseTime                          sunriseTime         0.000000   \n",
       "sunsetTime                            sunsetTime         0.000000   \n",
       "temperatureHigh                  temperatureHigh         0.000000   \n",
       "uvIndex                                  uvIndex         3.579176   \n",
       "precipIntensityMax_cm      precipIntensityMax_cm         9.002169   \n",
       "\n",
       "                         absolute_missing  \n",
       "apparentTemperatureHigh                 0  \n",
       "apparentTemperatureLow                 82  \n",
       "cloudCover                            182  \n",
       "precipProbability                      85  \n",
       "precipType                            142  \n",
       "sunriseTime                             0  \n",
       "sunsetTime                              0  \n",
       "temperatureHigh                         0  \n",
       "uvIndex                                33  \n",
       "precipIntensityMax_cm                  83  "
      ]
     },
     "execution_count": 114,
     "metadata": {},
     "output_type": "execute_result"
    }
   ],
   "source": [
    "# what missing values there are\n",
    "percent_missing = df.isnull().sum() * 100 / len(df)\n",
    "missing_value_df = pd.DataFrame({'column_name': df.columns,\n",
    "                                 'percent_missing': percent_missing,\n",
    "                                'absolute_missing': df.isnull().sum()})\n",
    "missing_value_df"
   ]
  },
  {
   "cell_type": "markdown",
   "metadata": {},
   "source": [
    "We see that there are around 20% missing values in the cloud coverage, followed by around 15% for the precipitation type and other information on the precipitation. The apparentLow temperature is missing 10% data. We will address that and the other columns carefully."
   ]
  },
  {
   "cell_type": "code",
   "execution_count": 115,
   "metadata": {},
   "outputs": [
    {
     "data": {
      "text/plain": [
       "((929,), (922, 10))"
      ]
     },
     "execution_count": 115,
     "metadata": {},
     "output_type": "execute_result"
    }
   ],
   "source": [
    "# let's see if we have data for all the days\n",
    "start = df.index.min()\n",
    "end = df.index.max()\n",
    "day_range = pd.date_range(start=start, end=end, freq='1D')\n",
    "day_range.shape, df.shape"
   ]
  },
  {
   "cell_type": "markdown",
   "metadata": {},
   "source": [
    "<div class=\"alert alert-block alert-info\">\n",
    "We already knew that 7 days were missing. This can be considered as a Q&A step since this information was not lost.\n",
    "</div>"
   ]
  },
  {
   "cell_type": "code",
   "execution_count": 116,
   "metadata": {},
   "outputs": [
    {
     "data": {
      "text/plain": [
       "[Timestamp('2018-05-21 00:00:00+0200', tz='Europe/Zurich', freq='D'),\n",
       " Timestamp('2018-06-16 00:00:00+0200', tz='Europe/Zurich', freq='D'),\n",
       " Timestamp('2018-07-07 00:00:00+0200', tz='Europe/Zurich', freq='D'),\n",
       " Timestamp('2018-07-08 00:00:00+0200', tz='Europe/Zurich', freq='D'),\n",
       " Timestamp('2018-07-21 00:00:00+0200', tz='Europe/Zurich', freq='D'),\n",
       " Timestamp('2018-07-22 00:00:00+0200', tz='Europe/Zurich', freq='D'),\n",
       " Timestamp('2018-08-11 00:00:00+0200', tz='Europe/Zurich', freq='D')]"
      ]
     },
     "execution_count": 116,
     "metadata": {},
     "output_type": "execute_result"
    }
   ],
   "source": [
    "# what are the missing days\n",
    "missing_days = [day for day in day_range if day not in df.index]\n",
    "missing_days"
   ]
  },
  {
   "cell_type": "markdown",
   "metadata": {},
   "source": [
    "<a id=6> </a> \n",
    "## 6. Temperature columns\n",
    "\n",
    "Let us look closer at the temperature columns."
   ]
  },
  {
   "cell_type": "code",
   "execution_count": 117,
   "metadata": {},
   "outputs": [
    {
     "data": {
      "image/png": "[encoded data removed]",
      "text/plain": [
       "<Figure size 576x360 with 1 Axes>"
      ]
     },
     "metadata": {
      "needs_background": "light"
     },
     "output_type": "display_data"
    }
   ],
   "source": [
    "# %matplotlib widget\n",
    "%matplotlib inline\n",
    "\n",
    "fig, ax = plt.subplots(figsize=(8,5))\n",
    "\n",
    "X = df.index.values\n",
    "\n",
    "# apparent \n",
    "col = 'apparentTemperatureHigh'\n",
    "Y = df[col].values\n",
    "plt.plot(X, Y, label=col)\n",
    "\n",
    "col = 'temperatureHigh'\n",
    "Y = df[col].values\n",
    "plt.plot(X, Y, label=col)\n",
    "\n",
    "col = 'apparentTemperatureLow'\n",
    "Y = df[col].values\n",
    "plt.plot(X, Y, label=col)\n",
    "\n",
    "\n",
    "ax.xaxis.set_major_formatter(mdates.DateFormatter('%Y %b'))\n",
    "plt.xticks(rotation=45)\n",
    "plt.xlabel('Date')\n",
    "plt.ylabel('Temperature in degree celcius')\n",
    "plt.legend()\n",
    "plt.tight_layout()\n",
    "plt.show()"
   ]
  },
  {
   "cell_type": "markdown",
   "metadata": {},
   "source": [
    "What we see here as a takeaway is that the temperature follows a seasonal trend. The (high) temperatures are low in the winter and high in the summer. It is also rarely below 0 degC. It must be kept in mind that this is not the mean or median temperature, but the daytime high temperature!"
   ]
  },
  {
   "cell_type": "code",
   "execution_count": 118,
   "metadata": {},
   "outputs": [
    {
     "data": {
      "image/png": "[encoded data removed]",
      "text/plain": [
       "<Figure size 648x360 with 1 Axes>"
      ]
     },
     "metadata": {
      "needs_background": "light"
     },
     "output_type": "display_data"
    }
   ],
   "source": [
    "plt.figure(figsize=(9,5))\n",
    "sns.violinplot(data=df[['temperatureHigh', 'apparentTemperatureHigh', 'apparentTemperatureLow']], inner='quartile', bw=0.1)\n",
    "plt.xticks(fontsize=8)\n",
    "plt.tight_layout()\n",
    "plt.show()"
   ]
  },
  {
   "cell_type": "markdown",
   "metadata": {},
   "source": [
    "The `temperatureHigh` and `apparentTemperatureHigh` are similar (their inter quartile ranges agree very well), but the daytime low temperature is different from them. This we have already seen from the `describe()` function that we used earlier."
   ]
  },
  {
   "cell_type": "code",
   "execution_count": 119,
   "metadata": {},
   "outputs": [
    {
     "data": {
      "text/plain": [
       "(Timestamp('2018-05-19 00:00:00+0200', tz='Europe/Zurich'),\n",
       " Timestamp('2018-08-18 00:00:00+0200', tz='Europe/Zurich'))"
      ]
     },
     "execution_count": 119,
     "metadata": {},
     "output_type": "execute_result"
    }
   ],
   "source": [
    "col = 'apparentTemperatureLow'\n",
    "# what are the dates when the precipitation is missing values\n",
    "miss_tempLow = df.index[df[col].isna()]\n",
    "miss_tempLow.min(),miss_tempLow.max()"
   ]
  },
  {
   "cell_type": "markdown",
   "metadata": {},
   "source": [
    "Temperature data from the column `apparentTemperatureLow` is missing from May 2018 to August 2018."
   ]
  },
  {
   "cell_type": "markdown",
   "metadata": {},
   "source": [
    "<a id=7> </a> \n",
    "## 7. Precipitation columns"
   ]
  },
  {
   "cell_type": "code",
   "execution_count": 121,
   "metadata": {},
   "outputs": [
    {
     "data": {
      "image/png": "[encoded data removed]",
      "text/plain": [
       "<Figure size 648x360 with 1 Axes>"
      ]
     },
     "metadata": {
      "needs_background": "light"
     },
     "output_type": "display_data"
    }
   ],
   "source": [
    "# %matplotlib widget\n",
    "%matplotlib inline\n",
    "\n",
    "fig, ax = plt.subplots(figsize=(9,5))\n",
    "\n",
    "X = df.index.values\n",
    "\n",
    "\n",
    "col = 'precipIntensityMax_cm'\n",
    "Y = df[col].values\n",
    "plt.plot(X, Y, label=col)\n",
    "\n",
    "\n",
    "ax.xaxis.set_major_formatter(mdates.DateFormatter('%Y %b'))\n",
    "plt.xticks(rotation=45)\n",
    "plt.xlabel('Date')\n",
    "plt.ylabel('Precipitation intensity in cm of liquid water per hour')\n",
    "plt.legend()\n",
    "plt.tight_layout()\n",
    "plt.show()"
   ]
  },
  {
   "cell_type": "markdown",
   "metadata": {},
   "source": [
    "<div class=\"alert alert-block alert-danger\">\n",
    "First of all we see that there are missing values for the precipitation from April 2018 until July 2018. Also there is an extreme value compared to the rest in June 2019 with more than 70 cm per hour of water. Let us first investigate this outlier .\n",
    "    </div>"
   ]
  },
  {
   "cell_type": "markdown",
   "metadata": {},
   "source": [
    "#### Outlier June 2019 precipitation intensity\n",
    "\n",
    "Corerct the outlier by replacing it with the mean of datapoints around."
   ]
  },
  {
   "cell_type": "code",
   "execution_count": 122,
   "metadata": {},
   "outputs": [
    {
     "data": {
      "text/html": [
       "<div>\n",
       "<style scoped>\n",
       "    .dataframe tbody tr th:only-of-type {\n",
       "        vertical-align: middle;\n",
       "    }\n",
       "\n",
       "    .dataframe tbody tr th {\n",
       "        vertical-align: top;\n",
       "    }\n",
       "\n",
       "    .dataframe thead th {\n",
       "        text-align: right;\n",
       "    }\n",
       "</style>\n",
       "<table border=\"1\" class=\"dataframe\">\n",
       "  <thead>\n",
       "    <tr style=\"text-align: right;\">\n",
       "      <th></th>\n",
       "      <th>precipIntensityMax_cm</th>\n",
       "      <th>precipProbability</th>\n",
       "      <th>precipType</th>\n",
       "    </tr>\n",
       "    <tr>\n",
       "      <th>time</th>\n",
       "      <th></th>\n",
       "      <th></th>\n",
       "      <th></th>\n",
       "    </tr>\n",
       "  </thead>\n",
       "  <tbody>\n",
       "    <tr>\n",
       "      <th>2019-06-15 00:00:00+02:00</th>\n",
       "      <td>71.308722</td>\n",
       "      <td>0.92</td>\n",
       "      <td>rain</td>\n",
       "    </tr>\n",
       "  </tbody>\n",
       "</table>\n",
       "</div>"
      ],
      "text/plain": [
       "                           precipIntensityMax_cm  precipProbability precipType\n",
       "time                                                                          \n",
       "2019-06-15 00:00:00+02:00              71.308722               0.92       rain"
      ]
     },
     "execution_count": 122,
     "metadata": {},
     "output_type": "execute_result"
    }
   ],
   "source": [
    "df.loc[:, ['precipIntensityMax_cm', 'precipProbability', 'precipType']].loc[df['precipIntensityMax_cm'] == df['precipIntensityMax_cm'].max()]"
   ]
  },
  {
   "cell_type": "markdown",
   "metadata": {},
   "source": [
    "There is no exceptional for that day in the historical weather. More confusingly, there was no rain recorded that day. It must be an error and will hence be removed and replaced with the mean of the 10 days around that date."
   ]
  },
  {
   "cell_type": "code",
   "execution_count": 123,
   "metadata": {},
   "outputs": [],
   "source": [
    "# replace with np.nan\n",
    "df.loc[df.index.date == pd.to_datetime(\"2019-06-15\"), 'precipIntensityMax_cm'] = np.nan"
   ]
  },
  {
   "cell_type": "code",
   "execution_count": 124,
   "metadata": {},
   "outputs": [],
   "source": [
    "date_min = pd.to_datetime(\"2019-06-10\")\n",
    "date_max = pd.to_datetime(\"2019-06-20\")\n",
    "mean = np.mean(df.loc[:, ['precipIntensityMax_cm']].loc[(df.index.date >= date_min) & (df.index.date <= date_max)]).values[0]\n",
    "df.loc[df.index.date == pd.to_datetime(\"2019-06-15\"), 'precipIntensityMax_cm'] = mean"
   ]
  },
  {
   "cell_type": "code",
   "execution_count": 125,
   "metadata": {},
   "outputs": [
    {
     "data": {
      "text/plain": [
       "time\n",
       "2019-06-15 00:00:00+02:00    2.158187\n",
       "Name: precipIntensityMax_cm, dtype: float64"
      ]
     },
     "execution_count": 125,
     "metadata": {},
     "output_type": "execute_result"
    }
   ],
   "source": [
    "df.loc[df.index.date == pd.to_datetime(\"2019-06-15\"), 'precipIntensityMax_cm']"
   ]
  },
  {
   "cell_type": "code",
   "execution_count": 126,
   "metadata": {},
   "outputs": [
    {
     "data": {
      "image/png": "[encoded data removed]",
      "text/plain": [
       "<Figure size 648x360 with 1 Axes>"
      ]
     },
     "metadata": {
      "needs_background": "light"
     },
     "output_type": "display_data"
    }
   ],
   "source": [
    "# %matplotlib widget\n",
    "%matplotlib inline\n",
    "\n",
    "fig, ax = plt.subplots(figsize=(9,5))\n",
    "\n",
    "X = df.index.values\n",
    "\n",
    "\n",
    "col = 'precipIntensityMax_cm'\n",
    "Y = df[col].values\n",
    "plt.plot(X, Y, label=col)\n",
    "\n",
    "\n",
    "ax.xaxis.set_major_formatter(mdates.DateFormatter('%Y %b'))\n",
    "plt.xticks(rotation=45)\n",
    "plt.xlabel('Date')\n",
    "plt.ylabel('Precipitation intensity in cm of liquid water per hour')\n",
    "plt.legend()\n",
    "plt.tight_layout()\n",
    "plt.show()"
   ]
  },
  {
   "cell_type": "code",
   "execution_count": 127,
   "metadata": {},
   "outputs": [
    {
     "data": {
      "text/plain": [
       "(Timestamp('2018-05-20 00:00:00+0200', tz='Europe/Zurich'),\n",
       " Timestamp('2018-08-18 00:00:00+0200', tz='Europe/Zurich'))"
      ]
     },
     "execution_count": 127,
     "metadata": {},
     "output_type": "execute_result"
    }
   ],
   "source": [
    "col = 'precipIntensityMax_cm'\n",
    "# what are the dates when the precipitation is missing values\n",
    "miss_precipIntensity = df.index[df[col].isna()]\n",
    "miss_precipIntensity.min(),miss_precipIntensity.max(),"
   ]
  },
  {
   "cell_type": "markdown",
   "metadata": {},
   "source": [
    "Let us also check `precipProbability`."
   ]
  },
  {
   "cell_type": "code",
   "execution_count": 128,
   "metadata": {},
   "outputs": [
    {
     "data": {
      "image/png": "[encoded data removed]",
      "text/plain": [
       "<Figure size 648x360 with 1 Axes>"
      ]
     },
     "metadata": {
      "needs_background": "light"
     },
     "output_type": "display_data"
    }
   ],
   "source": [
    "# %matplotlib widget\n",
    "%matplotlib inline\n",
    "\n",
    "fig, ax = plt.subplots(figsize=(9,5))\n",
    "\n",
    "X = df.index.values\n",
    "\n",
    "\n",
    "col = 'precipProbability'\n",
    "Y = df[col].values\n",
    "plt.scatter(X, Y, marker='+', label=col)\n",
    "\n",
    "missing = df[col].isna()\n",
    "# randomly distribute the missing values\n",
    "plt.scatter(X[missing], np.random.ranf(size=missing.sum()), marker='o', label='missing', c='red', s=5)\n",
    "\n",
    "\n",
    "ax.xaxis.set_major_formatter(mdates.DateFormatter('%Y %b'))\n",
    "plt.xticks(rotation=45)\n",
    "plt.xlabel('Date')\n",
    "plt.ylabel('Precipitation probability')\n",
    "plt.legend()\n",
    "plt.tight_layout()\n",
    "plt.show()"
   ]
  },
  {
   "cell_type": "code",
   "execution_count": 129,
   "metadata": {},
   "outputs": [
    {
     "data": {
      "text/plain": [
       "(Timestamp('2018-05-20 00:00:00+0200', tz='Europe/Zurich'),\n",
       " Timestamp('2018-08-19 00:00:00+0200', tz='Europe/Zurich'))"
      ]
     },
     "execution_count": 129,
     "metadata": {},
     "output_type": "execute_result"
    }
   ],
   "source": [
    "col = 'precipProbability'\n",
    "# what are the dates when the precipitation is missing values\n",
    "miss_precipProba = df.index[df[col].isna()]\n",
    "miss_precipProba.min(), miss_precipProba.max(),"
   ]
  },
  {
   "cell_type": "markdown",
   "metadata": {},
   "source": [
    "Also for `precipProbability` we see that there are missing values in the period from May to August 2018. We will take care of missing values later. Let's for now see what type of precipitation we have."
   ]
  },
  {
   "cell_type": "code",
   "execution_count": 130,
   "metadata": {},
   "outputs": [
    {
     "data": {
      "text/plain": [
       "rain    723\n",
       "snow     57\n",
       "Name: precipType, dtype: int64"
      ]
     },
     "execution_count": 130,
     "metadata": {},
     "output_type": "execute_result"
    }
   ],
   "source": [
    "df['precipType'].value_counts()\n"
   ]
  },
  {
   "cell_type": "markdown",
   "metadata": {},
   "source": [
    "There is either snow, rain, or a missing value (that we know from earlier). Let's visualize that."
   ]
  },
  {
   "cell_type": "code",
   "execution_count": 131,
   "metadata": {},
   "outputs": [
    {
     "data": {
      "image/png": "[encoded data removed]",
      "text/plain": [
       "<Figure size 720x360 with 1 Axes>"
      ]
     },
     "metadata": {
      "needs_background": "light"
     },
     "output_type": "display_data"
    }
   ],
   "source": [
    "# %matplotlib widget\n",
    "%matplotlib inline\n",
    "\n",
    "# let's encode either rain, snow, or missing\n",
    "d = {\"rain\": 1, \"snow\": 2, np.nan: 0}\n",
    "enc = df['precipType'].map(d)\n",
    "rain = enc == 1\n",
    "snow = enc == 2\n",
    "missing = enc == 0\n",
    "\n",
    "fig, ax = plt.subplots(figsize = (10,5))\n",
    "plt.scatter(df[rain].index, enc[rain], marker='+', c='blue', label = 'rain')\n",
    "plt.scatter(df[snow].index, enc[snow], marker='+', c='red', label = 'snow')\n",
    "plt.scatter(df[missing].index, enc[missing], marker='+', c='green', label = 'missing')\n",
    "ax.xaxis.set_major_formatter(mdates.DateFormatter('%Y %b'))\n",
    "plt.xticks(rotation=45)\n",
    "plt.legend()\n",
    "plt.tight_layout()\n",
    "plt.show()"
   ]
  },
  {
   "cell_type": "markdown",
   "metadata": {},
   "source": [
    "We see that the majority of the precipitation was rain. There is also a significant amount of data missing (15%), mostly in the period from May 2018 to August 2018. For some days, missing precipitation type could mean 0 precipitation (no rain, no snow). Let us check this hypothesis by comparing the precipitation intensity with the precipitation type. DarkSky says in the documentation \"If precipIntensity is zero, then this property will not be defined.\", which supports this hypothesis further."
   ]
  },
  {
   "cell_type": "code",
   "execution_count": 132,
   "metadata": {},
   "outputs": [
    {
     "data": {
      "text/plain": [
       "(0.0    59\n",
       " Name: precipProbability, dtype: int64,\n",
       " (142, 2))"
      ]
     },
     "execution_count": 132,
     "metadata": {},
     "output_type": "execute_result"
    }
   ],
   "source": [
    "missing_precip_type = df['precipType'].isna()\n",
    "\n",
    "# no precipitation type\n",
    "bad = df.loc[(missing_precip_type), ['precipProbability', 'precipType']]\n",
    "bad['precipProbability'].value_counts(), bad.shape"
   ]
  },
  {
   "cell_type": "markdown",
   "metadata": {},
   "source": [
    "The 83 values (142-59) that are missing in the precipitation type are also missing values in the probability. 59 out of the 142 missing values are 0 precipitation probabilities (which is fine according to the DarkSky definition). Let's also check from the other side, if precipitation probability is 0, is the type then also nan?"
   ]
  },
  {
   "cell_type": "code",
   "execution_count": 133,
   "metadata": {},
   "outputs": [
    {
     "data": {
      "text/plain": [
       "(Series([], Name: precipType, dtype: int64), (59, 2))"
      ]
     },
     "execution_count": 133,
     "metadata": {},
     "output_type": "execute_result"
    }
   ],
   "source": [
    "# days where the probability for precipitation was 0\n",
    "no_precip_proba = df['precipProbability'] == 0\n",
    "bad = df.loc[(no_precip_proba), ['precipProbability', 'precipType']]\n",
    "bad['precipType'].value_counts(), bad.shape"
   ]
  },
  {
   "cell_type": "markdown",
   "metadata": {},
   "source": [
    "This analysis concludes that indeed, if there is 0 precipitation probability, then there is no precipitation. Lets encode this in the type column."
   ]
  },
  {
   "cell_type": "code",
   "execution_count": 134,
   "metadata": {},
   "outputs": [
    {
     "data": {
      "text/html": [
       "<div>\n",
       "<style scoped>\n",
       "    .dataframe tbody tr th:only-of-type {\n",
       "        vertical-align: middle;\n",
       "    }\n",
       "\n",
       "    .dataframe tbody tr th {\n",
       "        vertical-align: top;\n",
       "    }\n",
       "\n",
       "    .dataframe thead th {\n",
       "        text-align: right;\n",
       "    }\n",
       "</style>\n",
       "<table border=\"1\" class=\"dataframe\">\n",
       "  <thead>\n",
       "    <tr style=\"text-align: right;\">\n",
       "      <th></th>\n",
       "      <th>precipProbability</th>\n",
       "      <th>precipType</th>\n",
       "    </tr>\n",
       "    <tr>\n",
       "      <th>time</th>\n",
       "      <th></th>\n",
       "      <th></th>\n",
       "    </tr>\n",
       "  </thead>\n",
       "  <tbody>\n",
       "    <tr>\n",
       "      <th>2017-10-11 00:00:00+02:00</th>\n",
       "      <td>0.0</td>\n",
       "      <td>none</td>\n",
       "    </tr>\n",
       "    <tr>\n",
       "      <th>2017-10-12 00:00:00+02:00</th>\n",
       "      <td>0.0</td>\n",
       "      <td>none</td>\n",
       "    </tr>\n",
       "    <tr>\n",
       "      <th>2017-10-16 00:00:00+02:00</th>\n",
       "      <td>0.0</td>\n",
       "      <td>none</td>\n",
       "    </tr>\n",
       "    <tr>\n",
       "      <th>2017-10-17 00:00:00+02:00</th>\n",
       "      <td>0.0</td>\n",
       "      <td>none</td>\n",
       "    </tr>\n",
       "    <tr>\n",
       "      <th>2017-10-19 00:00:00+02:00</th>\n",
       "      <td>0.0</td>\n",
       "      <td>none</td>\n",
       "    </tr>\n",
       "  </tbody>\n",
       "</table>\n",
       "</div>"
      ],
      "text/plain": [
       "                           precipProbability precipType\n",
       "time                                                   \n",
       "2017-10-11 00:00:00+02:00                0.0       none\n",
       "2017-10-12 00:00:00+02:00                0.0       none\n",
       "2017-10-16 00:00:00+02:00                0.0       none\n",
       "2017-10-17 00:00:00+02:00                0.0       none\n",
       "2017-10-19 00:00:00+02:00                0.0       none"
      ]
     },
     "execution_count": 134,
     "metadata": {},
     "output_type": "execute_result"
    }
   ],
   "source": [
    "df.loc[(no_precip_proba), 'precipType'] = 'none'\n",
    "df.loc[(no_precip_proba), ['precipProbability', 'precipType']].head()"
   ]
  },
  {
   "cell_type": "code",
   "execution_count": 135,
   "metadata": {},
   "outputs": [
    {
     "data": {
      "image/png": "[encoded data removed]",
      "text/plain": [
       "<Figure size 720x288 with 1 Axes>"
      ]
     },
     "metadata": {
      "needs_background": "light"
     },
     "output_type": "display_data"
    }
   ],
   "source": [
    "# %matplotlib widget\n",
    "%matplotlib inline\n",
    "\n",
    "# let's encode either rain, snow, or missing\n",
    "d = {\"rain\": 1, \"snow\": 2, \"none\": 0, np.nan: -1}\n",
    "enc = df['precipType'].map(d)\n",
    "rain = enc == 1\n",
    "snow = enc == 2\n",
    "missing = enc == -1\n",
    "none = enc == 0\n",
    "\n",
    "fig, ax = plt.subplots(figsize = (10,4))\n",
    "plt.scatter(df[rain].index, enc[rain], marker='+', c='blue', label = 'rain')\n",
    "plt.scatter(df[snow].index, enc[snow], marker='+', c='red', label = 'snow')\n",
    "plt.scatter(df[none].index, enc[none], marker='+', c='orange', label = 'none')\n",
    "plt.scatter(df[missing].index, enc[missing], marker='+', c='green', label = 'missing')\n",
    "ax.xaxis.set_major_formatter(mdates.DateFormatter('%Y %b'))\n",
    "plt.xticks(rotation=45)\n",
    "plt.legend()\n",
    "plt.tight_layout()\n",
    "plt.show()"
   ]
  },
  {
   "cell_type": "markdown",
   "metadata": {},
   "source": [
    "Now it is more evident that the missing values are concentrated in the green region, i.e. from May 2018 until August 2018. We also see here that there are the overall 7 missing entries, since for example in the region of the green crosses there are some missing days."
   ]
  },
  {
   "cell_type": "markdown",
   "metadata": {},
   "source": [
    "<a id=8> </a> \n",
    "## 8. Cloud coverage"
   ]
  },
  {
   "cell_type": "code",
   "execution_count": 136,
   "metadata": {},
   "outputs": [
    {
     "data": {
      "image/png": "[encoded data removed]",
      "text/plain": [
       "<Figure size 648x360 with 1 Axes>"
      ]
     },
     "metadata": {
      "needs_background": "light"
     },
     "output_type": "display_data"
    }
   ],
   "source": [
    "# %matplotlib widget\n",
    "%matplotlib inline\n",
    "\n",
    "fig, ax = plt.subplots(figsize=(9,5))\n",
    "\n",
    "X = df.index\n",
    "\n",
    "\n",
    "col = 'cloudCover'\n",
    "Y = df[col].values\n",
    "plt.scatter(X, Y, marker='+', label=col)\n",
    "\n",
    "missing = df[col].isna()\n",
    "# randomly distribute the missing values\n",
    "plt.scatter(X[missing], np.random.ranf(size=missing.sum()), marker='o', label='missing', c='red', s=5)\n",
    "\n",
    "\n",
    "ax.xaxis.set_major_formatter(mdates.DateFormatter('%Y %b'))\n",
    "plt.xticks(rotation=45)\n",
    "plt.xlabel('Date')\n",
    "plt.ylabel('Cloud coverage')\n",
    "plt.legend()\n",
    "plt.tight_layout()\n",
    "plt.show()"
   ]
  },
  {
   "cell_type": "code",
   "execution_count": 137,
   "metadata": {},
   "outputs": [
    {
     "data": {
      "text/plain": [
       "Timestamp('2018-08-18 00:00:00+0200', tz='Europe/Zurich')"
      ]
     },
     "execution_count": 137,
     "metadata": {},
     "output_type": "execute_result"
    }
   ],
   "source": [
    "# latest day with missing values\n",
    "df[df['cloudCover'].isna()].index.max()"
   ]
  },
  {
   "cell_type": "markdown",
   "metadata": {},
   "source": [
    "We see that the missing values are only present in the days before July/August 2018. The latest day with missing values is August 8, 2018."
   ]
  },
  {
   "cell_type": "markdown",
   "metadata": {},
   "source": [
    "<a id=9> </a> \n",
    "## 9. Sunrise and -set time\n",
    "Let's check if the sun set was always after the sun rise"
   ]
  },
  {
   "cell_type": "code",
   "execution_count": 138,
   "metadata": {},
   "outputs": [],
   "source": [
    "# how long the sun was up in hours\n",
    "df['sun_uptime'] = (df['sunsetTime'] - df['sunriseTime']).dt.seconds / 60 / 60"
   ]
  },
  {
   "cell_type": "code",
   "execution_count": 140,
   "metadata": {},
   "outputs": [
    {
     "data": {
      "image/png": "[encoded data removed]",
      "text/plain": [
       "<Figure size 648x360 with 1 Axes>"
      ]
     },
     "metadata": {
      "needs_background": "light"
     },
     "output_type": "display_data"
    }
   ],
   "source": [
    "# %matplotlib widget\n",
    "%matplotlib inline\n",
    "\n",
    "fig, ax = plt.subplots(figsize=(9,5))\n",
    "\n",
    "X = df.index\n",
    "\n",
    "\n",
    "col = 'sun_uptime'\n",
    "Y = df[col].values\n",
    "plt.scatter(X, Y, marker='.', label=col)\n",
    "\n",
    "ax.xaxis.set_major_formatter(mdates.DateFormatter('%Y %b'))\n",
    "plt.xticks(rotation=45)\n",
    "plt.xlabel('Date')\n",
    "plt.ylabel('Sun uptime [h]')\n",
    "plt.legend()\n",
    "plt.tight_layout()\n",
    "plt.show()"
   ]
  },
  {
   "cell_type": "code",
   "execution_count": 141,
   "metadata": {},
   "outputs": [
    {
     "data": {
      "text/plain": [
       "0"
      ]
     },
     "execution_count": 141,
     "metadata": {},
     "output_type": "execute_result"
    }
   ],
   "source": [
    "df['sun_uptime'].isna().sum()"
   ]
  },
  {
   "cell_type": "markdown",
   "metadata": {},
   "source": [
    "We see that this is perfectly cyclical, it could be that this data was simulated. We also have no missing values."
   ]
  },
  {
   "cell_type": "markdown",
   "metadata": {},
   "source": [
    "<a id=10> </a> \n",
    "## 10. UV index"
   ]
  },
  {
   "cell_type": "code",
   "execution_count": 142,
   "metadata": {},
   "outputs": [
    {
     "data": {
      "image/png": "[encoded data removed]",
      "text/plain": [
       "<Figure size 648x360 with 1 Axes>"
      ]
     },
     "metadata": {
      "needs_background": "light"
     },
     "output_type": "display_data"
    }
   ],
   "source": [
    "# %matplotlib widget\n",
    "%matplotlib inline\n",
    "\n",
    "fig, ax = plt.subplots(figsize=(9,5))\n",
    "\n",
    "X = df.index\n",
    "\n",
    "\n",
    "col = 'uvIndex'\n",
    "Y = df[col].values\n",
    "plt.scatter(X, Y, marker='+', label=col)\n",
    "\n",
    "missing = df[col].isna()\n",
    "# randomly distribute the missing values\n",
    "plt.scatter(X[missing], np.random.ranf(size=missing.sum())*9, marker='o', label='missing', c='red', s=5)\n",
    "\n",
    "\n",
    "ax.xaxis.set_major_formatter(mdates.DateFormatter('%Y %b'))\n",
    "plt.xticks(rotation=45)\n",
    "plt.xlabel('Date')\n",
    "plt.ylabel('uvIndex')\n",
    "plt.legend()\n",
    "plt.tight_layout()\n",
    "plt.show()"
   ]
  },
  {
   "cell_type": "code",
   "execution_count": 143,
   "metadata": {},
   "outputs": [
    {
     "data": {
      "text/plain": [
       "(Timestamp('2018-05-19 00:00:00+0200', tz='Europe/Zurich'),\n",
       " Timestamp('2018-07-30 00:00:00+0200', tz='Europe/Zurich'))"
      ]
     },
     "execution_count": 143,
     "metadata": {},
     "output_type": "execute_result"
    }
   ],
   "source": [
    "# missing values\n",
    "df[df['uvIndex'].isna()].index.min(), df[df['uvIndex'].isna()].index.max()"
   ]
  },
  {
   "cell_type": "code",
   "execution_count": 144,
   "metadata": {},
   "outputs": [
    {
     "data": {
      "text/plain": [
       "Timestamp('2018-08-16 00:00:00+0200', tz='Europe/Zurich')"
      ]
     },
     "execution_count": 144,
     "metadata": {},
     "output_type": "execute_result"
    }
   ],
   "source": [
    "# 0 values\n",
    "df[df['uvIndex'] == 0].index.max()"
   ]
  },
  {
   "cell_type": "markdown",
   "metadata": {},
   "source": [
    "<div class=\"alert alert-block alert-danger\">\n",
    "We see that before August 16, 2018, there were some 0 uvIndexes which did not occur in the later days. It also seems that the values are shifted between the period before that day and after, looking at the maximum uvIndex (which was 8 before and is after August 2018 around 9). <br><br>\n",
    "    \n",
    "    \n",
    "DarkSky announced on August 16, 2018: \"\"\"We have made adjustments to our temperature and UV index models, which should now be more accurate, especially in areas that were previously prone to substantial microclimate effects (coastal areas, mountainous areas, etc.)\"\"\"\n",
    "<br><br>\n",
    "This means that there was a way in how the model calculated the uvIndex. This column might not be as useful hence!\n",
    "</div>\n",
    "Missing values are present from 2018-05-19 until 2018-07-30, again in the same region as there were missing values for other columns."
   ]
  },
  {
   "cell_type": "markdown",
   "metadata": {},
   "source": [
    "<a id=11> </a> \n",
    "## 11. Correlation matrix"
   ]
  },
  {
   "cell_type": "code",
   "execution_count": 148,
   "metadata": {},
   "outputs": [
    {
     "data": {
      "image/png": "[encoded data removed]",
      "text/plain": [
       "<Figure size 432x360 with 2 Axes>"
      ]
     },
     "metadata": {
      "needs_background": "light"
     },
     "output_type": "display_data"
    }
   ],
   "source": [
    "# %matplotlib widget\n",
    "%matplotlib inline\n",
    "\n",
    "fig, ax = plt.subplots(figsize=(6,5))\n",
    "sns.heatmap(df.corr(), ax=ax, annot=True, cmap='viridis', fmt=\"0.2f\");\n",
    "plt.xticks(fontsize=7)\n",
    "plt.yticks(fontsize=7)\n",
    "plt.tight_layout()\n",
    "plt.savefig(\"corr_mat.png\", dpi=600)\n",
    "plt.show()\n"
   ]
  },
  {
   "cell_type": "markdown",
   "metadata": {},
   "source": [
    "From the correlation matrix we see that the temperature columns are highly positively correlated (unsurprisingly). Also, the sun uptime is correlated strongly with the temperature columns and the uvIndex (as it measures the amount of ultraviolet radiation produced that is not at all suprising, this will be larger for longer hours of sun uptime). We also see that the cloud coverage is correlated with the precipidation probability, which makes sense since clouds are required if there is precipitation. uvIndex correlates highly with the sun uptime and the temperatures."
   ]
  },
  {
   "cell_type": "markdown",
   "metadata": {},
   "source": [
    "<a id=12> </a> \n",
    "## 12. Findings from EDA\n",
    "\n",
    "- **Overall**\n",
    "    - There are seven missing days with no data\n",
    "    \n",
    "    \n",
    "- **Temperature**\n",
    "    - Daytime temperature are mostly above 0 degC, there is a seasonal trend\n",
    "    - Low daytime temperatures (`apparentTemperatureLow`) are missing from 2018-05-19 until 2018-05-18\n",
    "    - `apparentTemperatureLow` ranged from -11 degC until 24 degC, mean 15 degC\n",
    "    - `apparentTemperatureHigh` ranged from -7 degC until 42 degC, mean 5 degC\n",
    "    - `temperatureHigh` ranged from -5 degC until 37 degC, mean 16 degC\n",
    "    \n",
    "    \n",
    "- **Precipitation**\n",
    "    - There are missing values in the `precip`-columns for the period from 2018-05-20 to August 2018-05-19\n",
    "    - There is one outlier in the intensity of precipitation that we corrected for using nearby precipitation values (± 5 days)\n",
    "    - `precipProbability` ranged from 0 to 1, with mean of 0.45\n",
    "    - `precipIntensityMax_cm` ranged from 0 cm to 25 cm, with mean of 2 cm per hour\n",
    "    - `precipTypes` were either rain, snow, none, or missing\n",
    "\n",
    "\n",
    "- **Cloud coverage**\n",
    "    - There are missing values (20%) for days before 2020-08-08\n",
    "    - `cloudCover` ranged from 0 to 1, with mean of 0.6\n",
    "\n",
    "\n",
    "- **Sun uptime**\n",
    "    - The hours the sun was up follows a seasonal trend\n",
    "    - `sun_uptime` ranged between 8 and 16 hours of sun per day, mean of 12 hours\n",
    "    \n",
    "    \n",
    "- **uvIndex**\n",
    "    - There are missing values in the range where other columns also have missing values\n",
    "    - There is a big problem with these values, since there was a change in the model that DarkSky uses on August 16, 2018. uvIndizes before that time show a different distribution than how it was after this change. The column might not be as useful in the model\n",
    "    - `uvIndex` ranged between 0 and 1, mean 3\n",
    "    \n",
    "    "
   ]
  },
  {
   "cell_type": "code",
   "execution_count": 146,
   "metadata": {},
   "outputs": [
    {
     "data": {
      "text/html": [
       "<div>\n",
       "<style scoped>\n",
       "    .dataframe tbody tr th:only-of-type {\n",
       "        vertical-align: middle;\n",
       "    }\n",
       "\n",
       "    .dataframe tbody tr th {\n",
       "        vertical-align: top;\n",
       "    }\n",
       "\n",
       "    .dataframe thead th {\n",
       "        text-align: right;\n",
       "    }\n",
       "</style>\n",
       "<table border=\"1\" class=\"dataframe\">\n",
       "  <thead>\n",
       "    <tr style=\"text-align: right;\">\n",
       "      <th></th>\n",
       "      <th>apparentTemperatureHigh</th>\n",
       "      <th>apparentTemperatureLow</th>\n",
       "      <th>cloudCover</th>\n",
       "      <th>precipProbability</th>\n",
       "      <th>temperatureHigh</th>\n",
       "      <th>uvIndex</th>\n",
       "      <th>precipIntensityMax_cm</th>\n",
       "      <th>sun_uptime</th>\n",
       "    </tr>\n",
       "  </thead>\n",
       "  <tbody>\n",
       "    <tr>\n",
       "      <th>count</th>\n",
       "      <td>922.000000</td>\n",
       "      <td>840.000000</td>\n",
       "      <td>740.000000</td>\n",
       "      <td>837.000000</td>\n",
       "      <td>922.000000</td>\n",
       "      <td>889.000000</td>\n",
       "      <td>839.000000</td>\n",
       "      <td>922.000000</td>\n",
       "    </tr>\n",
       "    <tr>\n",
       "      <th>mean</th>\n",
       "      <td>15.049284</td>\n",
       "      <td>4.716512</td>\n",
       "      <td>0.625838</td>\n",
       "      <td>0.452461</td>\n",
       "      <td>15.586985</td>\n",
       "      <td>2.817773</td>\n",
       "      <td>1.588682</td>\n",
       "      <td>11.782646</td>\n",
       "    </tr>\n",
       "    <tr>\n",
       "      <th>std</th>\n",
       "      <td>9.064251</td>\n",
       "      <td>6.593031</td>\n",
       "      <td>0.299811</td>\n",
       "      <td>0.383607</td>\n",
       "      <td>8.603653</td>\n",
       "      <td>2.215445</td>\n",
       "      <td>2.531118</td>\n",
       "      <td>2.558343</td>\n",
       "    </tr>\n",
       "    <tr>\n",
       "      <th>min</th>\n",
       "      <td>-6.940000</td>\n",
       "      <td>-11.380000</td>\n",
       "      <td>0.000000</td>\n",
       "      <td>0.000000</td>\n",
       "      <td>-4.870000</td>\n",
       "      <td>0.000000</td>\n",
       "      <td>0.000000</td>\n",
       "      <td>8.366667</td>\n",
       "    </tr>\n",
       "    <tr>\n",
       "      <th>25%</th>\n",
       "      <td>7.120000</td>\n",
       "      <td>-0.357500</td>\n",
       "      <td>0.400000</td>\n",
       "      <td>0.050000</td>\n",
       "      <td>8.307500</td>\n",
       "      <td>1.000000</td>\n",
       "      <td>0.025908</td>\n",
       "      <td>9.370833</td>\n",
       "    </tr>\n",
       "    <tr>\n",
       "      <th>50%</th>\n",
       "      <td>14.160000</td>\n",
       "      <td>4.045000</td>\n",
       "      <td>0.715000</td>\n",
       "      <td>0.420000</td>\n",
       "      <td>14.440000</td>\n",
       "      <td>2.000000</td>\n",
       "      <td>0.448056</td>\n",
       "      <td>11.450000</td>\n",
       "    </tr>\n",
       "    <tr>\n",
       "      <th>75%</th>\n",
       "      <td>22.482500</td>\n",
       "      <td>9.342500</td>\n",
       "      <td>0.862500</td>\n",
       "      <td>0.850000</td>\n",
       "      <td>22.762500</td>\n",
       "      <td>4.000000</td>\n",
       "      <td>2.170303</td>\n",
       "      <td>14.079167</td>\n",
       "    </tr>\n",
       "    <tr>\n",
       "      <th>max</th>\n",
       "      <td>41.780000</td>\n",
       "      <td>23.870000</td>\n",
       "      <td>1.000000</td>\n",
       "      <td>1.000000</td>\n",
       "      <td>37.490000</td>\n",
       "      <td>9.000000</td>\n",
       "      <td>25.255220</td>\n",
       "      <td>16.050000</td>\n",
       "    </tr>\n",
       "  </tbody>\n",
       "</table>\n",
       "</div>"
      ],
      "text/plain": [
       "       apparentTemperatureHigh  apparentTemperatureLow  cloudCover  \\\n",
       "count               922.000000              840.000000  740.000000   \n",
       "mean                 15.049284                4.716512    0.625838   \n",
       "std                   9.064251                6.593031    0.299811   \n",
       "min                  -6.940000              -11.380000    0.000000   \n",
       "25%                   7.120000               -0.357500    0.400000   \n",
       "50%                  14.160000                4.045000    0.715000   \n",
       "75%                  22.482500                9.342500    0.862500   \n",
       "max                  41.780000               23.870000    1.000000   \n",
       "\n",
       "       precipProbability  temperatureHigh     uvIndex  precipIntensityMax_cm  \\\n",
       "count         837.000000       922.000000  889.000000             839.000000   \n",
       "mean            0.452461        15.586985    2.817773               1.588682   \n",
       "std             0.383607         8.603653    2.215445               2.531118   \n",
       "min             0.000000        -4.870000    0.000000               0.000000   \n",
       "25%             0.050000         8.307500    1.000000               0.025908   \n",
       "50%             0.420000        14.440000    2.000000               0.448056   \n",
       "75%             0.850000        22.762500    4.000000               2.170303   \n",
       "max             1.000000        37.490000    9.000000              25.255220   \n",
       "\n",
       "       sun_uptime  \n",
       "count  922.000000  \n",
       "mean    11.782646  \n",
       "std      2.558343  \n",
       "min      8.366667  \n",
       "25%      9.370833  \n",
       "50%     11.450000  \n",
       "75%     14.079167  \n",
       "max     16.050000  "
      ]
     },
     "execution_count": 146,
     "metadata": {},
     "output_type": "execute_result"
    }
   ],
   "source": [
    "df.describe()"
   ]
  },
  {
   "cell_type": "code",
   "execution_count": 147,
   "metadata": {},
   "outputs": [
    {
     "name": "stdout",
     "output_type": "stream",
     "text": [
      "<class 'pandas.core.frame.DataFrame'>\n",
      "DatetimeIndex: 922 entries, 2017-10-01 00:00:00+02:00 to 2020-04-16 00:00:00+02:00\n",
      "Data columns (total 11 columns):\n",
      " #   Column                   Non-Null Count  Dtype                        \n",
      "---  ------                   --------------  -----                        \n",
      " 0   apparentTemperatureHigh  922 non-null    float64                      \n",
      " 1   apparentTemperatureLow   840 non-null    float64                      \n",
      " 2   cloudCover               740 non-null    float64                      \n",
      " 3   precipProbability        837 non-null    float64                      \n",
      " 4   precipType               839 non-null    object                       \n",
      " 5   sunriseTime              922 non-null    datetime64[ns, Europe/Zurich]\n",
      " 6   sunsetTime               922 non-null    datetime64[ns, Europe/Zurich]\n",
      " 7   temperatureHigh          922 non-null    float64                      \n",
      " 8   uvIndex                  889 non-null    float64                      \n",
      " 9   precipIntensityMax_cm    839 non-null    float64                      \n",
      " 10  sun_uptime               922 non-null    float64                      \n",
      "dtypes: datetime64[ns, Europe/Zurich](2), float64(8), object(1)\n",
      "memory usage: 126.4+ KB\n"
     ]
    }
   ],
   "source": [
    "df.info()"
   ]
  },
  {
   "cell_type": "markdown",
   "metadata": {},
   "source": [
    "<a id=13> </a> \n",
    "## 13. Next steps\n",
    "\n",
    "- Deal with missing values by finding values for adjacent weather stations (use DarkSky API)\n",
    "- For missing temperature values (only sporadically missing) one can impute from the nearby values, i.e. interpolate or replace with mean"
   ]
  },
  {
   "cell_type": "markdown",
   "metadata": {},
   "source": [
    "## Make times timezone unaware\n",
    "\n",
    "This is important to make importing of the data easier"
   ]
  },
  {
   "cell_type": "code",
   "execution_count": 92,
   "metadata": {},
   "outputs": [],
   "source": [
    "data = df.copy()"
   ]
  },
  {
   "cell_type": "code",
   "execution_count": 93,
   "metadata": {},
   "outputs": [
    {
     "data": {
      "text/html": [
       "<div>\n",
       "<style scoped>\n",
       "    .dataframe tbody tr th:only-of-type {\n",
       "        vertical-align: middle;\n",
       "    }\n",
       "\n",
       "    .dataframe tbody tr th {\n",
       "        vertical-align: top;\n",
       "    }\n",
       "\n",
       "    .dataframe thead th {\n",
       "        text-align: right;\n",
       "    }\n",
       "</style>\n",
       "<table border=\"1\" class=\"dataframe\">\n",
       "  <thead>\n",
       "    <tr style=\"text-align: right;\">\n",
       "      <th></th>\n",
       "      <th>time</th>\n",
       "      <th>apparentTemperatureHigh</th>\n",
       "      <th>apparentTemperatureLow</th>\n",
       "      <th>cloudCover</th>\n",
       "      <th>precipProbability</th>\n",
       "      <th>precipType</th>\n",
       "      <th>sunriseTime</th>\n",
       "      <th>sunsetTime</th>\n",
       "      <th>temperatureHigh</th>\n",
       "      <th>uvIndex</th>\n",
       "      <th>precipIntensityMax_cm</th>\n",
       "      <th>sun_uptime</th>\n",
       "    </tr>\n",
       "  </thead>\n",
       "  <tbody>\n",
       "    <tr>\n",
       "      <th>0</th>\n",
       "      <td>2017-10-01 00:00:00+02:00</td>\n",
       "      <td>15.92</td>\n",
       "      <td>9.71</td>\n",
       "      <td>NaN</td>\n",
       "      <td>0.76</td>\n",
       "      <td>rain</td>\n",
       "      <td>2017-10-01 07:29:00+02:00</td>\n",
       "      <td>2017-10-01 19:09:00+02:00</td>\n",
       "      <td>16.20</td>\n",
       "      <td>4.0</td>\n",
       "      <td>0.498348</td>\n",
       "      <td>11.666667</td>\n",
       "    </tr>\n",
       "    <tr>\n",
       "      <th>1</th>\n",
       "      <td>2017-10-02 00:00:00+02:00</td>\n",
       "      <td>17.15</td>\n",
       "      <td>12.70</td>\n",
       "      <td>0.81</td>\n",
       "      <td>0.81</td>\n",
       "      <td>rain</td>\n",
       "      <td>2017-10-02 07:30:00+02:00</td>\n",
       "      <td>2017-10-02 19:07:00+02:00</td>\n",
       "      <td>17.43</td>\n",
       "      <td>3.0</td>\n",
       "      <td>0.548386</td>\n",
       "      <td>11.616667</td>\n",
       "    </tr>\n",
       "    <tr>\n",
       "      <th>2</th>\n",
       "      <td>2017-10-03 00:00:00+02:00</td>\n",
       "      <td>16.14</td>\n",
       "      <td>5.25</td>\n",
       "      <td>0.76</td>\n",
       "      <td>0.99</td>\n",
       "      <td>rain</td>\n",
       "      <td>2017-10-03 07:32:00+02:00</td>\n",
       "      <td>2017-10-03 19:05:00+02:00</td>\n",
       "      <td>16.42</td>\n",
       "      <td>4.0</td>\n",
       "      <td>23.600410</td>\n",
       "      <td>11.550000</td>\n",
       "    </tr>\n",
       "    <tr>\n",
       "      <th>3</th>\n",
       "      <td>2017-10-04 00:00:00+02:00</td>\n",
       "      <td>15.47</td>\n",
       "      <td>4.75</td>\n",
       "      <td>NaN</td>\n",
       "      <td>0.62</td>\n",
       "      <td>rain</td>\n",
       "      <td>2017-10-04 07:33:00+02:00</td>\n",
       "      <td>2017-10-04 19:03:00+02:00</td>\n",
       "      <td>15.75</td>\n",
       "      <td>0.0</td>\n",
       "      <td>0.403606</td>\n",
       "      <td>11.500000</td>\n",
       "    </tr>\n",
       "    <tr>\n",
       "      <th>4</th>\n",
       "      <td>2017-10-05 00:00:00+02:00</td>\n",
       "      <td>19.81</td>\n",
       "      <td>5.68</td>\n",
       "      <td>NaN</td>\n",
       "      <td>0.99</td>\n",
       "      <td>rain</td>\n",
       "      <td>2017-10-05 07:34:00+02:00</td>\n",
       "      <td>2017-10-05 19:01:00+02:00</td>\n",
       "      <td>20.09</td>\n",
       "      <td>1.0</td>\n",
       "      <td>8.199120</td>\n",
       "      <td>11.450000</td>\n",
       "    </tr>\n",
       "  </tbody>\n",
       "</table>\n",
       "</div>"
      ],
      "text/plain": [
       "                       time  apparentTemperatureHigh  apparentTemperatureLow  \\\n",
       "0 2017-10-01 00:00:00+02:00                    15.92                    9.71   \n",
       "1 2017-10-02 00:00:00+02:00                    17.15                   12.70   \n",
       "2 2017-10-03 00:00:00+02:00                    16.14                    5.25   \n",
       "3 2017-10-04 00:00:00+02:00                    15.47                    4.75   \n",
       "4 2017-10-05 00:00:00+02:00                    19.81                    5.68   \n",
       "\n",
       "   cloudCover  precipProbability precipType               sunriseTime  \\\n",
       "0         NaN               0.76       rain 2017-10-01 07:29:00+02:00   \n",
       "1        0.81               0.81       rain 2017-10-02 07:30:00+02:00   \n",
       "2        0.76               0.99       rain 2017-10-03 07:32:00+02:00   \n",
       "3         NaN               0.62       rain 2017-10-04 07:33:00+02:00   \n",
       "4         NaN               0.99       rain 2017-10-05 07:34:00+02:00   \n",
       "\n",
       "                 sunsetTime  temperatureHigh  uvIndex  precipIntensityMax_cm  \\\n",
       "0 2017-10-01 19:09:00+02:00            16.20      4.0               0.498348   \n",
       "1 2017-10-02 19:07:00+02:00            17.43      3.0               0.548386   \n",
       "2 2017-10-03 19:05:00+02:00            16.42      4.0              23.600410   \n",
       "3 2017-10-04 19:03:00+02:00            15.75      0.0               0.403606   \n",
       "4 2017-10-05 19:01:00+02:00            20.09      1.0               8.199120   \n",
       "\n",
       "   sun_uptime  \n",
       "0   11.666667  \n",
       "1   11.616667  \n",
       "2   11.550000  \n",
       "3   11.500000  \n",
       "4   11.450000  "
      ]
     },
     "execution_count": 93,
     "metadata": {},
     "output_type": "execute_result"
    }
   ],
   "source": [
    "data.reset_index(inplace=True)\n",
    "data.head()"
   ]
  },
  {
   "cell_type": "code",
   "execution_count": 94,
   "metadata": {},
   "outputs": [
    {
     "data": {
      "text/html": [
       "<div>\n",
       "<style scoped>\n",
       "    .dataframe tbody tr th:only-of-type {\n",
       "        vertical-align: middle;\n",
       "    }\n",
       "\n",
       "    .dataframe tbody tr th {\n",
       "        vertical-align: top;\n",
       "    }\n",
       "\n",
       "    .dataframe thead th {\n",
       "        text-align: right;\n",
       "    }\n",
       "</style>\n",
       "<table border=\"1\" class=\"dataframe\">\n",
       "  <thead>\n",
       "    <tr style=\"text-align: right;\">\n",
       "      <th></th>\n",
       "      <th>time</th>\n",
       "      <th>apparentTemperatureHigh</th>\n",
       "      <th>apparentTemperatureLow</th>\n",
       "      <th>cloudCover</th>\n",
       "      <th>precipProbability</th>\n",
       "      <th>precipType</th>\n",
       "      <th>sunriseTime</th>\n",
       "      <th>sunsetTime</th>\n",
       "      <th>temperatureHigh</th>\n",
       "      <th>uvIndex</th>\n",
       "      <th>precipIntensityMax_cm</th>\n",
       "      <th>sun_uptime</th>\n",
       "    </tr>\n",
       "  </thead>\n",
       "  <tbody>\n",
       "    <tr>\n",
       "      <th>0</th>\n",
       "      <td>2017-10-01</td>\n",
       "      <td>15.92</td>\n",
       "      <td>9.71</td>\n",
       "      <td>NaN</td>\n",
       "      <td>0.76</td>\n",
       "      <td>rain</td>\n",
       "      <td>2017-10-01 07:29:00</td>\n",
       "      <td>2017-10-01 19:09:00</td>\n",
       "      <td>16.20</td>\n",
       "      <td>4.0</td>\n",
       "      <td>0.498348</td>\n",
       "      <td>11.666667</td>\n",
       "    </tr>\n",
       "    <tr>\n",
       "      <th>1</th>\n",
       "      <td>2017-10-02</td>\n",
       "      <td>17.15</td>\n",
       "      <td>12.70</td>\n",
       "      <td>0.81</td>\n",
       "      <td>0.81</td>\n",
       "      <td>rain</td>\n",
       "      <td>2017-10-02 07:30:00</td>\n",
       "      <td>2017-10-02 19:07:00</td>\n",
       "      <td>17.43</td>\n",
       "      <td>3.0</td>\n",
       "      <td>0.548386</td>\n",
       "      <td>11.616667</td>\n",
       "    </tr>\n",
       "    <tr>\n",
       "      <th>2</th>\n",
       "      <td>2017-10-03</td>\n",
       "      <td>16.14</td>\n",
       "      <td>5.25</td>\n",
       "      <td>0.76</td>\n",
       "      <td>0.99</td>\n",
       "      <td>rain</td>\n",
       "      <td>2017-10-03 07:32:00</td>\n",
       "      <td>2017-10-03 19:05:00</td>\n",
       "      <td>16.42</td>\n",
       "      <td>4.0</td>\n",
       "      <td>23.600410</td>\n",
       "      <td>11.550000</td>\n",
       "    </tr>\n",
       "    <tr>\n",
       "      <th>3</th>\n",
       "      <td>2017-10-04</td>\n",
       "      <td>15.47</td>\n",
       "      <td>4.75</td>\n",
       "      <td>NaN</td>\n",
       "      <td>0.62</td>\n",
       "      <td>rain</td>\n",
       "      <td>2017-10-04 07:33:00</td>\n",
       "      <td>2017-10-04 19:03:00</td>\n",
       "      <td>15.75</td>\n",
       "      <td>0.0</td>\n",
       "      <td>0.403606</td>\n",
       "      <td>11.500000</td>\n",
       "    </tr>\n",
       "    <tr>\n",
       "      <th>4</th>\n",
       "      <td>2017-10-05</td>\n",
       "      <td>19.81</td>\n",
       "      <td>5.68</td>\n",
       "      <td>NaN</td>\n",
       "      <td>0.99</td>\n",
       "      <td>rain</td>\n",
       "      <td>2017-10-05 07:34:00</td>\n",
       "      <td>2017-10-05 19:01:00</td>\n",
       "      <td>20.09</td>\n",
       "      <td>1.0</td>\n",
       "      <td>8.199120</td>\n",
       "      <td>11.450000</td>\n",
       "    </tr>\n",
       "  </tbody>\n",
       "</table>\n",
       "</div>"
      ],
      "text/plain": [
       "        time  apparentTemperatureHigh  apparentTemperatureLow  cloudCover  \\\n",
       "0 2017-10-01                    15.92                    9.71         NaN   \n",
       "1 2017-10-02                    17.15                   12.70        0.81   \n",
       "2 2017-10-03                    16.14                    5.25        0.76   \n",
       "3 2017-10-04                    15.47                    4.75         NaN   \n",
       "4 2017-10-05                    19.81                    5.68         NaN   \n",
       "\n",
       "   precipProbability precipType         sunriseTime          sunsetTime  \\\n",
       "0               0.76       rain 2017-10-01 07:29:00 2017-10-01 19:09:00   \n",
       "1               0.81       rain 2017-10-02 07:30:00 2017-10-02 19:07:00   \n",
       "2               0.99       rain 2017-10-03 07:32:00 2017-10-03 19:05:00   \n",
       "3               0.62       rain 2017-10-04 07:33:00 2017-10-04 19:03:00   \n",
       "4               0.99       rain 2017-10-05 07:34:00 2017-10-05 19:01:00   \n",
       "\n",
       "   temperatureHigh  uvIndex  precipIntensityMax_cm  sun_uptime  \n",
       "0            16.20      4.0               0.498348   11.666667  \n",
       "1            17.43      3.0               0.548386   11.616667  \n",
       "2            16.42      4.0              23.600410   11.550000  \n",
       "3            15.75      0.0               0.403606   11.500000  \n",
       "4            20.09      1.0               8.199120   11.450000  "
      ]
     },
     "execution_count": 94,
     "metadata": {},
     "output_type": "execute_result"
    }
   ],
   "source": [
    "time_cols = ['time', 'sunriseTime', 'sunsetTime']\n",
    "for c in time_cols:\n",
    "    data[c] = data[c].dt.tz_localize(None)\n",
    "    \n",
    "data.head()"
   ]
  },
  {
   "cell_type": "code",
   "execution_count": 95,
   "metadata": {},
   "outputs": [],
   "source": [
    "data.to_csv('../02.Prepared_data/DarkSky/data_after_EDA.csv', index=True)"
   ]
  },
  {
   "cell_type": "code",
   "execution_count": null,
   "metadata": {},
   "outputs": [],
   "source": []
  }
 ],
 "metadata": {
  "kernelspec": {
   "display_name": "Python 3",
   "language": "python",
   "name": "python3"
  },
  "language_info": {
   "codemirror_mode": {
    "name": "ipython",
    "version": 3
   },
   "file_extension": ".py",
   "mimetype": "text/x-python",
   "name": "python",
   "nbconvert_exporter": "python",
   "pygments_lexer": "ipython3",
   "version": "3.8.1"
  }
 },
 "nbformat": 4,
 "nbformat_minor": 4
}
