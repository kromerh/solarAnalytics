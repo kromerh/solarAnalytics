{
 "cells": [
  {
   "cell_type": "markdown",
   "metadata": {},
   "source": [
    "# Exploratory data analysis of DarkSky dataset."
   ]
  },
  {
   "cell_type": "code",
   "execution_count": 145,
   "metadata": {},
   "outputs": [],
   "source": [
    "import pandas as pd\n",
    "import numpy as np\n",
    "import os\n",
    "import json\n",
    "import matplotlib.pyplot as plt\n",
    "import matplotlib.dates as mdates\n",
    "import seaborn as sns"
   ]
  },
  {
   "cell_type": "code",
   "execution_count": 146,
   "metadata": {},
   "outputs": [],
   "source": [
    "# Folder where the DarkSky json data is located\n",
    "DATAFOLDER = '../01.Original_data/DarkSky/'"
   ]
  },
  {
   "cell_type": "markdown",
   "metadata": {},
   "source": [
    "## Load all the json data into one dataframe"
   ]
  },
  {
   "cell_type": "code",
   "execution_count": 147,
   "metadata": {},
   "outputs": [
    {
     "name": "stderr",
     "output_type": "stream",
     "text": [
      "/Users/hkromer/anaconda3/envs/solarAnalytics/lib/python3.7/site-packages/pandas/core/frame.py:7116: FutureWarning: Sorting because non-concatenation axis is not aligned. A future version\n",
      "of pandas will change to not sort by default.\n",
      "\n",
      "To accept the future behavior, pass 'sort=False'.\n",
      "\n",
      "To retain the current behavior and silence the warning, pass 'sort=True'.\n",
      "\n",
      "  sort=sort,\n"
     ]
    },
    {
     "name": "stdout",
     "output_type": "stream",
     "text": [
      "Imported 922 datapoints. 7 had no daily entry.\n"
     ]
    }
   ],
   "source": [
    "# What json daily files are in the folder\n",
    "files = [f'{DATAFOLDER}{item}' for item in os.listdir(DATAFOLDER) if item.endswith('json')]\n",
    "n_files = len(files)\n",
    "\n",
    "# Dataframe to hold all the DarkSky data\n",
    "df = pd.DataFrame()\n",
    "\n",
    "# loop through the files and append to pandas dataframe\n",
    "for file in files:\n",
    "    # load json file\n",
    "    with open(f'{file}') as f:\n",
    "        d = json.load(f)\n",
    "        f.close()\n",
    "    # append to df if daily in keys\n",
    "    if 'daily' in d.keys():\n",
    "        df = df.append(d['daily']['data'])\n",
    "\n",
    "n_imported = len(df)\n",
    "\n",
    "print(f\"Imported {n_imported} datapoints. {n_files-n_imported} had no daily entry.\")"
   ]
  },
  {
   "cell_type": "code",
   "execution_count": 148,
   "metadata": {},
   "outputs": [
    {
     "name": "stdout",
     "output_type": "stream",
     "text": [
      "<class 'pandas.core.frame.DataFrame'>\n",
      "Int64Index: 922 entries, 0 to 0\n",
      "Data columns (total 45 columns):\n",
      "apparentTemperatureHigh        922 non-null float64\n",
      "apparentTemperatureHighTime    922 non-null int64\n",
      "apparentTemperatureLow         839 non-null float64\n",
      "apparentTemperatureLowTime     839 non-null float64\n",
      "apparentTemperatureMax         917 non-null float64\n",
      "apparentTemperatureMaxTime     917 non-null float64\n",
      "apparentTemperatureMin         917 non-null float64\n",
      "apparentTemperatureMinTime     917 non-null float64\n",
      "cloudCover                     740 non-null float64\n",
      "dewPoint                       917 non-null float64\n",
      "humidity                       917 non-null float64\n",
      "icon                           784 non-null object\n",
      "moonPhase                      922 non-null float64\n",
      "ozone                          607 non-null float64\n",
      "precipAccumulation             57 non-null float64\n",
      "precipIntensity                839 non-null float64\n",
      "precipIntensityMax             839 non-null float64\n",
      "precipIntensityMaxError        1 non-null float64\n",
      "precipIntensityMaxTime         811 non-null float64\n",
      "precipProbability              837 non-null float64\n",
      "precipType                     780 non-null object\n",
      "pressure                       839 non-null float64\n",
      "summary                        790 non-null object\n",
      "sunriseTime                    922 non-null int64\n",
      "sunsetTime                     922 non-null int64\n",
      "temperatureHigh                922 non-null float64\n",
      "temperatureHighError           1 non-null float64\n",
      "temperatureHighTime            922 non-null int64\n",
      "temperatureLow                 839 non-null float64\n",
      "temperatureLowError            1 non-null float64\n",
      "temperatureLowTime             839 non-null float64\n",
      "temperatureMax                 917 non-null float64\n",
      "temperatureMaxError            1 non-null float64\n",
      "temperatureMaxTime             917 non-null float64\n",
      "temperatureMin                 917 non-null float64\n",
      "temperatureMinError            1 non-null float64\n",
      "temperatureMinTime             917 non-null float64\n",
      "time                           922 non-null int64\n",
      "uvIndex                        889 non-null float64\n",
      "uvIndexTime                    889 non-null float64\n",
      "visibility                     885 non-null float64\n",
      "windBearing                    896 non-null float64\n",
      "windGust                       839 non-null float64\n",
      "windGustTime                   839 non-null float64\n",
      "windSpeed                      896 non-null float64\n",
      "dtypes: float64(37), int64(5), object(3)\n",
      "memory usage: 331.3+ KB\n"
     ]
    }
   ],
   "source": [
    "# Only 7 missing entries, lets see if we can identify them based on the times\n",
    "df.info()"
   ]
  },
  {
   "cell_type": "markdown",
   "metadata": {},
   "source": [
    "## Convert times into timestamps\n",
    "\n",
    "Times returned by DarkSky are in UNIX timestamp. This is a problem for direct conversion, because the pandas sereies needs to be timezone aware. We can deal with this by adding the timezone information and converting to the respective timezone for all the timestamp objects."
   ]
  },
  {
   "cell_type": "code",
   "execution_count": 149,
   "metadata": {},
   "outputs": [],
   "source": [
    "# columns with time information\n",
    "cols_time = [c for c in df.columns if ('Time' in c) or ('time' in c)]\n",
    "\n",
    "for col in cols_time:\n",
    "    df[col] = pd.to_datetime(df[col], unit='s').dt.tz_localize('utc').dt.tz_convert('Europe/Zurich')\n",
    "    \n",
    "# order the dataframe by time\n",
    "df = df.sort_values(by='time')"
   ]
  },
  {
   "cell_type": "code",
   "execution_count": 150,
   "metadata": {},
   "outputs": [
    {
     "data": {
      "text/html": [
       "<div>\n",
       "<style scoped>\n",
       "    .dataframe tbody tr th:only-of-type {\n",
       "        vertical-align: middle;\n",
       "    }\n",
       "\n",
       "    .dataframe tbody tr th {\n",
       "        vertical-align: top;\n",
       "    }\n",
       "\n",
       "    .dataframe thead th {\n",
       "        text-align: right;\n",
       "    }\n",
       "</style>\n",
       "<table border=\"1\" class=\"dataframe\">\n",
       "  <thead>\n",
       "    <tr style=\"text-align: right;\">\n",
       "      <th></th>\n",
       "      <th>apparentTemperatureHigh</th>\n",
       "      <th>apparentTemperatureHighTime</th>\n",
       "      <th>apparentTemperatureLow</th>\n",
       "      <th>apparentTemperatureLowTime</th>\n",
       "      <th>apparentTemperatureMax</th>\n",
       "      <th>apparentTemperatureMaxTime</th>\n",
       "      <th>apparentTemperatureMin</th>\n",
       "      <th>apparentTemperatureMinTime</th>\n",
       "      <th>cloudCover</th>\n",
       "      <th>dewPoint</th>\n",
       "      <th>...</th>\n",
       "      <th>temperatureMinError</th>\n",
       "      <th>temperatureMinTime</th>\n",
       "      <th>time</th>\n",
       "      <th>uvIndex</th>\n",
       "      <th>uvIndexTime</th>\n",
       "      <th>visibility</th>\n",
       "      <th>windBearing</th>\n",
       "      <th>windGust</th>\n",
       "      <th>windGustTime</th>\n",
       "      <th>windSpeed</th>\n",
       "    </tr>\n",
       "  </thead>\n",
       "  <tbody>\n",
       "    <tr>\n",
       "      <th>0</th>\n",
       "      <td>15.92</td>\n",
       "      <td>2017-10-01 16:13:00+02:00</td>\n",
       "      <td>9.71</td>\n",
       "      <td>2017-10-01 23:42:00+02:00</td>\n",
       "      <td>15.92</td>\n",
       "      <td>2017-10-01 16:13:00+02:00</td>\n",
       "      <td>8.87</td>\n",
       "      <td>2017-10-01 08:20:00+02:00</td>\n",
       "      <td>NaN</td>\n",
       "      <td>9.98</td>\n",
       "      <td>...</td>\n",
       "      <td>NaN</td>\n",
       "      <td>2017-10-01 08:20:00+02:00</td>\n",
       "      <td>2017-10-01 00:00:00+02:00</td>\n",
       "      <td>4.0</td>\n",
       "      <td>2017-10-01 13:45:00+02:00</td>\n",
       "      <td>9.186</td>\n",
       "      <td>247.0</td>\n",
       "      <td>4.61</td>\n",
       "      <td>2017-10-01 13:17:00+02:00</td>\n",
       "      <td>0.37</td>\n",
       "    </tr>\n",
       "    <tr>\n",
       "      <th>0</th>\n",
       "      <td>17.15</td>\n",
       "      <td>2017-10-02 16:46:00+02:00</td>\n",
       "      <td>12.70</td>\n",
       "      <td>2017-10-03 08:00:00+02:00</td>\n",
       "      <td>17.15</td>\n",
       "      <td>2017-10-02 16:46:00+02:00</td>\n",
       "      <td>9.74</td>\n",
       "      <td>2017-10-02 00:00:00+02:00</td>\n",
       "      <td>0.81</td>\n",
       "      <td>11.77</td>\n",
       "      <td>...</td>\n",
       "      <td>NaN</td>\n",
       "      <td>2017-10-02 00:00:00+02:00</td>\n",
       "      <td>2017-10-02 00:00:00+02:00</td>\n",
       "      <td>3.0</td>\n",
       "      <td>2017-10-02 13:17:00+02:00</td>\n",
       "      <td>9.992</td>\n",
       "      <td>229.0</td>\n",
       "      <td>8.87</td>\n",
       "      <td>2017-10-02 21:57:00+02:00</td>\n",
       "      <td>0.61</td>\n",
       "    </tr>\n",
       "    <tr>\n",
       "      <th>0</th>\n",
       "      <td>16.14</td>\n",
       "      <td>2017-10-03 17:00:00+02:00</td>\n",
       "      <td>5.25</td>\n",
       "      <td>2017-10-04 04:29:00+02:00</td>\n",
       "      <td>17.67</td>\n",
       "      <td>2017-10-03 04:39:00+02:00</td>\n",
       "      <td>7.78</td>\n",
       "      <td>2017-10-03 23:00:00+02:00</td>\n",
       "      <td>0.76</td>\n",
       "      <td>11.01</td>\n",
       "      <td>...</td>\n",
       "      <td>NaN</td>\n",
       "      <td>2017-10-03 23:00:00+02:00</td>\n",
       "      <td>2017-10-03 00:00:00+02:00</td>\n",
       "      <td>4.0</td>\n",
       "      <td>2017-10-03 13:00:00+02:00</td>\n",
       "      <td>9.858</td>\n",
       "      <td>269.0</td>\n",
       "      <td>10.01</td>\n",
       "      <td>2017-10-03 05:06:00+02:00</td>\n",
       "      <td>1.00</td>\n",
       "    </tr>\n",
       "    <tr>\n",
       "      <th>0</th>\n",
       "      <td>15.47</td>\n",
       "      <td>2017-10-04 17:24:00+02:00</td>\n",
       "      <td>4.75</td>\n",
       "      <td>2017-10-05 03:25:00+02:00</td>\n",
       "      <td>15.47</td>\n",
       "      <td>2017-10-04 17:24:00+02:00</td>\n",
       "      <td>5.25</td>\n",
       "      <td>2017-10-04 04:29:00+02:00</td>\n",
       "      <td>NaN</td>\n",
       "      <td>6.59</td>\n",
       "      <td>...</td>\n",
       "      <td>NaN</td>\n",
       "      <td>2017-10-04 04:29:00+02:00</td>\n",
       "      <td>2017-10-04 00:00:00+02:00</td>\n",
       "      <td>0.0</td>\n",
       "      <td>2017-10-04 00:00:00+02:00</td>\n",
       "      <td>9.991</td>\n",
       "      <td>230.0</td>\n",
       "      <td>4.62</td>\n",
       "      <td>2017-10-04 15:58:00+02:00</td>\n",
       "      <td>0.24</td>\n",
       "    </tr>\n",
       "    <tr>\n",
       "      <th>0</th>\n",
       "      <td>19.81</td>\n",
       "      <td>2017-10-05 15:09:00+02:00</td>\n",
       "      <td>5.68</td>\n",
       "      <td>2017-10-06 07:52:00+02:00</td>\n",
       "      <td>19.81</td>\n",
       "      <td>2017-10-05 15:09:00+02:00</td>\n",
       "      <td>4.75</td>\n",
       "      <td>2017-10-05 03:25:00+02:00</td>\n",
       "      <td>NaN</td>\n",
       "      <td>6.29</td>\n",
       "      <td>...</td>\n",
       "      <td>NaN</td>\n",
       "      <td>2017-10-05 03:25:00+02:00</td>\n",
       "      <td>2017-10-05 00:00:00+02:00</td>\n",
       "      <td>1.0</td>\n",
       "      <td>2017-10-05 16:00:00+02:00</td>\n",
       "      <td>9.837</td>\n",
       "      <td>233.0</td>\n",
       "      <td>9.64</td>\n",
       "      <td>2017-10-05 15:03:00+02:00</td>\n",
       "      <td>0.94</td>\n",
       "    </tr>\n",
       "  </tbody>\n",
       "</table>\n",
       "<p>5 rows × 45 columns</p>\n",
       "</div>"
      ],
      "text/plain": [
       "   apparentTemperatureHigh apparentTemperatureHighTime  \\\n",
       "0                    15.92   2017-10-01 16:13:00+02:00   \n",
       "0                    17.15   2017-10-02 16:46:00+02:00   \n",
       "0                    16.14   2017-10-03 17:00:00+02:00   \n",
       "0                    15.47   2017-10-04 17:24:00+02:00   \n",
       "0                    19.81   2017-10-05 15:09:00+02:00   \n",
       "\n",
       "   apparentTemperatureLow apparentTemperatureLowTime  apparentTemperatureMax  \\\n",
       "0                    9.71  2017-10-01 23:42:00+02:00                   15.92   \n",
       "0                   12.70  2017-10-03 08:00:00+02:00                   17.15   \n",
       "0                    5.25  2017-10-04 04:29:00+02:00                   17.67   \n",
       "0                    4.75  2017-10-05 03:25:00+02:00                   15.47   \n",
       "0                    5.68  2017-10-06 07:52:00+02:00                   19.81   \n",
       "\n",
       "  apparentTemperatureMaxTime  apparentTemperatureMin  \\\n",
       "0  2017-10-01 16:13:00+02:00                    8.87   \n",
       "0  2017-10-02 16:46:00+02:00                    9.74   \n",
       "0  2017-10-03 04:39:00+02:00                    7.78   \n",
       "0  2017-10-04 17:24:00+02:00                    5.25   \n",
       "0  2017-10-05 15:09:00+02:00                    4.75   \n",
       "\n",
       "  apparentTemperatureMinTime  cloudCover  dewPoint  ...  temperatureMinError  \\\n",
       "0  2017-10-01 08:20:00+02:00         NaN      9.98  ...                  NaN   \n",
       "0  2017-10-02 00:00:00+02:00        0.81     11.77  ...                  NaN   \n",
       "0  2017-10-03 23:00:00+02:00        0.76     11.01  ...                  NaN   \n",
       "0  2017-10-04 04:29:00+02:00         NaN      6.59  ...                  NaN   \n",
       "0  2017-10-05 03:25:00+02:00         NaN      6.29  ...                  NaN   \n",
       "\n",
       "         temperatureMinTime                      time  uvIndex  \\\n",
       "0 2017-10-01 08:20:00+02:00 2017-10-01 00:00:00+02:00      4.0   \n",
       "0 2017-10-02 00:00:00+02:00 2017-10-02 00:00:00+02:00      3.0   \n",
       "0 2017-10-03 23:00:00+02:00 2017-10-03 00:00:00+02:00      4.0   \n",
       "0 2017-10-04 04:29:00+02:00 2017-10-04 00:00:00+02:00      0.0   \n",
       "0 2017-10-05 03:25:00+02:00 2017-10-05 00:00:00+02:00      1.0   \n",
       "\n",
       "                uvIndexTime  visibility  windBearing  windGust  \\\n",
       "0 2017-10-01 13:45:00+02:00       9.186        247.0      4.61   \n",
       "0 2017-10-02 13:17:00+02:00       9.992        229.0      8.87   \n",
       "0 2017-10-03 13:00:00+02:00       9.858        269.0     10.01   \n",
       "0 2017-10-04 00:00:00+02:00       9.991        230.0      4.62   \n",
       "0 2017-10-05 16:00:00+02:00       9.837        233.0      9.64   \n",
       "\n",
       "               windGustTime  windSpeed  \n",
       "0 2017-10-01 13:17:00+02:00       0.37  \n",
       "0 2017-10-02 21:57:00+02:00       0.61  \n",
       "0 2017-10-03 05:06:00+02:00       1.00  \n",
       "0 2017-10-04 15:58:00+02:00       0.24  \n",
       "0 2017-10-05 15:03:00+02:00       0.94  \n",
       "\n",
       "[5 rows x 45 columns]"
      ]
     },
     "execution_count": 150,
     "metadata": {},
     "output_type": "execute_result"
    }
   ],
   "source": [
    "df.head()"
   ]
  },
  {
   "cell_type": "code",
   "execution_count": 151,
   "metadata": {},
   "outputs": [],
   "source": [
    "# save the data\n",
    "fname = 'data_time_converted.csv'\n",
    "df.to_csv(f\"../02.Prepared_data/DarkSky/{fname}\")"
   ]
  },
  {
   "cell_type": "markdown",
   "metadata": {},
   "source": [
    "## Choose columns to use for analysis\n",
    "\n",
    "For our goal, the prediction of solar production output, we would consider data on temperature, sun, and precipitation relevant. The time information is to coarse, sometimes the maxima are reported during the night hours, or on the next/pervious day, which might give a wrong picture. We should drop the time informations for now, maybe re-visit this in a later stage."
   ]
  },
  {
   "cell_type": "code",
   "execution_count": 152,
   "metadata": {},
   "outputs": [
    {
     "data": {
      "text/plain": [
       "['apparentTemperatureHigh',\n",
       " 'apparentTemperatureHighTime',\n",
       " 'apparentTemperatureLow',\n",
       " 'apparentTemperatureLowTime',\n",
       " 'apparentTemperatureMax',\n",
       " 'apparentTemperatureMaxTime',\n",
       " 'apparentTemperatureMin',\n",
       " 'apparentTemperatureMinTime',\n",
       " 'cloudCover',\n",
       " 'dewPoint',\n",
       " 'humidity',\n",
       " 'icon',\n",
       " 'moonPhase',\n",
       " 'ozone',\n",
       " 'precipAccumulation',\n",
       " 'precipIntensity',\n",
       " 'precipIntensityMax',\n",
       " 'precipIntensityMaxError',\n",
       " 'precipIntensityMaxTime',\n",
       " 'precipProbability',\n",
       " 'precipType',\n",
       " 'pressure',\n",
       " 'summary',\n",
       " 'sunriseTime',\n",
       " 'sunsetTime',\n",
       " 'temperatureHigh',\n",
       " 'temperatureHighError',\n",
       " 'temperatureHighTime',\n",
       " 'temperatureLow',\n",
       " 'temperatureLowError',\n",
       " 'temperatureLowTime',\n",
       " 'temperatureMax',\n",
       " 'temperatureMaxError',\n",
       " 'temperatureMaxTime',\n",
       " 'temperatureMin',\n",
       " 'temperatureMinError',\n",
       " 'temperatureMinTime',\n",
       " 'time',\n",
       " 'uvIndex',\n",
       " 'uvIndexTime',\n",
       " 'visibility',\n",
       " 'windBearing',\n",
       " 'windGust',\n",
       " 'windGustTime',\n",
       " 'windSpeed']"
      ]
     },
     "execution_count": 152,
     "metadata": {},
     "output_type": "execute_result"
    }
   ],
   "source": [
    "df.columns.tolist()"
   ]
  },
  {
   "cell_type": "code",
   "execution_count": 153,
   "metadata": {},
   "outputs": [],
   "source": [
    "cols = ['apparentTemperatureHigh',\n",
    " 'apparentTemperatureLow',\n",
    " 'cloudCover',\n",
    " 'precipIntensityMax',\n",
    " 'precipProbability',\n",
    " 'precipType',\n",
    " 'sunriseTime',\n",
    " 'sunsetTime',\n",
    " 'temperatureHigh',\n",
    " 'time',\n",
    " 'uvIndex']\n",
    "\n",
    "df = df[cols] "
   ]
  },
  {
   "cell_type": "markdown",
   "metadata": {},
   "source": [
    "### Unit conversions"
   ]
  },
  {
   "cell_type": "code",
   "execution_count": 154,
   "metadata": {},
   "outputs": [],
   "source": [
    "# inch to cm\n",
    "inch_to_cm = 2.54\n",
    "df['precipIntensityMax_cm'] = df['precipIntensityMax'] * inch_to_cm"
   ]
  },
  {
   "cell_type": "markdown",
   "metadata": {},
   "source": [
    "### Plots"
   ]
  },
  {
   "cell_type": "markdown",
   "metadata": {},
   "source": [
    "#### Temperature"
   ]
  },
  {
   "cell_type": "code",
   "execution_count": 155,
   "metadata": {},
   "outputs": [
    {
     "data": {
      "application/vnd.jupyter.widget-view+json": {
       "model_id": "4bb08f107b76473885e38dd4e67f1ef3",
       "version_major": 2,
       "version_minor": 0
      },
      "text/plain": [
       "Canvas(toolbar=Toolbar(toolitems=[('Home', 'Reset original view', 'home', 'home'), ('Back', 'Back to previous …"
      ]
     },
     "metadata": {},
     "output_type": "display_data"
    }
   ],
   "source": [
    "%matplotlib widget\n",
    "df = df.reset_index(drop=True)\n",
    "\n",
    "fig, ax = plt.subplots(figsize=(8,5))\n",
    "\n",
    "X = df['time']\n",
    "\n",
    "# apparent \n",
    "col = 'apparentTemperatureHigh'\n",
    "Y = df[col].values\n",
    "plt.plot(X, Y, label=col)\n",
    "\n",
    "col = 'temperatureHigh'\n",
    "Y = df[col].values\n",
    "plt.plot(X, Y, label=col)\n",
    "\n",
    "\n",
    "ax.xaxis.set_major_formatter(mdates.DateFormatter('%Y %b'))\n",
    "plt.xticks(rotation=45)\n",
    "plt.xlabel('Date')\n",
    "plt.ylabel('Temperature in degree celcius')\n",
    "plt.legend()\n",
    "plt.tight_layout()\n",
    "plt.show()"
   ]
  },
  {
   "cell_type": "markdown",
   "metadata": {},
   "source": [
    "What we see here as a takeaway is that the temperature follows a seasonal trend. The (high) temperatures are low in the winter and high in the summer. It is also rarely below 0 degC. It must be kept in mind that this is not the mean or median temperature, but the daytime high temperature!"
   ]
  },
  {
   "cell_type": "markdown",
   "metadata": {},
   "source": [
    "#### Precipitation"
   ]
  },
  {
   "cell_type": "code",
   "execution_count": 156,
   "metadata": {},
   "outputs": [
    {
     "data": {
      "application/vnd.jupyter.widget-view+json": {
       "model_id": "ce0e37cb863e420db9e97708b9ac84bc",
       "version_major": 2,
       "version_minor": 0
      },
      "text/plain": [
       "Canvas(toolbar=Toolbar(toolitems=[('Home', 'Reset original view', 'home', 'home'), ('Back', 'Back to previous …"
      ]
     },
     "metadata": {},
     "output_type": "display_data"
    }
   ],
   "source": [
    "%matplotlib widget\n",
    "df = df.reset_index(drop=True)\n",
    "\n",
    "fig, ax = plt.subplots(figsize=(9,5))\n",
    "\n",
    "X = df['time']\n",
    "\n",
    "\n",
    "col = 'precipIntensityMax_cm'\n",
    "Y = df[col].values\n",
    "plt.plot(X, Y, label=col)\n",
    "\n",
    "\n",
    "ax.xaxis.set_major_formatter(mdates.DateFormatter('%Y %b'))\n",
    "plt.xticks(rotation=45)\n",
    "plt.xlabel('Date')\n",
    "plt.ylabel('Precipitation intensity in cm of liquid water per hour')\n",
    "plt.legend()\n",
    "plt.tight_layout()\n",
    "plt.show()"
   ]
  },
  {
   "cell_type": "markdown",
   "metadata": {},
   "source": [
    "<div class=\"alert alert-block alert-danger\">\n",
    "First of all we see that there are missing values for the precipitation from April 2018 until July 2018. Also there is an extreme value compared to the rest in June 2019 with more than 70 cm per hour of water. Let us first investigate this outlier .\n",
    "    </div>"
   ]
  },
  {
   "cell_type": "markdown",
   "metadata": {},
   "source": [
    "#### Outlier June 2019 precipitation intensity"
   ]
  },
  {
   "cell_type": "code",
   "execution_count": 157,
   "metadata": {},
   "outputs": [
    {
     "data": {
      "text/html": [
       "<div>\n",
       "<style scoped>\n",
       "    .dataframe tbody tr th:only-of-type {\n",
       "        vertical-align: middle;\n",
       "    }\n",
       "\n",
       "    .dataframe tbody tr th {\n",
       "        vertical-align: top;\n",
       "    }\n",
       "\n",
       "    .dataframe thead th {\n",
       "        text-align: right;\n",
       "    }\n",
       "</style>\n",
       "<table border=\"1\" class=\"dataframe\">\n",
       "  <thead>\n",
       "    <tr style=\"text-align: right;\">\n",
       "      <th></th>\n",
       "      <th>time</th>\n",
       "      <th>precipIntensityMax_cm</th>\n",
       "      <th>precipProbability</th>\n",
       "      <th>precipType</th>\n",
       "    </tr>\n",
       "  </thead>\n",
       "  <tbody>\n",
       "    <tr>\n",
       "      <th>615</th>\n",
       "      <td>2019-06-15 00:00:00+02:00</td>\n",
       "      <td>71.308722</td>\n",
       "      <td>0.92</td>\n",
       "      <td>rain</td>\n",
       "    </tr>\n",
       "  </tbody>\n",
       "</table>\n",
       "</div>"
      ],
      "text/plain": [
       "                         time  precipIntensityMax_cm  precipProbability  \\\n",
       "615 2019-06-15 00:00:00+02:00              71.308722               0.92   \n",
       "\n",
       "    precipType  \n",
       "615       rain  "
      ]
     },
     "execution_count": 157,
     "metadata": {},
     "output_type": "execute_result"
    }
   ],
   "source": [
    "df.loc[:, ['time', 'precipIntensityMax_cm', 'precipProbability', 'precipType']].loc[df['precipIntensityMax_cm'] == df['precipIntensityMax_cm'].max()]"
   ]
  },
  {
   "cell_type": "markdown",
   "metadata": {},
   "source": [
    "There is no exceptional for that day in the historical weather. More confusingly, there was no rain recorded that day. It must be an error and will hence be removed and replaced with the mean of the 10 days around that date."
   ]
  },
  {
   "cell_type": "code",
   "execution_count": 158,
   "metadata": {},
   "outputs": [],
   "source": [
    "# replace with np.nan\n",
    "df.loc[df['time'].dt.date == pd.to_datetime(\"2019-06-15\"), 'precipIntensityMax_cm'] = np.nan"
   ]
  },
  {
   "cell_type": "code",
   "execution_count": 159,
   "metadata": {},
   "outputs": [],
   "source": [
    "date_min = pd.to_datetime(\"2019-06-10\")\n",
    "date_max = pd.to_datetime(\"2019-06-20\")\n",
    "mean = np.mean(df.loc[:, ['precipIntensityMax_cm']].loc[(df['time'].dt.date >= date_min) & (df['time'].dt.date <= date_max)]).values[0]\n",
    "df.loc[df['time'].dt.date == pd.to_datetime(\"2019-06-15\"), 'precipIntensityMax_cm'] = mean"
   ]
  },
  {
   "cell_type": "code",
   "execution_count": 160,
   "metadata": {},
   "outputs": [
    {
     "data": {
      "text/plain": [
       "615    2.158187\n",
       "Name: precipIntensityMax_cm, dtype: float64"
      ]
     },
     "execution_count": 160,
     "metadata": {},
     "output_type": "execute_result"
    }
   ],
   "source": [
    "df.loc[df['time'].dt.date == pd.to_datetime(\"2019-06-15\"), 'precipIntensityMax_cm']"
   ]
  },
  {
   "cell_type": "code",
   "execution_count": 161,
   "metadata": {},
   "outputs": [
    {
     "data": {
      "application/vnd.jupyter.widget-view+json": {
       "model_id": "2b6df23e4c6f45848b33b5c1e2c4d929",
       "version_major": 2,
       "version_minor": 0
      },
      "text/plain": [
       "Canvas(toolbar=Toolbar(toolitems=[('Home', 'Reset original view', 'home', 'home'), ('Back', 'Back to previous …"
      ]
     },
     "metadata": {},
     "output_type": "display_data"
    }
   ],
   "source": [
    "%matplotlib widget\n",
    "df = df.reset_index(drop=True)\n",
    "\n",
    "fig, ax = plt.subplots(figsize=(9,5))\n",
    "\n",
    "X = df['time']\n",
    "\n",
    "\n",
    "col = 'precipIntensityMax_cm'\n",
    "Y = df[col].values\n",
    "plt.plot(X, Y, label=col)\n",
    "\n",
    "\n",
    "ax.xaxis.set_major_formatter(mdates.DateFormatter('%Y %b'))\n",
    "plt.xticks(rotation=45)\n",
    "plt.xlabel('Date')\n",
    "plt.ylabel('Precipitation intensity in cm of liquid water per hour')\n",
    "plt.legend()\n",
    "plt.tight_layout()\n",
    "plt.show()"
   ]
  },
  {
   "cell_type": "markdown",
   "metadata": {},
   "source": [
    "Let's now focus on the missing values."
   ]
  },
  {
   "cell_type": "code",
   "execution_count": null,
   "metadata": {},
   "outputs": [],
   "source": [
    "# set index as time\n",
    "df.set_index('time', inplace=True, drop=True)"
   ]
  },
  {
   "cell_type": "code",
   "execution_count": 167,
   "metadata": {},
   "outputs": [
    {
     "name": "stdout",
     "output_type": "stream",
     "text": [
      "<class 'pandas.core.frame.DataFrame'>\n",
      "DatetimeIndex: 922 entries, 2017-10-01 00:00:00+02:00 to 2020-04-16 00:00:00+02:00\n",
      "Data columns (total 11 columns):\n",
      "apparentTemperatureHigh    922 non-null float64\n",
      "apparentTemperatureLow     839 non-null float64\n",
      "cloudCover                 740 non-null float64\n",
      "precipIntensityMax         839 non-null float64\n",
      "precipProbability          837 non-null float64\n",
      "precipType                 780 non-null object\n",
      "sunriseTime                922 non-null datetime64[ns, Europe/Zurich]\n",
      "sunsetTime                 922 non-null datetime64[ns, Europe/Zurich]\n",
      "temperatureHigh            922 non-null float64\n",
      "uvIndex                    889 non-null float64\n",
      "precipIntensityMax_cm      839 non-null float64\n",
      "dtypes: datetime64[ns, Europe/Zurich](2), float64(8), object(1)\n",
      "memory usage: 126.4+ KB\n"
     ]
    }
   ],
   "source": [
    "df.info()"
   ]
  },
  {
   "cell_type": "code",
   "execution_count": 166,
   "metadata": {},
   "outputs": [
    {
     "name": "stdout",
     "output_type": "stream",
     "text": [
      "<class 'pandas.core.frame.DataFrame'>\n",
      "DatetimeIndex: 87 entries, 2018-05-01 00:00:00+02:00 to 2018-08-01 00:00:00+02:00\n",
      "Data columns (total 11 columns):\n",
      "apparentTemperatureHigh    87 non-null float64\n",
      "apparentTemperatureLow     19 non-null float64\n",
      "cloudCover                 16 non-null float64\n",
      "precipIntensityMax         20 non-null float64\n",
      "precipProbability          19 non-null float64\n",
      "precipType                 16 non-null object\n",
      "sunriseTime                87 non-null datetime64[ns, Europe/Zurich]\n",
      "sunsetTime                 87 non-null datetime64[ns, Europe/Zurich]\n",
      "temperatureHigh            87 non-null float64\n",
      "uvIndex                    54 non-null float64\n",
      "precipIntensityMax_cm      20 non-null float64\n",
      "dtypes: datetime64[ns, Europe/Zurich](2), float64(8), object(1)\n",
      "memory usage: 8.2+ KB\n"
     ]
    }
   ],
   "source": [
    "df['2018-05-01':'2018-08-01'].info()"
   ]
  },
  {
   "cell_type": "code",
   "execution_count": 142,
   "metadata": {},
   "outputs": [
    {
     "data": {
      "text/html": [
       "<div>\n",
       "<style scoped>\n",
       "    .dataframe tbody tr th:only-of-type {\n",
       "        vertical-align: middle;\n",
       "    }\n",
       "\n",
       "    .dataframe tbody tr th {\n",
       "        vertical-align: top;\n",
       "    }\n",
       "\n",
       "    .dataframe thead th {\n",
       "        text-align: right;\n",
       "    }\n",
       "</style>\n",
       "<table border=\"1\" class=\"dataframe\">\n",
       "  <thead>\n",
       "    <tr style=\"text-align: right;\">\n",
       "      <th></th>\n",
       "      <th>precipIntensityMax_cm</th>\n",
       "    </tr>\n",
       "  </thead>\n",
       "  <tbody>\n",
       "    <tr>\n",
       "      <th>615</th>\n",
       "      <td>2.158187</td>\n",
       "    </tr>\n",
       "  </tbody>\n",
       "</table>\n",
       "</div>"
      ],
      "text/plain": [
       "     precipIntensityMax_cm\n",
       "615               2.158187"
      ]
     },
     "execution_count": 142,
     "metadata": {},
     "output_type": "execute_result"
    }
   ],
   "source": [
    "df.loc[:, ['precipIntensityMax_cm']].loc[(df['time'].dt.date == pd.to_datetime(\"2019-06-15\"))]"
   ]
  },
  {
   "cell_type": "markdown",
   "metadata": {},
   "source": [
    "<div class=\"alert alert-block alert-info\">\n",
    "    <b>Columns (from the DarkSky API):</b>\n",
    "</div>\n",
    "\n",
    "- `apparentTemperatureHigh`: The daytime high apparent (feels-like) temperature.\n",
    "- `temperatureHigh`: The daytime high temperature.\n",
    "    - these two temperatures are correlated, but we will have to see if the apparent or normally measured temperature is a better predictor for the solar energy production\n",
    "- `precipIntensity`: The intensity (in inches of liquid water per hour) of precipitation occurring at the given time. This value is conditional on probability (that is, assuming any precipitation occurs at all).\n",
    "- `cloudCover`: \n",
    " 'precipAccumulation',\n",
    " 'precipIntensity',\n",
    " 'precipIntensityMax',\n",
    " 'precipProbability',\n",
    " 'precipType',\n",
    " 'sunriseTime',\n",
    " 'sunsetTime',\n",
    " 'temperatureHigh',\n",
    " 'time',\n",
    " 'uvIndex'\n"
   ]
  },
  {
   "cell_type": "code",
   "execution_count": 12,
   "metadata": {},
   "outputs": [
    {
     "name": "stderr",
     "output_type": "stream",
     "text": [
      "/Users/hkromer/anaconda3/envs/solarAnalytics/lib/python3.7/site-packages/pandas/core/indexing.py:1404: FutureWarning: \n",
      "Passing list-likes to .loc or [] with any missing label will raise\n",
      "KeyError in the future, you can use .reindex() as an alternative.\n",
      "\n",
      "See the documentation here:\n",
      "https://pandas.pydata.org/pandas-docs/stable/user_guide/indexing.html#deprecate-loc-reindex-listlike\n",
      "  return self._getitem_tuple(key)\n"
     ]
    },
    {
     "data": {
      "text/html": [
       "<div>\n",
       "<style scoped>\n",
       "    .dataframe tbody tr th:only-of-type {\n",
       "        vertical-align: middle;\n",
       "    }\n",
       "\n",
       "    .dataframe tbody tr th {\n",
       "        vertical-align: top;\n",
       "    }\n",
       "\n",
       "    .dataframe thead th {\n",
       "        text-align: right;\n",
       "    }\n",
       "</style>\n",
       "<table border=\"1\" class=\"dataframe\">\n",
       "  <thead>\n",
       "    <tr style=\"text-align: right;\">\n",
       "      <th></th>\n",
       "      <th>time</th>\n",
       "      <th>apparentTemperatureMax</th>\n",
       "      <th>apparentTemperatureHigh</th>\n",
       "      <th>apparentTemperatureHighTime</th>\n",
       "      <th>apparentTemperatureMaxTime</th>\n",
       "    </tr>\n",
       "  </thead>\n",
       "  <tbody>\n",
       "    <tr>\n",
       "      <th>917</th>\n",
       "      <td>2020-04-12 00:00:00+02:00</td>\n",
       "      <td>22.79</td>\n",
       "      <td>22.79</td>\n",
       "      <td>NaN</td>\n",
       "      <td>NaN</td>\n",
       "    </tr>\n",
       "    <tr>\n",
       "      <th>918</th>\n",
       "      <td>2020-04-13 00:00:00+02:00</td>\n",
       "      <td>19.21</td>\n",
       "      <td>19.21</td>\n",
       "      <td>NaN</td>\n",
       "      <td>NaN</td>\n",
       "    </tr>\n",
       "    <tr>\n",
       "      <th>919</th>\n",
       "      <td>2020-04-14 00:00:00+02:00</td>\n",
       "      <td>13.89</td>\n",
       "      <td>13.89</td>\n",
       "      <td>NaN</td>\n",
       "      <td>NaN</td>\n",
       "    </tr>\n",
       "    <tr>\n",
       "      <th>920</th>\n",
       "      <td>2020-04-15 00:00:00+02:00</td>\n",
       "      <td>20.09</td>\n",
       "      <td>20.09</td>\n",
       "      <td>NaN</td>\n",
       "      <td>NaN</td>\n",
       "    </tr>\n",
       "    <tr>\n",
       "      <th>921</th>\n",
       "      <td>2020-04-16 00:00:00+02:00</td>\n",
       "      <td>20.88</td>\n",
       "      <td>20.88</td>\n",
       "      <td>NaN</td>\n",
       "      <td>NaN</td>\n",
       "    </tr>\n",
       "  </tbody>\n",
       "</table>\n",
       "</div>"
      ],
      "text/plain": [
       "                         time  apparentTemperatureMax  \\\n",
       "917 2020-04-12 00:00:00+02:00                   22.79   \n",
       "918 2020-04-13 00:00:00+02:00                   19.21   \n",
       "919 2020-04-14 00:00:00+02:00                   13.89   \n",
       "920 2020-04-15 00:00:00+02:00                   20.09   \n",
       "921 2020-04-16 00:00:00+02:00                   20.88   \n",
       "\n",
       "     apparentTemperatureHigh  apparentTemperatureHighTime  \\\n",
       "917                    22.79                          NaN   \n",
       "918                    19.21                          NaN   \n",
       "919                    13.89                          NaN   \n",
       "920                    20.09                          NaN   \n",
       "921                    20.88                          NaN   \n",
       "\n",
       "     apparentTemperatureMaxTime  \n",
       "917                         NaN  \n",
       "918                         NaN  \n",
       "919                         NaN  \n",
       "920                         NaN  \n",
       "921                         NaN  "
      ]
     },
     "execution_count": 12,
     "metadata": {},
     "output_type": "execute_result"
    }
   ],
   "source": [
    "df.loc[:, ['time', 'apparentTemperatureMax', 'apparentTemperatureHigh', 'apparentTemperatureHighTime', 'apparentTemperatureMaxTime']].iloc[-5:]"
   ]
  },
  {
   "cell_type": "markdown",
   "metadata": {},
   "source": [
    "<div class=\"alert alert-block alert-info\">\n",
    "<b>Tip:</b> Use blue boxes (alert-info) for tips and notes. \n",
    "If it’s a note, you don’t have to include the word “Note”.\n",
    "</div>"
   ]
  },
  {
   "cell_type": "code",
   "execution_count": null,
   "metadata": {},
   "outputs": [],
   "source": []
  },
  {
   "cell_type": "code",
   "execution_count": null,
   "metadata": {},
   "outputs": [],
   "source": []
  },
  {
   "cell_type": "code",
   "execution_count": null,
   "metadata": {},
   "outputs": [],
   "source": []
  }
 ],
 "metadata": {
  "kernelspec": {
   "display_name": "Python 3",
   "language": "python",
   "name": "python3"
  },
  "language_info": {
   "codemirror_mode": {
    "name": "ipython",
    "version": 3
   },
   "file_extension": ".py",
   "mimetype": "text/x-python",
   "name": "python",
   "nbconvert_exporter": "python",
   "pygments_lexer": "ipython3",
   "version": "3.7.3"
  }
 },
 "nbformat": 4,
 "nbformat_minor": 4
}
