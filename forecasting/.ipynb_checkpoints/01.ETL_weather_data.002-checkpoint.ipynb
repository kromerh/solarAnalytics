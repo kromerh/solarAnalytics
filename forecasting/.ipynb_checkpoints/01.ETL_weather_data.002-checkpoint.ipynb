{
 "cells": [
  {
   "cell_type": "markdown",
   "metadata": {},
   "source": [
    "# STEP 01: ETL, Version 002\n",
    "\n",
    "In this notebook, the data extraction for the weather data is covered. There are three data sources that are processed:\n",
    "\n",
    "**1. Weather: Information on temperature, cloud coverage, precipitation, etc at the location using the DarkSkyAPI**<br>\n",
    "*2. Sun position: Information on the position of the sun in the sky at the location using pysolar.solar*<br>\n",
    "*3. Solar panel production: Information on the amount of energy produced by the solar panels at the location*<br>"
   ]
  },
  {
   "cell_type": "markdown",
   "metadata": {},
   "source": [
    "# Weather Data\n",
    "\n",
    "The first step is to get the weather data for the location where the solar panel is located. The location coordinates can be taken for example from Google Maps (latitude, longitude). In this case, the location information is stored in a file along with the secret for the API of DarkSky (https://darksky.net/dev). Signup there is free, as long as one stays below 1000 API calls per 24 hours. \n",
    "\n",
    "The way this works is that the DarkSky API is called and returns hourly, historical data for each day that is requested. The response from the API (json files) will be stored locally and then be processed into one big csv file with all the data from the API. For the Time Series Analysis, not all data is relevant and it will be cleaned later on."
   ]
  },
  {
   "cell_type": "code",
   "execution_count": 18,
   "metadata": {},
   "outputs": [
    {
     "data": {
      "text/html": [
       "        <script type=\"text/javascript\">\n",
       "        window.PlotlyConfig = {MathJaxConfig: 'local'};\n",
       "        if (window.MathJax) {MathJax.Hub.Config({SVG: {font: \"STIX-Web\"}});}\n",
       "        if (typeof require !== 'undefined') {\n",
       "        require.undef(\"plotly\");\n",
       "        requirejs.config({\n",
       "            paths: {\n",
       "                'plotly': ['https://cdn.plot.ly/plotly-latest.min']\n",
       "            }\n",
       "        });\n",
       "        require(['plotly'], function(Plotly) {\n",
       "            window._Plotly = Plotly;\n",
       "        });\n",
       "        }\n",
       "        </script>\n",
       "        "
      ]
     },
     "metadata": {},
     "output_type": "display_data"
    }
   ],
   "source": [
    "import datetime\n",
    "from time import mktime\n",
    "import pandas as pd\n",
    "import numpy as np\n",
    "import requests\n",
    "import re\n",
    "import json\n",
    "import os\n",
    "import plotly\n",
    "plotly.offline.init_notebook_mode(connected=True)\n",
    "\n",
    "\n",
    "from dateutil import tz\n",
    "import matplotlib.pyplot as plt\n",
    "import seaborn as sns\n",
    "sns.set()"
   ]
  },
  {
   "cell_type": "markdown",
   "metadata": {},
   "source": [
    "## 1. Get the location where the solar panel is, get DarkSkyAPI"
   ]
  },
  {
   "cell_type": "code",
   "execution_count": 2,
   "metadata": {},
   "outputs": [],
   "source": [
    "location = [0,0]\n",
    "DarkSkySecret = 'none'\n",
    "credentials = './.credentials.pw'\n",
    "\n",
    "ii = 0\n",
    "with open(credentials, 'r') as file:\n",
    "    for line in file:\n",
    "        ii = ii + 1\n",
    "        line = line.rstrip().split(',')\n",
    "        if ii == 4:\n",
    "#             print(line)\n",
    "            location[0] = line[1]\n",
    "            location[1] = line[2] \n",
    "        if ii == 3:        \n",
    "#         if ii == 2: # other key\n",
    "            DarkSkySecret = line[1]\n",
    "    file.close()"
   ]
  },
  {
   "cell_type": "markdown",
   "metadata": {},
   "source": [
    "## 2. Testing the API: Pick a date in the past and get hourly data from API\n",
    "\n",
    "Documentation of the DarkSkyAPI is under: https://darksky.net/dev/docs\n",
    "\n",
    "\n",
    "Note that the API returns the time in the **local** time zone"
   ]
  },
  {
   "cell_type": "code",
   "execution_count": 3,
   "metadata": {},
   "outputs": [
    {
     "name": "stdout",
     "output_type": "stream",
     "text": [
      "For this day there are 24 records from the API\n"
     ]
    },
    {
     "data": {
      "text/plain": [
       "{'time': 1527559200,\n",
       " 'summary': 'Overcast',\n",
       " 'icon': 'cloudy',\n",
       " 'precipType': 'rain',\n",
       " 'temperature': 19.07,\n",
       " 'apparentTemperature': 19.07,\n",
       " 'dewPoint': 15,\n",
       " 'humidity': 0.77,\n",
       " 'windSpeed': 3.6,\n",
       " 'windBearing': 230,\n",
       " 'cloudCover': 1,\n",
       " 'uvIndex': 0,\n",
       " 'visibility': 10.003}"
      ]
     },
     "execution_count": 3,
     "metadata": {},
     "output_type": "execute_result"
    }
   ],
   "source": [
    "# create some date\n",
    "mydate = '1527559200'\n",
    "# date = datetime.datetime.strptime(mydate, '%Y-%m-%d')\n",
    "\n",
    "# option list for API\n",
    "option_list = \"exclude=currently,minutely,alerts&units=si\"\n",
    "\n",
    "\n",
    "# call API\n",
    "latitude = str(location[0])\n",
    "longitude = str(location[1])\n",
    "\n",
    "response = requests.get(\"https://api.darksky.net/forecast/\"+DarkSkySecret+\"/\"+latitude+\",\"+longitude+\",\"+mydate+\"?\"+option_list)\n",
    "json_res = response.json()\n",
    "mylist = json_res['hourly']['data']\n",
    "print(f'For this day there are {len(mylist)} records from the API')\n",
    "mylist[4]"
   ]
  },
  {
   "cell_type": "markdown",
   "metadata": {},
   "source": [
    "## 3. Plots"
   ]
  },
  {
   "cell_type": "markdown",
   "metadata": {},
   "source": [
    "Check first that the local time is correct"
   ]
  },
  {
   "cell_type": "code",
   "execution_count": 12,
   "metadata": {},
   "outputs": [
    {
     "name": "stdout",
     "output_type": "stream",
     "text": [
      "2018-05-21 00:00:00+02:00\n",
      "2018-05-21 01:00:00+02:00\n",
      "2018-05-21 02:00:00+02:00\n",
      "2018-05-21 03:00:00+02:00\n",
      "2018-05-21 04:00:00+02:00\n",
      "2018-05-21 05:00:00+02:00\n",
      "2018-05-21 06:00:00+02:00\n",
      "2018-05-21 07:00:00+02:00\n",
      "2018-05-21 08:00:00+02:00\n",
      "2018-05-21 09:00:00+02:00\n",
      "2018-05-21 10:00:00+02:00\n",
      "2018-05-21 11:00:00+02:00\n",
      "2018-05-21 12:00:00+02:00\n",
      "2018-05-21 13:00:00+02:00\n",
      "2018-05-21 14:00:00+02:00\n",
      "2018-05-21 15:00:00+02:00\n",
      "2018-05-21 16:00:00+02:00\n",
      "2018-05-21 17:00:00+02:00\n",
      "2018-05-21 18:00:00+02:00\n",
      "2018-05-21 19:00:00+02:00\n",
      "2018-05-21 20:00:00+02:00\n",
      "2018-05-21 21:00:00+02:00\n",
      "2018-05-21 22:00:00+02:00\n",
      "2018-05-21 23:00:00+02:00\n"
     ]
    }
   ],
   "source": [
    "mylist = json_res['hourly']['data']\n",
    "\n",
    "# .strftime('%Y-%m-%d %H:%M:%S')\n",
    "from_zone = tz.tzutc()\n",
    "to_zone = tz.tzlocal()\n",
    "times = []\n",
    "for t in mylist:\n",
    "    utc_time = datetime.datetime.utcfromtimestamp(t['time'])\n",
    "    \n",
    "    # Tell the datetime object that it's in UTC time zone since \n",
    "    # datetime objects are 'naive' by default\n",
    "    utc_time = utc_time.replace(tzinfo=from_zone)\n",
    "\n",
    "    # Convert time zone\n",
    "    localtime = utc_time.astimezone(to_zone)\n",
    "    times.append(localtime.hour)\n",
    "    print(localtime)"
   ]
  },
  {
   "cell_type": "code",
   "execution_count": 13,
   "metadata": {},
   "outputs": [],
   "source": [
    "temperatures = []\n",
    "for t in mylist:\n",
    "#     print(t['temperature'])\n",
    "    temperatures.append(t['temperature'])"
   ]
  },
  {
   "cell_type": "code",
   "execution_count": 14,
   "metadata": {},
   "outputs": [
    {
     "data": {
      "image/png": "[encoded data removed]",
      "text/plain": [
       "<Figure size 432x288 with 1 Axes>"
      ]
     },
     "metadata": {
      "needs_background": "light"
     },
     "output_type": "display_data"
    }
   ],
   "source": [
    "plt.plot(times, temperatures)\n",
    "plt.xlabel('Hour of day')\n",
    "plt.ylabel('Air temperature in degC')\n",
    "plt.title(mydate)\n",
    "plt.ylim(15,40)\n",
    "plt.show()"
   ]
  },
  {
   "cell_type": "markdown",
   "metadata": {},
   "source": [
    "## 4. Make a function\n",
    "\n",
    "- Inputs: \n",
    "    - location: location where the weather should be requested. Format: ['longitude', 'latitude]\n",
    "    - day: day for which hourly data should be requested. Format: '2019-06-26T12:00:00'\n",
    "- Output:\n",
    "    - json object from the API"
   ]
  },
  {
   "cell_type": "code",
   "execution_count": 36,
   "metadata": {},
   "outputs": [],
   "source": [
    "import datetime\n",
    "import pandas as pd\n",
    "import requests\n",
    "import re\n",
    "import json\n",
    "\n",
    "def getWeatherData(location, UNIX_time):\n",
    "    # option list for API\n",
    "    option_list = \"exclude=currently,minutely,alerts&units=si\"\n",
    "\n",
    "    # call API\n",
    "    latitude = location[0]\n",
    "    longitude = location[1]\n",
    "\n",
    "    response = requests.get(\"https://api.darksky.net/forecast/\"+DarkSkySecret+\"/\"+latitude+\",\"+longitude+\",\"+str(UNIX_time)+\"?\"+option_list)\n",
    "    json_res = response.json()\n",
    "    \n",
    "    return json_res"
   ]
  },
  {
   "cell_type": "markdown",
   "metadata": {},
   "source": [
    "## 5. Get the data for a certain date range\n",
    "\n",
    "Repeatedly calls to the getWeatherData-function will get the weather data for the location for the respective day hourly. The reponse json object will be stored in a folder for further processing."
   ]
  },
  {
   "cell_type": "code",
   "execution_count": 39,
   "metadata": {},
   "outputs": [],
   "source": [
    "# where to store the API data\n",
    "save_path = \"./data/DarkSkyAPI/\"\n",
    "\n",
    "# date range\n",
    "startDate = '2017-10-01'\n",
    "endDate = '2019-06-29'\n",
    "\n",
    "# convert to a time delta\n",
    "d_from_date = datetime.datetime.strptime(startDate, '%Y-%m-%d')\n",
    "d_to_date = datetime.datetime.strptime(endDate , '%Y-%m-%d')\n",
    "delta = d_to_date - d_from_date\n",
    "\n",
    "# for every day in the date range, get the data\n",
    "for i in range(delta.days+1):\n",
    "#     new_date = (d_from_date + datetime.timedelta(days=i)).strftime('%Y-%m-%d')\n",
    "    new_date = (d_from_date + datetime.timedelta(days=i)) + pd.DateOffset(hours=15)\n",
    "\n",
    "    # convert to datetime\n",
    "    new_date = new_date.to_pydatetime()  \n",
    "\n",
    "    # convert the date to UNIX time\n",
    "    UNIX_time = int(mktime(new_date.timetuple()))\n",
    "    str_date = new_date.strftime('%Y-%m-%d')\n",
    "\n",
    "    # call API\n",
    "    data = getWeatherData(location, UNIX_time)\n",
    "    \n",
    "    # write to file\n",
    "    with open(f'{save_path}/{str_date}.json', 'w') as outfile:  \n",
    "        json.dump(data, outfile)\n",
    "        outfile.close()"
   ]
  },
  {
   "cell_type": "markdown",
   "metadata": {},
   "source": [
    "## 6. Clean up the weather data\n",
    "\n",
    "Now that the data for each day is stored as a json object, it can be cleaned up. First, lets explore the dataset structure."
   ]
  },
  {
   "cell_type": "code",
   "execution_count": 42,
   "metadata": {},
   "outputs": [
    {
     "data": {
      "text/plain": [
       "dict_keys(['latitude', 'longitude', 'timezone', 'hourly', 'daily', 'flags', 'offset'])"
      ]
     },
     "execution_count": 42,
     "metadata": {},
     "output_type": "execute_result"
    }
   ],
   "source": [
    "path_to_jsons = './data/DarkSkyAPI/'\n",
    "\n",
    "# list all the json objects in the path\n",
    "jsons = os.listdir(path_to_jsons)\n",
    "# make sure that there are only json files\n",
    "jsons = [j for j in jsons if j.endswith('.json')]\n",
    "\n",
    "# load one file to examine\n",
    "with open(f'{path_to_jsons}{jsons[0]}') as f:\n",
    "    d = json.load(f)\n",
    "    f.close()\n",
    "    \n",
    "    \n",
    "d.keys()"
   ]
  },
  {
   "cell_type": "markdown",
   "metadata": {},
   "source": [
    "It seems that the jsons contain as a dictionary the entries 'latitude', 'longitude', 'timezone', 'hourly', 'daily', 'flags', 'offset'. Lets check what those contain."
   ]
  },
  {
   "cell_type": "code",
   "execution_count": 43,
   "metadata": {},
   "outputs": [
    {
     "name": "stdout",
     "output_type": "stream",
     "text": [
      "Key latitude contains: 47.964718\n",
      "Key longitude contains: 7.955852\n",
      "Key timezone contains: Europe/Berlin\n",
      "Key hourly contains: {'summary': 'Foggy starting in the morning.', 'icon': 'fog', 'data': [{'time': 1548025200, 'summary': 'Partly Cloudy', 'icon': 'partly-cloudy-night', 'precipIntensity': 0.01, 'precipProbability': 0.01, 'precipType': 'snow', 'precipAccumulation': 0.06, 'temperature': -1.59, 'apparentTemperature': -1.59, 'dewPoint': -5.05, 'humidity': 0.77, 'pressure': 1019.68, 'windSpeed': 1.09, 'windGust': 1.44, 'windBearing': 81, 'cloudCover': 0.48, 'uvIndex': 0, 'visibility': 16.093, 'ozone': 343}, {'time': 1548028800, 'summary': 'Partly Cloudy', 'icon': 'partly-cloudy-night', 'precipIntensity': 0.01, 'precipProbability': 0.01, 'precipType': 'snow', 'precipAccumulation': 0.08, 'temperature': -2.33, 'apparentTemperature': -4.57, 'dewPoint': -6.1, 'humidity': 0.75, 'pressure': 1020.17, 'windSpeed': 1.59, 'windGust': 1.84, 'windBearing': 38, 'cloudCover': 0.47, 'uvIndex': 0, 'visibility': 16.093, 'ozone': 342.9}, {'time': 1548032400, 'summary': 'Partly Cloudy', 'icon': 'partly-cloudy-night', 'precipIntensity': 0.01, 'precipProbability': 0.01, 'precipType': 'snow', 'precipAccumulation': 0.06, 'temperature': -2.53, 'apparentTemperature': -4.59, 'dewPoint': -6.26, 'humidity': 0.76, 'pressure': 1020.33, 'windSpeed': 1.47, 'windGust': 1.72, 'windBearing': 36, 'cloudCover': 0.49, 'uvIndex': 0, 'visibility': 16.093, 'ozone': 342.7}, {'time': 1548036000, 'summary': 'Mostly Cloudy', 'icon': 'partly-cloudy-night', 'precipIntensity': 0, 'precipProbability': 0, 'temperature': -2.75, 'apparentTemperature': -2.75, 'dewPoint': -6.3, 'humidity': 0.77, 'pressure': 1020.41, 'windSpeed': 1.22, 'windGust': 1.52, 'windBearing': 40, 'cloudCover': 0.54, 'uvIndex': 0, 'visibility': 16.093, 'ozone': 342.6}, {'time': 1548039600, 'summary': 'Mostly Cloudy', 'icon': 'partly-cloudy-night', 'precipIntensity': 0, 'precipProbability': 0, 'temperature': -2.84, 'apparentTemperature': -2.84, 'dewPoint': -6.35, 'humidity': 0.77, 'pressure': 1020.5, 'windSpeed': 1.03, 'windGust': 1.36, 'windBearing': 45, 'cloudCover': 0.56, 'uvIndex': 0, 'visibility': 16.093, 'ozone': 342.5}, {'time': 1548043200, 'summary': 'Mostly Cloudy', 'icon': 'partly-cloudy-night', 'precipIntensity': 0, 'precipProbability': 0, 'temperature': -3.21, 'apparentTemperature': -3.21, 'dewPoint': -6.49, 'humidity': 0.78, 'pressure': 1020.74, 'windSpeed': 0.98, 'windGust': 1.29, 'windBearing': 45, 'cloudCover': 0.55, 'uvIndex': 0, 'visibility': 16.093, 'ozone': 342.6}, {'time': 1548046800, 'summary': 'Foggy', 'icon': 'fog', 'precipIntensity': 0, 'precipProbability': 0, 'temperature': -1.82, 'apparentTemperature': -5.56, 'dewPoint': -4.96, 'humidity': 0.79, 'pressure': 1021, 'windSpeed': 2.87, 'windGust': 2.87, 'windBearing': 0, 'cloudCover': 1, 'uvIndex': 0, 'visibility': 0, 'ozone': 342.8}, {'time': 1548050400, 'summary': 'Foggy', 'icon': 'fog', 'precipIntensity': 0, 'precipProbability': 0, 'temperature': -3.39, 'apparentTemperature': -7.33, 'dewPoint': -4.33, 'humidity': 0.93, 'pressure': 1021.25, 'windSpeed': 2.77, 'windGust': 2.77, 'windBearing': 13, 'cloudCover': 1, 'uvIndex': 0, 'visibility': 0, 'ozone': 343.8}, {'time': 1548054000, 'summary': 'Foggy', 'icon': 'fog', 'precipIntensity': 0.01, 'precipProbability': 0.02, 'precipType': 'snow', 'precipAccumulation': 0.11, 'temperature': -3.23, 'apparentTemperature': -7.15, 'dewPoint': -4.03, 'humidity': 0.94, 'pressure': 1021.47, 'windSpeed': 2.78, 'windGust': 2.78, 'windBearing': 358, 'cloudCover': 1, 'uvIndex': 0, 'visibility': 0, 'ozone': 344.2}, {'time': 1548057600, 'summary': 'Foggy', 'icon': 'fog', 'precipIntensity': 0.02, 'precipProbability': 0.03, 'precipType': 'snow', 'precipAccumulation': 0.25, 'temperature': -2.93, 'apparentTemperature': -6.83, 'dewPoint': -4.62, 'humidity': 0.88, 'pressure': 1021.63, 'windSpeed': 2.81, 'windGust': 2.81, 'windBearing': 13, 'cloudCover': 1, 'uvIndex': 0, 'visibility': 0, 'ozone': 344.6}, {'time': 1548061200, 'summary': 'Foggy', 'icon': 'fog', 'precipIntensity': 0.04, 'precipProbability': 0.04, 'precipType': 'snow', 'precipAccumulation': 0.33, 'temperature': -2.45, 'apparentTemperature': -5.74, 'dewPoint': -4.24, 'humidity': 0.88, 'pressure': 1021.71, 'windSpeed': 2.34, 'windGust': 2.34, 'windBearing': 14, 'cloudCover': 1, 'uvIndex': 0, 'visibility': 0, 'ozone': 344.9}, {'time': 1548064800, 'summary': 'Foggy', 'icon': 'fog', 'precipIntensity': 0.04, 'precipProbability': 0.08, 'precipType': 'snow', 'precipAccumulation': 0.27, 'temperature': -2.19, 'apparentTemperature': -4.79, 'dewPoint': -3.85, 'humidity': 0.88, 'pressure': 1021.59, 'windSpeed': 1.84, 'windGust': 1.84, 'windBearing': 359, 'cloudCover': 1, 'uvIndex': 1, 'visibility': 0, 'ozone': 345.3}, {'time': 1548068400, 'summary': 'Foggy', 'icon': 'fog', 'precipIntensity': 0.03, 'precipProbability': 0.09, 'precipType': 'rain', 'temperature': -1.92, 'apparentTemperature': -4.48, 'dewPoint': -3.46, 'humidity': 0.89, 'pressure': 1021.38, 'windSpeed': 1.84, 'windGust': 1.84, 'windBearing': 34, 'cloudCover': 1, 'uvIndex': 1, 'visibility': 0, 'ozone': 345.8}, {'time': 1548072000, 'summary': 'Foggy', 'icon': 'fog', 'precipIntensity': 0.02, 'precipProbability': 0.08, 'precipType': 'rain', 'temperature': -2.17, 'apparentTemperature': -4.73, 'dewPoint': -2.47, 'humidity': 0.98, 'pressure': 1021.64, 'windSpeed': 1.82, 'windGust': 2.29, 'windBearing': 22, 'cloudCover': 1, 'uvIndex': 1, 'visibility': 2.575, 'ozone': 342.5}, {'time': 1548075600, 'summary': 'Foggy', 'icon': 'fog', 'precipIntensity': 0.01, 'precipProbability': 0.11, 'precipType': 'rain', 'temperature': -1.8, 'apparentTemperature': -3.68, 'dewPoint': -3.34, 'humidity': 0.89, 'pressure': 1021.26, 'windSpeed': 1.43, 'windGust': 2.31, 'windBearing': 44, 'cloudCover': 1, 'uvIndex': 1, 'visibility': 2.989, 'ozone': 343}, {'time': 1548079200, 'summary': 'Foggy', 'icon': 'fog', 'precipIntensity': 0, 'precipProbability': 0, 'temperature': -0.55, 'apparentTemperature': -0.55, 'dewPoint': -2.3, 'humidity': 0.88, 'pressure': 1020.76, 'windSpeed': 1, 'windGust': 2.22, 'windBearing': 353, 'cloudCover': 1, 'uvIndex': 0, 'visibility': 2.587, 'ozone': 344}, {'time': 1548082800, 'summary': 'Foggy', 'icon': 'fog', 'precipIntensity': 0, 'precipProbability': 0, 'temperature': -0.65, 'apparentTemperature': -2.36, 'dewPoint': -2.31, 'humidity': 0.89, 'pressure': 1020.47, 'windSpeed': 1.42, 'windGust': 2.06, 'windBearing': 347, 'cloudCover': 1, 'uvIndex': 0, 'visibility': 0.944, 'ozone': 345.4}, {'time': 1548086400, 'summary': 'Foggy', 'icon': 'fog', 'precipIntensity': 0, 'precipProbability': 0, 'temperature': -0.71, 'apparentTemperature': -0.71, 'dewPoint': -2.56, 'humidity': 0.87, 'pressure': 1020.52, 'windSpeed': 1.15, 'windGust': 1.79, 'windBearing': 28, 'cloudCover': 1, 'uvIndex': 0, 'visibility': 0, 'ozone': 347.3}, {'time': 1548090000, 'summary': 'Foggy', 'icon': 'fog', 'precipIntensity': 0, 'precipProbability': 0, 'temperature': -1, 'apparentTemperature': -1, 'dewPoint': -2.91, 'humidity': 0.87, 'pressure': 1020.73, 'windSpeed': 1.16, 'windGust': 1.45, 'windBearing': 102, 'cloudCover': 0.75, 'uvIndex': 0, 'visibility': 0, 'ozone': 349.5}, {'time': 1548093600, 'summary': 'Foggy', 'icon': 'fog', 'precipIntensity': 0, 'precipProbability': 0, 'temperature': -4.23, 'apparentTemperature': -4.23, 'dewPoint': -4.48, 'humidity': 0.98, 'pressure': 1021.15, 'windSpeed': 0.77, 'windGust': 1.35, 'windBearing': 105, 'cloudCover': 0.44, 'uvIndex': 0, 'visibility': 0, 'ozone': 346.7}, {'time': 1548097200, 'summary': 'Foggy', 'icon': 'fog', 'precipIntensity': 0, 'precipProbability': 0, 'temperature': -4.82, 'apparentTemperature': -4.82, 'dewPoint': -5.77, 'humidity': 0.93, 'pressure': 1021.23, 'windSpeed': 0, 'windGust': 1.16, 'windBearing': 139, 'cloudCover': 0.19, 'uvIndex': 0, 'visibility': 0, 'ozone': 346.2}, {'time': 1548100800, 'summary': 'Partly Cloudy', 'icon': 'partly-cloudy-night', 'precipIntensity': 0, 'precipProbability': 0, 'temperature': -3.37, 'apparentTemperature': -3.37, 'dewPoint': -6.71, 'humidity': 0.78, 'pressure': 1021.24, 'windSpeed': 0.8, 'windGust': 1.01, 'windBearing': 77, 'cloudCover': 0.35, 'uvIndex': 0, 'visibility': 12.173, 'ozone': 345.2}, {'time': 1548104400, 'summary': 'Partly Cloudy', 'icon': 'partly-cloudy-night', 'precipIntensity': 0.01, 'precipProbability': 0.01, 'precipType': 'snow', 'precipAccumulation': 0.06, 'temperature': -3.47, 'apparentTemperature': -3.47, 'dewPoint': -7.03, 'humidity': 0.76, 'pressure': 1021.15, 'windSpeed': 0.77, 'windGust': 0.98, 'windBearing': 99, 'cloudCover': 0.3, 'uvIndex': 0, 'visibility': 13.353, 'ozone': 344.2}, {'time': 1548108000, 'summary': 'Partly Cloudy', 'icon': 'partly-cloudy-night', 'precipIntensity': 0, 'precipProbability': 0, 'temperature': -3.68, 'apparentTemperature': -3.68, 'dewPoint': -7.42, 'humidity': 0.75, 'pressure': 1020.98, 'windSpeed': 0.88, 'windGust': 1.14, 'windBearing': 117, 'cloudCover': 0.25, 'uvIndex': 0, 'visibility': 13.303, 'ozone': 343.1}]}\n",
      "Key daily contains: {'data': [{'time': 1548025200, 'summary': 'Foggy until evening.', 'icon': 'partly-cloudy-day', 'sunriseTime': 1548054572, 'sunsetTime': 1548087092, 'moonPhase': 0.52, 'precipIntensity': 0.0093, 'precipIntensityMax': 0.0373, 'precipIntensityMaxTime': 1548064800, 'precipProbability': 0.18, 'precipType': 'snow', 'precipAccumulation': 0.07, 'temperatureHigh': -0.55, 'temperatureHighTime': 1548079200, 'temperatureLow': -4.82, 'temperatureLowTime': 1548097200, 'apparentTemperatureHigh': -0.55, 'apparentTemperatureHighTime': 1548079200, 'apparentTemperatureLow': -7.09, 'apparentTemperatureLowTime': 1548136800, 'dewPoint': -4.85, 'humidity': 0.84, 'pressure': 1020.95, 'windSpeed': 1.48, 'windGust': 2.87, 'windGustTime': 1548046800, 'windBearing': 33, 'cloudCover': 0.7, 'uvIndex': 1, 'uvIndexTime': 1548072000, 'visibility': 6.289, 'ozone': 344.3, 'temperatureMin': -4.82, 'temperatureMinTime': 1548097200, 'temperatureMax': -0.55, 'temperatureMaxTime': 1548079200, 'apparentTemperatureMin': -7.33, 'apparentTemperatureMinTime': 1548050400, 'apparentTemperatureMax': -0.55, 'apparentTemperatureMaxTime': 1548079200}]}\n",
      "Key flags contains: {'sources': ['cmc', 'gfs', 'icon', 'isd', 'madis'], 'nearest-station': 4.219, 'units': 'si'}\n",
      "Key offset contains: 1\n"
     ]
    }
   ],
   "source": [
    "for key in d.keys():\n",
    "    print(f'Key {key} contains: {d[key]}')"
   ]
  },
  {
   "cell_type": "markdown",
   "metadata": {},
   "source": [
    "The data is in the key 'hourly'. The rest is not useful information, but can be used to cross check. For further info, see the DarkSky API. The data in the 'hourly' key is stored in the 'data'-key and as a separate dictionary for each timestamp stored in a list, found via `d['hourly']['data']`. The timestamps are encoded in UNIX time. The data contained is explained in detail here: https://darksky.net/dev/docs#data-point-object\n",
    "\n",
    "\n"
   ]
  },
  {
   "cell_type": "code",
   "execution_count": 44,
   "metadata": {},
   "outputs": [
    {
     "data": {
      "text/plain": [
       "{'time': 1548028800,\n",
       " 'summary': 'Partly Cloudy',\n",
       " 'icon': 'partly-cloudy-night',\n",
       " 'precipIntensity': 0.01,\n",
       " 'precipProbability': 0.01,\n",
       " 'precipType': 'snow',\n",
       " 'precipAccumulation': 0.08,\n",
       " 'temperature': -2.33,\n",
       " 'apparentTemperature': -4.57,\n",
       " 'dewPoint': -6.1,\n",
       " 'humidity': 0.75,\n",
       " 'pressure': 1020.17,\n",
       " 'windSpeed': 1.59,\n",
       " 'windGust': 1.84,\n",
       " 'windBearing': 38,\n",
       " 'cloudCover': 0.47,\n",
       " 'uvIndex': 0,\n",
       " 'visibility': 16.093,\n",
       " 'ozone': 342.9}"
      ]
     },
     "execution_count": 44,
     "metadata": {},
     "output_type": "execute_result"
    }
   ],
   "source": [
    "d['hourly']['data'][1]"
   ]
  },
  {
   "cell_type": "markdown",
   "metadata": {},
   "source": [
    "The approach now is clear: First the jsons will be loaded, the data for each timestamp extracted and all stored in a dataframe. Each row of the dataframe will correspond to one timestamp."
   ]
  },
  {
   "cell_type": "code",
   "execution_count": 45,
   "metadata": {},
   "outputs": [
    {
     "name": "stdout",
     "output_type": "stream",
     "text": [
      "<class 'pandas.core.frame.DataFrame'>\n",
      "RangeIndex: 14811 entries, 0 to 14810\n",
      "Data columns (total 19 columns):\n",
      "apparentTemperature    14811 non-null float64\n",
      "cloudCover             11325 non-null float64\n",
      "dewPoint               14811 non-null float64\n",
      "humidity               14811 non-null float64\n",
      "icon                   14811 non-null object\n",
      "ozone                  8766 non-null float64\n",
      "precipAccumulation     424 non-null float64\n",
      "precipIntensity        14320 non-null float64\n",
      "precipProbability      14320 non-null float64\n",
      "precipType             6097 non-null object\n",
      "pressure               14318 non-null float64\n",
      "summary                14811 non-null object\n",
      "temperature            14811 non-null float64\n",
      "time                   14811 non-null float64\n",
      "uvIndex                13347 non-null float64\n",
      "visibility             13102 non-null float64\n",
      "windBearing            14696 non-null float64\n",
      "windGust               14292 non-null float64\n",
      "windSpeed              14739 non-null float64\n",
      "dtypes: float64(16), object(3)\n",
      "memory usage: 2.1+ MB\n",
      "None\n",
      "       apparentTemperature    cloudCover      dewPoint      humidity  \\\n",
      "count         14811.000000  11325.000000  14811.000000  14811.000000   \n",
      "mean              9.393235      0.611840      4.888941      0.731685   \n",
      "std               8.685788      0.354792      6.248807      0.158410   \n",
      "min             -12.830000      0.000000    -16.330000      0.200000   \n",
      "25%               2.490000      0.280000      0.440000      0.640000   \n",
      "50%               8.230000      0.750000      4.600000      0.770000   \n",
      "75%              15.620000      0.960000      9.520000      0.850000   \n",
      "max              37.400000      1.000000     21.430000      1.000000   \n",
      "\n",
      "             ozone  precipAccumulation  precipIntensity  precipProbability  \\\n",
      "count  8766.000000          424.000000     14320.000000       14320.000000   \n",
      "mean    321.265457            0.885425         0.118673           0.121525   \n",
      "std      38.548077            1.138704         0.334901           0.241185   \n",
      "min     236.600000            0.020000         0.000000           0.000000   \n",
      "25%     292.800000            0.130000         0.000000           0.000000   \n",
      "50%     316.600000            0.410000         0.000000           0.000000   \n",
      "75%     344.500000            1.250000         0.060000           0.100000   \n",
      "max     474.400000            8.970000         7.590000           1.000000   \n",
      "\n",
      "           pressure   temperature          time       uvIndex    visibility  \\\n",
      "count  14318.000000  14811.000000  1.481100e+04  13347.000000  13102.000000   \n",
      "mean    1017.928204      9.973454  1.534513e+09      0.801454      9.725643   \n",
      "std        8.892927      8.141951  1.610592e+07      1.569219      4.601073   \n",
      "min      982.650000    -11.550000  1.506809e+09      0.000000      0.000000   \n",
      "25%     1013.020000      3.720000  1.520138e+09      0.000000      7.865250   \n",
      "50%     1017.970000      8.880000  1.535184e+09      0.000000      9.996000   \n",
      "75%     1023.177500     15.605000  1.548513e+09      1.000000     12.267250   \n",
      "max     1040.130000     35.400000  1.561842e+09      9.000000     16.093000   \n",
      "\n",
      "        windBearing      windGust     windSpeed  \n",
      "count  14696.000000  14292.000000  14739.000000  \n",
      "mean     167.830702      3.536684      1.832437  \n",
      "std       95.802766      3.336513      1.551374  \n",
      "min        0.000000      0.010000      0.000000  \n",
      "25%       86.000000      1.510000      0.835000  \n",
      "50%      181.000000      2.480000      1.500000  \n",
      "75%      232.000000      4.260000      2.370000  \n",
      "max      359.000000     23.390000     15.070000  \n",
      "   apparentTemperature  cloudCover  dewPoint  humidity                 icon  \\\n",
      "0                -1.59        0.48     -5.05      0.77  partly-cloudy-night   \n",
      "1                -4.57        0.47     -6.10      0.75  partly-cloudy-night   \n",
      "2                -4.59        0.49     -6.26      0.76  partly-cloudy-night   \n",
      "3                -2.75        0.54     -6.30      0.77  partly-cloudy-night   \n",
      "4                -2.84        0.56     -6.35      0.77  partly-cloudy-night   \n",
      "\n",
      "   ozone  precipAccumulation  precipIntensity  precipProbability precipType  \\\n",
      "0  343.0                0.06             0.01               0.01       snow   \n",
      "1  342.9                0.08             0.01               0.01       snow   \n",
      "2  342.7                0.06             0.01               0.01       snow   \n",
      "3  342.6                 NaN             0.00               0.00        NaN   \n",
      "4  342.5                 NaN             0.00               0.00        NaN   \n",
      "\n",
      "   pressure        summary  temperature          time  uvIndex  visibility  \\\n",
      "0   1019.68  Partly Cloudy        -1.59  1.548025e+09      0.0      16.093   \n",
      "1   1020.17  Partly Cloudy        -2.33  1.548029e+09      0.0      16.093   \n",
      "2   1020.33  Partly Cloudy        -2.53  1.548032e+09      0.0      16.093   \n",
      "3   1020.41  Mostly Cloudy        -2.75  1.548036e+09      0.0      16.093   \n",
      "4   1020.50  Mostly Cloudy        -2.84  1.548040e+09      0.0      16.093   \n",
      "\n",
      "   windBearing  windGust  windSpeed  \n",
      "0         81.0      1.44       1.09  \n",
      "1         38.0      1.84       1.59  \n",
      "2         36.0      1.72       1.47  \n",
      "3         40.0      1.52       1.22  \n",
      "4         45.0      1.36       1.03  \n"
     ]
    }
   ],
   "source": [
    "# ii = 0\n",
    "df = pd.DataFrame()\n",
    "\n",
    "# loop over the json files\n",
    "for item in jsons:\n",
    "# ii can be used to load just a few, uncomment the lines    \n",
    "#     ii = ii + 1\n",
    "#     if ii < 10:\n",
    "\n",
    "# open the json file and load it\n",
    "    with open(f'{path_to_jsons}{item}') as file:\n",
    "        d = json.load(file)\n",
    "        # loop over the hourly data, append it to the dataframe\n",
    "        for row in d['hourly']['data']:\n",
    "            s = pd.Series(row)\n",
    "            df = df.append(s,ignore_index=True)\n",
    "\n",
    "    file.close()\n",
    "\n",
    "print(df.info())\n",
    "print(df.describe())\n",
    "print(df.head())\n",
    "\n",
    "df.to_csv(f'{path_to_jsons}/darkSkyData.csv')"
   ]
  },
  {
   "cell_type": "markdown",
   "metadata": {},
   "source": [
    "Each row in the dataframe corresponds to a datapoint at one hour. As there are 24 hours in a day and each json file contains the data for one day, the number of rows divided by 24 must be equal to the number of unique timestamps in the series.\n",
    "\n",
    "We see this is not the case, so we have to investigate what is going on!"
   ]
  },
  {
   "cell_type": "code",
   "execution_count": null,
   "metadata": {},
   "outputs": [],
   "source": [
    "assert (len(df['time'].unique())/24) == len(jsons)"
   ]
  },
  {
   "cell_type": "markdown",
   "metadata": {},
   "source": [
    "Let us now convert the timestamps from UNIX time into the local time, which is in this case for the timezone that is +2 hours from the UTC."
   ]
  },
  {
   "cell_type": "code",
   "execution_count": 9,
   "metadata": {},
   "outputs": [],
   "source": [
    "def convertUNIXtoUTC(utc_time):\n",
    "    \"\"\"\n",
    "    Takes a time in UTC time and converts it into the local time.\n",
    "    \"\"\"\n",
    "    utc_time = datetime.datetime.utcfromtimestamp(utc_time)\n",
    "    \n",
    "    return utc_time"
   ]
  },
  {
   "cell_type": "code",
   "execution_count": 47,
   "metadata": {},
   "outputs": [
    {
     "data": {
      "text/html": [
       "<div>\n",
       "<style scoped>\n",
       "    .dataframe tbody tr th:only-of-type {\n",
       "        vertical-align: middle;\n",
       "    }\n",
       "\n",
       "    .dataframe tbody tr th {\n",
       "        vertical-align: top;\n",
       "    }\n",
       "\n",
       "    .dataframe thead th {\n",
       "        text-align: right;\n",
       "    }\n",
       "</style>\n",
       "<table border=\"1\" class=\"dataframe\">\n",
       "  <thead>\n",
       "    <tr style=\"text-align: right;\">\n",
       "      <th></th>\n",
       "      <th>apparentTemperature</th>\n",
       "      <th>cloudCover</th>\n",
       "      <th>dewPoint</th>\n",
       "      <th>humidity</th>\n",
       "      <th>icon</th>\n",
       "      <th>ozone</th>\n",
       "      <th>precipAccumulation</th>\n",
       "      <th>precipIntensity</th>\n",
       "      <th>precipProbability</th>\n",
       "      <th>precipType</th>\n",
       "      <th>pressure</th>\n",
       "      <th>summary</th>\n",
       "      <th>temperature</th>\n",
       "      <th>time</th>\n",
       "      <th>uvIndex</th>\n",
       "      <th>visibility</th>\n",
       "      <th>windBearing</th>\n",
       "      <th>windGust</th>\n",
       "      <th>windSpeed</th>\n",
       "    </tr>\n",
       "    <tr>\n",
       "      <th>date</th>\n",
       "      <th></th>\n",
       "      <th></th>\n",
       "      <th></th>\n",
       "      <th></th>\n",
       "      <th></th>\n",
       "      <th></th>\n",
       "      <th></th>\n",
       "      <th></th>\n",
       "      <th></th>\n",
       "      <th></th>\n",
       "      <th></th>\n",
       "      <th></th>\n",
       "      <th></th>\n",
       "      <th></th>\n",
       "      <th></th>\n",
       "      <th></th>\n",
       "      <th></th>\n",
       "      <th></th>\n",
       "      <th></th>\n",
       "    </tr>\n",
       "  </thead>\n",
       "  <tbody>\n",
       "    <tr>\n",
       "      <th>2017-10-01 00:00:00</th>\n",
       "      <td>10.99</td>\n",
       "      <td>0.75</td>\n",
       "      <td>10.09</td>\n",
       "      <td>0.94</td>\n",
       "      <td>rain</td>\n",
       "      <td>NaN</td>\n",
       "      <td>NaN</td>\n",
       "      <td>0.07</td>\n",
       "      <td>0.46</td>\n",
       "      <td>rain</td>\n",
       "      <td>1021.82</td>\n",
       "      <td>Possible Drizzle</td>\n",
       "      <td>10.99</td>\n",
       "      <td>1.506809e+09</td>\n",
       "      <td>0.0</td>\n",
       "      <td>9.988</td>\n",
       "      <td>268.0</td>\n",
       "      <td>1.03</td>\n",
       "      <td>0.65</td>\n",
       "    </tr>\n",
       "    <tr>\n",
       "      <th>2017-10-01 01:00:00</th>\n",
       "      <td>11.07</td>\n",
       "      <td>NaN</td>\n",
       "      <td>10.02</td>\n",
       "      <td>0.93</td>\n",
       "      <td>clear-night</td>\n",
       "      <td>NaN</td>\n",
       "      <td>NaN</td>\n",
       "      <td>0.02</td>\n",
       "      <td>0.16</td>\n",
       "      <td>rain</td>\n",
       "      <td>1021.85</td>\n",
       "      <td>Clear</td>\n",
       "      <td>11.07</td>\n",
       "      <td>1.506812e+09</td>\n",
       "      <td>0.0</td>\n",
       "      <td>9.988</td>\n",
       "      <td>258.0</td>\n",
       "      <td>0.61</td>\n",
       "      <td>0.42</td>\n",
       "    </tr>\n",
       "    <tr>\n",
       "      <th>2017-10-01 02:00:00</th>\n",
       "      <td>10.87</td>\n",
       "      <td>NaN</td>\n",
       "      <td>9.64</td>\n",
       "      <td>0.92</td>\n",
       "      <td>clear-night</td>\n",
       "      <td>NaN</td>\n",
       "      <td>NaN</td>\n",
       "      <td>0.00</td>\n",
       "      <td>0.00</td>\n",
       "      <td>NaN</td>\n",
       "      <td>1022.33</td>\n",
       "      <td>Clear</td>\n",
       "      <td>10.87</td>\n",
       "      <td>1.506816e+09</td>\n",
       "      <td>0.0</td>\n",
       "      <td>9.988</td>\n",
       "      <td>233.0</td>\n",
       "      <td>0.55</td>\n",
       "      <td>0.13</td>\n",
       "    </tr>\n",
       "    <tr>\n",
       "      <th>2017-10-01 03:00:00</th>\n",
       "      <td>10.77</td>\n",
       "      <td>NaN</td>\n",
       "      <td>9.55</td>\n",
       "      <td>0.92</td>\n",
       "      <td>clear-night</td>\n",
       "      <td>NaN</td>\n",
       "      <td>NaN</td>\n",
       "      <td>0.00</td>\n",
       "      <td>0.00</td>\n",
       "      <td>NaN</td>\n",
       "      <td>1022.51</td>\n",
       "      <td>Clear</td>\n",
       "      <td>10.77</td>\n",
       "      <td>1.506820e+09</td>\n",
       "      <td>0.0</td>\n",
       "      <td>9.988</td>\n",
       "      <td>194.0</td>\n",
       "      <td>0.36</td>\n",
       "      <td>0.13</td>\n",
       "    </tr>\n",
       "    <tr>\n",
       "      <th>2017-10-01 04:00:00</th>\n",
       "      <td>10.47</td>\n",
       "      <td>NaN</td>\n",
       "      <td>9.05</td>\n",
       "      <td>0.91</td>\n",
       "      <td>clear-night</td>\n",
       "      <td>NaN</td>\n",
       "      <td>NaN</td>\n",
       "      <td>0.00</td>\n",
       "      <td>0.00</td>\n",
       "      <td>NaN</td>\n",
       "      <td>1022.64</td>\n",
       "      <td>Clear</td>\n",
       "      <td>10.47</td>\n",
       "      <td>1.506823e+09</td>\n",
       "      <td>0.0</td>\n",
       "      <td>9.988</td>\n",
       "      <td>258.0</td>\n",
       "      <td>0.44</td>\n",
       "      <td>0.29</td>\n",
       "    </tr>\n",
       "  </tbody>\n",
       "</table>\n",
       "</div>"
      ],
      "text/plain": [
       "                     apparentTemperature  cloudCover  dewPoint  humidity  \\\n",
       "date                                                                       \n",
       "2017-10-01 00:00:00                10.99        0.75     10.09      0.94   \n",
       "2017-10-01 01:00:00                11.07         NaN     10.02      0.93   \n",
       "2017-10-01 02:00:00                10.87         NaN      9.64      0.92   \n",
       "2017-10-01 03:00:00                10.77         NaN      9.55      0.92   \n",
       "2017-10-01 04:00:00                10.47         NaN      9.05      0.91   \n",
       "\n",
       "                            icon  ozone  precipAccumulation  precipIntensity  \\\n",
       "date                                                                           \n",
       "2017-10-01 00:00:00         rain    NaN                 NaN             0.07   \n",
       "2017-10-01 01:00:00  clear-night    NaN                 NaN             0.02   \n",
       "2017-10-01 02:00:00  clear-night    NaN                 NaN             0.00   \n",
       "2017-10-01 03:00:00  clear-night    NaN                 NaN             0.00   \n",
       "2017-10-01 04:00:00  clear-night    NaN                 NaN             0.00   \n",
       "\n",
       "                     precipProbability precipType  pressure           summary  \\\n",
       "date                                                                            \n",
       "2017-10-01 00:00:00               0.46       rain   1021.82  Possible Drizzle   \n",
       "2017-10-01 01:00:00               0.16       rain   1021.85             Clear   \n",
       "2017-10-01 02:00:00               0.00        NaN   1022.33             Clear   \n",
       "2017-10-01 03:00:00               0.00        NaN   1022.51             Clear   \n",
       "2017-10-01 04:00:00               0.00        NaN   1022.64             Clear   \n",
       "\n",
       "                     temperature          time  uvIndex  visibility  \\\n",
       "date                                                                  \n",
       "2017-10-01 00:00:00        10.99  1.506809e+09      0.0       9.988   \n",
       "2017-10-01 01:00:00        11.07  1.506812e+09      0.0       9.988   \n",
       "2017-10-01 02:00:00        10.87  1.506816e+09      0.0       9.988   \n",
       "2017-10-01 03:00:00        10.77  1.506820e+09      0.0       9.988   \n",
       "2017-10-01 04:00:00        10.47  1.506823e+09      0.0       9.988   \n",
       "\n",
       "                     windBearing  windGust  windSpeed  \n",
       "date                                                   \n",
       "2017-10-01 00:00:00        268.0      1.03       0.65  \n",
       "2017-10-01 01:00:00        258.0      0.61       0.42  \n",
       "2017-10-01 02:00:00        233.0      0.55       0.13  \n",
       "2017-10-01 03:00:00        194.0      0.36       0.13  \n",
       "2017-10-01 04:00:00        258.0      0.44       0.29  "
      ]
     },
     "execution_count": 47,
     "metadata": {},
     "output_type": "execute_result"
    }
   ],
   "source": [
    "# convert UNIX to UTC time and add 2 hours to get to local time\n",
    "df['date'] = df['time'].apply(lambda x: convertUNIXtoUTC(x)) + pd.DateOffset(hours=2)\n",
    "\n",
    "# sort by the time\n",
    "df_cleaned = df.sort_values(by=['time'], ascending=True)\n",
    "\n",
    "# make the date the index\n",
    "df_cleaned.set_index('date', inplace=True)\n",
    "\n",
    "# save as csv\n",
    "df_cleaned.to_csv(f'{path_to_jsons}/darkSkyData_cleaned.csv')\n",
    "\n",
    "df_cleaned.head()"
   ]
  },
  {
   "cell_type": "code",
   "execution_count": 13,
   "metadata": {},
   "outputs": [
    {
     "data": {
      "text/plain": [
       "2018-05-19    19\n",
       "2018-05-20    10\n",
       "2018-05-21     8\n",
       "2018-05-22    13\n",
       "2018-05-23    14\n",
       "2018-05-24    16\n",
       "2018-05-25    15\n",
       "2018-05-26    10\n",
       "2018-05-27    10\n",
       "2018-05-28    16\n",
       "2018-05-29    13\n",
       "2018-05-30    14\n",
       "2018-05-31    10\n",
       "2018-06-01    13\n",
       "2018-06-02    11\n",
       "2018-06-03    12\n",
       "2018-06-04    13\n",
       "2018-06-05    13\n",
       "2018-06-06    15\n",
       "2018-06-07    13\n",
       "2018-06-08    14\n",
       "2018-06-09    10\n",
       "2018-06-10     8\n",
       "2018-06-11    14\n",
       "2018-06-12    15\n",
       "2018-06-13    13\n",
       "2018-06-14    13\n",
       "2018-06-15    13\n",
       "2018-06-16     4\n",
       "2018-06-17    10\n",
       "2018-06-18    13\n",
       "2018-06-19    13\n",
       "2018-06-20    13\n",
       "2018-06-21    12\n",
       "2018-06-22    13\n",
       "2018-06-23    12\n",
       "2018-06-24    10\n",
       "2018-06-25    16\n",
       "2018-06-26    15\n",
       "2018-06-27    13\n",
       "2018-06-28    13\n",
       "2018-06-29    16\n",
       "Name: temperature, dtype: int64"
      ]
     },
     "execution_count": 13,
     "metadata": {},
     "output_type": "execute_result"
    }
   ],
   "source": [
    "g_by_day = df_cleaned.groupby(df_cleaned.index.date)['temperature'].count()\n",
    "# print(len(g_by_day[g_by_day !=24]), len(jsons))\n",
    "s_missing = g_by_day[g_by_day !=24]\n",
    "s_missing"
   ]
  },
  {
   "cell_type": "markdown",
   "metadata": {},
   "source": [
    "It seems that for 42 days out of 637, which is around 7%, we do not have 24 datapoints. That's not great! Repeated checks with the API show that for some days, not all data is available. The cases where the API reports more than 25 entries correspond to overlapping timestamps, which is strange, but it seems in the two cases 2018-10-28 and 2017-10-29, the values match for the corresponding next day, since they are not included in that API call.\n",
    "\n",
    "What we could do it obtain data from a different API at those dates in question or infer the values from the adjacent days. Right now, we will leave it like this but keep these missing data in mind."
   ]
  },
  {
   "cell_type": "markdown",
   "metadata": {},
   "source": [
    "# Load the cleaned data"
   ]
  },
  {
   "cell_type": "code",
   "execution_count": 88,
   "metadata": {},
   "outputs": [
    {
     "name": "stdout",
     "output_type": "stream",
     "text": [
      "                     apparentTemperature  cloudCover  humidity  \\\n",
      "date                                                             \n",
      "2017-10-01 00:00:00                10.99        0.75      0.94   \n",
      "2017-10-01 01:00:00                11.07         NaN      0.93   \n",
      "2017-10-01 02:00:00                10.87         NaN      0.92   \n",
      "2017-10-01 03:00:00                10.77         NaN      0.92   \n",
      "2017-10-01 04:00:00                10.47         NaN      0.91   \n",
      "\n",
      "                     precipAccumulation  precipIntensity  precipProbability  \\\n",
      "date                                                                          \n",
      "2017-10-01 00:00:00                 NaN             0.07               0.46   \n",
      "2017-10-01 01:00:00                 NaN             0.02               0.16   \n",
      "2017-10-01 02:00:00                 NaN             0.00               0.00   \n",
      "2017-10-01 03:00:00                 NaN             0.00               0.00   \n",
      "2017-10-01 04:00:00                 NaN             0.00               0.00   \n",
      "\n",
      "                    precipType  pressure  temperature  uvIndex  visibility  \\\n",
      "date                                                                         \n",
      "2017-10-01 00:00:00       rain   1021.82        10.99      0.0       9.988   \n",
      "2017-10-01 01:00:00       rain   1021.85        11.07      0.0       9.988   \n",
      "2017-10-01 02:00:00        NaN   1022.33        10.87      0.0       9.988   \n",
      "2017-10-01 03:00:00        NaN   1022.51        10.77      0.0       9.988   \n",
      "2017-10-01 04:00:00        NaN   1022.64        10.47      0.0       9.988   \n",
      "\n",
      "                     windSpeed  \n",
      "date                            \n",
      "2017-10-01 00:00:00       0.65  \n",
      "2017-10-01 01:00:00       0.42  \n",
      "2017-10-01 02:00:00       0.13  \n",
      "2017-10-01 03:00:00       0.13  \n",
      "2017-10-01 04:00:00       0.29  \n",
      "<class 'pandas.core.frame.DataFrame'>\n",
      "DatetimeIndex: 14811 entries, 2017-10-01 00:00:00 to 2019-06-29 23:00:00\n",
      "Data columns (total 12 columns):\n",
      "apparentTemperature    14811 non-null float64\n",
      "cloudCover             11325 non-null float64\n",
      "humidity               14811 non-null float64\n",
      "precipAccumulation     424 non-null float64\n",
      "precipIntensity        14320 non-null float64\n",
      "precipProbability      14320 non-null float64\n",
      "precipType             6097 non-null object\n",
      "pressure               14318 non-null float64\n",
      "temperature            14811 non-null float64\n",
      "uvIndex                13347 non-null float64\n",
      "visibility             13102 non-null float64\n",
      "windSpeed              14739 non-null float64\n",
      "dtypes: float64(11), object(1)\n",
      "memory usage: 1.5+ MB\n",
      "None\n",
      "(14811, 12)\n"
     ]
    }
   ],
   "source": [
    "import datetime\n",
    "from time import mktime\n",
    "import pandas as pd\n",
    "import numpy as np\n",
    "import requests\n",
    "import re\n",
    "import json\n",
    "import seaborn as sns\n",
    "import os\n",
    "import matplotlib.pyplot as plt\n",
    "%matplotlib inline\n",
    "sns.set()\n",
    "\n",
    "path_to_jsons = './data/DarkSkyAPI/'\n",
    "data = pd.read_csv(f'{path_to_jsons}/darkSkyData_cleaned.csv', index_col = 0)\n",
    "data.index = pd.to_datetime(data.index, format='%Y-%m-%d %H:%M:%S')\n",
    "# drop unwanted columns\n",
    "data = data.drop(['summary', 'time', 'windBearing', 'dewPoint', 'ozone', 'icon', 'windGust'],axis='columns')\n",
    "print(data.head())\n",
    "print(data.info())\n",
    "print(data.shape)"
   ]
  },
  {
   "cell_type": "code",
   "execution_count": 89,
   "metadata": {},
   "outputs": [
    {
     "name": "stdout",
     "output_type": "stream",
     "text": [
      "14280\n"
     ]
    },
    {
     "data": {
      "text/plain": [
       "2018-05-19    19\n",
       "2018-05-20    10\n",
       "2018-05-21     8\n",
       "2018-05-22    13\n",
       "2018-05-23    14\n",
       "2018-05-24    16\n",
       "2018-05-25    15\n",
       "2018-05-26    10\n",
       "2018-05-27    10\n",
       "2018-05-28    16\n",
       "2018-05-29    13\n",
       "2018-05-30    14\n",
       "2018-05-31    10\n",
       "2018-06-01    13\n",
       "2018-06-02    11\n",
       "2018-06-03    12\n",
       "2018-06-04    13\n",
       "2018-06-05    13\n",
       "2018-06-06    15\n",
       "2018-06-07    13\n",
       "2018-06-08    14\n",
       "2018-06-09    10\n",
       "2018-06-10     8\n",
       "2018-06-11    14\n",
       "2018-06-12    15\n",
       "2018-06-13    13\n",
       "2018-06-14    13\n",
       "2018-06-15    13\n",
       "2018-06-16     4\n",
       "2018-06-17    10\n",
       "2018-06-18    13\n",
       "2018-06-19    13\n",
       "2018-06-20    13\n",
       "2018-06-21    12\n",
       "2018-06-22    13\n",
       "2018-06-23    12\n",
       "2018-06-24    10\n",
       "2018-06-25    16\n",
       "2018-06-26    15\n",
       "2018-06-27    13\n",
       "2018-06-28    13\n",
       "2018-06-29    16\n",
       "Name: temperature, dtype: int64"
      ]
     },
     "execution_count": 89,
     "metadata": {},
     "output_type": "execute_result"
    }
   ],
   "source": [
    "g_by_day = data.groupby(data.index.date)['temperature'].count()\n",
    "s_missing = g_by_day[g_by_day !=24]\n",
    "print(g_by_day[g_by_day ==24].sum())\n",
    "s_missing"
   ]
  },
  {
   "cell_type": "code",
   "execution_count": 90,
   "metadata": {},
   "outputs": [
    {
     "data": {
      "image/png": "[encoded data removed]",
      "text/plain": [
       "<Figure size 504x576 with 1 Axes>"
      ]
     },
     "metadata": {},
     "output_type": "display_data"
    },
    {
     "data": {
      "image/png": "[encoded data removed]",
      "text/plain": [
       "<Figure size 720x288 with 1 Axes>"
      ]
     },
     "metadata": {},
     "output_type": "display_data"
    }
   ],
   "source": [
    "rows_per_day = data.groupby(data.index.date).apply(lambda x: len(x))\n",
    "\n",
    "plt.figure(figsize=(7,8))\n",
    "plt.boxplot(rows_per_day)\n",
    "plt.ylabel('number of rows per day')\n",
    "plt.yticks(np.arange(0,25,1))\n",
    "\n",
    "plt.show()\n",
    "\n",
    "plt.figure(figsize=(10,4))\n",
    "plt.hist(rows_per_day, bins=25)\n",
    "plt.xlabel('number of rows per day')\n",
    "plt.ylabel('count')\n",
    "plt.xticks(np.arange(0,25,1))\n",
    "plt.show()"
   ]
  },
  {
   "cell_type": "markdown",
   "metadata": {},
   "source": [
    "We can see that we have mostly 24 hours for all the days, only a very few outliers are present."
   ]
  },
  {
   "cell_type": "code",
   "execution_count": 91,
   "metadata": {},
   "outputs": [
    {
     "name": "stdout",
     "output_type": "stream",
     "text": [
      "Total number days with missing rows: 42 out of 637, which is 0.03 %\n"
     ]
    }
   ],
   "source": [
    "g_by_day = data.groupby(data.index.date)['temperature'].count()\n",
    "s_missing = g_by_day[g_by_day !=24]\n",
    "print(f'Total number days with missing rows: {len(s_missing)} out of {len(g_by_day)}, which is {100.0%len(s_missing)/len(g_by_day):.2f} %')"
   ]
  },
  {
   "cell_type": "markdown",
   "metadata": {},
   "source": [
    "There are only a few rows of data missing and we will not bother with that. One could look for nearby stations and impute the values from them, instead, we will take the median for the features at those hours and apply it there. This will be done in a later step, though"
   ]
  },
  {
   "cell_type": "code",
   "execution_count": 92,
   "metadata": {},
   "outputs": [],
   "source": [
    "def add_missing_rows(df, s_missing):\n",
    "    day = s_missing.index[ii].strftime(\"%Y-%m-%d\")\n",
    "    # pull this dataframe out of the dataframe for that missing day\n",
    "    missing_day = df[day:day]\n",
    "    # resample the index for the 24 hours (0 to 23 o clock)\n",
    "    start = missing_day.index.date[0].strftime(\"%Y-%m-%d\") + ' 00:00:00'\n",
    "    end = missing_day.index.date[0].strftime(\"%Y-%m-%d\") + ' 23:00:00'\n",
    "    idx = pd.date_range(start, end, freq='H')\n",
    "    # reindex\n",
    "    missing_day = missing_day.reindex(idx, fill_value=np.nan)\n",
    "\n",
    "    # delete the rows from the df\n",
    "    rows_to_drop = df[ day ].index\n",
    "    # Delete these row indexes from dataFrame\n",
    "    df = df.drop(rows_to_drop)\n",
    "    # return the new df\n",
    "    df = pd.concat([df, missing_day], axis='rows')\n",
    "    df.sort_index(inplace=True)\n",
    "    \n",
    "    return df\n",
    "        \n",
    "for ii in range(len(s_missing)):\n",
    "     data = add_missing_rows(data, s_missing)"
   ]
  },
  {
   "cell_type": "markdown",
   "metadata": {},
   "source": [
    "After these rows have been inserted, it is important to check that the number of days with a record in the dataframe equals the number of days that there are between the beginning and end of the period."
   ]
  },
  {
   "cell_type": "code",
   "execution_count": 93,
   "metadata": {},
   "outputs": [
    {
     "name": "stdout",
     "output_type": "stream",
     "text": [
      "Total number days with missing rows: 0 out of 637\n"
     ]
    }
   ],
   "source": [
    "# check if it was effective\n",
    "g_by_day = data.groupby(data.index.date).apply(lambda x: len(x))\n",
    "# number of missing days\n",
    "s_missing_after = g_by_day[g_by_day !=24]\n",
    "print(f'Total number days with missing rows: {len(s_missing_after)} out of {len(g_by_day)}')\n",
    "# how many days are there\n",
    "idx = pd.date_range(g_by_day.index[0].strftime(\"%Y-%m-%d\"), g_by_day.index[-1].strftime(\"%Y-%m-%d\"), freq='D')\n",
    "# assert that the number of days with a record in the dataframe equals the number of days that there are between the beginning and end of the period\n",
    "assert len(idx) == len(g_by_day)"
   ]
  },
  {
   "cell_type": "markdown",
   "metadata": {},
   "source": [
    "# Save to file"
   ]
  },
  {
   "cell_type": "code",
   "execution_count": 94,
   "metadata": {},
   "outputs": [],
   "source": [
    "path_to_jsons = './data/DarkSkyAPI/'\n",
    "data.to_csv(f'{path_to_jsons}/darkSkyData_cleaned_extracted.csv')"
   ]
  },
  {
   "cell_type": "code",
   "execution_count": null,
   "metadata": {},
   "outputs": [],
   "source": []
  },
  {
   "cell_type": "code",
   "execution_count": null,
   "metadata": {},
   "outputs": [],
   "source": []
  },
  {
   "cell_type": "code",
   "execution_count": null,
   "metadata": {},
   "outputs": [],
   "source": []
  },
  {
   "cell_type": "code",
   "execution_count": null,
   "metadata": {},
   "outputs": [],
   "source": []
  }
 ],
 "metadata": {
  "kernelspec": {
   "display_name": "Python 3",
   "language": "python",
   "name": "python3"
  },
  "language_info": {
   "codemirror_mode": {
    "name": "ipython",
    "version": 3
   },
   "file_extension": ".py",
   "mimetype": "text/x-python",
   "name": "python",
   "nbconvert_exporter": "python",
   "pygments_lexer": "ipython3",
   "version": "3.7.3"
  }
 },
 "nbformat": 4,
 "nbformat_minor": 4
}
