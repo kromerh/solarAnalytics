{
 "cells": [
  {
   "cell_type": "markdown",
   "metadata": {},
   "source": [
    "# Exploratory data analysis of photovoltaic dataset\n",
    "\n",
    "This notebook is part of a project to predict the production of solar energy of a photovoltaic system on top of a house. In this notebook, we will consider the exploratory data analysis of the photovoltaic dataset that was obtained from the interface of the machine.\n",
    "\n",
    "## Table of content\n",
    "\n",
    "## [1. Import libraries](#section1) \n",
    "## [2. Load all the data into one dataframe](#section2) \n",
    "## [3. Visualize](#section3) \n",
    "## [4. Compute total energy production for each day](#section4) \n",
    "## [5. Visualize seasonal energy production](#section5)\n",
    "## [6. Check for missing data](#section6)"
   ]
  },
  {
   "cell_type": "markdown",
   "metadata": {},
   "source": [
    "<a id='section1'></a> \n",
    "## 1. Import libraries"
   ]
  },
  {
   "cell_type": "code",
   "execution_count": 1,
   "metadata": {},
   "outputs": [],
   "source": [
    "import pandas as pd\n",
    "import numpy as np\n",
    "import os\n",
    "import json\n",
    "import matplotlib.pyplot as plt\n",
    "import matplotlib.dates as mdates\n",
    "import seaborn as sns\n",
    "from scipy.integrate import simps, quad\n",
    "sns.set()"
   ]
  },
  {
   "cell_type": "markdown",
   "metadata": {},
   "source": [
    "<a id='section2'></a> \n",
    "## 2. Load all the data into one dataframe"
   ]
  },
  {
   "cell_type": "code",
   "execution_count": 2,
   "metadata": {},
   "outputs": [
    {
     "data": {
      "text/plain": [
       "1740"
      ]
     },
     "execution_count": 2,
     "metadata": {},
     "output_type": "execute_result"
    }
   ],
   "source": [
    "# Folder where the data is located\n",
    "DATAFOLDER = '../01.Original_data/photovoltaic/'\n",
    "\n",
    "# files in that folder\n",
    "files = [f for f in os.listdir(DATAFOLDER) if f.endswith('.csv')] # take only csv files\n",
    "len(files)"
   ]
  },
  {
   "cell_type": "markdown",
   "metadata": {},
   "source": [
    "We have 1740 csv files with photovoltaic data. Let us import them."
   ]
  },
  {
   "cell_type": "code",
   "execution_count": 3,
   "metadata": {},
   "outputs": [],
   "source": [
    "df = pd.DataFrame()\n",
    "\n",
    "for f in files:\n",
    "    df_temp = pd.read_csv(f'{DATAFOLDER}/{f}')\n",
    "    df_temp.columns = ['timestamp', 'production'] # timestamp, production in W\n",
    "    # conver the timestamp column\n",
    "    df_temp['timestamp'] = pd.to_datetime(df_temp['timestamp'], format=\"%d.%m.%Y %H:%M\")\n",
    "    df_temp = df_temp.set_index('timestamp', drop=True)\n",
    "    df = df.append(df_temp)\n",
    "#     break\n"
   ]
  },
  {
   "cell_type": "markdown",
   "metadata": {},
   "source": [
    "Let's save it because this took a while."
   ]
  },
  {
   "cell_type": "code",
   "execution_count": 4,
   "metadata": {},
   "outputs": [
    {
     "data": {
      "text/html": [
       "<div>\n",
       "<style scoped>\n",
       "    .dataframe tbody tr th:only-of-type {\n",
       "        vertical-align: middle;\n",
       "    }\n",
       "\n",
       "    .dataframe tbody tr th {\n",
       "        vertical-align: top;\n",
       "    }\n",
       "\n",
       "    .dataframe thead th {\n",
       "        text-align: right;\n",
       "    }\n",
       "</style>\n",
       "<table border=\"1\" class=\"dataframe\">\n",
       "  <thead>\n",
       "    <tr style=\"text-align: right;\">\n",
       "      <th></th>\n",
       "      <th>production</th>\n",
       "    </tr>\n",
       "    <tr>\n",
       "      <th>timestamp</th>\n",
       "      <th></th>\n",
       "    </tr>\n",
       "  </thead>\n",
       "  <tbody>\n",
       "    <tr>\n",
       "      <th>2017-10-12</th>\n",
       "      <td>0.0</td>\n",
       "    </tr>\n",
       "    <tr>\n",
       "      <th>2017-10-12</th>\n",
       "      <td>0.0</td>\n",
       "    </tr>\n",
       "    <tr>\n",
       "      <th>2017-10-12</th>\n",
       "      <td>0.0</td>\n",
       "    </tr>\n",
       "    <tr>\n",
       "      <th>2017-10-12</th>\n",
       "      <td>0.0</td>\n",
       "    </tr>\n",
       "    <tr>\n",
       "      <th>2017-10-12</th>\n",
       "      <td>0.0</td>\n",
       "    </tr>\n",
       "  </tbody>\n",
       "</table>\n",
       "</div>"
      ],
      "text/plain": [
       "            production\n",
       "timestamp             \n",
       "2017-10-12         0.0\n",
       "2017-10-12         0.0\n",
       "2017-10-12         0.0\n",
       "2017-10-12         0.0\n",
       "2017-10-12         0.0"
      ]
     },
     "execution_count": 4,
     "metadata": {},
     "output_type": "execute_result"
    }
   ],
   "source": [
    "df = df.sort_index()\n",
    "df.to_csv('../02.Prepared_data/photovoltaic/raw_data.csv', index=True)\n",
    "df.head()"
   ]
  },
  {
   "cell_type": "code",
   "execution_count": 5,
   "metadata": {},
   "outputs": [],
   "source": [
    "# import\n",
    "df = pd.read_csv('../02.Prepared_data/photovoltaic/raw_data.csv', index_col=0, parse_dates=True)\n",
    "df['day'] = df.index.date\n",
    "df['time'] = df.index.time"
   ]
  },
  {
   "cell_type": "code",
   "execution_count": 6,
   "metadata": {},
   "outputs": [
    {
     "name": "stdout",
     "output_type": "stream",
     "text": [
      "<class 'pandas.core.frame.DataFrame'>\n",
      "DatetimeIndex: 167040 entries, 2017-10-12 00:00:00 to 2019-06-27 23:45:00\n",
      "Data columns (total 3 columns):\n",
      "production    167040 non-null float64\n",
      "day           167040 non-null object\n",
      "time          167040 non-null object\n",
      "dtypes: float64(1), object(2)\n",
      "memory usage: 10.1+ MB\n"
     ]
    }
   ],
   "source": [
    "df.info()"
   ]
  },
  {
   "cell_type": "code",
   "execution_count": 7,
   "metadata": {},
   "outputs": [
    {
     "data": {
      "text/html": [
       "<div>\n",
       "<style scoped>\n",
       "    .dataframe tbody tr th:only-of-type {\n",
       "        vertical-align: middle;\n",
       "    }\n",
       "\n",
       "    .dataframe tbody tr th {\n",
       "        vertical-align: top;\n",
       "    }\n",
       "\n",
       "    .dataframe thead th {\n",
       "        text-align: right;\n",
       "    }\n",
       "</style>\n",
       "<table border=\"1\" class=\"dataframe\">\n",
       "  <thead>\n",
       "    <tr style=\"text-align: right;\">\n",
       "      <th></th>\n",
       "      <th>production</th>\n",
       "    </tr>\n",
       "  </thead>\n",
       "  <tbody>\n",
       "    <tr>\n",
       "      <th>count</th>\n",
       "      <td>167040.000000</td>\n",
       "    </tr>\n",
       "    <tr>\n",
       "      <th>mean</th>\n",
       "      <td>1195.422325</td>\n",
       "    </tr>\n",
       "    <tr>\n",
       "      <th>std</th>\n",
       "      <td>1905.557358</td>\n",
       "    </tr>\n",
       "    <tr>\n",
       "      <th>min</th>\n",
       "      <td>0.000000</td>\n",
       "    </tr>\n",
       "    <tr>\n",
       "      <th>25%</th>\n",
       "      <td>0.000000</td>\n",
       "    </tr>\n",
       "    <tr>\n",
       "      <th>50%</th>\n",
       "      <td>0.000000</td>\n",
       "    </tr>\n",
       "    <tr>\n",
       "      <th>75%</th>\n",
       "      <td>1856.000000</td>\n",
       "    </tr>\n",
       "    <tr>\n",
       "      <th>max</th>\n",
       "      <td>6963.666500</td>\n",
       "    </tr>\n",
       "  </tbody>\n",
       "</table>\n",
       "</div>"
      ],
      "text/plain": [
       "          production\n",
       "count  167040.000000\n",
       "mean     1195.422325\n",
       "std      1905.557358\n",
       "min         0.000000\n",
       "25%         0.000000\n",
       "50%         0.000000\n",
       "75%      1856.000000\n",
       "max      6963.666500"
      ]
     },
     "execution_count": 7,
     "metadata": {},
     "output_type": "execute_result"
    }
   ],
   "source": [
    "df.describe()"
   ]
  },
  {
   "cell_type": "code",
   "execution_count": 8,
   "metadata": {},
   "outputs": [
    {
     "data": {
      "text/html": [
       "<div>\n",
       "<style scoped>\n",
       "    .dataframe tbody tr th:only-of-type {\n",
       "        vertical-align: middle;\n",
       "    }\n",
       "\n",
       "    .dataframe tbody tr th {\n",
       "        vertical-align: top;\n",
       "    }\n",
       "\n",
       "    .dataframe thead th {\n",
       "        text-align: right;\n",
       "    }\n",
       "</style>\n",
       "<table border=\"1\" class=\"dataframe\">\n",
       "  <thead>\n",
       "    <tr style=\"text-align: right;\">\n",
       "      <th></th>\n",
       "      <th>production</th>\n",
       "      <th>day</th>\n",
       "      <th>time</th>\n",
       "    </tr>\n",
       "    <tr>\n",
       "      <th>timestamp</th>\n",
       "      <th></th>\n",
       "      <th></th>\n",
       "      <th></th>\n",
       "    </tr>\n",
       "  </thead>\n",
       "  <tbody>\n",
       "    <tr>\n",
       "      <th>2017-10-12</th>\n",
       "      <td>0.0</td>\n",
       "      <td>2017-10-12</td>\n",
       "      <td>00:00:00</td>\n",
       "    </tr>\n",
       "    <tr>\n",
       "      <th>2017-10-12</th>\n",
       "      <td>0.0</td>\n",
       "      <td>2017-10-12</td>\n",
       "      <td>00:00:00</td>\n",
       "    </tr>\n",
       "    <tr>\n",
       "      <th>2017-10-12</th>\n",
       "      <td>0.0</td>\n",
       "      <td>2017-10-12</td>\n",
       "      <td>00:00:00</td>\n",
       "    </tr>\n",
       "    <tr>\n",
       "      <th>2017-10-12</th>\n",
       "      <td>0.0</td>\n",
       "      <td>2017-10-12</td>\n",
       "      <td>00:00:00</td>\n",
       "    </tr>\n",
       "    <tr>\n",
       "      <th>2017-10-12</th>\n",
       "      <td>0.0</td>\n",
       "      <td>2017-10-12</td>\n",
       "      <td>00:00:00</td>\n",
       "    </tr>\n",
       "  </tbody>\n",
       "</table>\n",
       "</div>"
      ],
      "text/plain": [
       "            production         day      time\n",
       "timestamp                                   \n",
       "2017-10-12         0.0  2017-10-12  00:00:00\n",
       "2017-10-12         0.0  2017-10-12  00:00:00\n",
       "2017-10-12         0.0  2017-10-12  00:00:00\n",
       "2017-10-12         0.0  2017-10-12  00:00:00\n",
       "2017-10-12         0.0  2017-10-12  00:00:00"
      ]
     },
     "execution_count": 8,
     "metadata": {},
     "output_type": "execute_result"
    }
   ],
   "source": [
    "df.head()"
   ]
  },
  {
   "cell_type": "code",
   "execution_count": 9,
   "metadata": {},
   "outputs": [
    {
     "data": {
      "text/html": [
       "<div>\n",
       "<style scoped>\n",
       "    .dataframe tbody tr th:only-of-type {\n",
       "        vertical-align: middle;\n",
       "    }\n",
       "\n",
       "    .dataframe tbody tr th {\n",
       "        vertical-align: top;\n",
       "    }\n",
       "\n",
       "    .dataframe thead th {\n",
       "        text-align: right;\n",
       "    }\n",
       "</style>\n",
       "<table border=\"1\" class=\"dataframe\">\n",
       "  <thead>\n",
       "    <tr style=\"text-align: right;\">\n",
       "      <th></th>\n",
       "      <th>production</th>\n",
       "      <th>day</th>\n",
       "      <th>time</th>\n",
       "    </tr>\n",
       "    <tr>\n",
       "      <th>timestamp</th>\n",
       "      <th></th>\n",
       "      <th></th>\n",
       "      <th></th>\n",
       "    </tr>\n",
       "  </thead>\n",
       "  <tbody>\n",
       "    <tr>\n",
       "      <th>2019-06-27 22:45:00</th>\n",
       "      <td>0.0</td>\n",
       "      <td>2019-06-27</td>\n",
       "      <td>22:45:00</td>\n",
       "    </tr>\n",
       "    <tr>\n",
       "      <th>2019-06-27 23:00:00</th>\n",
       "      <td>0.0</td>\n",
       "      <td>2019-06-27</td>\n",
       "      <td>23:00:00</td>\n",
       "    </tr>\n",
       "    <tr>\n",
       "      <th>2019-06-27 23:15:00</th>\n",
       "      <td>0.0</td>\n",
       "      <td>2019-06-27</td>\n",
       "      <td>23:15:00</td>\n",
       "    </tr>\n",
       "    <tr>\n",
       "      <th>2019-06-27 23:30:00</th>\n",
       "      <td>0.0</td>\n",
       "      <td>2019-06-27</td>\n",
       "      <td>23:30:00</td>\n",
       "    </tr>\n",
       "    <tr>\n",
       "      <th>2019-06-27 23:45:00</th>\n",
       "      <td>0.0</td>\n",
       "      <td>2019-06-27</td>\n",
       "      <td>23:45:00</td>\n",
       "    </tr>\n",
       "  </tbody>\n",
       "</table>\n",
       "</div>"
      ],
      "text/plain": [
       "                     production         day      time\n",
       "timestamp                                            \n",
       "2019-06-27 22:45:00         0.0  2019-06-27  22:45:00\n",
       "2019-06-27 23:00:00         0.0  2019-06-27  23:00:00\n",
       "2019-06-27 23:15:00         0.0  2019-06-27  23:15:00\n",
       "2019-06-27 23:30:00         0.0  2019-06-27  23:30:00\n",
       "2019-06-27 23:45:00         0.0  2019-06-27  23:45:00"
      ]
     },
     "execution_count": 9,
     "metadata": {},
     "output_type": "execute_result"
    }
   ],
   "source": [
    "df.tail()"
   ]
  },
  {
   "cell_type": "markdown",
   "metadata": {},
   "source": [
    "We see that we have data from October 2017 until end of June 2019 and only the production data of the photovoltaic system. The resolution of the data is in 15-minte intervals.\n",
    "\n",
    "Let us see how many days we have and if the overall number of intervals does check out."
   ]
  },
  {
   "cell_type": "code",
   "execution_count": 10,
   "metadata": {},
   "outputs": [
    {
     "name": "stdout",
     "output_type": "stream",
     "text": [
      "We have 624 days in the dataset.\n"
     ]
    },
    {
     "data": {
      "text/plain": [
       "96       618\n",
       "192        2\n",
       "19392      1\n",
       "53184      1\n",
       "34464      1\n",
       "288        1\n",
       "Name: production, dtype: int64"
      ]
     },
     "execution_count": 10,
     "metadata": {},
     "output_type": "execute_result"
    }
   ],
   "source": [
    "n_days = len(df['day'].unique())\n",
    "print(f'We have {n_days} days in the dataset.')\n",
    "df_agg = df.groupby('day').agg('count').loc[:, 'production']\n",
    "df_agg.value_counts()"
   ]
  },
  {
   "cell_type": "markdown",
   "metadata": {},
   "source": [
    "Interesting, so typically there are 96 entries ($24*4$ for the total of the 15-minute intervals in one day) per day, but there are 6 days where this criteria is not met. Let's see which these are!"
   ]
  },
  {
   "cell_type": "code",
   "execution_count": 11,
   "metadata": {},
   "outputs": [
    {
     "data": {
      "text/plain": [
       "day\n",
       "2017-10-12    19392\n",
       "2018-03-24      288\n",
       "2018-03-25    34464\n",
       "2019-03-30      192\n",
       "2019-03-31    53184\n",
       "2019-06-26      192\n",
       "Name: production, dtype: int64"
      ]
     },
     "execution_count": 11,
     "metadata": {},
     "output_type": "execute_result"
    }
   ],
   "source": [
    "m = df_agg == 96# mask\n",
    "df_agg[~m]"
   ]
  },
  {
   "cell_type": "code",
   "execution_count": 12,
   "metadata": {},
   "outputs": [
    {
     "data": {
      "text/plain": [
       "DatetimeIndex(['2019-03-30 00:00:00', '2019-03-30 00:00:00',\n",
       "               '2019-03-30 00:15:00', '2019-03-30 00:15:00',\n",
       "               '2019-03-30 00:30:00', '2019-03-30 00:30:00',\n",
       "               '2019-03-30 00:45:00', '2019-03-30 00:45:00',\n",
       "               '2019-03-30 01:00:00', '2019-03-30 01:00:00',\n",
       "               ...\n",
       "               '2019-03-30 22:45:00', '2019-03-30 22:45:00',\n",
       "               '2019-03-30 23:00:00', '2019-03-30 23:00:00',\n",
       "               '2019-03-30 23:15:00', '2019-03-30 23:15:00',\n",
       "               '2019-03-30 23:30:00', '2019-03-30 23:30:00',\n",
       "               '2019-03-30 23:45:00', '2019-03-30 23:45:00'],\n",
       "              dtype='datetime64[ns]', name='timestamp', length=192, freq=None)"
      ]
     },
     "execution_count": 12,
     "metadata": {},
     "output_type": "execute_result"
    }
   ],
   "source": [
    "df.loc['2019-03-30'].index"
   ]
  },
  {
   "cell_type": "markdown",
   "metadata": {},
   "source": [
    "It is clear now that these values are from duplicates, generated by the mining process. We just have to drop them."
   ]
  },
  {
   "cell_type": "code",
   "execution_count": 13,
   "metadata": {},
   "outputs": [],
   "source": [
    "df = df.drop_duplicates(keep='first')"
   ]
  },
  {
   "cell_type": "code",
   "execution_count": 14,
   "metadata": {},
   "outputs": [
    {
     "name": "stdout",
     "output_type": "stream",
     "text": [
      "We have 624 days in the dataset.\n"
     ]
    },
    {
     "data": {
      "text/plain": [
       "96    624\n",
       "Name: production, dtype: int64"
      ]
     },
     "execution_count": 14,
     "metadata": {},
     "output_type": "execute_result"
    }
   ],
   "source": [
    "n_days = len(df['day'].unique())\n",
    "print(f'We have {n_days} days in the dataset.')\n",
    "df.groupby('day').agg('count').loc[:, 'production'].value_counts()"
   ]
  },
  {
   "cell_type": "markdown",
   "metadata": {},
   "source": [
    "Perfect, let's now visualize the data."
   ]
  },
  {
   "cell_type": "markdown",
   "metadata": {},
   "source": [
    "<a id='section3'> </a>\n",
    "## 3. Visualize "
   ]
  },
  {
   "cell_type": "code",
   "execution_count": 15,
   "metadata": {},
   "outputs": [
    {
     "name": "stderr",
     "output_type": "stream",
     "text": [
      "/Users/hkromer/anaconda3/envs/solarAnalytics/lib/python3.7/site-packages/pandas/plotting/_matplotlib/converter.py:102: FutureWarning: Using an implicitly registered datetime converter for a matplotlib plotting method. The converter was registered by pandas on import. Future versions of pandas will require you to explicitly register matplotlib converters.\n",
      "\n",
      "To register the converters:\n",
      "\t>>> from pandas.plotting import register_matplotlib_converters\n",
      "\t>>> register_matplotlib_converters()\n",
      "  warnings.warn(msg, FutureWarning)\n"
     ]
    },
    {
     "data": {
      "image/png": "[encoded data removed]",
      "text/plain": [
       "<Figure size 576x360 with 1 Axes>"
      ]
     },
     "metadata": {
      "needs_background": "light"
     },
     "output_type": "display_data"
    }
   ],
   "source": [
    "# %matplotlib widget\n",
    "%matplotlib inline\n",
    "fig, ax = plt.subplots(figsize=(8,5))\n",
    "\n",
    "X = df.index.values\n",
    "\n",
    "# apparent \n",
    "col = 'production'\n",
    "Y = df[col].values\n",
    "plt.plot(X, Y, label='Production in W')\n",
    "\n",
    "ax.xaxis.set_major_formatter(mdates.DateFormatter('%Y %b'))\n",
    "plt.xticks(rotation=45)\n",
    "plt.xlabel('Date')\n",
    "plt.ylabel('Production in W')\n",
    "plt.legend()\n",
    "plt.tight_layout()\n",
    "plt.show()"
   ]
  },
  {
   "cell_type": "markdown",
   "metadata": {},
   "source": [
    "Here we have the hourly production, which is not what we are looking for, let us look at the total daily production in units of kWh by integrating the curve for each day."
   ]
  },
  {
   "cell_type": "markdown",
   "metadata": {},
   "source": [
    "<a id='section4'> </a>\n",
    "## 4. Compute total energy production for each day\n",
    "\n",
    "in kWh!"
   ]
  },
  {
   "cell_type": "code",
   "execution_count": 16,
   "metadata": {},
   "outputs": [
    {
     "data": {
      "image/png": "[encoded data removed]",
      "text/plain": [
       "<Figure size 576x360 with 1 Axes>"
      ]
     },
     "metadata": {
      "needs_background": "light"
     },
     "output_type": "display_data"
    }
   ],
   "source": [
    "# %matplotlib widget\n",
    "%matplotlib inline\n",
    "\n",
    "fig, ax = plt.subplots(figsize=(8,5))\n",
    "\n",
    "X = df.loc['2018-07-03'].index.values\n",
    "\n",
    "# apparent \n",
    "col = 'production'\n",
    "Y = df.loc['2018-07-03', col]\n",
    "plt.plot(X, Y, label='Production in W')\n",
    "\n",
    "ax.xaxis.set_major_formatter(mdates.DateFormatter('%H:%M'))\n",
    "plt.xticks(rotation=45)\n",
    "plt.xlabel('Date')\n",
    "plt.ylabel('Production in W')\n",
    "plt.legend()\n",
    "plt.tight_layout()\n",
    "plt.show()"
   ]
  },
  {
   "cell_type": "code",
   "execution_count": 17,
   "metadata": {},
   "outputs": [],
   "source": [
    "# compute the kWh for one given day\n",
    "def compute_kwh(df):\n",
    "    \"\"\"\n",
    "    Calculate the kWh for a given production output for one day in a dataframe, df. Returns the kWh\n",
    "    \"\"\"\n",
    "    df['seconds_after_midnight'] = df.reset_index().index * 15 * 60\n",
    "    x = df['seconds_after_midnight'].values\n",
    "    y = df['production'].values\n",
    "    y_int = simps(y=y, x=x) / (3.6e6) # in units of kWh\n",
    "    return y_int\n",
    "# groupby day\n",
    "# apply function to compute kWh\n",
    "df_int = pd.DataFrame(df.groupby('day').apply(lambda x: compute_kwh(x)))\n",
    "df_int.columns = ['energy']"
   ]
  },
  {
   "cell_type": "markdown",
   "metadata": {},
   "source": [
    "Let's also visualize that."
   ]
  },
  {
   "cell_type": "code",
   "execution_count": 18,
   "metadata": {},
   "outputs": [
    {
     "data": {
      "image/png": "[encoded data removed]",
      "text/plain": [
       "<Figure size 576x360 with 1 Axes>"
      ]
     },
     "metadata": {
      "needs_background": "light"
     },
     "output_type": "display_data"
    }
   ],
   "source": [
    "# %matplotlib widget\n",
    "%matplotlib inline\n",
    "fig, ax = plt.subplots(figsize=(8,5))\n",
    "\n",
    "X = df_int.index.values\n",
    "\n",
    "Y = df_int['energy'].values\n",
    "plt.plot(X, Y)\n",
    "\n",
    "ax.xaxis.set_major_formatter(mdates.DateFormatter('%Y %b'))\n",
    "plt.xticks(rotation=45)\n",
    "plt.xlabel('Date')\n",
    "plt.ylabel('Daily total energy in kWh')\n",
    "plt.tight_layout()\n",
    "plt.show()"
   ]
  },
  {
   "cell_type": "markdown",
   "metadata": {},
   "source": [
    "Very good! Let's look at these values."
   ]
  },
  {
   "cell_type": "code",
   "execution_count": 19,
   "metadata": {},
   "outputs": [
    {
     "data": {
      "text/html": [
       "<div>\n",
       "<style scoped>\n",
       "    .dataframe tbody tr th:only-of-type {\n",
       "        vertical-align: middle;\n",
       "    }\n",
       "\n",
       "    .dataframe tbody tr th {\n",
       "        vertical-align: top;\n",
       "    }\n",
       "\n",
       "    .dataframe thead th {\n",
       "        text-align: right;\n",
       "    }\n",
       "</style>\n",
       "<table border=\"1\" class=\"dataframe\">\n",
       "  <thead>\n",
       "    <tr style=\"text-align: right;\">\n",
       "      <th></th>\n",
       "      <th>energy</th>\n",
       "    </tr>\n",
       "  </thead>\n",
       "  <tbody>\n",
       "    <tr>\n",
       "      <th>count</th>\n",
       "      <td>624.000000</td>\n",
       "    </tr>\n",
       "    <tr>\n",
       "      <th>mean</th>\n",
       "      <td>22.660990</td>\n",
       "    </tr>\n",
       "    <tr>\n",
       "      <th>std</th>\n",
       "      <td>15.654720</td>\n",
       "    </tr>\n",
       "    <tr>\n",
       "      <th>min</th>\n",
       "      <td>0.000000</td>\n",
       "    </tr>\n",
       "    <tr>\n",
       "      <th>25%</th>\n",
       "      <td>7.961104</td>\n",
       "    </tr>\n",
       "    <tr>\n",
       "      <th>50%</th>\n",
       "      <td>20.838417</td>\n",
       "    </tr>\n",
       "    <tr>\n",
       "      <th>75%</th>\n",
       "      <td>34.805437</td>\n",
       "    </tr>\n",
       "    <tr>\n",
       "      <th>max</th>\n",
       "      <td>56.130500</td>\n",
       "    </tr>\n",
       "  </tbody>\n",
       "</table>\n",
       "</div>"
      ],
      "text/plain": [
       "           energy\n",
       "count  624.000000\n",
       "mean    22.660990\n",
       "std     15.654720\n",
       "min      0.000000\n",
       "25%      7.961104\n",
       "50%     20.838417\n",
       "75%     34.805437\n",
       "max     56.130500"
      ]
     },
     "execution_count": 19,
     "metadata": {},
     "output_type": "execute_result"
    }
   ],
   "source": [
    "df_int.describe()"
   ]
  },
  {
   "cell_type": "markdown",
   "metadata": {},
   "source": [
    "Interesting, we see that the mean of the production is 22.7 kWh for any day, with extremas of 0 and 56 kWh. Most of the data is between 0 and 20.8 kWh (50%). "
   ]
  },
  {
   "cell_type": "markdown",
   "metadata": {},
   "source": [
    "<a id='section5'></a>\n",
    "\n",
    "## 5. Visualize seasonal energy production\n",
    "\n",
    "Let us also consider the four seasons.\n",
    "\n",
    "In the northern hemisphere, the four seasons are defined as (meteorologically):\n",
    "\n",
    "* Spring: March until May\n",
    "* Summer: June until August\n",
    "* Fall: September until November\n",
    "* Winter: December until February"
   ]
  },
  {
   "cell_type": "code",
   "execution_count": 20,
   "metadata": {},
   "outputs": [],
   "source": [
    "df_int = df_int.set_index(pd.to_datetime(df_int.reset_index().loc[:, 'day']))"
   ]
  },
  {
   "cell_type": "code",
   "execution_count": 21,
   "metadata": {},
   "outputs": [],
   "source": [
    "d_season = {\n",
    "    'spring': [3, 4, 5],\n",
    "    'summer': [6, 7, 8],\n",
    "    'fall': [9, 10, 11],\n",
    "    'winter': [12, 1, 2]\n",
    "}\n",
    "df_int['month'] = df_int.index.month\n",
    "\n",
    "for k in d_season.keys():\n",
    "    months = d_season[k]\n",
    "    for month in months:\n",
    "        df_int['month'] = df_int['month'].replace({month: k})\n",
    "\n",
    "# to check, make it with some integers        \n",
    "d_season_int = {\n",
    "    'spring': 1,\n",
    "    'summer': 2,\n",
    "    'fall': 3,\n",
    "    'winter': 0\n",
    "}\n",
    "s = df_int['month'].map(d_season_int)\n",
    "\n",
    "\n",
    "df_int = df_int.rename(columns={'month': 'season'})"
   ]
  },
  {
   "cell_type": "markdown",
   "metadata": {},
   "source": [
    "Let us check if we encoded the months correctly!"
   ]
  },
  {
   "cell_type": "code",
   "execution_count": 22,
   "metadata": {},
   "outputs": [
    {
     "data": {
      "image/png": "[encoded data removed]",
      "text/plain": [
       "<Figure size 576x360 with 1 Axes>"
      ]
     },
     "metadata": {
      "needs_background": "light"
     },
     "output_type": "display_data"
    }
   ],
   "source": [
    "# %matplotlib widget\n",
    "%matplotlib inline\n",
    "\n",
    "fig, ax = plt.subplots(figsize=(8,5))\n",
    "\n",
    "\n",
    "plt.plot(s.index, s.values)\n",
    "\n",
    "ax.xaxis.set_major_formatter(mdates.DateFormatter('%Y %b'))\n",
    "plt.xticks(rotation=45)\n",
    "plt.xlabel('Date')\n",
    "plt.ylabel('Season')\n",
    "plt.tight_layout()\n",
    "plt.show()"
   ]
  },
  {
   "cell_type": "markdown",
   "metadata": {},
   "source": [
    "Seems fine (note that winter is 0, spring 1, summer 2, fall 3, as expected).\n",
    "\n",
    "\n",
    "To get the seasonal production, let us group the data by the season and make a violinplot."
   ]
  },
  {
   "cell_type": "code",
   "execution_count": 23,
   "metadata": {},
   "outputs": [
    {
     "data": {
      "image/png": "[encoded data removed]",
      "text/plain": [
       "<Figure size 360x288 with 1 Axes>"
      ]
     },
     "metadata": {
      "needs_background": "light"
     },
     "output_type": "display_data"
    }
   ],
   "source": [
    "# %matplotlib widget\n",
    "%matplotlib inline\n",
    "\n",
    "fig, ax = plt.subplots(figsize=(5,4))\n",
    "sns.violinplot(x=\"season\", y=\"energy\", data=df_int, ax=ax, inner='quartile', bw=0.1, order=[ \"winter\", \"spring\", \"summer\", \"fall\"])\n",
    "plt.xticks(fontsize=8)\n",
    "plt.ylabel('Energy production in kWh')\n",
    "plt.xlabel('Season')\n",
    "plt.tight_layout()\n",
    "# plt.savefig('./seasonal_production.png', dpi=300)\n",
    "plt.show()"
   ]
  },
  {
   "cell_type": "markdown",
   "metadata": {},
   "source": [
    "What we see here is the distribution of daily energy production grouped by the different season. We identify the following key takeaways:\n",
    "\n",
    "* The total productions are distributed to higher values for the summer and spring with medians of around 42 and 28 kWh, respectively, compared to around 8 kWh in the winter and 18 kWh in the fall.\n",
    "* The shape of the distribution is more uniform in the spring and fall compared to the winter and summer. In the winter, the distribution is skewed towards lower values, and in the summer towards higher values."
   ]
  },
  {
   "cell_type": "markdown",
   "metadata": {},
   "source": [
    "<a id='section6'></a>\n",
    "\n",
    "## 6. Check for missing data"
   ]
  },
  {
   "cell_type": "code",
   "execution_count": 24,
   "metadata": {},
   "outputs": [
    {
     "data": {
      "text/html": [
       "<div>\n",
       "<style scoped>\n",
       "    .dataframe tbody tr th:only-of-type {\n",
       "        vertical-align: middle;\n",
       "    }\n",
       "\n",
       "    .dataframe tbody tr th {\n",
       "        vertical-align: top;\n",
       "    }\n",
       "\n",
       "    .dataframe thead th {\n",
       "        text-align: right;\n",
       "    }\n",
       "</style>\n",
       "<table border=\"1\" class=\"dataframe\">\n",
       "  <thead>\n",
       "    <tr style=\"text-align: right;\">\n",
       "      <th></th>\n",
       "      <th>column_name</th>\n",
       "      <th>percent_missing</th>\n",
       "      <th>absolute_missing</th>\n",
       "    </tr>\n",
       "  </thead>\n",
       "  <tbody>\n",
       "    <tr>\n",
       "      <th>production</th>\n",
       "      <td>production</td>\n",
       "      <td>0.0</td>\n",
       "      <td>0</td>\n",
       "    </tr>\n",
       "    <tr>\n",
       "      <th>day</th>\n",
       "      <td>day</td>\n",
       "      <td>0.0</td>\n",
       "      <td>0</td>\n",
       "    </tr>\n",
       "    <tr>\n",
       "      <th>time</th>\n",
       "      <td>time</td>\n",
       "      <td>0.0</td>\n",
       "      <td>0</td>\n",
       "    </tr>\n",
       "  </tbody>\n",
       "</table>\n",
       "</div>"
      ],
      "text/plain": [
       "           column_name  percent_missing  absolute_missing\n",
       "production  production              0.0                 0\n",
       "day                day              0.0                 0\n",
       "time              time              0.0                 0"
      ]
     },
     "execution_count": 24,
     "metadata": {},
     "output_type": "execute_result"
    }
   ],
   "source": [
    "# what missing values there are\n",
    "percent_missing = df.isnull().sum() * 100 / len(df)\n",
    "missing_value_df = pd.DataFrame({'column_name': df.columns,\n",
    "                                 'percent_missing': percent_missing,\n",
    "                                'absolute_missing': df.isnull().sum()})\n",
    "missing_value_df"
   ]
  },
  {
   "cell_type": "code",
   "execution_count": 28,
   "metadata": {},
   "outputs": [
    {
     "data": {
      "text/html": [
       "<div>\n",
       "<style scoped>\n",
       "    .dataframe tbody tr th:only-of-type {\n",
       "        vertical-align: middle;\n",
       "    }\n",
       "\n",
       "    .dataframe tbody tr th {\n",
       "        vertical-align: top;\n",
       "    }\n",
       "\n",
       "    .dataframe thead th {\n",
       "        text-align: right;\n",
       "    }\n",
       "</style>\n",
       "<table border=\"1\" class=\"dataframe\">\n",
       "  <thead>\n",
       "    <tr style=\"text-align: right;\">\n",
       "      <th></th>\n",
       "      <th>column_name</th>\n",
       "      <th>percent_missing</th>\n",
       "      <th>absolute_missing</th>\n",
       "    </tr>\n",
       "  </thead>\n",
       "  <tbody>\n",
       "    <tr>\n",
       "      <th>energy</th>\n",
       "      <td>energy</td>\n",
       "      <td>0.0</td>\n",
       "      <td>0</td>\n",
       "    </tr>\n",
       "    <tr>\n",
       "      <th>season</th>\n",
       "      <td>season</td>\n",
       "      <td>0.0</td>\n",
       "      <td>0</td>\n",
       "    </tr>\n",
       "  </tbody>\n",
       "</table>\n",
       "</div>"
      ],
      "text/plain": [
       "       column_name  percent_missing  absolute_missing\n",
       "energy      energy              0.0                 0\n",
       "season      season              0.0                 0"
      ]
     },
     "execution_count": 28,
     "metadata": {},
     "output_type": "execute_result"
    }
   ],
   "source": [
    "# what missing values there are\n",
    "percent_missing = df_int.isnull().sum() * 100 / len(df_int)\n",
    "missing_value_df = pd.DataFrame({'column_name': df_int.columns,\n",
    "                                 'percent_missing': percent_missing,\n",
    "                                'absolute_missing': df_int.isnull().sum()})\n",
    "missing_value_df"
   ]
  },
  {
   "cell_type": "code",
   "execution_count": 34,
   "metadata": {},
   "outputs": [],
   "source": [
    "df_int.to_csv('../02.Prepared_data/photovoltaic/integrated_daily.csv', index=True)"
   ]
  }
 ],
 "metadata": {
  "kernelspec": {
   "display_name": "Python 3",
   "language": "python",
   "name": "python3"
  },
  "language_info": {
   "codemirror_mode": {
    "name": "ipython",
    "version": 3
   },
   "file_extension": ".py",
   "mimetype": "text/x-python",
   "name": "python",
   "nbconvert_exporter": "python",
   "pygments_lexer": "ipython3",
   "version": "3.7.3"
  }
 },
 "nbformat": 4,
 "nbformat_minor": 4
}
